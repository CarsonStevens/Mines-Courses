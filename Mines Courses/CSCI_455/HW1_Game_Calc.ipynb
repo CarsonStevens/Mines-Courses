{
 "cells": [
  {
   "cell_type": "code",
   "execution_count": 5,
   "metadata": {},
   "outputs": [
    {
     "name": "stdout",
     "output_type": "stream",
     "text": [
      "[array([ 0.,  0.]), array([ 1.,  0.]), array([ 1.414, -0.586]), array([ 1.732, -1.268]), array([ 2., -2.]), array([ 0.,  1.]), array([ 0.414,  0.414]), array([ 0.732, -0.268]), array([ 1., -1.]), array([ 1.236, -1.764]), array([-0.586,  1.414]), array([-0.268,  0.732]), array([ 0.,  0.]), array([ 0.236, -0.764]), array([ 0.449, -1.551]), array([-1.268,  1.732]), array([-1.,  1.]), array([-0.764,  0.236]), array([-0.551, -0.551]), array([-0.354, -1.354]), array([-2.,  2.]), array([-1.764,  1.236]), array([-1.551,  0.449]), array([-1.354, -0.354]), array([-1.172, -1.172])]\n"
     ]
    }
   ],
   "source": [
    "import numpy as np\n",
    "\n",
    "game = []\n",
    "for x in range(0,5):\n",
    "    for y in range(0,5):\n",
    "        payX = np.sqrt(x+y)-x\n",
    "        payY = np.sqrt(x+y)-y\n",
    "        game.append(np.round([payX, payY],3))\n",
    "\n",
    "print(game)"
   ]
  },
  {
   "cell_type": "code",
   "execution_count": null,
   "metadata": {
    "collapsed": true
   },
   "outputs": [],
   "source": []
  }
 ],
 "metadata": {
  "kernelspec": {
   "display_name": "Python 3",
   "language": "python",
   "name": "python3"
  },
  "language_info": {
   "codemirror_mode": {
    "name": "ipython",
    "version": 3
   },
   "file_extension": ".py",
   "mimetype": "text/x-python",
   "name": "python",
   "nbconvert_exporter": "python",
   "pygments_lexer": "ipython3",
   "version": "3.6.3"
  }
 },
 "nbformat": 4,
 "nbformat_minor": 2
}
