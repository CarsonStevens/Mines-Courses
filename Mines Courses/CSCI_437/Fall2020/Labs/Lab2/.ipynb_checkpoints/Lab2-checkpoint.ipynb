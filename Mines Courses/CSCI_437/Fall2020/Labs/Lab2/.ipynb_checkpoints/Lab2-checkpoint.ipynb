{
 "cells": [
  {
   "cell_type": "markdown",
   "metadata": {},
   "source": [
    "<h1>Lab 2: <a href=\"https://elearning.mines.edu/courses/25410/assignments/132703\">Image Transformations</a></h1>\n",
    "<h2>Resulting Image</h2>\n",
    "<img src=\"https://storage.googleapis.com/general_photo_pdf_storage/BigDipper.jpg\" alt=\"Big Dipper\">"
   ]
  },
  {
   "cell_type": "code",
   "execution_count": 1,
   "metadata": {
    "inputHidden": false,
    "jupyter": {
     "outputs_hidden": false,
     "source_hidden": false
    },
    "nteract": {
     "transient": {
      "deleting": false
     }
    },
    "outputExpanded": true,
    "outputHidden": false
   },
   "outputs": [],
   "source": [
    "import numpy as np\n",
    "np.warnings.filterwarnings('ignore')\n",
    "import cv2"
   ]
  },
  {
   "cell_type": "code",
   "execution_count": 2,
   "metadata": {
    "inputHidden": false,
    "jupyter": {
     "outputs_hidden": false,
     "source_hidden": false
    },
    "nteract": {
     "transient": {
      "deleting": false
     }
    },
    "outputExpanded": true,
    "outputHidden": false,
    "tags": []
   },
   "outputs": [],
   "source": [
    "def debugMatrix(name, M):\n",
    "    print(name, \":\\n\", type(M), \"shape: \", M.shape, \"\\n\", M)\n",
    "\n",
    "def getRotationMatrixX(ax, rad=False):\n",
    "    if not rad:\n",
    "        ax = np.radians(ax)\n",
    "    sx = np.sin(ax)\n",
    "    cx = np.cos(ax)\n",
    "    return np.array(((1, 0, 0), (0, cx, -sx), (0, sx, cx)))\n",
    "\n",
    "def getRotationMatrixY(ay, rad=False):\n",
    "    if not rad:\n",
    "        ay = math.radians(ay)\n",
    "    sy = np.sin(ay)\n",
    "    cy = np.cos(ay)\n",
    "    return np.array(((cy, 0, sy), (0, 1, 0), (-sy, 0, cy)))\n",
    "\n",
    "def getRotationMatrixZ(az, rad=False):\n",
    "    if not rad:\n",
    "        az = math.radians(az)\n",
    "    sz = np.sin(az)\n",
    "    cz = np.cos(az)\n",
    "    return np.array(((cz, -sz, 0), (sz, cz, 0), (0, 0, 1)))\n",
    "\n",
    "def getRotationMatrix(ax,ay,az,rad=False,order=\"XYZ\",debug=False):\n",
    "    X = getRotationMatrixX(ax, rad)\n",
    "    Y = getRotationMatrixY(ay, rad)\n",
    "    Z = getRotationMatrixZ(az, rad)\n",
    "\n",
    "    if debug:\n",
    "        debugMatrix(\"Rotation X\", X)\n",
    "        debugMatrix(\"Rotation Y\", Y)\n",
    "        debugMatrix(\"Rotation Z\", Z)\n",
    "\n",
    "    if order == \"XYZ\":\n",
    "        return Z @ Y @ X\n",
    "    elif order == \"ZYX\":\n",
    "        return X @ Y @ Z\n",
    "    elif order == \"YXZ\":\n",
    "        return Z @ X @ Y\n",
    "    elif order == \"YZX\":\n",
    "        return X @ Z @ Y\n",
    "    elif order == \"XZY\":\n",
    "        return Y @ Z @ X\n",
    "    elif order == \"ZXY\":\n",
    "        return Y @ X @ Z\n",
    "\n",
    "# Return camera to world and world to camera\n",
    "def getHomoTransforms(rotation_matrix, translation_matrix, debug=False):\n",
    "    # The only rotation is about x\n",
    "    debugMatrix(\"R\", rotation_matrix)\n",
    "    debugMatrix(\"T\", translation_matrix)\n",
    "    H_c_w = np.block([[rotation_matrix, translation_matrix], [0,0,0,1]]) \n",
    "    # Get transformation from world to camera.\n",
    "    H_w_c = np.linalg.inv(H_c_w)\n",
    "    if debug:\n",
    "        debugMatrix(\"H_w_c\", H_w_c)\n",
    "        debugMatrix(\"H_c_w\", H_c_w)\n",
    "    return H_c_w, H_w_c\n",
    "\n",
    "# Return Matrix K\n",
    "# f: focal_length\n",
    "# sx: sensor size x\n",
    "# sy: sensor size y\n",
    "# center: pixel location [x,y] of optical center of image\n",
    "def getIntrinsicCamMatrix(f, sx, sy, center=[0,0]):\n",
    "    return np.array([[f/sx, 0, center[0]], [0, f/sy, center[1]], [0, 0, 1]])\n",
    "\n",
    "# Returns Mext\n",
    "def getExtrinsicCamMatrix(H_w_c):\n",
    "    Mext = H_w_c[0:3, :]\n",
    "    return Mext\n",
    "\n",
    "# For no rotation or translation\n",
    "def threeDToTwoDProjection(f, sx, sy, P, cx=0, cy=0):\n",
    "    return np.array((f/sx)*P[0]/P[2]+cx, (f/sy)*P[1]/P[2]+cy, 1)\n",
    "\n",
    "\n",
    "def threeDToTwoDProjection(P_w,                                                                                                              rotation_matrix,\n",
    "                           translation_matrix,\n",
    "                           f, sx, sy,\n",
    "                           cx=0,cy=0,\n",
    "                           debug=False):\n",
    "    if (P_w.size == 3):\n",
    "        P_w = np.array([P_w,1])\n",
    "\n",
    "    K = getIntrinsicCamMatrix(f,sx,sy,[cx,cy])\n",
    "    Mext = getExtrinsicCamMatrix(getHomoTransforms(rotation_matrix,translation_matrix, debug=debug)[1])\n",
    "    p = np.array(K @ Mext @ P_w)\n",
    "    p /= p[2]\n",
    "    p = np.hstack(p)\n",
    "\n",
    "    if debug:\n",
    "        debugMatrix(\"p\", p)\n",
    "        debugMatrix(\"K\", K)\n",
    "        debugMatrix(\"Mext\", Mext)\n",
    "        debugMatrix(\"P_w\", P_w)\n",
    "\n",
    "    return p\n",
    "\n"
   ]
  },
  {
   "cell_type": "code",
   "execution_count": null,
   "metadata": {
    "inputHidden": false,
    "jupyter": {
     "outputs_hidden": false,
     "source_hidden": false
    },
    "nteract": {
     "transient": {
      "deleting": false
     }
    },
    "outputHidden": false
   },
   "outputs": [
    {
     "name": "stdout",
     "output_type": "stream",
     "text": [
      "R :\n",
      " <class 'numpy.ndarray'> shape:  (3, 3) \n",
      " [[ 0.8731983  -0.47041706 -0.12740687]\n",
      " [ 0.08761207  0.40867445 -0.90846537]\n",
      " [ 0.47942554  0.78210804  0.39806805]]\n",
      "T :\n",
      " <class 'numpy.ndarray'> shape:  (3, 1) \n",
      " [[ 10]\n",
      " [-25]\n",
      " [ 40]]\n",
      "H_c_w :\n",
      " <class 'numpy.ndarray'> shape:  (4, 4) \n",
      " [[  0.8731983   -0.47041706  -0.12740687  10.        ]\n",
      " [  0.08761207   0.40867445  -0.90846537 -25.        ]\n",
      " [  0.47942554   0.78210804   0.39806805  40.        ]\n",
      " [  0.           0.           0.           1.        ]]\n",
      "H_w_c :\n",
      " <class 'numpy.ndarray'> shape:  (4, 4) \n",
      " [[  0.8731983    0.08761207   0.47942554 -25.71870295]\n",
      " [ -0.47041706   0.40867445   0.78210804 -16.36328969]\n",
      " [ -0.12740687  -0.90846537   0.39806805 -37.36028732]\n",
      " [  0.           0.           0.           1.        ]]\n",
      "K :\n",
      " <class 'numpy.ndarray'> shape:  (3, 3) \n",
      " [[170.   0.  85.]\n",
      " [  0. 256. 128.]\n",
      " [  0.   0.   1.]]\n"
     ]
    }
   ],
   "source": [
    "#Camera Angles\n",
    "ax1 = 1.1\n",
    "ay1 = -0.5\n",
    "az1 = 0.1\n",
    "\n",
    "# Camera Parameters\n",
    "height = 256\n",
    "width = 170\n",
    "focal = 400\n",
    "cx = width/2.0\n",
    "cy = height/2.0\n",
    "\n",
    "# Translation Matrix\n",
    "translation = np.array([[10,-25,40]]).T\n",
    "\n",
    "# World Points\n",
    "points = np.array([[6.8158,-35.1954,43.0640,1],\n",
    "                   [7.8493,-36.1723,43.7815,1],\n",
    "                   [9.9479,-25.2799,40.1151,1],\n",
    "                   [8.8219,-38.3767,46.6153,1],\n",
    "                   [9.5890,-28.8402,42.2858,1],\n",
    "                   [10.8082,-48.8146,56.1475,1],\n",
    "                   [13.269,-58.0988,59.1422,1]])\n",
    "\n",
    "\n",
    "#  Give the 3x3 rotation matrix corresponding to the rotations above.\n",
    "R1 = getRotationMatrix(ax1,ay1,az1,rad=True,order=\"XYZ\",debug=False)\n",
    "\n",
    "# Since the rotation matrix is “orthonormal” matrix \n",
    "#(i.e., a square matrix whose rows and columns are orthogonal unit vectors), \n",
    "#its inverse is equal to its transpose. Show this.\n",
    "assert(R1.all() == R1.T.all())\n",
    "\n",
    "# Give the 3x3 rotation matrix where the same rotations described in part (a)\n",
    "# are done in the opposite order; i.e., first a rotation about the Z axis\n",
    "R2 = getRotationMatrix(ax1,ay1,az1,rad=True,order=\"ZYX\",debug=False)\n",
    "assert(not np.array_equal(R1, R2))\n",
    "\n",
    "# Compute the homogeneous transformation matrix that represents the pose\n",
    "# of the camera with respect to the world\n",
    "# Compute the homogeneous transformation matrix that represents the pose \n",
    "# of the world with respect to the camera\n",
    "H_c_w, H_w_c = getHomoTransforms(R1, translation, debug=False)\n",
    "debugMatrix(\"H_c_w\", H_c_w)\n",
    "debugMatrix(\"H_w_c\", H_w_c)\n",
    "\n",
    "# Write the intrinsic camera calibration matrix K.\n",
    "K = getIntrinsicCamMatrix(focal, focal/width, focal/height, center=[cx,cy])\n",
    "debugMatrix(\"K\", K)\n",
    "\n",
    "# Find new points on image\n",
    "Mext = H_w_c[0:3, :]\n",
    "new_points = []\n",
    "for point in points:\n",
    "    new_point = K @ Mext @ point\n",
    "    new_point = new_point/new_point[2]\n",
    "    new_points.append(new_point)\n",
    "\n",
    "# Create a blank (zeros) image, and project the 7 points to the image.\n",
    "# Write white dots into the image at those points. \n",
    "image = np.zeros((width,height, 3))\n",
    "for point in new_points:\n",
    "    image[int(point[1])][int(point[0])] = (0,0,255)\n",
    "\n",
    "# Using OpenCV's “line” function, draw lines between the points on the image. \n",
    "# Namely draw a line from point 0 to point 1, another line from point 1 \n",
    "# to point 2, and so forth. \n",
    "for i in range(len(new_points) -1):\n",
    "    cv2.line(image,(int(new_points[i][0]),int(new_points[i][1])), (int(new_points[i+1][0]), int(new_points[i+1][1])),(255,0,0),thickness=1)\n",
    "\n",
    "# Save image\n",
    "cv2.imwrite(\"BigDipper.jpg\", image)\n",
    "cv2.imshow(\"Big Dipper\", image)\n",
    "cv2.waitKey(0)\n",
    "cv2.destroyAllWindows()"
   ]
  },
  {
   "cell_type": "code",
   "execution_count": null,
   "metadata": {
    "inputHidden": false,
    "outputHidden": false
   },
   "outputs": [],
   "source": []
  },
  {
   "cell_type": "code",
   "execution_count": null,
   "metadata": {
    "inputHidden": false,
    "outputHidden": false
   },
   "outputs": [],
   "source": []
  }
 ],
 "metadata": {
  "kernel_info": {
   "name": "opencv"
  },
  "kernelspec": {
   "display_name": "OpenCV",
   "language": "python",
   "name": "opencv"
  },
  "language_info": {
   "codemirror_mode": {
    "name": "ipython",
    "version": 3
   },
   "file_extension": ".py",
   "mimetype": "text/x-python",
   "name": "python",
   "nbconvert_exporter": "python",
   "pygments_lexer": "ipython3",
   "version": "3.7.7"
  },
  "nteract": {
   "version": "nteract-on-jupyter@2.1.3"
  }
 },
 "nbformat": 4,
 "nbformat_minor": 1
}
