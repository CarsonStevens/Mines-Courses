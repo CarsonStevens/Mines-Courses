{
 "cells": [
  {
   "cell_type": "code",
   "execution_count": 1,
   "metadata": {},
   "outputs": [
    {
     "name": "stdout",
     "output_type": "stream",
     "text": [
      "video read in\n",
      "Output Video Saved\n"
     ]
    }
   ],
   "source": [
    "import cv2\n",
    "import numpy as np\n",
    "\n",
    "P1 = (np.array([-1, -1, 1]))\n",
    "P2 = (np.array([1, -1, 1]))\n",
    "P3 = (np.array([1, 1, 1]))\n",
    "P4 = (np.array([-1, 1, 1]))\n",
    "points = [P1, P2, P3, P4]\n",
    "k=1\n",
    "frame = 0\n",
    "marker_start_size = 30\n",
    "marker_size = marker_start_size\n",
    "\n",
    "\n",
    "def getCamera(X,z):\n",
    "    focal_length = 500\n",
    "    return int((focal_length * X/z))\n",
    "\n",
    "def normalize(P):\n",
    "    unique, check = np.unique(P, return_counts=True)\n",
    "    if (np.isin(3,check)):\n",
    "        filler = 1/P.size\n",
    "        return np.full(P.size, filler)\n",
    "    else:\n",
    "        return P - P.min()/(P.max()-P.min())\n",
    "\n",
    "# Read images from a video file in the current folder.\n",
    "video_capture = cv2.VideoCapture(\"earth.wmv\")  # Open video capture object\n",
    "got_image, bgr_image = video_capture.read()  # Make sure we can read video\n",
    "if not got_image:\n",
    "    print(\"Cannot read video source\")\n",
    "    sys.exit()\n",
    "else:\n",
    "    print(\"video read in\")\n",
    "\n",
    "\n",
    "\n",
    "# Create output movie file.\n",
    "# These types of video formats work:\n",
    "#   *.avi   Use VideoWriter_fourcc('D', 'I', 'V', 'X') or\n",
    "#              VideoWriter_fourcc('M', 'J', 'P', 'G')\n",
    "#   *.wmv   Use VideoWriter_fourcc('W', 'M', 'V', '2')\n",
    "#   *.mp4   Use VideoWriter_fourcc('M', 'P', '4', '2')\n",
    "# See http://www.fourcc.org/codecs.php for more codecs.\n",
    "fourcc = cv2.VideoWriter_fourcc('M', 'J', 'P', 'G')\n",
    "videoWriter = cv2.VideoWriter(apiPreference=cv2.CAP_FFMPEG, filename=\"output.avi\", fourcc=fourcc, fps=30,\n",
    "                              frameSize=(int(video_capture.get(3)), int(video_capture.get(4))))\n",
    "total_frames = int(video_capture.get(cv2.CAP_PROP_FRAME_COUNT))\n",
    "\n",
    "\n",
    "# Read and show images until end of video is reached.\n",
    "while True:\n",
    "    got_image, bgr_img = video_capture.read()\n",
    "    height, width, channels = bgr_image.shape\n",
    "    # print(height, width)\n",
    "    if not got_image:\n",
    "        break  # End of video; exit the while loop\n",
    "\n",
    "\n",
    "    for point in points:\n",
    "        k+=0.1\n",
    "        cv2.drawMarker(bgr_img, position=(int(getCamera(point[0],k) +width/2),int(height/2+ (getCamera(point[1],k)))),\n",
    "                       color=(0, 0, 255), markerType=cv2.MARKER_CROSS, markerSize=int(marker_size))\n",
    "\n",
    "    marker_size -= marker_start_size / total_frames\n",
    "    bgr_img = cv2.putText(bgr_img, text=str(frame), org=(50, 50), fontFace=cv2.FONT_HERSHEY_SIMPLEX,\n",
    "                fontScale=1.5, color=(0, 255, 0))\n",
    "    cv2.imshow(\"Earth\", bgr_img)\n",
    "    frame += 1\n",
    "    videoWriter.write(bgr_img)\n",
    "\n",
    "    # Wait for xx msec (0 means wait till a keypress).\n",
    "    cv2.waitKey(0)\n",
    "\n",
    "videoWriter.release()\n",
    "print(\"Output Video Saved\")"
   ]
  }
 ],
 "metadata": {
  "kernelspec": {
   "display_name": "Python 3",
   "language": "python",
   "name": "python3"
  },
  "language_info": {
   "codemirror_mode": {
    "name": "ipython",
    "version": 3
   },
   "file_extension": ".py",
   "mimetype": "text/x-python",
   "name": "python",
   "nbconvert_exporter": "python",
   "pygments_lexer": "ipython3",
   "version": "3.7.7"
  }
 },
 "nbformat": 4,
 "nbformat_minor": 4
}
