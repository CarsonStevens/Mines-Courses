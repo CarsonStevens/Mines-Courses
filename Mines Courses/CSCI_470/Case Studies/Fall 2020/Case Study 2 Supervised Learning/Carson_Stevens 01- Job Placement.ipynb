{
 "cells": [
  {
   "cell_type": "markdown",
   "metadata": {},
   "source": [
    "## CSCI 470 Activities and Case Studies\n",
    "\n",
    "1. For all activities, you are allowed to collaborate with a partner. \n",
    "1. For case studies, you should work individually and are **not** allowed to collaborate.\n",
    "\n",
    "By filling out this notebook and submitting it, you acknowledge that you are aware of the above policies and are agreeing to comply with them."
   ]
  },
  {
   "cell_type": "markdown",
   "metadata": {},
   "source": [
    "Some considerations with regard to how these notebooks will be graded:\n",
    "\n",
    "1. You can add more notebook cells or edit existing notebook cells other than \"# YOUR CODE HERE\" to test out or debug your code. We actually highly recommend you do so to gain a better understanding of what is happening. However, during grading, **these changes are ignored**. \n",
    "2. You must ensure that all your code for the particular task is available in the cells that say \"# YOUR CODE HERE\"\n",
    "3. Every cell that says \"# YOUR CODE HERE\" is followed by a \"raise NotImplementedError\". You need to remove that line. During grading, if an error occurs then you will not receive points for your work in that section.\n",
    "4. If your code passes the \"assert\" statements, then no output will result. If your code fails the \"assert\" statements, you will get an \"AssertionError\". Getting an assertion error means you will not receive points for that particular task.\n",
    "5. If you edit the \"assert\" statements to make your code pass, they will still fail when they are graded since the \"assert\" statements will revert to the original. Make sure you don't edit the assert statements.\n",
    "6. We may sometimes have \"hidden\" tests for grading. This means that passing the visible \"assert\" statements is not sufficient. The \"assert\" statements are there as a guide but you need to make sure you understand what you're required to do and ensure that you are doing it correctly. Passing the visible tests is necessary but not sufficient to get the grade for that cell.\n",
    "7. When you are asked to define a function, make sure you **don't** use any variables outside of the parameters passed to the function. You can think of the parameters being passed to the function as a hint. Make sure you're using all of those variables.\n",
    "8. Finally, **make sure you run \"Kernel > Restart and Run All\"** and pass all the asserts before submitting. If you don't restart the kernel, there may be some code that you ran and deleted that is still being used and that was why your asserts were passing."
   ]
  },
  {
   "cell_type": "markdown",
   "metadata": {
    "deletable": false,
    "editable": false,
    "id": "oTFUB2ZSQriJ",
    "nbgrader": {
     "cell_type": "markdown",
     "checksum": "3eaff0f4eea88447589a984a11f3e2d7",
     "grade": false,
     "grade_id": "cell-c95444a9726cb6ad",
     "locked": true,
     "schema_version": 3,
     "solution": false
    }
   },
   "source": [
    "# Job Performance Prediction\n",
    "\n",
    "You work for a software startup, Predict All The Things Inc. (PALT), and are approached by the CEO to build an algorithm that can help sift through resumes. PALT just closed a $3 million Series A round of funding and the CEO just landed a deal with a national retailer, SellsALOT, to help them with hiring Sales Associates.\n",
    "\n",
    "They are able to obtain data on all the employees that work as Sales Associates throughout their stores as well as customer satisfaction and sales performance scores.\n",
    "\n",
    "In this case study, you are tasked with building a model to predict job performance to assist HR in selecting applicants to interview.\n",
    "\n",
    "The data was provided to you by the new HR intern, Keegan. This is the email you got from Keegan with the attached data.\n",
    "\n",
    ">Hi!\n",
    ">\n",
    ">I hope you're doing well. I've attached the data we have about all employees. Please ensure this data stays confidential and is not shared with anyone who has not signed the NDA. The columns have all the information we have about our employees and the scoring rating that they've received from our performance monitors. We also have some employees who were fired and I have included those as well.\n",
    ">\n",
    ">I was also able to dig up some more information about our employees that I found on the internet. It took a lot of time but I hope it helps in making the model even better. Can't wait to see this thing in action. Everyone here is very excited about our collaboration with you and we look forward to this making hiring a lot easier for us.\n",
    ">\n",
    ">Thanks,\n",
    ">\n",
    ">Keegan Thiel\n",
    ">\n",
    ">HR Intern\n",
    ">\n",
    ">Human Resources\n",
    ">\n",
    ">SellsALOT\n",
    "\n",
    "\n",
    "Data is available in the `employees.csv` file provided. \n",
    "\n",
    "\n",
    "SellsALOT is an Equal Opportunity Employer which is an employer who agrees not to discriminate against any employee or job applicant based on race, color, religion, national origin, sex, physical or mental disability, or age.\n"
   ]
  },
  {
   "cell_type": "markdown",
   "metadata": {
    "id": "QCU4JRRt7i44"
   },
   "source": [
    "## Import packages that are likely to be useful\n",
    "\n",
    "### However, __do not__ use TensorFlow to build your models.\n",
    "\n",
    "Below we import packages that are needed or may be useful. You may import additional packages as you see fit, with the exception of TensorFlow. You may use scikit-learn. **Ensure that you import additional packages in cells that say \"### YOUR CODE HERE\".**"
   ]
  },
  {
   "cell_type": "code",
   "execution_count": 1,
   "metadata": {
    "ExecuteTime": {
     "end_time": "2020-12-08T06:34:59.327075Z",
     "start_time": "2020-12-08T06:34:57.778745Z"
    },
    "deletable": false,
    "editable": false,
    "id": "oDynCtWlQriO",
    "nbgrader": {
     "cell_type": "code",
     "checksum": "98d9733673fc16e64c8a56f4f2283337",
     "grade": false,
     "grade_id": "cell-415e7e827876c782",
     "locked": true,
     "schema_version": 3,
     "solution": false
    }
   },
   "outputs": [],
   "source": [
    "import pandas as pd\n",
    "import matplotlib\n",
    "import numpy as np\n",
    "import sklearn as sk\n",
    "from sklearn.model_selection import train_test_split\n",
    "import datetime\n",
    "from datetime import date"
   ]
  },
  {
   "cell_type": "markdown",
   "metadata": {
    "deletable": false,
    "editable": false,
    "id": "bYxsrpl_QriL",
    "nbgrader": {
     "cell_type": "markdown",
     "checksum": "36fb3abb8b9d714d711c318557f98208",
     "grade": false,
     "grade_id": "cell-f9469a23a33f582b",
     "locked": true,
     "schema_version": 3,
     "solution": false
    }
   },
   "source": [
    "## Data Cleaning\n",
    "\n",
    "First, let's investigate the data that we received from Keegan.\n",
    "\n",
    "If you are using colab, **Make sure you upload the employees.csv file** so it can be loaded in the next cell. In order to do so, click the file folder icon in the colab sidebar. You will see the contents of the current directory, which will include a \"sample_data\" folder. Click the upload icon (piece of paper with upward pointing arrow, just below the word \"Files\"). Locate the employees.csv file that you downloaded from Canvas to your local machine and open/upload the file."
   ]
  },
  {
   "cell_type": "code",
   "execution_count": 2,
   "metadata": {
    "ExecuteTime": {
     "end_time": "2020-12-08T06:34:59.357602Z",
     "start_time": "2020-12-08T06:34:59.329077Z"
    },
    "deletable": false,
    "editable": false,
    "id": "EIfgJtszQriZ",
    "nbgrader": {
     "cell_type": "code",
     "checksum": "c5e648a7fa9b588f6d9283cfcca4be48",
     "grade": false,
     "grade_id": "cell-2e0e3f39a04d036d",
     "locked": true,
     "schema_version": 3,
     "solution": false,
     "task": false
    }
   },
   "outputs": [],
   "source": [
    "df = pd.read_csv(\"employees.csv\")"
   ]
  },
  {
   "cell_type": "code",
   "execution_count": 3,
   "metadata": {
    "ExecuteTime": {
     "end_time": "2020-12-08T06:34:59.495220Z",
     "start_time": "2020-12-08T06:34:59.359603Z"
    },
    "colab": {
     "base_uri": "https://localhost:8080/",
     "height": 800
    },
    "id": "zHHFixaFQrif",
    "outputId": "8a603eb6-41b6-4fa5-b267-f7f81f3be479"
   },
   "outputs": [
    {
     "data": {
      "text/html": [
       "<div>\n",
       "<style scoped>\n",
       "    .dataframe tbody tr th:only-of-type {\n",
       "        vertical-align: middle;\n",
       "    }\n",
       "\n",
       "    .dataframe tbody tr th {\n",
       "        vertical-align: top;\n",
       "    }\n",
       "\n",
       "    .dataframe thead th {\n",
       "        text-align: right;\n",
       "    }\n",
       "</style>\n",
       "<table border=\"1\" class=\"dataframe\">\n",
       "  <thead>\n",
       "    <tr style=\"text-align: right;\">\n",
       "      <th></th>\n",
       "      <th>First Name</th>\n",
       "      <th>Last Name</th>\n",
       "      <th>Date of Birth</th>\n",
       "      <th>Address</th>\n",
       "      <th>Zipcode</th>\n",
       "      <th>Gender</th>\n",
       "      <th>Race / Ethnicity</th>\n",
       "      <th>English Fluency</th>\n",
       "      <th>Spanish Fluency</th>\n",
       "      <th>Education</th>\n",
       "      <th>...</th>\n",
       "      <th>College GPA</th>\n",
       "      <th>Years of Experience</th>\n",
       "      <th>Years of Volunteering</th>\n",
       "      <th>Myers Briggs Type</th>\n",
       "      <th>Twitter followers</th>\n",
       "      <th>Instagram Followers</th>\n",
       "      <th>Requires Sponsorship</th>\n",
       "      <th>Customer Satisfaction Rating</th>\n",
       "      <th>Sales Rating</th>\n",
       "      <th>Fired</th>\n",
       "    </tr>\n",
       "  </thead>\n",
       "  <tbody>\n",
       "    <tr>\n",
       "      <th>0</th>\n",
       "      <td>Sarah</td>\n",
       "      <td>Chang</td>\n",
       "      <td>1989-12-24</td>\n",
       "      <td>764 Howard Tunnel</td>\n",
       "      <td>30167</td>\n",
       "      <td>Female</td>\n",
       "      <td>Black</td>\n",
       "      <td>Fluent</td>\n",
       "      <td>Basic</td>\n",
       "      <td>High School</td>\n",
       "      <td>...</td>\n",
       "      <td>2.52</td>\n",
       "      <td>8.8</td>\n",
       "      <td>0.0</td>\n",
       "      <td>ISTJ</td>\n",
       "      <td>693</td>\n",
       "      <td>1108</td>\n",
       "      <td>False</td>\n",
       "      <td>2.21</td>\n",
       "      <td>2.07</td>\n",
       "      <td>Current Employee</td>\n",
       "    </tr>\n",
       "    <tr>\n",
       "      <th>1</th>\n",
       "      <td>Daniel</td>\n",
       "      <td>Taylor</td>\n",
       "      <td>1985-03-15</td>\n",
       "      <td>4892 Jessica Turnpike Suite 781</td>\n",
       "      <td>86553</td>\n",
       "      <td>Male</td>\n",
       "      <td>Black</td>\n",
       "      <td>Fluent</td>\n",
       "      <td>Basic</td>\n",
       "      <td>High School</td>\n",
       "      <td>...</td>\n",
       "      <td>3.90</td>\n",
       "      <td>13.7</td>\n",
       "      <td>0.0</td>\n",
       "      <td>ISFJ</td>\n",
       "      <td>507</td>\n",
       "      <td>1259</td>\n",
       "      <td>False</td>\n",
       "      <td>3.37</td>\n",
       "      <td>2.98</td>\n",
       "      <td>Current Employee</td>\n",
       "    </tr>\n",
       "    <tr>\n",
       "      <th>2</th>\n",
       "      <td>Heather</td>\n",
       "      <td>Stewart</td>\n",
       "      <td>1993-09-20</td>\n",
       "      <td>778 Linda Orchard Apt. 609</td>\n",
       "      <td>30167</td>\n",
       "      <td>Female</td>\n",
       "      <td>Black</td>\n",
       "      <td>Proficient</td>\n",
       "      <td>Basic</td>\n",
       "      <td>High School</td>\n",
       "      <td>...</td>\n",
       "      <td>2.63</td>\n",
       "      <td>5.2</td>\n",
       "      <td>0.0</td>\n",
       "      <td>INFP</td>\n",
       "      <td>599</td>\n",
       "      <td>868</td>\n",
       "      <td>False</td>\n",
       "      <td>1.50</td>\n",
       "      <td>1.36</td>\n",
       "      <td>Current Employee</td>\n",
       "    </tr>\n",
       "    <tr>\n",
       "      <th>3</th>\n",
       "      <td>Katherine</td>\n",
       "      <td>Dillon</td>\n",
       "      <td>1986-12-22</td>\n",
       "      <td>139 Linda Crossroad Suite 115</td>\n",
       "      <td>30167</td>\n",
       "      <td>Female</td>\n",
       "      <td>Black</td>\n",
       "      <td>Basic</td>\n",
       "      <td>Basic</td>\n",
       "      <td>High School</td>\n",
       "      <td>...</td>\n",
       "      <td>3.88</td>\n",
       "      <td>12.5</td>\n",
       "      <td>0.0</td>\n",
       "      <td>ISFP</td>\n",
       "      <td>1321</td>\n",
       "      <td>889</td>\n",
       "      <td>True</td>\n",
       "      <td>2.89</td>\n",
       "      <td>2.62</td>\n",
       "      <td>Current Employee</td>\n",
       "    </tr>\n",
       "    <tr>\n",
       "      <th>4</th>\n",
       "      <td>Sheri</td>\n",
       "      <td>Bolton</td>\n",
       "      <td>1991-02-24</td>\n",
       "      <td>1858 Lauren Orchard</td>\n",
       "      <td>60531</td>\n",
       "      <td>Female</td>\n",
       "      <td>Black</td>\n",
       "      <td>Proficient</td>\n",
       "      <td>Proficient</td>\n",
       "      <td>High School</td>\n",
       "      <td>...</td>\n",
       "      <td>3.30</td>\n",
       "      <td>7.0</td>\n",
       "      <td>0.0</td>\n",
       "      <td>ISFJ</td>\n",
       "      <td>414</td>\n",
       "      <td>13760</td>\n",
       "      <td>True</td>\n",
       "      <td>1.94</td>\n",
       "      <td>1.78</td>\n",
       "      <td>Current Employee</td>\n",
       "    </tr>\n",
       "    <tr>\n",
       "      <th>5</th>\n",
       "      <td>Donna</td>\n",
       "      <td>Davis</td>\n",
       "      <td>1996-05-26</td>\n",
       "      <td>4232 Tina Forks</td>\n",
       "      <td>86553</td>\n",
       "      <td>Female</td>\n",
       "      <td>Black</td>\n",
       "      <td>Proficient</td>\n",
       "      <td>Basic</td>\n",
       "      <td>Associates</td>\n",
       "      <td>...</td>\n",
       "      <td>3.14</td>\n",
       "      <td>1.6</td>\n",
       "      <td>0.0</td>\n",
       "      <td>ESTJ</td>\n",
       "      <td>495</td>\n",
       "      <td>2401</td>\n",
       "      <td>False</td>\n",
       "      <td>0.78</td>\n",
       "      <td>0.87</td>\n",
       "      <td>Current Employee</td>\n",
       "    </tr>\n",
       "    <tr>\n",
       "      <th>6</th>\n",
       "      <td>Benjamin</td>\n",
       "      <td>Shelton</td>\n",
       "      <td>1985-01-15</td>\n",
       "      <td>186 Warren Mount Apt. 396</td>\n",
       "      <td>30167</td>\n",
       "      <td>Male</td>\n",
       "      <td>Black</td>\n",
       "      <td>Proficient</td>\n",
       "      <td>Basic</td>\n",
       "      <td>Associates</td>\n",
       "      <td>...</td>\n",
       "      <td>3.51</td>\n",
       "      <td>13.1</td>\n",
       "      <td>0.0</td>\n",
       "      <td>ESFJ</td>\n",
       "      <td>1696</td>\n",
       "      <td>1158</td>\n",
       "      <td>False</td>\n",
       "      <td>3.41</td>\n",
       "      <td>3.11</td>\n",
       "      <td>Current Employee</td>\n",
       "    </tr>\n",
       "    <tr>\n",
       "      <th>7</th>\n",
       "      <td>Kevin</td>\n",
       "      <td>Hayes</td>\n",
       "      <td>1994-01-21</td>\n",
       "      <td>515 Tucker Plaza Suite 304</td>\n",
       "      <td>59010</td>\n",
       "      <td>Male</td>\n",
       "      <td>Black</td>\n",
       "      <td>Fluent</td>\n",
       "      <td>Basic</td>\n",
       "      <td>High School</td>\n",
       "      <td>...</td>\n",
       "      <td>2.92</td>\n",
       "      <td>4.1</td>\n",
       "      <td>0.0</td>\n",
       "      <td>ESTP</td>\n",
       "      <td>319</td>\n",
       "      <td>538</td>\n",
       "      <td>False</td>\n",
       "      <td>1.30</td>\n",
       "      <td>1.29</td>\n",
       "      <td>Current Employee</td>\n",
       "    </tr>\n",
       "    <tr>\n",
       "      <th>8</th>\n",
       "      <td>Autumn</td>\n",
       "      <td>Robinson</td>\n",
       "      <td>1996-05-05</td>\n",
       "      <td>0123 Audrey Union</td>\n",
       "      <td>60531</td>\n",
       "      <td>Female</td>\n",
       "      <td>Black</td>\n",
       "      <td>Fluent</td>\n",
       "      <td>Basic</td>\n",
       "      <td>None</td>\n",
       "      <td>...</td>\n",
       "      <td>NaN</td>\n",
       "      <td>3.0</td>\n",
       "      <td>0.0</td>\n",
       "      <td>ISFJ</td>\n",
       "      <td>988</td>\n",
       "      <td>510</td>\n",
       "      <td>False</td>\n",
       "      <td>0.89</td>\n",
       "      <td>0.63</td>\n",
       "      <td>Current Employee</td>\n",
       "    </tr>\n",
       "    <tr>\n",
       "      <th>9</th>\n",
       "      <td>Kimberly</td>\n",
       "      <td>Becker</td>\n",
       "      <td>1983-04-12</td>\n",
       "      <td>91615 Wilson Place</td>\n",
       "      <td>60531</td>\n",
       "      <td>Female</td>\n",
       "      <td>Black</td>\n",
       "      <td>Fluent</td>\n",
       "      <td>Basic</td>\n",
       "      <td>High School</td>\n",
       "      <td>...</td>\n",
       "      <td>2.97</td>\n",
       "      <td>14.8</td>\n",
       "      <td>0.0</td>\n",
       "      <td>INTP</td>\n",
       "      <td>1169</td>\n",
       "      <td>2254</td>\n",
       "      <td>False</td>\n",
       "      <td>3.59</td>\n",
       "      <td>3.40</td>\n",
       "      <td>Current Employee</td>\n",
       "    </tr>\n",
       "  </tbody>\n",
       "</table>\n",
       "<p>10 rows × 21 columns</p>\n",
       "</div>"
      ],
      "text/plain": [
       "  First Name Last Name Date of Birth                          Address  \\\n",
       "0      Sarah     Chang    1989-12-24                764 Howard Tunnel   \n",
       "1     Daniel    Taylor    1985-03-15  4892 Jessica Turnpike Suite 781   \n",
       "2    Heather   Stewart    1993-09-20       778 Linda Orchard Apt. 609   \n",
       "3  Katherine    Dillon    1986-12-22    139 Linda Crossroad Suite 115   \n",
       "4      Sheri    Bolton    1991-02-24              1858 Lauren Orchard   \n",
       "5      Donna     Davis    1996-05-26                  4232 Tina Forks   \n",
       "6   Benjamin   Shelton    1985-01-15        186 Warren Mount Apt. 396   \n",
       "7      Kevin     Hayes    1994-01-21       515 Tucker Plaza Suite 304   \n",
       "8     Autumn  Robinson    1996-05-05                0123 Audrey Union   \n",
       "9   Kimberly    Becker    1983-04-12               91615 Wilson Place   \n",
       "\n",
       "   Zipcode  Gender Race / Ethnicity English Fluency Spanish Fluency  \\\n",
       "0    30167  Female            Black          Fluent           Basic   \n",
       "1    86553    Male            Black          Fluent           Basic   \n",
       "2    30167  Female            Black      Proficient           Basic   \n",
       "3    30167  Female            Black           Basic           Basic   \n",
       "4    60531  Female            Black      Proficient      Proficient   \n",
       "5    86553  Female            Black      Proficient           Basic   \n",
       "6    30167    Male            Black      Proficient           Basic   \n",
       "7    59010    Male            Black          Fluent           Basic   \n",
       "8    60531  Female            Black          Fluent           Basic   \n",
       "9    60531  Female            Black          Fluent           Basic   \n",
       "\n",
       "     Education  ...  College GPA  Years of Experience  Years of Volunteering  \\\n",
       "0  High School  ...         2.52                  8.8                    0.0   \n",
       "1  High School  ...         3.90                 13.7                    0.0   \n",
       "2  High School  ...         2.63                  5.2                    0.0   \n",
       "3  High School  ...         3.88                 12.5                    0.0   \n",
       "4  High School  ...         3.30                  7.0                    0.0   \n",
       "5   Associates  ...         3.14                  1.6                    0.0   \n",
       "6   Associates  ...         3.51                 13.1                    0.0   \n",
       "7  High School  ...         2.92                  4.1                    0.0   \n",
       "8         None  ...          NaN                  3.0                    0.0   \n",
       "9  High School  ...         2.97                 14.8                    0.0   \n",
       "\n",
       "   Myers Briggs Type Twitter followers  Instagram Followers  \\\n",
       "0               ISTJ               693                 1108   \n",
       "1               ISFJ               507                 1259   \n",
       "2               INFP               599                  868   \n",
       "3               ISFP              1321                  889   \n",
       "4               ISFJ               414                13760   \n",
       "5               ESTJ               495                 2401   \n",
       "6               ESFJ              1696                 1158   \n",
       "7               ESTP               319                  538   \n",
       "8               ISFJ               988                  510   \n",
       "9               INTP              1169                 2254   \n",
       "\n",
       "   Requires Sponsorship  Customer Satisfaction Rating  Sales Rating  \\\n",
       "0                 False                          2.21          2.07   \n",
       "1                 False                          3.37          2.98   \n",
       "2                 False                          1.50          1.36   \n",
       "3                  True                          2.89          2.62   \n",
       "4                  True                          1.94          1.78   \n",
       "5                 False                          0.78          0.87   \n",
       "6                 False                          3.41          3.11   \n",
       "7                 False                          1.30          1.29   \n",
       "8                 False                          0.89          0.63   \n",
       "9                 False                          3.59          3.40   \n",
       "\n",
       "              Fired  \n",
       "0  Current Employee  \n",
       "1  Current Employee  \n",
       "2  Current Employee  \n",
       "3  Current Employee  \n",
       "4  Current Employee  \n",
       "5  Current Employee  \n",
       "6  Current Employee  \n",
       "7  Current Employee  \n",
       "8  Current Employee  \n",
       "9  Current Employee  \n",
       "\n",
       "[10 rows x 21 columns]"
      ]
     },
     "execution_count": 3,
     "metadata": {},
     "output_type": "execute_result"
    }
   ],
   "source": [
    "df.head(10)"
   ]
  },
  {
   "cell_type": "code",
   "execution_count": 4,
   "metadata": {
    "ExecuteTime": {
     "end_time": "2020-12-08T06:34:59.670871Z",
     "start_time": "2020-12-08T06:34:59.496721Z"
    },
    "colab": {
     "base_uri": "https://localhost:8080/",
     "height": 501
    },
    "id": "Xgby0qLjQrio",
    "outputId": "3bfdf982-f07a-41e5-e5a2-30c26b5056bd"
   },
   "outputs": [
    {
     "data": {
      "text/html": [
       "<div>\n",
       "<style scoped>\n",
       "    .dataframe tbody tr th:only-of-type {\n",
       "        vertical-align: middle;\n",
       "    }\n",
       "\n",
       "    .dataframe tbody tr th {\n",
       "        vertical-align: top;\n",
       "    }\n",
       "\n",
       "    .dataframe thead th {\n",
       "        text-align: right;\n",
       "    }\n",
       "</style>\n",
       "<table border=\"1\" class=\"dataframe\">\n",
       "  <thead>\n",
       "    <tr style=\"text-align: right;\">\n",
       "      <th></th>\n",
       "      <th>First Name</th>\n",
       "      <th>Last Name</th>\n",
       "      <th>Date of Birth</th>\n",
       "      <th>Address</th>\n",
       "      <th>Zipcode</th>\n",
       "      <th>Gender</th>\n",
       "      <th>Race / Ethnicity</th>\n",
       "      <th>English Fluency</th>\n",
       "      <th>Spanish Fluency</th>\n",
       "      <th>Education</th>\n",
       "      <th>...</th>\n",
       "      <th>College GPA</th>\n",
       "      <th>Years of Experience</th>\n",
       "      <th>Years of Volunteering</th>\n",
       "      <th>Myers Briggs Type</th>\n",
       "      <th>Twitter followers</th>\n",
       "      <th>Instagram Followers</th>\n",
       "      <th>Requires Sponsorship</th>\n",
       "      <th>Customer Satisfaction Rating</th>\n",
       "      <th>Sales Rating</th>\n",
       "      <th>Fired</th>\n",
       "    </tr>\n",
       "  </thead>\n",
       "  <tbody>\n",
       "    <tr>\n",
       "      <th>count</th>\n",
       "      <td>2000</td>\n",
       "      <td>2000</td>\n",
       "      <td>2000</td>\n",
       "      <td>2000</td>\n",
       "      <td>2000.000000</td>\n",
       "      <td>2000</td>\n",
       "      <td>2000</td>\n",
       "      <td>2000</td>\n",
       "      <td>2000</td>\n",
       "      <td>2000</td>\n",
       "      <td>...</td>\n",
       "      <td>1645.000000</td>\n",
       "      <td>2000.000000</td>\n",
       "      <td>2000.000000</td>\n",
       "      <td>2000</td>\n",
       "      <td>2000.000000</td>\n",
       "      <td>2.000000e+03</td>\n",
       "      <td>2000</td>\n",
       "      <td>2000.000000</td>\n",
       "      <td>2000.00000</td>\n",
       "      <td>2000</td>\n",
       "    </tr>\n",
       "    <tr>\n",
       "      <th>unique</th>\n",
       "      <td>477</td>\n",
       "      <td>696</td>\n",
       "      <td>1701</td>\n",
       "      <td>2000</td>\n",
       "      <td>NaN</td>\n",
       "      <td>2</td>\n",
       "      <td>3</td>\n",
       "      <td>3</td>\n",
       "      <td>3</td>\n",
       "      <td>5</td>\n",
       "      <td>...</td>\n",
       "      <td>NaN</td>\n",
       "      <td>NaN</td>\n",
       "      <td>NaN</td>\n",
       "      <td>16</td>\n",
       "      <td>NaN</td>\n",
       "      <td>NaN</td>\n",
       "      <td>2</td>\n",
       "      <td>NaN</td>\n",
       "      <td>NaN</td>\n",
       "      <td>2</td>\n",
       "    </tr>\n",
       "    <tr>\n",
       "      <th>top</th>\n",
       "      <td>Michael</td>\n",
       "      <td>Smith</td>\n",
       "      <td>1988-12-07</td>\n",
       "      <td>07080 Jodi Ports Suite 756</td>\n",
       "      <td>NaN</td>\n",
       "      <td>Female</td>\n",
       "      <td>Black</td>\n",
       "      <td>Fluent</td>\n",
       "      <td>Basic</td>\n",
       "      <td>High School</td>\n",
       "      <td>...</td>\n",
       "      <td>NaN</td>\n",
       "      <td>NaN</td>\n",
       "      <td>NaN</td>\n",
       "      <td>ISFJ</td>\n",
       "      <td>NaN</td>\n",
       "      <td>NaN</td>\n",
       "      <td>False</td>\n",
       "      <td>NaN</td>\n",
       "      <td>NaN</td>\n",
       "      <td>Current Employee</td>\n",
       "    </tr>\n",
       "    <tr>\n",
       "      <th>freq</th>\n",
       "      <td>42</td>\n",
       "      <td>45</td>\n",
       "      <td>4</td>\n",
       "      <td>1</td>\n",
       "      <td>NaN</td>\n",
       "      <td>1201</td>\n",
       "      <td>1000</td>\n",
       "      <td>1183</td>\n",
       "      <td>1795</td>\n",
       "      <td>881</td>\n",
       "      <td>...</td>\n",
       "      <td>NaN</td>\n",
       "      <td>NaN</td>\n",
       "      <td>NaN</td>\n",
       "      <td>218</td>\n",
       "      <td>NaN</td>\n",
       "      <td>NaN</td>\n",
       "      <td>1813</td>\n",
       "      <td>NaN</td>\n",
       "      <td>NaN</td>\n",
       "      <td>1844</td>\n",
       "    </tr>\n",
       "    <tr>\n",
       "      <th>mean</th>\n",
       "      <td>NaN</td>\n",
       "      <td>NaN</td>\n",
       "      <td>NaN</td>\n",
       "      <td>NaN</td>\n",
       "      <td>53300.740500</td>\n",
       "      <td>NaN</td>\n",
       "      <td>NaN</td>\n",
       "      <td>NaN</td>\n",
       "      <td>NaN</td>\n",
       "      <td>NaN</td>\n",
       "      <td>...</td>\n",
       "      <td>3.251465</td>\n",
       "      <td>8.042550</td>\n",
       "      <td>0.263000</td>\n",
       "      <td>NaN</td>\n",
       "      <td>1065.144500</td>\n",
       "      <td>9.586589e+03</td>\n",
       "      <td>NaN</td>\n",
       "      <td>2.220175</td>\n",
       "      <td>2.06511</td>\n",
       "      <td>NaN</td>\n",
       "    </tr>\n",
       "    <tr>\n",
       "      <th>std</th>\n",
       "      <td>NaN</td>\n",
       "      <td>NaN</td>\n",
       "      <td>NaN</td>\n",
       "      <td>NaN</td>\n",
       "      <td>17455.384226</td>\n",
       "      <td>NaN</td>\n",
       "      <td>NaN</td>\n",
       "      <td>NaN</td>\n",
       "      <td>NaN</td>\n",
       "      <td>NaN</td>\n",
       "      <td>...</td>\n",
       "      <td>0.430466</td>\n",
       "      <td>4.674366</td>\n",
       "      <td>0.907487</td>\n",
       "      <td>NaN</td>\n",
       "      <td>7499.266485</td>\n",
       "      <td>2.269563e+05</td>\n",
       "      <td>NaN</td>\n",
       "      <td>1.058473</td>\n",
       "      <td>0.97946</td>\n",
       "      <td>NaN</td>\n",
       "    </tr>\n",
       "    <tr>\n",
       "      <th>min</th>\n",
       "      <td>NaN</td>\n",
       "      <td>NaN</td>\n",
       "      <td>NaN</td>\n",
       "      <td>NaN</td>\n",
       "      <td>24310.000000</td>\n",
       "      <td>NaN</td>\n",
       "      <td>NaN</td>\n",
       "      <td>NaN</td>\n",
       "      <td>NaN</td>\n",
       "      <td>NaN</td>\n",
       "      <td>...</td>\n",
       "      <td>2.500000</td>\n",
       "      <td>0.000000</td>\n",
       "      <td>0.000000</td>\n",
       "      <td>NaN</td>\n",
       "      <td>300.000000</td>\n",
       "      <td>5.000000e+02</td>\n",
       "      <td>NaN</td>\n",
       "      <td>0.000000</td>\n",
       "      <td>0.00000</td>\n",
       "      <td>NaN</td>\n",
       "    </tr>\n",
       "    <tr>\n",
       "      <th>25%</th>\n",
       "      <td>NaN</td>\n",
       "      <td>NaN</td>\n",
       "      <td>NaN</td>\n",
       "      <td>NaN</td>\n",
       "      <td>43357.000000</td>\n",
       "      <td>NaN</td>\n",
       "      <td>NaN</td>\n",
       "      <td>NaN</td>\n",
       "      <td>NaN</td>\n",
       "      <td>NaN</td>\n",
       "      <td>...</td>\n",
       "      <td>2.870000</td>\n",
       "      <td>3.900000</td>\n",
       "      <td>0.000000</td>\n",
       "      <td>NaN</td>\n",
       "      <td>364.000000</td>\n",
       "      <td>6.710000e+02</td>\n",
       "      <td>NaN</td>\n",
       "      <td>1.307500</td>\n",
       "      <td>1.25750</td>\n",
       "      <td>NaN</td>\n",
       "    </tr>\n",
       "    <tr>\n",
       "      <th>50%</th>\n",
       "      <td>NaN</td>\n",
       "      <td>NaN</td>\n",
       "      <td>NaN</td>\n",
       "      <td>NaN</td>\n",
       "      <td>55864.000000</td>\n",
       "      <td>NaN</td>\n",
       "      <td>NaN</td>\n",
       "      <td>NaN</td>\n",
       "      <td>NaN</td>\n",
       "      <td>NaN</td>\n",
       "      <td>...</td>\n",
       "      <td>3.270000</td>\n",
       "      <td>8.100000</td>\n",
       "      <td>0.000000</td>\n",
       "      <td>NaN</td>\n",
       "      <td>466.500000</td>\n",
       "      <td>9.925000e+02</td>\n",
       "      <td>NaN</td>\n",
       "      <td>2.250000</td>\n",
       "      <td>2.06000</td>\n",
       "      <td>NaN</td>\n",
       "    </tr>\n",
       "    <tr>\n",
       "      <th>75%</th>\n",
       "      <td>NaN</td>\n",
       "      <td>NaN</td>\n",
       "      <td>NaN</td>\n",
       "      <td>NaN</td>\n",
       "      <td>60531.000000</td>\n",
       "      <td>NaN</td>\n",
       "      <td>NaN</td>\n",
       "      <td>NaN</td>\n",
       "      <td>NaN</td>\n",
       "      <td>NaN</td>\n",
       "      <td>...</td>\n",
       "      <td>3.610000</td>\n",
       "      <td>12.100000</td>\n",
       "      <td>0.000000</td>\n",
       "      <td>NaN</td>\n",
       "      <td>769.250000</td>\n",
       "      <td>2.042000e+03</td>\n",
       "      <td>NaN</td>\n",
       "      <td>3.080000</td>\n",
       "      <td>2.86000</td>\n",
       "      <td>NaN</td>\n",
       "    </tr>\n",
       "    <tr>\n",
       "      <th>max</th>\n",
       "      <td>NaN</td>\n",
       "      <td>NaN</td>\n",
       "      <td>NaN</td>\n",
       "      <td>NaN</td>\n",
       "      <td>86553.000000</td>\n",
       "      <td>NaN</td>\n",
       "      <td>NaN</td>\n",
       "      <td>NaN</td>\n",
       "      <td>NaN</td>\n",
       "      <td>NaN</td>\n",
       "      <td>...</td>\n",
       "      <td>4.000000</td>\n",
       "      <td>17.000000</td>\n",
       "      <td>5.000000</td>\n",
       "      <td>NaN</td>\n",
       "      <td>275255.000000</td>\n",
       "      <td>9.798199e+06</td>\n",
       "      <td>NaN</td>\n",
       "      <td>4.950000</td>\n",
       "      <td>4.68000</td>\n",
       "      <td>NaN</td>\n",
       "    </tr>\n",
       "  </tbody>\n",
       "</table>\n",
       "<p>11 rows × 21 columns</p>\n",
       "</div>"
      ],
      "text/plain": [
       "       First Name Last Name Date of Birth                     Address  \\\n",
       "count        2000      2000          2000                        2000   \n",
       "unique        477       696          1701                        2000   \n",
       "top       Michael     Smith    1988-12-07  07080 Jodi Ports Suite 756   \n",
       "freq           42        45             4                           1   \n",
       "mean          NaN       NaN           NaN                         NaN   \n",
       "std           NaN       NaN           NaN                         NaN   \n",
       "min           NaN       NaN           NaN                         NaN   \n",
       "25%           NaN       NaN           NaN                         NaN   \n",
       "50%           NaN       NaN           NaN                         NaN   \n",
       "75%           NaN       NaN           NaN                         NaN   \n",
       "max           NaN       NaN           NaN                         NaN   \n",
       "\n",
       "             Zipcode  Gender Race / Ethnicity English Fluency Spanish Fluency  \\\n",
       "count    2000.000000    2000             2000            2000            2000   \n",
       "unique           NaN       2                3               3               3   \n",
       "top              NaN  Female            Black          Fluent           Basic   \n",
       "freq             NaN    1201             1000            1183            1795   \n",
       "mean    53300.740500     NaN              NaN             NaN             NaN   \n",
       "std     17455.384226     NaN              NaN             NaN             NaN   \n",
       "min     24310.000000     NaN              NaN             NaN             NaN   \n",
       "25%     43357.000000     NaN              NaN             NaN             NaN   \n",
       "50%     55864.000000     NaN              NaN             NaN             NaN   \n",
       "75%     60531.000000     NaN              NaN             NaN             NaN   \n",
       "max     86553.000000     NaN              NaN             NaN             NaN   \n",
       "\n",
       "          Education  ...  College GPA  Years of Experience  \\\n",
       "count          2000  ...  1645.000000          2000.000000   \n",
       "unique            5  ...          NaN                  NaN   \n",
       "top     High School  ...          NaN                  NaN   \n",
       "freq            881  ...          NaN                  NaN   \n",
       "mean            NaN  ...     3.251465             8.042550   \n",
       "std             NaN  ...     0.430466             4.674366   \n",
       "min             NaN  ...     2.500000             0.000000   \n",
       "25%             NaN  ...     2.870000             3.900000   \n",
       "50%             NaN  ...     3.270000             8.100000   \n",
       "75%             NaN  ...     3.610000            12.100000   \n",
       "max             NaN  ...     4.000000            17.000000   \n",
       "\n",
       "        Years of Volunteering  Myers Briggs Type Twitter followers  \\\n",
       "count             2000.000000               2000       2000.000000   \n",
       "unique                    NaN                 16               NaN   \n",
       "top                       NaN               ISFJ               NaN   \n",
       "freq                      NaN                218               NaN   \n",
       "mean                 0.263000                NaN       1065.144500   \n",
       "std                  0.907487                NaN       7499.266485   \n",
       "min                  0.000000                NaN        300.000000   \n",
       "25%                  0.000000                NaN        364.000000   \n",
       "50%                  0.000000                NaN        466.500000   \n",
       "75%                  0.000000                NaN        769.250000   \n",
       "max                  5.000000                NaN     275255.000000   \n",
       "\n",
       "        Instagram Followers  Requires Sponsorship  \\\n",
       "count          2.000000e+03                  2000   \n",
       "unique                  NaN                     2   \n",
       "top                     NaN                 False   \n",
       "freq                    NaN                  1813   \n",
       "mean           9.586589e+03                   NaN   \n",
       "std            2.269563e+05                   NaN   \n",
       "min            5.000000e+02                   NaN   \n",
       "25%            6.710000e+02                   NaN   \n",
       "50%            9.925000e+02                   NaN   \n",
       "75%            2.042000e+03                   NaN   \n",
       "max            9.798199e+06                   NaN   \n",
       "\n",
       "       Customer Satisfaction Rating  Sales Rating             Fired  \n",
       "count                   2000.000000    2000.00000              2000  \n",
       "unique                          NaN           NaN                 2  \n",
       "top                             NaN           NaN  Current Employee  \n",
       "freq                            NaN           NaN              1844  \n",
       "mean                       2.220175       2.06511               NaN  \n",
       "std                        1.058473       0.97946               NaN  \n",
       "min                        0.000000       0.00000               NaN  \n",
       "25%                        1.307500       1.25750               NaN  \n",
       "50%                        2.250000       2.06000               NaN  \n",
       "75%                        3.080000       2.86000               NaN  \n",
       "max                        4.950000       4.68000               NaN  \n",
       "\n",
       "[11 rows x 21 columns]"
      ]
     },
     "execution_count": 4,
     "metadata": {},
     "output_type": "execute_result"
    }
   ],
   "source": [
    "df.describe(include=\"all\")"
   ]
  },
  {
   "cell_type": "code",
   "execution_count": 5,
   "metadata": {
    "ExecuteTime": {
     "end_time": "2020-12-08T06:34:59.678378Z",
     "start_time": "2020-12-08T06:34:59.672373Z"
    },
    "colab": {
     "base_uri": "https://localhost:8080/"
    },
    "id": "53QCOLGNQriu",
    "outputId": "51876f7e-2a6a-4a1d-aabd-9577f0ca5139"
   },
   "outputs": [
    {
     "name": "stdout",
     "output_type": "stream",
     "text": [
      "The columns of data are:\n"
     ]
    },
    {
     "data": {
      "text/plain": [
       "['First Name',\n",
       " 'Last Name',\n",
       " 'Date of Birth',\n",
       " 'Address',\n",
       " 'Zipcode',\n",
       " 'Gender',\n",
       " 'Race / Ethnicity',\n",
       " 'English Fluency',\n",
       " 'Spanish Fluency',\n",
       " 'Education',\n",
       " 'High School GPA',\n",
       " 'College GPA',\n",
       " 'Years of Experience',\n",
       " 'Years of Volunteering',\n",
       " 'Myers Briggs Type',\n",
       " 'Twitter followers',\n",
       " 'Instagram Followers',\n",
       " 'Requires Sponsorship',\n",
       " 'Customer Satisfaction Rating',\n",
       " 'Sales Rating',\n",
       " 'Fired']"
      ]
     },
     "execution_count": 5,
     "metadata": {},
     "output_type": "execute_result"
    }
   ],
   "source": [
    "print(\"The columns of data are:\")\n",
    "list(df.columns)"
   ]
  },
  {
   "cell_type": "markdown",
   "metadata": {
    "deletable": false,
    "editable": false,
    "id": "bwpWFM4JSI1n",
    "nbgrader": {
     "cell_type": "markdown",
     "checksum": "de79ab46da1ec15d40873fd7c93e4a87",
     "grade": false,
     "grade_id": "cell-da9afb0de2933b89",
     "locked": true,
     "schema_version": 3,
     "solution": false,
     "task": false
    }
   },
   "source": [
    "Before building any models, your manager has asked you to **convert all the feature data into formats that can easily be used for training and testing a variety of models**. This means:\n",
    "1. Splitting the 16 Myers Briggs types into 4 subtypes\n",
    "2. Converting categorical features into dummy binary features\n",
    "3. Calculating age based on date of birth\n",
    "4. Dealing with missing (NaN) values in the data\n",
    "\n",
    "In addition, you should remove columns that contain redundant information after going through the process above, e.g., removing the 'Date of Birth' column after an 'Age' column is added.\n"
   ]
  },
  {
   "cell_type": "markdown",
   "metadata": {
    "deletable": false,
    "editable": false,
    "id": "yyxbe8W2Qri1",
    "nbgrader": {
     "cell_type": "markdown",
     "checksum": "b3b9adb69534d3423b135f54a29bcdf1",
     "grade": false,
     "grade_id": "cell-759ebf896978ca5d",
     "locked": true,
     "schema_version": 3,
     "solution": false
    }
   },
   "source": [
    "### MBTI Splitting\n",
    "\n",
    "The [Myers Briggs Type Indicator](https://en.wikipedia.org/wiki/Myers%E2%80%93Briggs_Type_Indicator) (MBTI) descibes people as one of two types for each of:\n",
    "\n",
    "* extraversion (E) or introversion (I)\n",
    "* sensing (S) or intuition (N)\n",
    "* thinking (T) or feeling (F)\n",
    "* judgment (J) or perception (P)\n",
    "\n",
    "It would make more sense for us to represent people as one or the other of these instead of creating all the possible cases. That way a model can learn based on each of those factors as well as their combination. \n",
    "\n",
    "Your next task is to split the MBTI column into four columns in the dataframe, with the following column names and values:\n",
    "\n",
    "* MBTI_EI with value `E` or `I`\n",
    "* MBTI_SN with value `S` or `N`\n",
    "* MBTI_TF with value `T` or `F`\n",
    "* MBTI_JP with value `J` or `P`\n",
    "\n",
    "that correspond to the same row's Myers Briggs Type, and add those columns to your DataFrame, ```df```. Consider using the Series ```apply()``` method.\n",
    "\n",
    "Afterwards, remove the original \"Myers Briggs Type\" column."
   ]
  },
  {
   "cell_type": "code",
   "execution_count": 6,
   "metadata": {
    "ExecuteTime": {
     "end_time": "2020-12-08T06:35:00.205831Z",
     "start_time": "2020-12-08T06:34:59.681380Z"
    },
    "deletable": false,
    "id": "IKa0UuiRQri2",
    "nbgrader": {
     "cell_type": "code",
     "checksum": "684f43b481383ae1fa1488100efe524b",
     "grade": false,
     "grade_id": "cell-b96d43f098c26707",
     "locked": false,
     "schema_version": 3,
     "solution": true
    }
   },
   "outputs": [
    {
     "data": {
      "text/html": [
       "<div>\n",
       "<style scoped>\n",
       "    .dataframe tbody tr th:only-of-type {\n",
       "        vertical-align: middle;\n",
       "    }\n",
       "\n",
       "    .dataframe tbody tr th {\n",
       "        vertical-align: top;\n",
       "    }\n",
       "\n",
       "    .dataframe thead th {\n",
       "        text-align: right;\n",
       "    }\n",
       "</style>\n",
       "<table border=\"1\" class=\"dataframe\">\n",
       "  <thead>\n",
       "    <tr style=\"text-align: right;\">\n",
       "      <th></th>\n",
       "      <th>First Name</th>\n",
       "      <th>Last Name</th>\n",
       "      <th>Date of Birth</th>\n",
       "      <th>Address</th>\n",
       "      <th>Zipcode</th>\n",
       "      <th>Gender</th>\n",
       "      <th>Race / Ethnicity</th>\n",
       "      <th>English Fluency</th>\n",
       "      <th>Spanish Fluency</th>\n",
       "      <th>Education</th>\n",
       "      <th>...</th>\n",
       "      <th>Twitter followers</th>\n",
       "      <th>Instagram Followers</th>\n",
       "      <th>Requires Sponsorship</th>\n",
       "      <th>Customer Satisfaction Rating</th>\n",
       "      <th>Sales Rating</th>\n",
       "      <th>Fired</th>\n",
       "      <th>MBTI_EI</th>\n",
       "      <th>MBTI_SN</th>\n",
       "      <th>MBTI_TF</th>\n",
       "      <th>MBTI_JP</th>\n",
       "    </tr>\n",
       "  </thead>\n",
       "  <tbody>\n",
       "    <tr>\n",
       "      <th>0</th>\n",
       "      <td>Sarah</td>\n",
       "      <td>Chang</td>\n",
       "      <td>1989-12-24</td>\n",
       "      <td>764 Howard Tunnel</td>\n",
       "      <td>30167</td>\n",
       "      <td>Female</td>\n",
       "      <td>Black</td>\n",
       "      <td>Fluent</td>\n",
       "      <td>Basic</td>\n",
       "      <td>High School</td>\n",
       "      <td>...</td>\n",
       "      <td>693</td>\n",
       "      <td>1108</td>\n",
       "      <td>False</td>\n",
       "      <td>2.21</td>\n",
       "      <td>2.07</td>\n",
       "      <td>Current Employee</td>\n",
       "      <td>I</td>\n",
       "      <td>S</td>\n",
       "      <td>T</td>\n",
       "      <td>J</td>\n",
       "    </tr>\n",
       "    <tr>\n",
       "      <th>1</th>\n",
       "      <td>Daniel</td>\n",
       "      <td>Taylor</td>\n",
       "      <td>1985-03-15</td>\n",
       "      <td>4892 Jessica Turnpike Suite 781</td>\n",
       "      <td>86553</td>\n",
       "      <td>Male</td>\n",
       "      <td>Black</td>\n",
       "      <td>Fluent</td>\n",
       "      <td>Basic</td>\n",
       "      <td>High School</td>\n",
       "      <td>...</td>\n",
       "      <td>507</td>\n",
       "      <td>1259</td>\n",
       "      <td>False</td>\n",
       "      <td>3.37</td>\n",
       "      <td>2.98</td>\n",
       "      <td>Current Employee</td>\n",
       "      <td>I</td>\n",
       "      <td>S</td>\n",
       "      <td>F</td>\n",
       "      <td>J</td>\n",
       "    </tr>\n",
       "    <tr>\n",
       "      <th>2</th>\n",
       "      <td>Heather</td>\n",
       "      <td>Stewart</td>\n",
       "      <td>1993-09-20</td>\n",
       "      <td>778 Linda Orchard Apt. 609</td>\n",
       "      <td>30167</td>\n",
       "      <td>Female</td>\n",
       "      <td>Black</td>\n",
       "      <td>Proficient</td>\n",
       "      <td>Basic</td>\n",
       "      <td>High School</td>\n",
       "      <td>...</td>\n",
       "      <td>599</td>\n",
       "      <td>868</td>\n",
       "      <td>False</td>\n",
       "      <td>1.50</td>\n",
       "      <td>1.36</td>\n",
       "      <td>Current Employee</td>\n",
       "      <td>I</td>\n",
       "      <td>N</td>\n",
       "      <td>F</td>\n",
       "      <td>P</td>\n",
       "    </tr>\n",
       "    <tr>\n",
       "      <th>3</th>\n",
       "      <td>Katherine</td>\n",
       "      <td>Dillon</td>\n",
       "      <td>1986-12-22</td>\n",
       "      <td>139 Linda Crossroad Suite 115</td>\n",
       "      <td>30167</td>\n",
       "      <td>Female</td>\n",
       "      <td>Black</td>\n",
       "      <td>Basic</td>\n",
       "      <td>Basic</td>\n",
       "      <td>High School</td>\n",
       "      <td>...</td>\n",
       "      <td>1321</td>\n",
       "      <td>889</td>\n",
       "      <td>True</td>\n",
       "      <td>2.89</td>\n",
       "      <td>2.62</td>\n",
       "      <td>Current Employee</td>\n",
       "      <td>I</td>\n",
       "      <td>S</td>\n",
       "      <td>F</td>\n",
       "      <td>P</td>\n",
       "    </tr>\n",
       "    <tr>\n",
       "      <th>4</th>\n",
       "      <td>Sheri</td>\n",
       "      <td>Bolton</td>\n",
       "      <td>1991-02-24</td>\n",
       "      <td>1858 Lauren Orchard</td>\n",
       "      <td>60531</td>\n",
       "      <td>Female</td>\n",
       "      <td>Black</td>\n",
       "      <td>Proficient</td>\n",
       "      <td>Proficient</td>\n",
       "      <td>High School</td>\n",
       "      <td>...</td>\n",
       "      <td>414</td>\n",
       "      <td>13760</td>\n",
       "      <td>True</td>\n",
       "      <td>1.94</td>\n",
       "      <td>1.78</td>\n",
       "      <td>Current Employee</td>\n",
       "      <td>I</td>\n",
       "      <td>S</td>\n",
       "      <td>F</td>\n",
       "      <td>J</td>\n",
       "    </tr>\n",
       "  </tbody>\n",
       "</table>\n",
       "<p>5 rows × 24 columns</p>\n",
       "</div>"
      ],
      "text/plain": [
       "  First Name Last Name Date of Birth                          Address  \\\n",
       "0      Sarah     Chang    1989-12-24                764 Howard Tunnel   \n",
       "1     Daniel    Taylor    1985-03-15  4892 Jessica Turnpike Suite 781   \n",
       "2    Heather   Stewart    1993-09-20       778 Linda Orchard Apt. 609   \n",
       "3  Katherine    Dillon    1986-12-22    139 Linda Crossroad Suite 115   \n",
       "4      Sheri    Bolton    1991-02-24              1858 Lauren Orchard   \n",
       "\n",
       "   Zipcode  Gender Race / Ethnicity English Fluency Spanish Fluency  \\\n",
       "0    30167  Female            Black          Fluent           Basic   \n",
       "1    86553    Male            Black          Fluent           Basic   \n",
       "2    30167  Female            Black      Proficient           Basic   \n",
       "3    30167  Female            Black           Basic           Basic   \n",
       "4    60531  Female            Black      Proficient      Proficient   \n",
       "\n",
       "     Education  ...  Twitter followers  Instagram Followers  \\\n",
       "0  High School  ...                693                 1108   \n",
       "1  High School  ...                507                 1259   \n",
       "2  High School  ...                599                  868   \n",
       "3  High School  ...               1321                  889   \n",
       "4  High School  ...                414                13760   \n",
       "\n",
       "   Requires Sponsorship  Customer Satisfaction Rating  Sales Rating  \\\n",
       "0                 False                          2.21          2.07   \n",
       "1                 False                          3.37          2.98   \n",
       "2                 False                          1.50          1.36   \n",
       "3                  True                          2.89          2.62   \n",
       "4                  True                          1.94          1.78   \n",
       "\n",
       "              Fired  MBTI_EI  MBTI_SN  MBTI_TF MBTI_JP  \n",
       "0  Current Employee        I        S        T       J  \n",
       "1  Current Employee        I        S        F       J  \n",
       "2  Current Employee        I        N        F       P  \n",
       "3  Current Employee        I        S        F       P  \n",
       "4  Current Employee        I        S        F       J  \n",
       "\n",
       "[5 rows x 24 columns]"
      ]
     },
     "execution_count": 6,
     "metadata": {},
     "output_type": "execute_result"
    }
   ],
   "source": [
    "def convertMBT(df):\n",
    "    for index, row in df.iterrows():\n",
    "        if row['Myers Briggs Type'][0] == 'E':\n",
    "            df.at[index,'MBTI_EI'] = 'E'\n",
    "        else: df.at[index,'MBTI_EI'] = 'I'\n",
    "        if row['Myers Briggs Type'][1] == 'S':\n",
    "            df.at[index,'MBTI_SN'] = 'S'\n",
    "        else: df.at[index,'MBTI_SN'] = 'N'\n",
    "        if row['Myers Briggs Type'][2] == 'T':\n",
    "            df.at[index,'MBTI_TF'] = 'T'\n",
    "        else: df.at[index,'MBTI_TF'] = 'F'\n",
    "        if row['Myers Briggs Type'][3] == 'J':\n",
    "            df.at[index,'MBTI_JP'] = 'J'\n",
    "        else: df.at[index,'MBTI_JP'] = 'P'\n",
    "    df = df.drop('Myers Briggs Type', axis=1)\n",
    "    return df\n",
    "    \n",
    "df = convertMBT(df)\n",
    "df.head()"
   ]
  },
  {
   "cell_type": "code",
   "execution_count": 7,
   "metadata": {
    "ExecuteTime": {
     "end_time": "2020-12-08T06:35:00.217841Z",
     "start_time": "2020-12-08T06:35:00.208334Z"
    },
    "deletable": false,
    "editable": false,
    "id": "5UPBPY9BQri8",
    "nbgrader": {
     "cell_type": "code",
     "checksum": "83708aa6f0dbf9654405634f29adb452",
     "grade": true,
     "grade_id": "cell-1b5cf11c2512def1",
     "locked": true,
     "points": 10,
     "schema_version": 3,
     "solution": false
    }
   },
   "outputs": [],
   "source": [
    "assert len(set(df[\"MBTI_EI\"])) == 2\n",
    "assert \"E\" in set(df[\"MBTI_EI\"]) and \"I\" in set(df[\"MBTI_EI\"])\n",
    "assert len(set(df[\"MBTI_SN\"])) == 2\n",
    "assert \"S\" in set(df[\"MBTI_SN\"]) and \"N\" in set(df[\"MBTI_SN\"])\n",
    "assert len(set(df[\"MBTI_TF\"])) == 2\n",
    "assert \"T\" in set(df[\"MBTI_TF\"]) and \"F\" in set(df[\"MBTI_TF\"])\n",
    "assert len(set(df[\"MBTI_JP\"])) == 2\n",
    "assert \"J\" in set(df[\"MBTI_JP\"]) and \"P\" in set(df[\"MBTI_JP\"])\n",
    "assert \"Myers Briggs Type\" not in list(df.columns)"
   ]
  },
  {
   "cell_type": "markdown",
   "metadata": {
    "deletable": false,
    "editable": false,
    "id": "Rp7NQOOZQrjA",
    "nbgrader": {
     "cell_type": "markdown",
     "checksum": "d0d66ae39d5eba1acfed519336f95590",
     "grade": false,
     "grade_id": "cell-51a7104ebad2aa72",
     "locked": true,
     "schema_version": 3,
     "solution": false
    }
   },
   "source": [
    "1. ~~Splitting the 16 Myers Briggs types into 4 subtypes~~\n",
    "2. Converting categorical features into dummy binary features\n",
    "3. Calculating age based on date of birth\n",
    "4. Dealing with missing (NaN) values in the data"
   ]
  },
  {
   "cell_type": "markdown",
   "metadata": {
    "deletable": false,
    "editable": false,
    "id": "Ee-4-8VnQrjB",
    "nbgrader": {
     "cell_type": "markdown",
     "checksum": "734ba5de9e3a5df14b8d47fb71753aac",
     "grade": false,
     "grade_id": "cell-364e01542d424264",
     "locked": true,
     "schema_version": 3,
     "solution": false
    }
   },
   "source": [
    "### Categorical to Dummy Variables\n",
    "\n",
    "Dummy variables are variables that allow us to convert a category into several binary variables. For example, if we had a color value that we were storing and we knew it could only have the values `red`, `green`, and `blue`, then instead of storing the color as those strings, we can store three binary variables: `is_red`, `is_green`, and `is_blue`. \n",
    "\n",
    "We can do this in pandas easily by using [`get_dummies`](https://pandas.pydata.org/pandas-docs/stable/generated/pandas.get_dummies.html)."
   ]
  },
  {
   "cell_type": "code",
   "execution_count": 8,
   "metadata": {
    "ExecuteTime": {
     "end_time": "2020-12-08T06:35:00.322931Z",
     "start_time": "2020-12-08T06:35:00.219843Z"
    },
    "deletable": false,
    "id": "NC0DysIpQrjB",
    "nbgrader": {
     "cell_type": "code",
     "checksum": "cddfa9be9a40dbf707ed928596ebb89a",
     "grade": false,
     "grade_id": "cell-32271c292a515ef3",
     "locked": false,
     "schema_version": 3,
     "solution": true
    }
   },
   "outputs": [],
   "source": [
    "# Review the DataFrame columns and identify the columns that contain categorical\n",
    "# features and save them to a list called \"categorical_columns\".\n",
    "\n",
    "# Categorical here means that there is a discrete (albeit large in some cases)\n",
    "# number of possible options for the column that are not just 0 or 1\n",
    "\n",
    "categorical_columns = ['Gender', 'Zipcode', 'Race / Ethnicity', 'English Fluency',\n",
    "                       'Spanish Fluency', 'Education', 'MBTI_EI', 'MBTI_SN', 'MBTI_TF', 'MBTI_JP', 'Fired']\n",
    "\n",
    "\n"
   ]
  },
  {
   "cell_type": "code",
   "execution_count": 9,
   "metadata": {
    "ExecuteTime": {
     "end_time": "2020-12-08T06:35:00.404502Z",
     "start_time": "2020-12-08T06:35:00.324433Z"
    },
    "deletable": false,
    "editable": false,
    "id": "jdNtmrl6QrjH",
    "nbgrader": {
     "cell_type": "code",
     "checksum": "18a0f09a797269b018ae2cf0f3e85960",
     "grade": true,
     "grade_id": "cell-528eea88864f2926",
     "locked": true,
     "points": 10,
     "schema_version": 3,
     "solution": false
    }
   },
   "outputs": [],
   "source": [
    "assert len(categorical_columns) > 8\n",
    "for category in categorical_columns:\n",
    "    assert category in df.columns"
   ]
  },
  {
   "cell_type": "code",
   "execution_count": 10,
   "metadata": {
    "ExecuteTime": {
     "end_time": "2020-12-08T06:35:00.508593Z",
     "start_time": "2020-12-08T06:35:00.406503Z"
    },
    "deletable": false,
    "editable": false,
    "id": "u-LVPXKCE5rH",
    "nbgrader": {
     "cell_type": "code",
     "checksum": "d7053f39a8b8da236f4d5dc09f8fb1ac",
     "grade": false,
     "grade_id": "cell-526438097a7b2b8d",
     "locked": true,
     "schema_version": 3,
     "solution": false,
     "task": false
    }
   },
   "outputs": [],
   "source": [
    "# Before we get the dummy variables, we need to make sure that all these \n",
    "# categorical columns are actually recognized by pandas to be of 'category' type.\n",
    "for column in categorical_columns:\n",
    "    df[column] = df[column].astype('category')"
   ]
  },
  {
   "cell_type": "code",
   "execution_count": 11,
   "metadata": {
    "ExecuteTime": {
     "end_time": "2020-12-08T06:35:00.593664Z",
     "start_time": "2020-12-08T06:35:00.510094Z"
    },
    "deletable": false,
    "id": "9nXNaoYeQrjL",
    "nbgrader": {
     "cell_type": "code",
     "checksum": "3990d21bd359541639089bd76c03c56b",
     "grade": false,
     "grade_id": "cell-ad307669e4346527",
     "locked": false,
     "schema_version": 3,
     "solution": true
    }
   },
   "outputs": [],
   "source": [
    "# For every column in the categorical_columns,\n",
    "# calculate the dummy variables and add them to the dataframe\n",
    "\n",
    "dummies = pd.get_dummies(df[categorical_columns], drop_first=False)\n",
    "df = pd.concat([df, dummies],axis=1)"
   ]
  },
  {
   "cell_type": "code",
   "execution_count": 12,
   "metadata": {
    "ExecuteTime": {
     "end_time": "2020-12-08T06:35:00.672232Z",
     "start_time": "2020-12-08T06:35:00.595166Z"
    },
    "deletable": false,
    "editable": false,
    "id": "Wjry6pPNQrjQ",
    "nbgrader": {
     "cell_type": "code",
     "checksum": "20a089162c8e028bada006b2ac24c34c",
     "grade": false,
     "grade_id": "cell-d477e9bead9db0a6",
     "locked": true,
     "schema_version": 3,
     "solution": false
    }
   },
   "outputs": [],
   "source": [
    "assert len(list(df.columns)) > 45"
   ]
  },
  {
   "cell_type": "code",
   "execution_count": 13,
   "metadata": {
    "ExecuteTime": {
     "end_time": "2020-12-08T06:35:00.754305Z",
     "start_time": "2020-12-08T06:35:00.674234Z"
    },
    "colab": {
     "base_uri": "https://localhost:8080/"
    },
    "deletable": false,
    "editable": false,
    "id": "LYs2UHNUQrjU",
    "nbgrader": {
     "cell_type": "code",
     "checksum": "f24fb58ec9e0feb12116a391b973879f",
     "grade": false,
     "grade_id": "cell-4b43f9bb988091cf",
     "locked": true,
     "schema_version": 3,
     "solution": false
    },
    "outputId": "7018e2d8-a948-4c81-e630-6b75c926a71b"
   },
   "outputs": [
    {
     "name": "stdout",
     "output_type": "stream",
     "text": [
      "The current columns are:\n"
     ]
    },
    {
     "data": {
      "text/plain": [
       "['First Name',\n",
       " 'Last Name',\n",
       " 'Date of Birth',\n",
       " 'Address',\n",
       " 'Zipcode',\n",
       " 'Gender',\n",
       " 'Race / Ethnicity',\n",
       " 'English Fluency',\n",
       " 'Spanish Fluency',\n",
       " 'Education',\n",
       " 'High School GPA',\n",
       " 'College GPA',\n",
       " 'Years of Experience',\n",
       " 'Years of Volunteering',\n",
       " 'Twitter followers',\n",
       " 'Instagram Followers',\n",
       " 'Requires Sponsorship',\n",
       " 'Customer Satisfaction Rating',\n",
       " 'Sales Rating',\n",
       " 'Fired',\n",
       " 'MBTI_EI',\n",
       " 'MBTI_SN',\n",
       " 'MBTI_TF',\n",
       " 'MBTI_JP',\n",
       " 'Gender_Female',\n",
       " 'Gender_Male',\n",
       " 'Zipcode_24310',\n",
       " 'Zipcode_30167',\n",
       " 'Zipcode_43357',\n",
       " 'Zipcode_43711',\n",
       " 'Zipcode_54821',\n",
       " 'Zipcode_55864',\n",
       " 'Zipcode_59010',\n",
       " 'Zipcode_60531',\n",
       " 'Zipcode_72361',\n",
       " 'Zipcode_86553',\n",
       " 'Race / Ethnicity_Black',\n",
       " 'Race / Ethnicity_Caucasian',\n",
       " 'Race / Ethnicity_Hispanic',\n",
       " 'English Fluency_Basic',\n",
       " 'English Fluency_Fluent',\n",
       " 'English Fluency_Proficient',\n",
       " 'Spanish Fluency_Basic',\n",
       " 'Spanish Fluency_Fluent',\n",
       " 'Spanish Fluency_Proficient',\n",
       " 'Education_Associates',\n",
       " 'Education_Graduate',\n",
       " 'Education_High School',\n",
       " 'Education_None',\n",
       " 'Education_Undergraduate',\n",
       " 'MBTI_EI_E',\n",
       " 'MBTI_EI_I',\n",
       " 'MBTI_SN_N',\n",
       " 'MBTI_SN_S',\n",
       " 'MBTI_TF_F',\n",
       " 'MBTI_TF_T',\n",
       " 'MBTI_JP_J',\n",
       " 'MBTI_JP_P',\n",
       " 'Fired_Current Employee',\n",
       " 'Fired_Fired']"
      ]
     },
     "execution_count": 13,
     "metadata": {},
     "output_type": "execute_result"
    }
   ],
   "source": [
    "print(\"The current columns are:\")\n",
    "list(df.columns)"
   ]
  },
  {
   "cell_type": "code",
   "execution_count": 14,
   "metadata": {
    "ExecuteTime": {
     "end_time": "2020-12-08T06:35:00.840880Z",
     "start_time": "2020-12-08T06:35:00.755805Z"
    },
    "deletable": false,
    "id": "2DeBsotIQrja",
    "nbgrader": {
     "cell_type": "code",
     "checksum": "b39d0aaf64d919228cd0b7cd681199ba",
     "grade": false,
     "grade_id": "cell-10890eae4243cb8d",
     "locked": false,
     "schema_version": 3,
     "solution": true
    }
   },
   "outputs": [],
   "source": [
    "# Now drop all the categorical features columns from the dataframe\n",
    "# So that we don't have duplicate information stored\n",
    "\n",
    "df = df.drop(categorical_columns, axis=1)"
   ]
  },
  {
   "cell_type": "code",
   "execution_count": 15,
   "metadata": {
    "ExecuteTime": {
     "end_time": "2020-12-08T06:35:00.915441Z",
     "start_time": "2020-12-08T06:35:00.841880Z"
    },
    "colab": {
     "base_uri": "https://localhost:8080/"
    },
    "deletable": false,
    "editable": false,
    "id": "EbjQdgc2Qrje",
    "nbgrader": {
     "cell_type": "code",
     "checksum": "10113a2235b4d47c0b3e356e72bbacfa",
     "grade": false,
     "grade_id": "cell-c0598d253d832ddd",
     "locked": true,
     "schema_version": 3,
     "solution": false
    },
    "outputId": "1f6964e7-7ce7-4e67-cb53-88a0d7edb123"
   },
   "outputs": [
    {
     "name": "stdout",
     "output_type": "stream",
     "text": [
      "The current columns are:\n"
     ]
    },
    {
     "data": {
      "text/plain": [
       "['First Name',\n",
       " 'Last Name',\n",
       " 'Date of Birth',\n",
       " 'Address',\n",
       " 'High School GPA',\n",
       " 'College GPA',\n",
       " 'Years of Experience',\n",
       " 'Years of Volunteering',\n",
       " 'Twitter followers',\n",
       " 'Instagram Followers',\n",
       " 'Requires Sponsorship',\n",
       " 'Customer Satisfaction Rating',\n",
       " 'Sales Rating',\n",
       " 'Gender_Female',\n",
       " 'Gender_Male',\n",
       " 'Zipcode_24310',\n",
       " 'Zipcode_30167',\n",
       " 'Zipcode_43357',\n",
       " 'Zipcode_43711',\n",
       " 'Zipcode_54821',\n",
       " 'Zipcode_55864',\n",
       " 'Zipcode_59010',\n",
       " 'Zipcode_60531',\n",
       " 'Zipcode_72361',\n",
       " 'Zipcode_86553',\n",
       " 'Race / Ethnicity_Black',\n",
       " 'Race / Ethnicity_Caucasian',\n",
       " 'Race / Ethnicity_Hispanic',\n",
       " 'English Fluency_Basic',\n",
       " 'English Fluency_Fluent',\n",
       " 'English Fluency_Proficient',\n",
       " 'Spanish Fluency_Basic',\n",
       " 'Spanish Fluency_Fluent',\n",
       " 'Spanish Fluency_Proficient',\n",
       " 'Education_Associates',\n",
       " 'Education_Graduate',\n",
       " 'Education_High School',\n",
       " 'Education_None',\n",
       " 'Education_Undergraduate',\n",
       " 'MBTI_EI_E',\n",
       " 'MBTI_EI_I',\n",
       " 'MBTI_SN_N',\n",
       " 'MBTI_SN_S',\n",
       " 'MBTI_TF_F',\n",
       " 'MBTI_TF_T',\n",
       " 'MBTI_JP_J',\n",
       " 'MBTI_JP_P',\n",
       " 'Fired_Current Employee',\n",
       " 'Fired_Fired']"
      ]
     },
     "execution_count": 15,
     "metadata": {},
     "output_type": "execute_result"
    }
   ],
   "source": [
    "print(\"The current columns are:\")\n",
    "list(df.columns)"
   ]
  },
  {
   "cell_type": "code",
   "execution_count": 16,
   "metadata": {
    "ExecuteTime": {
     "end_time": "2020-12-08T06:35:00.989004Z",
     "start_time": "2020-12-08T06:35:00.916943Z"
    },
    "deletable": false,
    "editable": false,
    "id": "m44-1XHyQrjj",
    "nbgrader": {
     "cell_type": "code",
     "checksum": "87ada951dfc2201e957993b2aa5dbe95",
     "grade": true,
     "grade_id": "cell-a6172310793c3289",
     "locked": true,
     "points": 10,
     "schema_version": 3,
     "solution": false
    }
   },
   "outputs": [],
   "source": [
    "assert 55 > len(list(df.columns)) > 30"
   ]
  },
  {
   "cell_type": "markdown",
   "metadata": {
    "deletable": false,
    "editable": false,
    "id": "COI29UDEQrjn",
    "nbgrader": {
     "cell_type": "markdown",
     "checksum": "77c1e8cf92655b525a94d6cb6a39c945",
     "grade": false,
     "grade_id": "cell-48ebecdc645e8f6a",
     "locked": true,
     "schema_version": 3,
     "solution": false
    }
   },
   "source": [
    "1. ~~Splitting the 16 Myers Briggs types into 4 subtypes~~\n",
    "2. ~~Converting categorical features into dummy binary features~~\n",
    "3. Calculating age based on date of birth\n",
    "4. Dealing with missing (NaN) values in the data\n",
    "\n",
    "### Age Calculation"
   ]
  },
  {
   "cell_type": "code",
   "execution_count": 17,
   "metadata": {
    "ExecuteTime": {
     "end_time": "2020-12-08T06:35:01.063067Z",
     "start_time": "2020-12-08T06:35:00.990507Z"
    },
    "deletable": false,
    "editable": false,
    "id": "47ydwvFeQrjo",
    "nbgrader": {
     "cell_type": "code",
     "checksum": "9db3dce385fe824574de1023425fb7ac",
     "grade": false,
     "grade_id": "cell-028aecaf0638bb7a",
     "locked": true,
     "schema_version": 3,
     "solution": false
    }
   },
   "outputs": [],
   "source": [
    "def calculate_age(born):\n",
    "    \"\"\"Calculates age based on date of birth using https://stackoverflow.com/a/9754466/818687\n",
    "\n",
    "    Args:\n",
    "        born (datetime): The date of birth\n",
    "\n",
    "    Returns:\n",
    "        int: The age based on date of birth\n",
    "    \"\"\"\n",
    "    today = datetime.datetime.strptime(\"2020-11-20\", \"%Y-%m-%d\")\n",
    "    return today.year - born.year - ((today.month, today.day) < (born.month, born.day))"
   ]
  },
  {
   "cell_type": "markdown",
   "metadata": {
    "id": "SLuFWRZaQrjs"
   },
   "source": [
    "Add an \"Age\" column to the dataframe, with the help of the ```calculate_age()``` function above. Afterwards, remove the \"Date of Birth\" column.\n",
    "\n",
    "The input to ```calculate_age()``` should be a datetime object. Review the ```datetime.datetme.strptime()```\n",
    "function and [format codes](https://docs.python.org/3/library/datetime.html#strftime-strptime-behavior) to determine how to convert the \"Date of Birth\" date string into a datetime object."
   ]
  },
  {
   "cell_type": "code",
   "execution_count": 18,
   "metadata": {
    "ExecuteTime": {
     "end_time": "2020-12-08T06:35:01.477424Z",
     "start_time": "2020-12-08T06:35:01.065070Z"
    },
    "deletable": false,
    "id": "QI7eW-FoQrjs",
    "nbgrader": {
     "cell_type": "code",
     "checksum": "f8aa6b8b6f87c947c924722d60becd56",
     "grade": false,
     "grade_id": "cell-315ed06d1f0428b4",
     "locked": false,
     "schema_version": 3,
     "solution": true
    }
   },
   "outputs": [],
   "source": [
    "for index, row in df.iterrows():\n",
    "    dob = row['Date of Birth'].split(\"-\")\n",
    "    dob = date(int(dob[0]), int(dob[1]), int(dob[2]))\n",
    "    df.at[index,'Age'] = calculate_age(dob)\n",
    "    \n",
    "df = df.drop([\"Date of Birth\"], axis=1)\n"
   ]
  },
  {
   "cell_type": "code",
   "execution_count": 19,
   "metadata": {
    "ExecuteTime": {
     "end_time": "2020-12-08T06:35:01.482931Z",
     "start_time": "2020-12-08T06:35:01.478425Z"
    },
    "deletable": false,
    "editable": false,
    "id": "2xcfEfy9Qrjv",
    "nbgrader": {
     "cell_type": "code",
     "checksum": "e7d1e0d2860b91e6231983b6db51a00a",
     "grade": true,
     "grade_id": "cell-abfc46abea98fba7",
     "locked": true,
     "points": 20,
     "schema_version": 3,
     "solution": false
    }
   },
   "outputs": [],
   "source": [
    "assert df[\"Age\"].min() == 22\n",
    "assert df[\"Age\"].max() == 38\n",
    "assert df[\"Age\"].median() == 30\n",
    "assert \"Date of Birth\" not in list(df.columns)"
   ]
  },
  {
   "cell_type": "markdown",
   "metadata": {
    "id": "bfVJHz_0C8X6"
   },
   "source": [
    "1. ~~Splitting the 16 Myers Briggs types into 4 subtypes~~\n",
    "2. ~~Converting categorical features into dummy binary features~~\n",
    "3. ~~Calculating age based on date of birth~~\n",
    "4. Dealing with missing (NaN) values in the data\n",
    "\n",
    "## Handle NaN values"
   ]
  },
  {
   "cell_type": "code",
   "execution_count": 20,
   "metadata": {
    "ExecuteTime": {
     "end_time": "2020-12-08T06:35:01.572507Z",
     "start_time": "2020-12-08T06:35:01.484431Z"
    },
    "colab": {
     "base_uri": "https://localhost:8080/"
    },
    "id": "DPtjdTXjDVOr",
    "outputId": "2e77de7b-76c3-493b-f6c5-b87c52ae253a"
   },
   "outputs": [
    {
     "name": "stdout",
     "output_type": "stream",
     "text": [
      "['High School GPA', 'College GPA']\n"
     ]
    }
   ],
   "source": [
    "# Create a list of columns that contain NaN values\n",
    "\n",
    "nan_columns = df.columns[df.isna().any()].tolist()\n",
    "print(nan_columns)"
   ]
  },
  {
   "cell_type": "markdown",
   "metadata": {
    "id": "A7-lkXhdDmkO"
   },
   "source": [
    "We see that data is not truly \"missing\" any values, but for people that did not attend or complete high school or college, there are no GPA values.\n",
    "\n",
    "How should you deal with this? If you had a large number of people without GPAs, you might consider making separate models for people with GPAs and for people without. For this case, your manager asks you to make sure there's one model for everyone. She recommends one of the following options:\n",
    "\n",
    "1. Replace NaN values with the mean value of all the non-NaN values.\n",
    "1. Replace NaN values with 0\n",
    "1. Replace NaN values with some other value\n",
    "1. Create a model to predict people's GPA values from other attributes and fill them in with those values\n",
    "\n",
    "Consider the assumptions of each approach:\n",
    "1. Replacing with the mean assumes that that person would receive the average of others who work at this company.\n",
    "1. Replacing with 0 assumes that that person would fail if they attended high school or college.\n",
    "1. Replacing with some arbitrary value will have assumptions based on what that value is\n",
    "1. Creating a model to predict people's GPA values from the other attributes in the data assumes that those attributes are predictive of GPA. \n",
    "\n",
    "\n",
    "Regardless of the approach you take, just make sure there are no more NaN values. "
   ]
  },
  {
   "cell_type": "code",
   "execution_count": 21,
   "metadata": {
    "ExecuteTime": {
     "end_time": "2020-12-08T06:35:01.681600Z",
     "start_time": "2020-12-08T06:35:01.577513Z"
    },
    "deletable": false,
    "id": "ZKJLKs2xE06h",
    "nbgrader": {
     "cell_type": "code",
     "checksum": "fd73b92aa5b1a069c528dabd348caa29",
     "grade": false,
     "grade_id": "cell-5b544815d1fa2e03",
     "locked": false,
     "schema_version": 3,
     "solution": true,
     "task": false
    }
   },
   "outputs": [],
   "source": [
    "# For each of the two columns that contain NaN values, replace the NaN values\n",
    "# with numerical values, using one of the approaches above, or some other approach\n",
    "# that you devise yourself.\n",
    "\n",
    "df.fillna(df.mean(), inplace=True)\n",
    "for col in nan_columns:\n",
    "    assert not df[col].isna().any()"
   ]
  },
  {
   "cell_type": "code",
   "execution_count": 22,
   "metadata": {
    "ExecuteTime": {
     "end_time": "2020-12-08T06:35:01.889781Z",
     "start_time": "2020-12-08T06:35:01.684102Z"
    },
    "deletable": false,
    "editable": false,
    "id": "bAi-bCIZFOp9",
    "nbgrader": {
     "cell_type": "code",
     "checksum": "f1d84c450a3e75b27f90091cead27b2e",
     "grade": true,
     "grade_id": "cell-06ba496085783976",
     "locked": true,
     "points": 10,
     "schema_version": 3,
     "solution": false,
     "task": false
    }
   },
   "outputs": [],
   "source": [
    "for col in nan_columns:\n",
    "    assert not df[col].isna().any()"
   ]
  },
  {
   "cell_type": "code",
   "execution_count": 23,
   "metadata": {
    "ExecuteTime": {
     "end_time": "2020-12-08T06:35:02.029399Z",
     "start_time": "2020-12-08T06:35:01.891282Z"
    },
    "deletable": false,
    "nbgrader": {
     "cell_type": "code",
     "checksum": "3c12534743cf01369960c45d247fc24c",
     "grade": false,
     "grade_id": "cell-7bebafd4a8e5d502",
     "locked": false,
     "schema_version": 3,
     "solution": true,
     "task": false
    }
   },
   "outputs": [
    {
     "name": "stdout",
     "output_type": "stream",
     "text": [
      "I filled all the nan_columns with the average value in the column\n"
     ]
    }
   ],
   "source": [
    "# Describe the approach you chose and why and save that as a string called nan_filling_approach\n",
    "nan_filling_approach = f'''I filled all the nan_columns with the average value in the column'''\n",
    "print(nan_filling_approach)"
   ]
  },
  {
   "cell_type": "code",
   "execution_count": 24,
   "metadata": {
    "ExecuteTime": {
     "end_time": "2020-12-08T06:35:02.184532Z",
     "start_time": "2020-12-08T06:35:02.030900Z"
    },
    "deletable": false,
    "editable": false,
    "nbgrader": {
     "cell_type": "code",
     "checksum": "9fcb6626f13ef89933cdbaffac6171c8",
     "grade": true,
     "grade_id": "cell-e58a09c92fb5074b",
     "locked": true,
     "points": 10,
     "schema_version": 3,
     "solution": false,
     "task": false
    }
   },
   "outputs": [],
   "source": [
    "assert len(nan_filling_approach) > 30"
   ]
  },
  {
   "cell_type": "markdown",
   "metadata": {
    "id": "k_52XMEQHMfA"
   },
   "source": [
    "## Modeling"
   ]
  },
  {
   "cell_type": "markdown",
   "metadata": {
    "deletable": false,
    "editable": false,
    "id": "5Ehsr1FaQrjz",
    "nbgrader": {
     "cell_type": "markdown",
     "checksum": "5ae89aed737a6106f40120d8fce81e5a",
     "grade": false,
     "grade_id": "cell-ea0c08afcc388389",
     "locked": true,
     "schema_version": 3,
     "solution": false
    }
   },
   "source": [
    "### Interviewing model(s)\n",
    "\n",
    "Having completed the conversion of the data into a format that can be used with machine learning models, your manager asks that you build three seperate models which predict the following three targets, respectively:\n",
    "\n",
    "1. Customer Satisfaction\n",
    "1. Sales Performance\n",
    "1. Fired"
   ]
  },
  {
   "cell_type": "code",
   "execution_count": 25,
   "metadata": {
    "ExecuteTime": {
     "end_time": "2020-12-08T06:35:02.272608Z",
     "start_time": "2020-12-08T06:35:02.187034Z"
    },
    "deletable": false,
    "id": "KC0mGpc2Qrj0",
    "nbgrader": {
     "cell_type": "code",
     "checksum": "3b89b7a9a0df68690eb42725ccbcc45d",
     "grade": false,
     "grade_id": "cell-449eb7f2253cca83",
     "locked": false,
     "schema_version": 3,
     "solution": true
    }
   },
   "outputs": [],
   "source": [
    "# Save the names of columns we are trying to predict to a list called \"targets\".\n",
    "# Make sure that if we had a categorical column, that you use the dummy representation(s)\n",
    "targets = ['Customer Satisfaction Rating',\n",
    "           'Sales Rating',\n",
    "           'Fired_Fired']"
   ]
  },
  {
   "cell_type": "code",
   "execution_count": 26,
   "metadata": {
    "ExecuteTime": {
     "end_time": "2020-12-08T06:35:02.396215Z",
     "start_time": "2020-12-08T06:35:02.274110Z"
    },
    "deletable": false,
    "editable": false,
    "id": "TDOU2C7ZQrj4",
    "nbgrader": {
     "cell_type": "code",
     "checksum": "d5081927389e999a34fec741f4e5b416",
     "grade": true,
     "grade_id": "cell-458aa3767005cc6d",
     "locked": true,
     "points": 20,
     "schema_version": 3,
     "solution": false
    }
   },
   "outputs": [],
   "source": [
    "assert len(targets) == 3\n",
    "for target in targets:\n",
    "    assert target in df.columns"
   ]
  },
  {
   "cell_type": "markdown",
   "metadata": {
    "deletable": false,
    "editable": false,
    "id": "sQ3mnuWzQrj7",
    "nbgrader": {
     "cell_type": "markdown",
     "checksum": "3483b9f94845eb927745bac31e7fd468",
     "grade": false,
     "grade_id": "cell-001c7adb39caf635",
     "locked": true,
     "schema_version": 3,
     "solution": false
    }
   },
   "source": [
    "Ultimately, the predictions of your models will be used to rank applicants for interviews with HR.\n",
    "\n",
    "**Which features will you select to use in your model?** You will specify them below."
   ]
  },
  {
   "cell_type": "code",
   "execution_count": 27,
   "metadata": {
    "ExecuteTime": {
     "end_time": "2020-12-08T06:35:02.483790Z",
     "start_time": "2020-12-08T06:35:02.398216Z"
    },
    "deletable": false,
    "editable": false,
    "id": "bJ1bAdziQrj8",
    "nbgrader": {
     "cell_type": "code",
     "checksum": "2ca1e6e7f83ad4da5a3185188c638880",
     "grade": false,
     "grade_id": "cell-e436c6aea590b5c0",
     "locked": true,
     "schema_version": 3,
     "solution": false
    }
   },
   "outputs": [
    {
     "name": "stdout",
     "output_type": "stream",
     "text": [
      "The available columns are:\n"
     ]
    },
    {
     "data": {
      "text/plain": [
       "['First Name',\n",
       " 'Last Name',\n",
       " 'Address',\n",
       " 'High School GPA',\n",
       " 'College GPA',\n",
       " 'Years of Experience',\n",
       " 'Years of Volunteering',\n",
       " 'Twitter followers',\n",
       " 'Instagram Followers',\n",
       " 'Requires Sponsorship',\n",
       " 'Customer Satisfaction Rating',\n",
       " 'Sales Rating',\n",
       " 'Gender_Female',\n",
       " 'Gender_Male',\n",
       " 'Zipcode_24310',\n",
       " 'Zipcode_30167',\n",
       " 'Zipcode_43357',\n",
       " 'Zipcode_43711',\n",
       " 'Zipcode_54821',\n",
       " 'Zipcode_55864',\n",
       " 'Zipcode_59010',\n",
       " 'Zipcode_60531',\n",
       " 'Zipcode_72361',\n",
       " 'Zipcode_86553',\n",
       " 'Race / Ethnicity_Black',\n",
       " 'Race / Ethnicity_Caucasian',\n",
       " 'Race / Ethnicity_Hispanic',\n",
       " 'English Fluency_Basic',\n",
       " 'English Fluency_Fluent',\n",
       " 'English Fluency_Proficient',\n",
       " 'Spanish Fluency_Basic',\n",
       " 'Spanish Fluency_Fluent',\n",
       " 'Spanish Fluency_Proficient',\n",
       " 'Education_Associates',\n",
       " 'Education_Graduate',\n",
       " 'Education_High School',\n",
       " 'Education_None',\n",
       " 'Education_Undergraduate',\n",
       " 'MBTI_EI_E',\n",
       " 'MBTI_EI_I',\n",
       " 'MBTI_SN_N',\n",
       " 'MBTI_SN_S',\n",
       " 'MBTI_TF_F',\n",
       " 'MBTI_TF_T',\n",
       " 'MBTI_JP_J',\n",
       " 'MBTI_JP_P',\n",
       " 'Fired_Current Employee',\n",
       " 'Fired_Fired',\n",
       " 'Age']"
      ]
     },
     "execution_count": 27,
     "metadata": {},
     "output_type": "execute_result"
    }
   ],
   "source": [
    "print(\"The available columns are:\")\n",
    "list(df)"
   ]
  },
  {
   "cell_type": "code",
   "execution_count": 28,
   "metadata": {
    "ExecuteTime": {
     "end_time": "2020-12-08T06:35:02.554851Z",
     "start_time": "2020-12-08T06:35:02.485791Z"
    },
    "deletable": false,
    "id": "_Q71StrCQrkB",
    "nbgrader": {
     "cell_type": "code",
     "checksum": "0e494aa6ca038ee3b7d37ef7051bfcdb",
     "grade": false,
     "grade_id": "cell-bd2399d20615cbd1",
     "locked": false,
     "schema_version": 3,
     "solution": true
    }
   },
   "outputs": [],
   "source": [
    "# Enter all the features you want to use in a list and save it to \"interview_features\".\n",
    "# These are the features for the models that will predict the targets, and the\n",
    "# predictions will be used to rank applicants for **interviews**.\n",
    "interview_features = ['High School GPA', 'College GPA', 'Years of Experience', 'Years of Volunteering', \n",
    "                      'Twitter followers', 'Instagram Followers', 'Requires Sponsorship', 'English Fluency_Basic', \n",
    "                      'English Fluency_Fluent', 'English Fluency_Proficient', 'Spanish Fluency_Basic', \n",
    "                      'Spanish Fluency_Fluent', 'Spanish Fluency_Proficient', 'Education_Associates', \n",
    "                      'Education_Undergraduate', 'MBTI_EI_E', 'MBTI_EI_I', 'MBTI_SN_N', 'MBTI_SN_S', \n",
    "                      'MBTI_TF_F', 'MBTI_TF_T', 'MBTI_JP_J', 'Age']"
   ]
  },
  {
   "cell_type": "markdown",
   "metadata": {
    "deletable": false,
    "editable": false,
    "id": "IEjtob_PQrkE",
    "nbgrader": {
     "cell_type": "markdown",
     "checksum": "734ba0669bdc3873fb75b67ef74cc737",
     "grade": false,
     "grade_id": "cell-c35210aa72f0c989",
     "locked": true,
     "schema_version": 3,
     "solution": false
    }
   },
   "source": [
    "Why did you choose the features you did?"
   ]
  },
  {
   "cell_type": "code",
   "execution_count": 29,
   "metadata": {
    "ExecuteTime": {
     "end_time": "2020-12-08T06:35:02.639425Z",
     "start_time": "2020-12-08T06:35:02.556352Z"
    },
    "deletable": false,
    "id": "szA3hUTVQrkE",
    "nbgrader": {
     "cell_type": "code",
     "checksum": "e208d15be2551c27b05dbded87a99da5",
     "grade": false,
     "grade_id": "cell-11725eab2a5dc436",
     "locked": false,
     "schema_version": 3,
     "solution": true
    }
   },
   "outputs": [],
   "source": [
    "## Save your reasoning in a string to the variable interview_reason\n",
    "interview_reason = f'''I used almost all of the features in my models are they ended up performing the best when \n",
    "using them all. I did remove ethically concerned data like: Name, address, gender, and others. I planned to tune the hiring\n",
    "model with a different set of hyperparameters to optimize a different result. Because candidates can be cross validated in\n",
    "an interview and it would be bad to through out borderline cases, the classifier is optimized for recall instead of f1.'''"
   ]
  },
  {
   "cell_type": "code",
   "execution_count": 30,
   "metadata": {
    "ExecuteTime": {
     "end_time": "2020-12-08T06:35:02.720493Z",
     "start_time": "2020-12-08T06:35:02.640927Z"
    },
    "deletable": false,
    "editable": false,
    "id": "IjjWNMcdQrkH",
    "nbgrader": {
     "cell_type": "code",
     "checksum": "f1f846ce7a9241577a65b17e86839b29",
     "grade": true,
     "grade_id": "cell-8b0e41f067c8ef32",
     "locked": true,
     "points": 20,
     "schema_version": 3,
     "solution": false
    }
   },
   "outputs": [],
   "source": [
    "assert isinstance(interview_reason, str)\n",
    "assert len(interview_reason) > 20"
   ]
  },
  {
   "cell_type": "code",
   "execution_count": 31,
   "metadata": {
    "ExecuteTime": {
     "end_time": "2020-12-08T06:35:02.837595Z",
     "start_time": "2020-12-08T06:35:02.722495Z"
    },
    "deletable": false,
    "id": "uro6564gQrkL",
    "nbgrader": {
     "cell_type": "code",
     "checksum": "b04202681097bdf2baa81746a0284884",
     "grade": false,
     "grade_id": "cell-d9d5cf91c533af77",
     "locked": false,
     "schema_version": 3,
     "solution": true
    }
   },
   "outputs": [
    {
     "data": {
      "text/html": [
       "<div>\n",
       "<style scoped>\n",
       "    .dataframe tbody tr th:only-of-type {\n",
       "        vertical-align: middle;\n",
       "    }\n",
       "\n",
       "    .dataframe tbody tr th {\n",
       "        vertical-align: top;\n",
       "    }\n",
       "\n",
       "    .dataframe thead th {\n",
       "        text-align: right;\n",
       "    }\n",
       "</style>\n",
       "<table border=\"1\" class=\"dataframe\">\n",
       "  <thead>\n",
       "    <tr style=\"text-align: right;\">\n",
       "      <th></th>\n",
       "      <th>High School GPA</th>\n",
       "      <th>College GPA</th>\n",
       "      <th>Years of Experience</th>\n",
       "      <th>Years of Volunteering</th>\n",
       "      <th>Twitter followers</th>\n",
       "      <th>Instagram Followers</th>\n",
       "      <th>Requires Sponsorship</th>\n",
       "      <th>English Fluency_Basic</th>\n",
       "      <th>English Fluency_Fluent</th>\n",
       "      <th>English Fluency_Proficient</th>\n",
       "      <th>...</th>\n",
       "      <th>Education_Associates</th>\n",
       "      <th>Education_Undergraduate</th>\n",
       "      <th>MBTI_EI_E</th>\n",
       "      <th>MBTI_EI_I</th>\n",
       "      <th>MBTI_SN_N</th>\n",
       "      <th>MBTI_SN_S</th>\n",
       "      <th>MBTI_TF_F</th>\n",
       "      <th>MBTI_TF_T</th>\n",
       "      <th>MBTI_JP_J</th>\n",
       "      <th>Age</th>\n",
       "    </tr>\n",
       "  </thead>\n",
       "  <tbody>\n",
       "    <tr>\n",
       "      <th>705</th>\n",
       "      <td>3.010359</td>\n",
       "      <td>3.251465</td>\n",
       "      <td>12.9</td>\n",
       "      <td>0.0</td>\n",
       "      <td>633</td>\n",
       "      <td>625</td>\n",
       "      <td>True</td>\n",
       "      <td>0</td>\n",
       "      <td>0</td>\n",
       "      <td>1</td>\n",
       "      <td>...</td>\n",
       "      <td>0</td>\n",
       "      <td>0</td>\n",
       "      <td>0</td>\n",
       "      <td>1</td>\n",
       "      <td>0</td>\n",
       "      <td>1</td>\n",
       "      <td>1</td>\n",
       "      <td>0</td>\n",
       "      <td>0</td>\n",
       "      <td>35.0</td>\n",
       "    </tr>\n",
       "    <tr>\n",
       "      <th>1288</th>\n",
       "      <td>3.940000</td>\n",
       "      <td>2.540000</td>\n",
       "      <td>1.1</td>\n",
       "      <td>3.5</td>\n",
       "      <td>338</td>\n",
       "      <td>1016</td>\n",
       "      <td>False</td>\n",
       "      <td>0</td>\n",
       "      <td>1</td>\n",
       "      <td>0</td>\n",
       "      <td>...</td>\n",
       "      <td>0</td>\n",
       "      <td>1</td>\n",
       "      <td>0</td>\n",
       "      <td>1</td>\n",
       "      <td>0</td>\n",
       "      <td>1</td>\n",
       "      <td>1</td>\n",
       "      <td>0</td>\n",
       "      <td>1</td>\n",
       "      <td>24.0</td>\n",
       "    </tr>\n",
       "    <tr>\n",
       "      <th>946</th>\n",
       "      <td>3.010359</td>\n",
       "      <td>3.251465</td>\n",
       "      <td>7.6</td>\n",
       "      <td>0.0</td>\n",
       "      <td>683</td>\n",
       "      <td>11762</td>\n",
       "      <td>False</td>\n",
       "      <td>0</td>\n",
       "      <td>0</td>\n",
       "      <td>1</td>\n",
       "      <td>...</td>\n",
       "      <td>0</td>\n",
       "      <td>0</td>\n",
       "      <td>1</td>\n",
       "      <td>0</td>\n",
       "      <td>0</td>\n",
       "      <td>1</td>\n",
       "      <td>0</td>\n",
       "      <td>1</td>\n",
       "      <td>0</td>\n",
       "      <td>29.0</td>\n",
       "    </tr>\n",
       "    <tr>\n",
       "      <th>1497</th>\n",
       "      <td>3.690000</td>\n",
       "      <td>3.720000</td>\n",
       "      <td>5.5</td>\n",
       "      <td>0.0</td>\n",
       "      <td>1995</td>\n",
       "      <td>699</td>\n",
       "      <td>False</td>\n",
       "      <td>0</td>\n",
       "      <td>1</td>\n",
       "      <td>0</td>\n",
       "      <td>...</td>\n",
       "      <td>0</td>\n",
       "      <td>0</td>\n",
       "      <td>0</td>\n",
       "      <td>1</td>\n",
       "      <td>0</td>\n",
       "      <td>1</td>\n",
       "      <td>0</td>\n",
       "      <td>1</td>\n",
       "      <td>1</td>\n",
       "      <td>28.0</td>\n",
       "    </tr>\n",
       "    <tr>\n",
       "      <th>723</th>\n",
       "      <td>3.010359</td>\n",
       "      <td>3.251465</td>\n",
       "      <td>13.3</td>\n",
       "      <td>0.0</td>\n",
       "      <td>683</td>\n",
       "      <td>5429</td>\n",
       "      <td>False</td>\n",
       "      <td>1</td>\n",
       "      <td>0</td>\n",
       "      <td>0</td>\n",
       "      <td>...</td>\n",
       "      <td>0</td>\n",
       "      <td>0</td>\n",
       "      <td>0</td>\n",
       "      <td>1</td>\n",
       "      <td>0</td>\n",
       "      <td>1</td>\n",
       "      <td>1</td>\n",
       "      <td>0</td>\n",
       "      <td>0</td>\n",
       "      <td>35.0</td>\n",
       "    </tr>\n",
       "  </tbody>\n",
       "</table>\n",
       "<p>5 rows × 23 columns</p>\n",
       "</div>"
      ],
      "text/plain": [
       "      High School GPA  College GPA  Years of Experience  \\\n",
       "705          3.010359     3.251465                 12.9   \n",
       "1288         3.940000     2.540000                  1.1   \n",
       "946          3.010359     3.251465                  7.6   \n",
       "1497         3.690000     3.720000                  5.5   \n",
       "723          3.010359     3.251465                 13.3   \n",
       "\n",
       "      Years of Volunteering  Twitter followers  Instagram Followers  \\\n",
       "705                     0.0                633                  625   \n",
       "1288                    3.5                338                 1016   \n",
       "946                     0.0                683                11762   \n",
       "1497                    0.0               1995                  699   \n",
       "723                     0.0                683                 5429   \n",
       "\n",
       "      Requires Sponsorship  English Fluency_Basic  English Fluency_Fluent  \\\n",
       "705                   True                      0                       0   \n",
       "1288                 False                      0                       1   \n",
       "946                  False                      0                       0   \n",
       "1497                 False                      0                       1   \n",
       "723                  False                      1                       0   \n",
       "\n",
       "      English Fluency_Proficient  ...  Education_Associates  \\\n",
       "705                            1  ...                     0   \n",
       "1288                           0  ...                     0   \n",
       "946                            1  ...                     0   \n",
       "1497                           0  ...                     0   \n",
       "723                            0  ...                     0   \n",
       "\n",
       "      Education_Undergraduate  MBTI_EI_E  MBTI_EI_I  MBTI_SN_N  MBTI_SN_S  \\\n",
       "705                         0          0          1          0          1   \n",
       "1288                        1          0          1          0          1   \n",
       "946                         0          1          0          0          1   \n",
       "1497                        0          0          1          0          1   \n",
       "723                         0          0          1          0          1   \n",
       "\n",
       "      MBTI_TF_F  MBTI_TF_T  MBTI_JP_J   Age  \n",
       "705           1          0          0  35.0  \n",
       "1288          1          0          1  24.0  \n",
       "946           0          1          0  29.0  \n",
       "1497          0          1          1  28.0  \n",
       "723           1          0          0  35.0  \n",
       "\n",
       "[5 rows x 23 columns]"
      ]
     },
     "execution_count": 31,
     "metadata": {},
     "output_type": "execute_result"
    }
   ],
   "source": [
    "# Perform a train and test split on the data with the variable names:\n",
    "# interview_x_train for the training features\n",
    "# interview_x_test for the testing features\n",
    "# interview_y_train for the training targets\n",
    "# interview_y_test for the testing targets\n",
    "# The test dataset should be 20% of the total dataset\n",
    "interview_x_train, interview_x_test, interview_y_train, interview_y_test = train_test_split(df[interview_features], df[targets], test_size=0.2)\n",
    "interview_x_train.head()"
   ]
  },
  {
   "cell_type": "code",
   "execution_count": 32,
   "metadata": {
    "ExecuteTime": {
     "end_time": "2020-12-08T06:35:02.896644Z",
     "start_time": "2020-12-08T06:35:02.840096Z"
    },
    "deletable": false,
    "editable": false,
    "id": "LMrRXdYnQrkN",
    "nbgrader": {
     "cell_type": "code",
     "checksum": "1200a735dd6eee29cd1b2c2c94808599",
     "grade": true,
     "grade_id": "cell-146c7b1df2f26d90",
     "locked": true,
     "points": 10,
     "schema_version": 3,
     "solution": false
    }
   },
   "outputs": [],
   "source": [
    "assert (len(interview_x_train) / (len(interview_x_test) + len(interview_x_train))) == 0.8\n",
    "assert (len(interview_y_train) / (len(interview_y_test) + len(interview_y_train))) == 0.8\n",
    "assert len(interview_x_train) == len(interview_y_train)\n",
    "assert len(interview_x_test) == len(interview_y_test)"
   ]
  },
  {
   "cell_type": "markdown",
   "metadata": {
    "id": "NkHr4ehrvnqa"
   },
   "source": [
    "Build and train your interviewing models."
   ]
  },
  {
   "cell_type": "code",
   "execution_count": 33,
   "metadata": {
    "ExecuteTime": {
     "end_time": "2020-12-08T06:35:03.316005Z",
     "start_time": "2020-12-08T06:35:02.899147Z"
    }
   },
   "outputs": [
    {
     "data": {
      "application/javascript": [
       "\n",
       "    IPython.OutputArea.prototype._should_scroll = function(lines) {\n",
       "        return false;\n",
       "    }\n",
       "    "
      ],
      "text/plain": [
       "<IPython.core.display.Javascript object>"
      ]
     },
     "metadata": {},
     "output_type": "display_data"
    }
   ],
   "source": [
    "from xgboost import XGBClassifier, XGBRegressor\n",
    "from xgboost import plot_importance\n",
    "\n",
    "from sklearn.model_selection import RandomizedSearchCV, GridSearchCV\n",
    "from sklearn.model_selection import cross_validate\n",
    "\n",
    "from matplotlib import pyplot\n",
    "import numpy as np\n",
    "\n",
    "from IPython.display import display, Javascript\n",
    "def preventScrolling():\n",
    "    disable_js = \"\"\"\n",
    "    IPython.OutputArea.prototype._should_scroll = function(lines) {\n",
    "        return false;\n",
    "    }\n",
    "    \"\"\"\n",
    "    display(Javascript(disable_js))\n",
    "\n",
    "preventScrolling()\n",
    "\n",
    "def evaluate(model, test_features, scoring='r2', plot=True):\n",
    "    results = (cross_validate(model, interview_x_test, test_features, cv=5, scoring=scoring))\n",
    "    for method in scoring:\n",
    "        print(f'''{method}: {np.max(results['test_'+method])}''') \n",
    "\n",
    "def hyperparameter_search(model, x, y, params, scorer='r2', cv=5, verbose=0, method=\"grid\", plot=True, n_iters=50000):\n",
    "    if method == 'random':\n",
    "        search = RandomSearchCV(model, params, scoring=scorer, n_jobs=-1, cv=cv, verbose=3, n_iters=n_iters).fit(x, y)\n",
    "    else:\n",
    "        search = GridSearchCV(model, params, scoring=scorer, n_jobs=-1, cv=cv, verbose=3).fit(x, y)\n",
    "    \n",
    "    if verbose > 0:\n",
    "        print('\\n Best estimator:')\n",
    "        print(search.best_estimator_)\n",
    "        print('\\n Best hyperparameters:')\n",
    "        print(search.best_params_)\n",
    "    if verbose > 1:\n",
    "        print(\"Search Results:\")\n",
    "        print(search.cv_results_)\n",
    "        \n",
    "    if plot:\n",
    "        plot_importance(search.best_estimator_)\n",
    "        pyplot.show()\n",
    "        \n",
    "    return search.best_estimator_, search.best_params_\n",
    "\n",
    "\n",
    "regressor_parameters = {\n",
    "    'learning_rate': [0.01, 0.02, 0.225, 0.3],\n",
    "    'max_depth': [3, 4, 5],\n",
    "    'min_child_weight': [1, 5, 10, 15],\n",
    "    'subsample': [0.25, 0.5, 0.75, 1],\n",
    "    'base_score': [0.25, 0.5, 0.75, 0.9, 0.99],\n",
    "    'n_estimators': [100, 500, 1000, 1500, 2000],\n",
    "    'gamma': [0, 0.25, 0.5, 1, 1.5, 2],\n",
    "    'num_parallel_tree': [1, 2, 4]\n",
    "}\n",
    "\n",
    "classifier_params = {\n",
    "    'min_child_weight': [1, 1.5, 2, 2.5, 3, 3.5, 5, 10],\n",
    "    'gamma': [0, 0.25, 0.5, 0.75, 1, 1.5],\n",
    "    'subsample': [0.8, 0.9, 1.0],\n",
    "    'colsample_bytree': [0.5, 0.8, 0.9, 1.0],\n",
    "    'max_depth': [3, 4, 5],\n",
    "    'learning_rate': [0.01, 0.02, 0.225, 0.3],\n",
    "    'n_estimators': [50, 100, 500, 1000],\n",
    "    'base_score': [0.25, 0.5, 0.75, 0.9, 0.99]\n",
    "}"
   ]
  },
  {
   "cell_type": "code",
   "execution_count": 34,
   "metadata": {
    "ExecuteTime": {
     "end_time": "2020-12-08T06:35:07.279413Z",
     "start_time": "2020-12-08T06:35:03.318009Z"
    }
   },
   "outputs": [
    {
     "name": "stdout",
     "output_type": "stream",
     "text": [
      "f1: 0.4444444444444445\n",
      "roc_auc: 0.7612524461839532\n",
      "recall: 0.2857142857142857\n",
      "precision: 1.0\n",
      "f1: 0.4\n",
      "roc_auc: 0.7475538160469667\n",
      "recall: 0.2857142857142857\n",
      "precision: 0.6666666666666666\n",
      "f1: 0.16091954022988506\n",
      "roc_auc: 0.8297455968688846\n",
      "recall: 1.0\n",
      "precision: 0.0875\n",
      "f1: 0.4444444444444445\n",
      "roc_auc: 0.7534246575342466\n",
      "recall: 0.2857142857142857\n",
      "precision: 1.0\n"
     ]
    }
   ],
   "source": [
    "\"\"\"\n",
    "\n",
    " Best estimator:\n",
    " \n",
    " F1\n",
    " XGBClassifier(base_score=0.99, booster='gbtree', colsample_bylevel=1,\n",
    "              colsample_bynode=1, colsample_bytree=1.0, gamma=1, gpu_id=-1,\n",
    "              importance_type='gain', interaction_constraints='',\n",
    "              learning_rate=0.225, max_delta_step=0, max_depth=5,\n",
    "              min_child_weight=1, missing=nan, monotone_constraints='()',\n",
    "              n_estimators=50, n_jobs=-1, nthread=-1, num_parallel_tree=1,\n",
    "              random_state=0, reg_alpha=0, reg_lambda=1, scale_pos_weight=1,\n",
    "              subsample=1.0, tree_method='exact', validate_parameters=1,\n",
    "              verbosity=0)\n",
    "\n",
    "ROC_AUC\n",
    "XGBClassifier(base_score=0.5, booster='gbtree', colsample_bylevel=1,\n",
    "              colsample_bynode=1, colsample_bytree=0.9, gamma=0.5, gpu_id=-1,\n",
    "              importance_type='gain', interaction_constraints='',\n",
    "              learning_rate=0.3, max_delta_step=0, max_depth=3,\n",
    "              min_child_weight=1, missing=nan, monotone_constraints='()',\n",
    "              n_estimators=50, n_jobs=-1, nthread=-1, num_parallel_tree=1,\n",
    "              random_state=0, reg_alpha=0, reg_lambda=1, scale_pos_weight=1,\n",
    "              subsample=0.8, tree_method='exact', validate_parameters=1,\n",
    "              verbosity=0)\n",
    "\n",
    "RECALLL\n",
    " Best estimator:\n",
    "XGBClassifier(base_score=0.9, booster='gbtree', colsample_bylevel=1,\n",
    "              colsample_bynode=1, colsample_bytree=0.5, gamma=0, gpu_id=-1,\n",
    "              importance_type='gain', interaction_constraints='',\n",
    "              learning_rate=0.01, max_delta_step=0, max_depth=3,\n",
    "              min_child_weight=1, missing=nan, monotone_constraints='()',\n",
    "              n_estimators=50, n_jobs=-1, nthread=-1, num_parallel_tree=1,\n",
    "              random_state=0, reg_alpha=0, reg_lambda=1, scale_pos_weight=1,\n",
    "              subsample=0.8, tree_method='exact', validate_parameters=1,\n",
    "              verbosity=0)\n",
    "              \n",
    "              \n",
    "PRECISION\n",
    "XGBClassifier(base_score=0.25, booster='gbtree', colsample_bylevel=1,\n",
    "              colsample_bynode=1, colsample_bytree=0.5, gamma=0, gpu_id=-1,\n",
    "              importance_type='gain', interaction_constraints='',\n",
    "              learning_rate=0.01, max_delta_step=0, max_depth=3,\n",
    "              min_child_weight=1, missing=nan, monotone_constraints='()',\n",
    "              n_estimators=100, n_jobs=-1, nthread=-1, num_parallel_tree=1,\n",
    "              random_state=0, reg_alpha=0, reg_lambda=1, scale_pos_weight=1,\n",
    "              subsample=0.8, tree_method='exact', validate_parameters=1,\n",
    "              verbosity=0)\n",
    " \n",
    " \n",
    "XGBClassifier(base_score=0.999, booster='gbtree', colsample_bylevel=1,\n",
    "              colsample_bynode=1, colsample_bytree=0.9, gamma=0.5, gpu_id=-1,\n",
    "              importance_type='gain', interaction_constraints='',\n",
    "              learning_rate=0.225, max_delta_step=0, max_depth=6,\n",
    "              min_child_weight=1, missing=nan, monotone_constraints='()',\n",
    "              n_estimators=100, n_jobs=-1, nthread=-1, num_parallel_tree=1,\n",
    "              random_state=0, reg_alpha=0, reg_lambda=1, scale_pos_weight=1,\n",
    "              subsample=0.5, tree_method='exact', validate_parameters=1,\n",
    "              verbosity=0)\n",
    "\n",
    "XGBClassifier(base_score=0.999, booster='gbtree', colsample_bylevel=1,\n",
    "              colsample_bynode=1, colsample_bytree=0.8, gamma=0.75, gpu_id=-1,\n",
    "              importance_type='gain', interaction_constraints='',\n",
    "              learning_rate=0.225, max_delta_step=0, max_depth=8,\n",
    "              min_child_weight=1, missing=nan, monotone_constraints='()',\n",
    "              n_estimators=100, n_jobs=-1, nthread=-1, num_parallel_tree=1,\n",
    "              random_state=0, reg_alpha=0, reg_lambda=1, scale_pos_weight=1,\n",
    "              subsample=0.9, tree_method='exact', validate_parameters=1,\n",
    "              verbosity=0)\n",
    "              \n",
    "\"\"\"\n",
    "\n",
    "\n",
    "classifiers = {}\n",
    "\n",
    "classifiers['f1'] = XGBClassifier(n_jobs=-1, nthread=-1,\n",
    "                                  objective='binary:logistic', base_score=0.99, booster='gbtree', colsample_bylevel=1,\n",
    "                                  colsample_bynode=1, colsample_bytree=1.0, gamma=1, gpu_id=-1, importance_type='gain',\n",
    "                                  learning_rate=0.225, max_delta_step=0, max_depth=5, min_child_weight=1, n_estimators=50,\n",
    "                                  verbosity=0).fit(interview_x_train, interview_y_train['Fired_Fired'])\n",
    "\n",
    "classifiers['roc_auc'] = XGBClassifier(base_score=0.5, booster='gbtree', colsample_bylevel=1,\n",
    "                                       colsample_bynode=1, colsample_bytree=0.9, gamma=0.5, gpu_id=-1,\n",
    "                                       importance_type='gain', learning_rate=0.3, max_delta_step=0, max_depth=3, min_child_weight=1,\n",
    "                                       n_estimators=50, n_jobs=-1, nthread=-1, subsample=0.8,\n",
    "                                       verbosity=0).fit(interview_x_train, interview_y_train['Fired_Fired'])\n",
    "\n",
    "classifiers['recall'] = XGBClassifier(base_score=0.9, booster='gbtree', colsample_bylevel=1,\n",
    "                                      colsample_bynode=1, colsample_bytree=0.5, gamma=0, gpu_id=-1,\n",
    "                                      importance_type='gain', learning_rate=0.01, max_depth=3, min_child_weight=1,\n",
    "                                      n_estimators=50, n_jobs=-1, nthread=-1, subsample=0.8,\n",
    "                                      verbosity=0).fit(interview_x_train, interview_y_train['Fired_Fired'])\n",
    "\n",
    "classifiers['precision'] = XGBClassifier(base_score=0.999, booster='gbtree', colsample_bylevel=1,\n",
    "                                         colsample_bynode=1, colsample_bytree=0.8, gamma=1, gpu_id=-1,\n",
    "                                         importance_type='gain', learning_rate=0.225, max_delta_step=0, max_depth=8, min_child_weight=0.5,\n",
    "                                         n_estimators=1000, n_jobs=-1, nthread=-1, subsample=0.9,\n",
    "                                         verbosity=0).fit(interview_x_train, interview_y_train['Fired_Fired'])\n",
    "\n",
    "\n",
    "for optimizer in classifiers:\n",
    "    evaluate(classifiers[optimizer],\n",
    "             interview_y_test['Fired_Fired'], ['f1', 'roc_auc', 'recall', 'precision'])"
   ]
  },
  {
   "cell_type": "code",
   "execution_count": 35,
   "metadata": {
    "ExecuteTime": {
     "end_time": "2020-12-08T06:35:30.824660Z",
     "start_time": "2020-12-08T06:35:07.280915Z"
    }
   },
   "outputs": [
    {
     "name": "stdout",
     "output_type": "stream",
     "text": [
      "r2: 0.9930652201041176\n",
      "r2: 0.9870170327742741\n"
     ]
    }
   ],
   "source": [
    "\"\"\"\n",
    "\n",
    "sat\n",
    "XGBRegressor(base_score=0.25, booster='gbtree', colsample_bylevel=1,\n",
    "             colsample_bynode=1, colsample_bytree=1, gamma=0,\n",
    "             importance_type='gain', learning_rate=0.02, max_delta_step=0,\n",
    "             max_depth=3, min_child_weight=5, missing=None, n_estimators=2000,\n",
    "             n_jobs=-1, nthread=-1, num_parallel_tree=4, objective='reg:linear',\n",
    "             random_state=0, reg_alpha=0, reg_lambda=1, scale_pos_weight=1,\n",
    "             seed=None, silent=None, subsample=0.25, verbosity=1)\n",
    "             \n",
    "sales\n",
    "XGBRegressor(base_score=0.75, booster='gbtree', colsample_bylevel=1,\n",
    "             colsample_bynode=1, colsample_bytree=1, gamma=0,\n",
    "             importance_type='gain', learning_rate=0.02, max_delta_step=0,\n",
    "             max_depth=3, min_child_weight=5, missing=None, n_estimators=2000,\n",
    "             n_jobs=-1, nthread=-1, num_parallel_tree=4, objective='reg:linear',\n",
    "             random_state=0, reg_alpha=0, reg_lambda=1, scale_pos_weight=1,\n",
    "             seed=None, silent=None, subsample=0.25, verbosity=1)\n",
    "             \n",
    "\n",
    " Best estimator: satisfaction\n",
    "XGBRegressor(base_score=0.5, booster='gbtree', colsample_bylevel=1,\n",
    "             colsample_bynode=1, colsample_bytree=1, gamma=0, gpu_id=-1,\n",
    "             importance_type='gain', interaction_constraints='',\n",
    "             learning_rate=0.02, max_delta_step=0, max_depth=5,\n",
    "             min_child_weight=10, missing=nan, monotone_constraints='()',\n",
    "             n_estimators=1000, n_jobs=0, num_parallel_tree=1, random_state=0,\n",
    "             reg_alpha=0, reg_lambda=1, scale_pos_weight=1, subsample=0.7,\n",
    "             tree_method='exact', validate_parameters=1, verbosity=None)\n",
    "             \n",
    " Best estimator: sales\n",
    "XGBRegressor(base_score=0.5, booster='gbtree', colsample_bylevel=1,\n",
    "             colsample_bynode=1, colsample_bytree=0.9, gamma=0, gpu_id=-1,\n",
    "             importance_type='gain', interaction_constraints='',\n",
    "             learning_rate=0.02, max_delta_step=0, max_depth=5,\n",
    "             min_child_weight=10, missing=nan, monotone_constraints='()',\n",
    "             n_estimators=1000, n_jobs=0, num_parallel_tree=1, random_state=0,\n",
    "             reg_alpha=0, reg_lambda=1, scale_pos_weight=1, subsample=0.7,\n",
    "             tree_method='exact', validate_parameters=1, verbosity=None)\n",
    "\n",
    "\"\"\"\n",
    "\n",
    "satisfaction_model = XGBRegressor(base_score=0.25, booster='gbtree', colsample_bylevel=1,\n",
    "                                  colsample_bynode=1, colsample_bytree=1, gamma=0,\n",
    "                                  importance_type='gain', learning_rate=0.02, max_delta_step=0,\n",
    "                                  max_depth=3, min_child_weight=5, n_estimators=2000,\n",
    "                                  n_jobs=-1, nthread=-1, num_parallel_tree=4, objective='reg:linear',\n",
    "                                  subsample=0.25, verbosity=0).fit(interview_x_train, interview_y_train['Customer Satisfaction Rating'])\n",
    "evaluate(satisfaction_model,\n",
    "         interview_y_test['Customer Satisfaction Rating'], ['r2'])\n",
    "\n",
    "sales_model = XGBRegressor(base_score=0.75, booster='gbtree', colsample_bylevel=1,\n",
    "                           colsample_bynode=1, colsample_bytree=1, gamma=0,\n",
    "                           importance_type='gain', learning_rate=0.02, max_delta_step=0,\n",
    "                           max_depth=3, min_child_weight=5, missing=None, n_estimators=2000,\n",
    "                           n_jobs=-1, nthread=-1, num_parallel_tree=4, objective='reg:linear',\n",
    "                           subsample=0.25, verbosity=0).fit(interview_x_train, interview_y_train['Sales Rating'])\n",
    "evaluate(sales_model,\n",
    "         interview_y_test['Sales Rating'], ['r2'])"
   ]
  },
  {
   "cell_type": "code",
   "execution_count": 36,
   "metadata": {
    "ExecuteTime": {
     "end_time": "2020-12-08T06:35:30.829164Z",
     "start_time": "2020-12-08T06:35:30.826161Z"
    },
    "deletable": false,
    "id": "7nJGrXs8QrkQ",
    "nbgrader": {
     "cell_type": "code",
     "checksum": "5e462aa6db1da24ead6274a0ca4859b6",
     "grade": true,
     "grade_id": "cell-99742e48e538f29a",
     "locked": false,
     "points": 50,
     "schema_version": 3,
     "solution": true
    }
   },
   "outputs": [],
   "source": [
    "# Determine an appropriate metric for measuring your performance for each\n",
    "# model/target, and report the test score for that metric. The metric may be\n",
    "# different for each model/target.\n",
    "\n",
    "my_interview_models = [satisfaction_model, sales_model, classifiers['recall']]"
   ]
  },
  {
   "cell_type": "code",
   "execution_count": 37,
   "metadata": {
    "ExecuteTime": {
     "end_time": "2020-12-08T06:35:48.527884Z",
     "start_time": "2020-12-08T06:35:30.831166Z"
    }
   },
   "outputs": [
    {
     "name": "stdout",
     "output_type": "stream",
     "text": [
      "\n",
      "================================================================================\n",
      "\n",
      "Customer Satisfaction Rating\n",
      "\n",
      "--------------------------------------------------------------------------------\n",
      "\n",
      "XGBoost Regressor\n",
      "r2: 0.9930652201041176\n",
      "neg_root_mean_squared_error: -0.08692361461834656\n",
      "max_error: -0.2550804591178894\n"
     ]
    },
    {
     "data": {
      "image/png": "[encoded data removed]",
      "text/plain": [
       "<Figure size 432x288 with 1 Axes>"
      ]
     },
     "metadata": {
      "needs_background": "light"
     },
     "output_type": "display_data"
    },
    {
     "name": "stdout",
     "output_type": "stream",
     "text": [
      "\n",
      "\n",
      "I used a Regressor because the target value was continuous. I tried several different methods and feature sets,\n",
      "    but each time, the XGBoost Regressor model performed the best. I used a GridSearch to find the optimal hyperparameters. The chosen hyperparameters were: \n",
      "    XGBRegressor(base_score=0.5, booster='gbtree', colsample_bylevel=1,\n",
      "             colsample_bynode=1, colsample_bytree=0.9, gamma=0, gpu_id=-1,\n",
      "             importance_type='gain', interaction_constraints='',\n",
      "             learning_rate=0.02, max_delta_step=0, max_depth=5,\n",
      "             min_child_weight=10, missing=nan, monotone_constraints='()',\n",
      "             n_estimators=1000, n_jobs=0, num_parallel_tree=1, random_state=0,\n",
      "             reg_alpha=0, reg_lambda=1, scale_pos_weight=1, subsample=0.7,\n",
      "             tree_method='exact', validate_parameters=1, verbosity=None)\n",
      "    \n",
      "\n",
      "================================================================================\n",
      "\n",
      "Sales Rating\n",
      "\n",
      "--------------------------------------------------------------------------------\n",
      "\n",
      "XGBoost Regressor\n",
      "r2: 0.9870170327742741\n",
      "neg_root_mean_squared_error: -0.10254220762534792\n",
      "max_error: -0.3210410976409914\n"
     ]
    },
    {
     "data": {
      "image/png": "[encoded data removed]",
      "text/plain": [
       "<Figure size 432x288 with 1 Axes>"
      ]
     },
     "metadata": {
      "needs_background": "light"
     },
     "output_type": "display_data"
    },
    {
     "name": "stdout",
     "output_type": "stream",
     "text": [
      "\n",
      "\n",
      "I used a Regressor because the target value was continuous. I tried several different methods and feature sets,\n",
      "    but each time, the XGBoost Regressor model performed the best. I used a GridSearch to find the optimal hyperparameters. The chosen hyperparameters were: \n",
      "    XGBRegressor(base_score=0.5, booster='gbtree', colsample_bylevel=1,\n",
      "         colsample_bynode=1, colsample_bytree=0.9, gamma=0, gpu_id=-1,\n",
      "         importance_type='gain', interaction_constraints='',\n",
      "         learning_rate=0.02, max_delta_step=0, max_depth=5,\n",
      "         min_child_weight=10, missing=nan, monotone_constraints='()',\n",
      "         n_estimators=1000, n_jobs=0, num_parallel_tree=1, random_state=0,\n",
      "         reg_alpha=0, reg_lambda=1, scale_pos_weight=1, subsample=0.7,\n",
      "         tree_method='exact', validate_parameters=1, verbosity=None)\n",
      "    \n",
      "\n",
      "================================================================================\n",
      "\n",
      "Fired_Fired\n",
      "\n",
      "--------------------------------------------------------------------------------\n",
      "\n",
      "XGBoost Classifier\n",
      "roc_auc: 0.8297455968688846\n",
      "f1: 0.16091954022988506\n",
      "recall: 1.0\n",
      "precision: 0.0875\n"
     ]
    },
    {
     "data": {
      "image/png": "[encoded data removed]",
      "text/plain": [
       "<Figure size 432x288 with 1 Axes>"
      ]
     },
     "metadata": {
      "needs_background": "light"
     },
     "output_type": "display_data"
    },
    {
     "name": "stdout",
     "output_type": "stream",
     "text": [
      "\n",
      "\n",
      "Because being fired is a binary classification, I used the XGBoost Classfier. I tried other classifiers, but like\n",
      "    before, the XGBoost method performed the best. I used a GridSearch to find the optimal hyperparameters. The chosen \n",
      "    hyperparameters were: \n",
      "    XGBClassifier(base_score=0.999, booster='gbtree', colsample_bylevel=1,\n",
      "              colsample_bynode=1, colsample_bytree=0.9, gamma=0.5, gpu_id=-1,\n",
      "              importance_type='gain', interaction_constraints='',\n",
      "              learning_rate=0.225, max_delta_step=0, max_depth=6,\n",
      "              min_child_weight=1, missing=nan, monotone_constraints='()',\n",
      "              n_estimators=100, n_jobs=-1, nthread=-1, num_parallel_tree=1,\n",
      "              random_state=0, reg_alpha=0, reg_lambda=1, scale_pos_weight=1,\n",
      "              subsample=0.5, tree_method='exact', validate_parameters=1,\n",
      "              verbosity=0)\n",
      "    \n"
     ]
    }
   ],
   "source": [
    "# You should use multiple print messages to print something like the\n",
    "# following for each of your models/targets:\n",
    "#\n",
    "# To predict the target (target), I trained a (model) model\n",
    "# and determined the best hyperparameters as (param1 = p1), (param2 = p2)...\n",
    "# resulting in a (metric) score of (score).\n",
    "\n",
    "model_names = [ \"XGBoost Regressor\", \"XGBoost Regressor\", \"XGBoost Classifier\"]\n",
    "model_reasoning = [\n",
    "    f'''I used a Regressor because the target value was continuous. I tried several different methods and feature sets,\n",
    "    but each time, the XGBoost Regressor model performed the best. I used a GridSearch to find the optimal hyperparameters. The chosen hyperparameters were: \n",
    "    XGBRegressor(base_score=0.5, booster='gbtree', colsample_bylevel=1,\n",
    "             colsample_bynode=1, colsample_bytree=0.9, gamma=0, gpu_id=-1,\n",
    "             importance_type='gain', interaction_constraints='',\n",
    "             learning_rate=0.02, max_delta_step=0, max_depth=5,\n",
    "             min_child_weight=10, missing=nan, monotone_constraints='()',\n",
    "             n_estimators=1000, n_jobs=0, num_parallel_tree=1, random_state=0,\n",
    "             reg_alpha=0, reg_lambda=1, scale_pos_weight=1, subsample=0.7,\n",
    "             tree_method='exact', validate_parameters=1, verbosity=None)\n",
    "    ''',\n",
    "    f'''I used a Regressor because the target value was continuous. I tried several different methods and feature sets,\n",
    "    but each time, the XGBoost Regressor model performed the best. I used a GridSearch to find the optimal hyperparameters. The chosen hyperparameters were: \n",
    "    XGBRegressor(base_score=0.5, booster='gbtree', colsample_bylevel=1,\n",
    "         colsample_bynode=1, colsample_bytree=0.9, gamma=0, gpu_id=-1,\n",
    "         importance_type='gain', interaction_constraints='',\n",
    "         learning_rate=0.02, max_delta_step=0, max_depth=5,\n",
    "         min_child_weight=10, missing=nan, monotone_constraints='()',\n",
    "         n_estimators=1000, n_jobs=0, num_parallel_tree=1, random_state=0,\n",
    "         reg_alpha=0, reg_lambda=1, scale_pos_weight=1, subsample=0.7,\n",
    "         tree_method='exact', validate_parameters=1, verbosity=None)\n",
    "    ''',\n",
    "    f'''Because being fired is a binary classification, I used the XGBoost Classfier. I tried other classifiers, but like\n",
    "    before, the XGBoost method performed the best. I used a GridSearch to find the optimal hyperparameters. The chosen \n",
    "    hyperparameters were: \n",
    "    XGBClassifier(base_score=0.999, booster='gbtree', colsample_bylevel=1,\n",
    "              colsample_bynode=1, colsample_bytree=0.9, gamma=0.5, gpu_id=-1,\n",
    "              importance_type='gain', interaction_constraints='',\n",
    "              learning_rate=0.225, max_delta_step=0, max_depth=6,\n",
    "              min_child_weight=1, missing=nan, monotone_constraints='()',\n",
    "              n_estimators=100, n_jobs=-1, nthread=-1, num_parallel_tree=1,\n",
    "              random_state=0, reg_alpha=0, reg_lambda=1, scale_pos_weight=1,\n",
    "              subsample=0.5, tree_method='exact', validate_parameters=1,\n",
    "              verbosity=0)\n",
    "    '''\n",
    "]\n",
    "scorers = [\n",
    "    ['r2', 'neg_root_mean_squared_error', 'max_error'],\n",
    "    ['r2', 'neg_root_mean_squared_error', 'max_error'],\n",
    "    ['roc_auc', 'f1', 'recall', 'precision']\n",
    "]\n",
    "choices = ['Customer Satisfaction Rating', 'Sales Rating', 'Fired_Fired']\n",
    "for i, model in enumerate(my_interview_models):\n",
    "    print('\\n'+\"=\"*80+'\\n')\n",
    "    print(choices[i])\n",
    "    print('\\n'+\"-\"*80+'\\n')\n",
    "    print(model_names[i])\n",
    "    evaluate(model, interview_y_test[choices[i]],scorers[i])\n",
    "    plot_importance(model)\n",
    "    pyplot.show()\n",
    "    print('\\n')\n",
    "    print(model_reasoning[i])"
   ]
  },
  {
   "cell_type": "code",
   "execution_count": 38,
   "metadata": {
    "ExecuteTime": {
     "end_time": "2020-12-08T06:35:48.532388Z",
     "start_time": "2020-12-08T06:35:48.529886Z"
    },
    "id": "lkdngUX7yMJq"
   },
   "outputs": [],
   "source": [
    "assert len(my_interview_models)==len(targets)"
   ]
  },
  {
   "cell_type": "markdown",
   "metadata": {
    "deletable": false,
    "editable": false,
    "id": "-4WvDVFYQrkT",
    "nbgrader": {
     "cell_type": "markdown",
     "checksum": "d909350ea6f55a3151827ad93b357df0",
     "grade": false,
     "grade_id": "cell-be0de61adb8d2930",
     "locked": true,
     "schema_version": 3,
     "solution": false
    }
   },
   "source": [
    "### Hiring model(s)\n",
    "\n",
    "You manager tells you that SellsALOT has decided they wish to consider doing away with interviews altogether, in order to save money. SellsALOT would like a model that will be used to rank candidates for directly hiring them, rather than for interviewing them.\n",
    "\n",
    "Will your choice of features changes?\n",
    "\n",
    "**Which features will you select to use in that model?** You will specify them below."
   ]
  },
  {
   "cell_type": "code",
   "execution_count": 39,
   "metadata": {
    "ExecuteTime": {
     "end_time": "2020-12-08T06:35:48.641481Z",
     "start_time": "2020-12-08T06:35:48.534889Z"
    },
    "deletable": false,
    "editable": false,
    "id": "k2a4ceZsQrkU",
    "nbgrader": {
     "cell_type": "code",
     "checksum": "06aae577c3325934b9dd2d521549d716",
     "grade": false,
     "grade_id": "cell-3aaedae380c7db79",
     "locked": true,
     "schema_version": 3,
     "solution": false
    }
   },
   "outputs": [
    {
     "name": "stdout",
     "output_type": "stream",
     "text": [
      "The available columns are:\n"
     ]
    },
    {
     "data": {
      "text/plain": [
       "['First Name',\n",
       " 'Last Name',\n",
       " 'Address',\n",
       " 'High School GPA',\n",
       " 'College GPA',\n",
       " 'Years of Experience',\n",
       " 'Years of Volunteering',\n",
       " 'Twitter followers',\n",
       " 'Instagram Followers',\n",
       " 'Requires Sponsorship',\n",
       " 'Customer Satisfaction Rating',\n",
       " 'Sales Rating',\n",
       " 'Gender_Female',\n",
       " 'Gender_Male',\n",
       " 'Zipcode_24310',\n",
       " 'Zipcode_30167',\n",
       " 'Zipcode_43357',\n",
       " 'Zipcode_43711',\n",
       " 'Zipcode_54821',\n",
       " 'Zipcode_55864',\n",
       " 'Zipcode_59010',\n",
       " 'Zipcode_60531',\n",
       " 'Zipcode_72361',\n",
       " 'Zipcode_86553',\n",
       " 'Race / Ethnicity_Black',\n",
       " 'Race / Ethnicity_Caucasian',\n",
       " 'Race / Ethnicity_Hispanic',\n",
       " 'English Fluency_Basic',\n",
       " 'English Fluency_Fluent',\n",
       " 'English Fluency_Proficient',\n",
       " 'Spanish Fluency_Basic',\n",
       " 'Spanish Fluency_Fluent',\n",
       " 'Spanish Fluency_Proficient',\n",
       " 'Education_Associates',\n",
       " 'Education_Graduate',\n",
       " 'Education_High School',\n",
       " 'Education_None',\n",
       " 'Education_Undergraduate',\n",
       " 'MBTI_EI_E',\n",
       " 'MBTI_EI_I',\n",
       " 'MBTI_SN_N',\n",
       " 'MBTI_SN_S',\n",
       " 'MBTI_TF_F',\n",
       " 'MBTI_TF_T',\n",
       " 'MBTI_JP_J',\n",
       " 'MBTI_JP_P',\n",
       " 'Fired_Current Employee',\n",
       " 'Fired_Fired',\n",
       " 'Age']"
      ]
     },
     "execution_count": 39,
     "metadata": {},
     "output_type": "execute_result"
    }
   ],
   "source": [
    "print(\"The available columns are:\")\n",
    "list(df)"
   ]
  },
  {
   "cell_type": "code",
   "execution_count": 40,
   "metadata": {
    "ExecuteTime": {
     "end_time": "2020-12-08T06:35:48.724052Z",
     "start_time": "2020-12-08T06:35:48.642983Z"
    },
    "deletable": false,
    "id": "ZRyhvmMaQrkW",
    "nbgrader": {
     "cell_type": "code",
     "checksum": "aac9ee0ef0cb43dddc721d66f66eafc6",
     "grade": false,
     "grade_id": "cell-c4bad209682c7022",
     "locked": false,
     "schema_version": 3,
     "solution": true
    }
   },
   "outputs": [],
   "source": [
    "# Enter all the features you want to use in a list and save it to \"hire_features\".\n",
    "# These are the features for the models that will predict the targets, and the\n",
    "# predictions will be used to rank applicants for **hiring**.\n",
    "\n",
    "hire_features = ['High School GPA', 'College GPA', 'Years of Experience', 'Years of Volunteering', \n",
    "                      'Twitter followers', 'Instagram Followers', 'Requires Sponsorship', 'English Fluency_Basic', \n",
    "                      'English Fluency_Fluent', 'English Fluency_Proficient', 'Spanish Fluency_Basic', \n",
    "                      'Spanish Fluency_Fluent', 'Spanish Fluency_Proficient', 'Education_Associates', \n",
    "                      'Education_Undergraduate', 'MBTI_EI_E', 'MBTI_EI_I', 'MBTI_SN_N', 'MBTI_SN_S', \n",
    "                      'MBTI_TF_F', 'MBTI_TF_T', 'MBTI_JP_J', 'Age']"
   ]
  },
  {
   "cell_type": "markdown",
   "metadata": {
    "deletable": false,
    "editable": false,
    "id": "Oe68bBEcQrkb",
    "nbgrader": {
     "cell_type": "markdown",
     "checksum": "a6b02cbd6f7418d4619aab8525689ad3",
     "grade": false,
     "grade_id": "cell-b4b87681c2bdc21a",
     "locked": true,
     "schema_version": 3,
     "solution": false
    }
   },
   "source": [
    "Why did you choose the features you did?"
   ]
  },
  {
   "cell_type": "code",
   "execution_count": 41,
   "metadata": {
    "ExecuteTime": {
     "end_time": "2020-12-08T06:35:48.804121Z",
     "start_time": "2020-12-08T06:35:48.726053Z"
    },
    "deletable": false,
    "id": "_aT9KBg0Qrkb",
    "nbgrader": {
     "cell_type": "code",
     "checksum": "4297c68ae6bc15756a9bd4288edeac7c",
     "grade": true,
     "grade_id": "cell-b95231da655a979d",
     "locked": false,
     "points": 20,
     "schema_version": 3,
     "solution": true,
     "task": false
    }
   },
   "outputs": [],
   "source": [
    "## Save your reasoning in a string to the variable hire_reason\n",
    "\n",
    "hire_reason = f'''Although I am using the same features, but will be using a different metric for optimizing my GridSearch\n",
    "which is the main difference between the two sets of models. Because there isn't a process to cross check the people with \n",
    "a high change of being fired like there would be in an interview, I switched the optimization metic to ROC AUC. This metric is used to optimize for the greatest amount of TP and TN.\n",
    "The reason for using the same feature set is also simply because the models performed the best when the above features \n",
    "were selected. I also excluded any ethically concerning data like before.'''"
   ]
  },
  {
   "cell_type": "code",
   "execution_count": 42,
   "metadata": {
    "ExecuteTime": {
     "end_time": "2020-12-08T06:35:48.899703Z",
     "start_time": "2020-12-08T06:35:48.805623Z"
    },
    "deletable": false,
    "editable": false,
    "id": "WOr6CM_tQrke",
    "nbgrader": {
     "cell_type": "code",
     "checksum": "f8ffd07a6c5fa5ea2cb0bb632891a430",
     "grade": true,
     "grade_id": "cell-34d2462a6b2f374c",
     "locked": true,
     "points": 10,
     "schema_version": 3,
     "solution": false
    }
   },
   "outputs": [],
   "source": [
    "assert isinstance(hire_reason, str)\n",
    "assert len(hire_reason) > 20"
   ]
  },
  {
   "cell_type": "markdown",
   "metadata": {
    "deletable": false,
    "editable": false,
    "id": "uKIkN6t-Qrkg",
    "nbgrader": {
     "cell_type": "markdown",
     "checksum": "517eec5e5592eae3ea6c7ff7c4d63d17",
     "grade": false,
     "grade_id": "cell-5d3c9cf0fe1dac76",
     "locked": true,
     "schema_version": 3,
     "solution": false
    }
   },
   "source": [
    "Why was your choice different from or the same as the interviewing features?\n"
   ]
  },
  {
   "cell_type": "code",
   "execution_count": 43,
   "metadata": {
    "ExecuteTime": {
     "end_time": "2020-12-08T06:35:48.972766Z",
     "start_time": "2020-12-08T06:35:48.902207Z"
    },
    "deletable": false,
    "id": "9NAvxqfvQrkg",
    "nbgrader": {
     "cell_type": "code",
     "checksum": "40c3262507edafa2c79b3db41292b4b1",
     "grade": true,
     "grade_id": "cell-4479d690eeb487ad",
     "locked": false,
     "points": 20,
     "schema_version": 3,
     "solution": true,
     "task": false
    }
   },
   "outputs": [],
   "source": [
    "# Save your reasoning in a string to the variable\n",
    "# same_reason if the features are the same, or\n",
    "# different_reason if the features are different.\n",
    "same_reason = hire_reason"
   ]
  },
  {
   "cell_type": "code",
   "execution_count": 44,
   "metadata": {
    "ExecuteTime": {
     "end_time": "2020-12-08T06:35:49.058339Z",
     "start_time": "2020-12-08T06:35:48.974266Z"
    },
    "deletable": false,
    "editable": false,
    "id": "rErewAYqQrkl",
    "nbgrader": {
     "cell_type": "code",
     "checksum": "24889e98e4e288ad95c375e3e85655f2",
     "grade": true,
     "grade_id": "cell-f875ee0056d6eb98",
     "locked": true,
     "points": 10,
     "schema_version": 3,
     "solution": false
    }
   },
   "outputs": [
    {
     "name": "stdout",
     "output_type": "stream",
     "text": [
      "Your features for interviewing and hiring are the same.\n"
     ]
    }
   ],
   "source": [
    "if all([rf in hire_features for rf in interview_features]) and all([sf in interview_features for sf in hire_features]):\n",
    "    print(\"Your features for interviewing and hiring are the same.\")\n",
    "    assert isinstance(same_reason, str)\n",
    "    assert len(same_reason) > 20\n",
    "else:\n",
    "    print(\"Your features for interviewing and hiring are different.\")\n",
    "    assert isinstance(different_reason, str)\n",
    "    assert len(different_reason) > 20"
   ]
  },
  {
   "cell_type": "code",
   "execution_count": 45,
   "metadata": {
    "ExecuteTime": {
     "end_time": "2020-12-08T06:35:49.240496Z",
     "start_time": "2020-12-08T06:35:49.060341Z"
    },
    "deletable": false,
    "id": "VbuVq9gsQrkn",
    "nbgrader": {
     "cell_type": "code",
     "checksum": "196e9a8b98e5825acd96a0447ca61b55",
     "grade": false,
     "grade_id": "cell-fe98928b7423b02b",
     "locked": false,
     "schema_version": 3,
     "solution": true
    }
   },
   "outputs": [
    {
     "data": {
      "text/html": [
       "<div>\n",
       "<style scoped>\n",
       "    .dataframe tbody tr th:only-of-type {\n",
       "        vertical-align: middle;\n",
       "    }\n",
       "\n",
       "    .dataframe tbody tr th {\n",
       "        vertical-align: top;\n",
       "    }\n",
       "\n",
       "    .dataframe thead th {\n",
       "        text-align: right;\n",
       "    }\n",
       "</style>\n",
       "<table border=\"1\" class=\"dataframe\">\n",
       "  <thead>\n",
       "    <tr style=\"text-align: right;\">\n",
       "      <th></th>\n",
       "      <th>High School GPA</th>\n",
       "      <th>College GPA</th>\n",
       "      <th>Years of Experience</th>\n",
       "      <th>Years of Volunteering</th>\n",
       "      <th>Twitter followers</th>\n",
       "      <th>Instagram Followers</th>\n",
       "      <th>Requires Sponsorship</th>\n",
       "      <th>English Fluency_Basic</th>\n",
       "      <th>English Fluency_Fluent</th>\n",
       "      <th>English Fluency_Proficient</th>\n",
       "      <th>...</th>\n",
       "      <th>Education_Associates</th>\n",
       "      <th>Education_Undergraduate</th>\n",
       "      <th>MBTI_EI_E</th>\n",
       "      <th>MBTI_EI_I</th>\n",
       "      <th>MBTI_SN_N</th>\n",
       "      <th>MBTI_SN_S</th>\n",
       "      <th>MBTI_TF_F</th>\n",
       "      <th>MBTI_TF_T</th>\n",
       "      <th>MBTI_JP_J</th>\n",
       "      <th>Age</th>\n",
       "    </tr>\n",
       "  </thead>\n",
       "  <tbody>\n",
       "    <tr>\n",
       "      <th>375</th>\n",
       "      <td>2.260000</td>\n",
       "      <td>3.700000</td>\n",
       "      <td>13.1</td>\n",
       "      <td>0.0</td>\n",
       "      <td>510</td>\n",
       "      <td>715</td>\n",
       "      <td>True</td>\n",
       "      <td>0</td>\n",
       "      <td>0</td>\n",
       "      <td>1</td>\n",
       "      <td>...</td>\n",
       "      <td>0</td>\n",
       "      <td>0</td>\n",
       "      <td>0</td>\n",
       "      <td>1</td>\n",
       "      <td>0</td>\n",
       "      <td>1</td>\n",
       "      <td>0</td>\n",
       "      <td>1</td>\n",
       "      <td>1</td>\n",
       "      <td>36.0</td>\n",
       "    </tr>\n",
       "    <tr>\n",
       "      <th>146</th>\n",
       "      <td>3.010359</td>\n",
       "      <td>3.251465</td>\n",
       "      <td>13.2</td>\n",
       "      <td>0.0</td>\n",
       "      <td>345</td>\n",
       "      <td>2811</td>\n",
       "      <td>False</td>\n",
       "      <td>0</td>\n",
       "      <td>0</td>\n",
       "      <td>1</td>\n",
       "      <td>...</td>\n",
       "      <td>0</td>\n",
       "      <td>0</td>\n",
       "      <td>0</td>\n",
       "      <td>1</td>\n",
       "      <td>1</td>\n",
       "      <td>0</td>\n",
       "      <td>1</td>\n",
       "      <td>0</td>\n",
       "      <td>1</td>\n",
       "      <td>36.0</td>\n",
       "    </tr>\n",
       "    <tr>\n",
       "      <th>363</th>\n",
       "      <td>2.690000</td>\n",
       "      <td>2.940000</td>\n",
       "      <td>4.0</td>\n",
       "      <td>0.0</td>\n",
       "      <td>5525</td>\n",
       "      <td>1617</td>\n",
       "      <td>False</td>\n",
       "      <td>0</td>\n",
       "      <td>1</td>\n",
       "      <td>0</td>\n",
       "      <td>...</td>\n",
       "      <td>0</td>\n",
       "      <td>0</td>\n",
       "      <td>1</td>\n",
       "      <td>0</td>\n",
       "      <td>0</td>\n",
       "      <td>1</td>\n",
       "      <td>0</td>\n",
       "      <td>1</td>\n",
       "      <td>1</td>\n",
       "      <td>26.0</td>\n",
       "    </tr>\n",
       "    <tr>\n",
       "      <th>875</th>\n",
       "      <td>3.490000</td>\n",
       "      <td>3.530000</td>\n",
       "      <td>9.8</td>\n",
       "      <td>0.0</td>\n",
       "      <td>415</td>\n",
       "      <td>1303</td>\n",
       "      <td>False</td>\n",
       "      <td>1</td>\n",
       "      <td>0</td>\n",
       "      <td>0</td>\n",
       "      <td>...</td>\n",
       "      <td>0</td>\n",
       "      <td>0</td>\n",
       "      <td>1</td>\n",
       "      <td>0</td>\n",
       "      <td>0</td>\n",
       "      <td>1</td>\n",
       "      <td>1</td>\n",
       "      <td>0</td>\n",
       "      <td>0</td>\n",
       "      <td>30.0</td>\n",
       "    </tr>\n",
       "    <tr>\n",
       "      <th>950</th>\n",
       "      <td>3.670000</td>\n",
       "      <td>2.900000</td>\n",
       "      <td>8.7</td>\n",
       "      <td>0.0</td>\n",
       "      <td>750</td>\n",
       "      <td>2868</td>\n",
       "      <td>False</td>\n",
       "      <td>0</td>\n",
       "      <td>0</td>\n",
       "      <td>1</td>\n",
       "      <td>...</td>\n",
       "      <td>1</td>\n",
       "      <td>0</td>\n",
       "      <td>1</td>\n",
       "      <td>0</td>\n",
       "      <td>0</td>\n",
       "      <td>1</td>\n",
       "      <td>0</td>\n",
       "      <td>1</td>\n",
       "      <td>0</td>\n",
       "      <td>29.0</td>\n",
       "    </tr>\n",
       "  </tbody>\n",
       "</table>\n",
       "<p>5 rows × 23 columns</p>\n",
       "</div>"
      ],
      "text/plain": [
       "     High School GPA  College GPA  Years of Experience  Years of Volunteering  \\\n",
       "375         2.260000     3.700000                 13.1                    0.0   \n",
       "146         3.010359     3.251465                 13.2                    0.0   \n",
       "363         2.690000     2.940000                  4.0                    0.0   \n",
       "875         3.490000     3.530000                  9.8                    0.0   \n",
       "950         3.670000     2.900000                  8.7                    0.0   \n",
       "\n",
       "     Twitter followers  Instagram Followers  Requires Sponsorship  \\\n",
       "375                510                  715                  True   \n",
       "146                345                 2811                 False   \n",
       "363               5525                 1617                 False   \n",
       "875                415                 1303                 False   \n",
       "950                750                 2868                 False   \n",
       "\n",
       "     English Fluency_Basic  English Fluency_Fluent  \\\n",
       "375                      0                       0   \n",
       "146                      0                       0   \n",
       "363                      0                       1   \n",
       "875                      1                       0   \n",
       "950                      0                       0   \n",
       "\n",
       "     English Fluency_Proficient  ...  Education_Associates  \\\n",
       "375                           1  ...                     0   \n",
       "146                           1  ...                     0   \n",
       "363                           0  ...                     0   \n",
       "875                           0  ...                     0   \n",
       "950                           1  ...                     1   \n",
       "\n",
       "     Education_Undergraduate  MBTI_EI_E  MBTI_EI_I  MBTI_SN_N  MBTI_SN_S  \\\n",
       "375                        0          0          1          0          1   \n",
       "146                        0          0          1          1          0   \n",
       "363                        0          1          0          0          1   \n",
       "875                        0          1          0          0          1   \n",
       "950                        0          1          0          0          1   \n",
       "\n",
       "     MBTI_TF_F  MBTI_TF_T  MBTI_JP_J   Age  \n",
       "375          0          1          1  36.0  \n",
       "146          1          0          1  36.0  \n",
       "363          0          1          1  26.0  \n",
       "875          1          0          0  30.0  \n",
       "950          0          1          0  29.0  \n",
       "\n",
       "[5 rows x 23 columns]"
      ]
     },
     "execution_count": 45,
     "metadata": {},
     "output_type": "execute_result"
    }
   ],
   "source": [
    "# Perform a train and test split on the data with the variable names:\n",
    "# The test dataset should be 20% of the total dataset\n",
    "\n",
    "hire_x_train, hire_x_test, hire_y_train, hire_y_test = train_test_split(df[hire_features], df[targets], test_size=0.2)\n",
    "hire_x_train.head()"
   ]
  },
  {
   "cell_type": "code",
   "execution_count": 46,
   "metadata": {
    "ExecuteTime": {
     "end_time": "2020-12-08T06:35:49.299547Z",
     "start_time": "2020-12-08T06:35:49.241997Z"
    },
    "deletable": false,
    "editable": false,
    "id": "pmSR0X0uQrkq",
    "nbgrader": {
     "cell_type": "code",
     "checksum": "6724e653238a8d8de046c997f145ec49",
     "grade": true,
     "grade_id": "cell-be29120b1249cd74",
     "locked": true,
     "points": 10,
     "schema_version": 3,
     "solution": false
    }
   },
   "outputs": [],
   "source": [
    "assert (len(hire_x_train) / (len(hire_x_test) + len(hire_x_train))) == 0.8\n",
    "assert (len(hire_y_train) / (len(hire_y_test) + len(hire_y_train))) == 0.8\n",
    "assert len(hire_x_train) == len(hire_y_train)\n",
    "assert len(hire_x_test) == len(hire_y_test)"
   ]
  },
  {
   "cell_type": "markdown",
   "metadata": {
    "deletable": false,
    "editable": false,
    "id": "lbc63m_SQrks",
    "nbgrader": {
     "cell_type": "markdown",
     "checksum": "101ed3dcd7e1ae4166adfe3b64f5919c",
     "grade": false,
     "grade_id": "cell-3ae20ccdd5d080b7",
     "locked": true,
     "schema_version": 3,
     "solution": false
    }
   },
   "source": [
    "Build and train your hiring models.\n",
    "\n",
    "Do you expect this model to perform differently?"
   ]
  },
  {
   "cell_type": "code",
   "execution_count": 72,
   "metadata": {
    "ExecuteTime": {
     "end_time": "2020-12-08T06:37:26.608578Z",
     "start_time": "2020-12-08T06:37:09.593945Z"
    },
    "deletable": false,
    "id": "u9vuP3ulQrkt",
    "nbgrader": {
     "cell_type": "code",
     "checksum": "42a7f6265a18b03c5a03f404b938eb16",
     "grade": true,
     "grade_id": "cell-43f1427eb940e017",
     "locked": false,
     "points": 50,
     "schema_version": 3,
     "solution": true
    }
   },
   "outputs": [
    {
     "name": "stdout",
     "output_type": "stream",
     "text": [
      "\n",
      "================================================================================\n",
      "\n",
      "Customer Satisfaction Rating\n",
      "\n",
      "--------------------------------------------------------------------------------\n",
      "\n",
      "XGBoost Regressor\n",
      "r2: 0.9938153331998246\n",
      "neg_root_mean_squared_error: -0.07877006777941022\n",
      "max_error: -0.2547267436981202\n"
     ]
    },
    {
     "data": {
      "image/png": "[encoded data removed]",
      "text/plain": [
       "<Figure size 432x288 with 1 Axes>"
      ]
     },
     "metadata": {
      "needs_background": "light"
     },
     "output_type": "display_data"
    },
    {
     "name": "stdout",
     "output_type": "stream",
     "text": [
      "\n",
      "\n",
      "I used a Regressor because the target value was continuous. I tried several different methods and feature sets,\n",
      "    but each time, the XGBoost Regressor model performed the best. I used a GridSearch to find the optimal hyperparameters. The chosen hyperparameters were: \n",
      "    XGBRegressor(base_score=0.5, booster='gbtree', colsample_bylevel=1,\n",
      "             colsample_bynode=1, colsample_bytree=0.9, gamma=0, gpu_id=-1,\n",
      "             importance_type='gain', interaction_constraints='',\n",
      "             learning_rate=0.02, max_delta_step=0, max_depth=5,\n",
      "             min_child_weight=10, missing=nan, monotone_constraints='()',\n",
      "             n_estimators=1000, n_jobs=0, num_parallel_tree=1, random_state=0,\n",
      "             reg_alpha=0, reg_lambda=1, scale_pos_weight=1, subsample=0.7,\n",
      "             tree_method='exact', validate_parameters=1, verbosity=None)\n",
      "    \n",
      "\n",
      "================================================================================\n",
      "\n",
      "Sales Rating\n",
      "\n",
      "--------------------------------------------------------------------------------\n",
      "\n",
      "XGBoost Regressor\n",
      "r2: 0.9858590064724978\n",
      "neg_root_mean_squared_error: -0.11071789626191036\n",
      "max_error: -0.4132187271118166\n"
     ]
    },
    {
     "data": {
      "image/png": "[encoded data removed]",
      "text/plain": [
       "<Figure size 432x288 with 1 Axes>"
      ]
     },
     "metadata": {
      "needs_background": "light"
     },
     "output_type": "display_data"
    },
    {
     "name": "stdout",
     "output_type": "stream",
     "text": [
      "\n",
      "\n",
      "I used a Regressor because the target value was continuous. I tried several different methods and feature sets,\n",
      "    but each time, the XGBoost Regressor model performed the best. I used a GridSearch to find the optimal hyperparameters. The chosen hyperparameters were: \n",
      "    XGBRegressor(base_score=0.5, booster='gbtree', colsample_bylevel=1,\n",
      "         colsample_bynode=1, colsample_bytree=0.9, gamma=0, gpu_id=-1,\n",
      "         importance_type='gain', interaction_constraints='',\n",
      "         learning_rate=0.02, max_delta_step=0, max_depth=5,\n",
      "         min_child_weight=10, missing=nan, monotone_constraints='()',\n",
      "         n_estimators=1000, n_jobs=0, num_parallel_tree=1, random_state=0,\n",
      "         reg_alpha=0, reg_lambda=1, scale_pos_weight=1, subsample=0.7,\n",
      "         tree_method='exact', validate_parameters=1, verbosity=None)\n",
      "    \n",
      "\n",
      "================================================================================\n",
      "\n",
      "Fired_Fired\n",
      "\n",
      "--------------------------------------------------------------------------------\n",
      "\n",
      "XGBoost Classifier\n",
      "roc_auc: 0.728\n",
      "f1: 0.33333333333333337\n",
      "recall: 0.2\n",
      "precision: 1.0\n"
     ]
    },
    {
     "name": "stderr",
     "output_type": "stream",
     "text": [
      "C:\\Users\\Carson\\Anaconda3\\envs\\NN\\lib\\site-packages\\sklearn\\metrics\\_classification.py:1221: UndefinedMetricWarning: Precision is ill-defined and being set to 0.0 due to no predicted samples. Use `zero_division` parameter to control this behavior.\n",
      "  _warn_prf(average, modifier, msg_start, len(result))\n"
     ]
    },
    {
     "data": {
      "image/png": "[encoded data removed]",
      "text/plain": [
       "<Figure size 432x288 with 1 Axes>"
      ]
     },
     "metadata": {
      "needs_background": "light"
     },
     "output_type": "display_data"
    },
    {
     "name": "stdout",
     "output_type": "stream",
     "text": [
      "\n",
      "\n",
      "Because being fired is a binary classification, I used the XGBoost Classfier. I tried other classifiers, but like\n",
      "    before, the XGBoost method performed the best. I used a GridSearch to find the optimal hyperparameters. I chose to use\n",
      "    the ROC AUC metric because if we care about true negatives as much as we care about true positives then it totally makes\n",
      "    sense to use ROC AUC; it will score candidates more carefully erroring on the side of surity when there isn't an \n",
      "    interview for validation. The hyperparameters were: \n",
      "    XGBClassifier(base_score=0.999, booster='gbtree', colsample_bylevel=1,\n",
      "              colsample_bynode=1, colsample_bytree=0.9, gamma=0.5, gpu_id=-1,\n",
      "              importance_type='gain', interaction_constraints='',\n",
      "              learning_rate=0.225, max_delta_step=0, max_depth=6,\n",
      "              min_child_weight=1, missing=nan, monotone_constraints='()',\n",
      "              n_estimators=100, n_jobs=-1, nthread=-1, num_parallel_tree=1,\n",
      "              random_state=0, reg_alpha=0, reg_lambda=1, scale_pos_weight=1,\n",
      "              subsample=0.5, tree_method='exact', validate_parameters=1,\n",
      "              verbosity=0)\n",
      "    \n"
     ]
    }
   ],
   "source": [
    "# Determine an appropriate metric for measuring your performance for each\n",
    "# model/target, and report the test score for that metric. The metric may be\n",
    "# different for each model/target.\n",
    "#\n",
    "# Save your models in a list, with models ordered in the same manner as above.\n",
    "\n",
    "\n",
    "def evaluate(model, test_features, scoring=['r2', 'neg_root_mean_squared_error', 'max_error']):\n",
    "    results = (cross_validate(model, hire_x_test, test_features, cv=5, scoring=scoring))\n",
    "    for method in scoring:\n",
    "        print(f'''{method}: {np.max(results['test_'+method])}''')\n",
    "        \n",
    "my_hiring_models = [satisfaction_model, sales_model, classifiers['roc_auc']]\n",
    "\n",
    "model_names = [ \"XGBoost Regressor\", \"XGBoost Regressor\", \"XGBoost Classifier\"]\n",
    "model_reasoning = [\n",
    "    f'''I used a Regressor because the target value was continuous. I tried several different methods and feature sets,\n",
    "    but each time, the XGBoost Regressor model performed the best. I used a GridSearch to find the optimal hyperparameters. The chosen hyperparameters were: \n",
    "    XGBRegressor(base_score=0.5, booster='gbtree', colsample_bylevel=1,\n",
    "             colsample_bynode=1, colsample_bytree=0.9, gamma=0, gpu_id=-1,\n",
    "             importance_type='gain', interaction_constraints='',\n",
    "             learning_rate=0.02, max_delta_step=0, max_depth=5,\n",
    "             min_child_weight=10, missing=nan, monotone_constraints='()',\n",
    "             n_estimators=1000, n_jobs=0, num_parallel_tree=1, random_state=0,\n",
    "             reg_alpha=0, reg_lambda=1, scale_pos_weight=1, subsample=0.7,\n",
    "             tree_method='exact', validate_parameters=1, verbosity=None)\n",
    "    ''',\n",
    "    f'''I used a Regressor because the target value was continuous. I tried several different methods and feature sets,\n",
    "    but each time, the XGBoost Regressor model performed the best. I used a GridSearch to find the optimal hyperparameters. The chosen hyperparameters were: \n",
    "    XGBRegressor(base_score=0.5, booster='gbtree', colsample_bylevel=1,\n",
    "         colsample_bynode=1, colsample_bytree=0.9, gamma=0, gpu_id=-1,\n",
    "         importance_type='gain', interaction_constraints='',\n",
    "         learning_rate=0.02, max_delta_step=0, max_depth=5,\n",
    "         min_child_weight=10, missing=nan, monotone_constraints='()',\n",
    "         n_estimators=1000, n_jobs=0, num_parallel_tree=1, random_state=0,\n",
    "         reg_alpha=0, reg_lambda=1, scale_pos_weight=1, subsample=0.7,\n",
    "         tree_method='exact', validate_parameters=1, verbosity=None)\n",
    "    ''',\n",
    "    f'''Because being fired is a binary classification, I used the XGBoost Classfier. I tried other classifiers, but like\n",
    "    before, the XGBoost method performed the best. I used a GridSearch to find the optimal hyperparameters. I chose to use\n",
    "    the ROC AUC metric because if we care about true negatives as much as we care about true positives then it totally makes\n",
    "    sense to use ROC AUC; it will score candidates more carefully erroring on the side of surity when there isn't an \n",
    "    interview for validation. The hyperparameters were: \n",
    "    XGBClassifier(base_score=0.999, booster='gbtree', colsample_bylevel=1,\n",
    "              colsample_bynode=1, colsample_bytree=0.9, gamma=0.5, gpu_id=-1,\n",
    "              importance_type='gain', interaction_constraints='',\n",
    "              learning_rate=0.225, max_delta_step=0, max_depth=6,\n",
    "              min_child_weight=1, missing=nan, monotone_constraints='()',\n",
    "              n_estimators=100, n_jobs=-1, nthread=-1, num_parallel_tree=1,\n",
    "              random_state=0, reg_alpha=0, reg_lambda=1, scale_pos_weight=1,\n",
    "              subsample=0.5, tree_method='exact', validate_parameters=1,\n",
    "              verbosity=0)\n",
    "    '''\n",
    "]\n",
    "scorers = [\n",
    "    ['r2', 'neg_root_mean_squared_error', 'max_error'],\n",
    "    ['r2', 'neg_root_mean_squared_error', 'max_error'],\n",
    "    ['roc_auc', 'f1', 'recall', 'precision']\n",
    "]\n",
    "choices = ['Customer Satisfaction Rating', 'Sales Rating', 'Fired_Fired']\n",
    "for i, model in enumerate(my_hiring_models):\n",
    "    print('\\n'+\"=\"*80+'\\n')\n",
    "    print(choices[i])\n",
    "    print('\\n'+\"-\"*80+'\\n')\n",
    "    print(model_names[i])\n",
    "    evaluate(model, hire_y_test[choices[i]],scorers[i])\n",
    "    plot_importance(model)\n",
    "    pyplot.show()\n",
    "    print('\\n')\n",
    "    print(model_reasoning[i])"
   ]
  },
  {
   "cell_type": "code",
   "execution_count": 73,
   "metadata": {
    "ExecuteTime": {
     "end_time": "2020-12-08T06:38:06.337239Z",
     "start_time": "2020-12-08T06:38:06.333236Z"
    },
    "id": "RCxIICXkyZu-"
   },
   "outputs": [],
   "source": [
    "assert len(my_hiring_models)==len(targets)"
   ]
  },
  {
   "cell_type": "code",
   "execution_count": 74,
   "metadata": {
    "ExecuteTime": {
     "end_time": "2020-12-08T06:38:36.984092Z",
     "start_time": "2020-12-08T06:38:08.559649Z"
    },
    "deletable": false,
    "id": "21INaL-DQrkv",
    "nbgrader": {
     "cell_type": "code",
     "checksum": "6cb417be848f300a556608b9c30d9198",
     "grade": true,
     "grade_id": "cell-5df6d98d3b874670",
     "locked": false,
     "points": 20,
     "schema_version": 3,
     "solution": true
    }
   },
   "outputs": [
    {
     "name": "stdout",
     "output_type": "stream",
     "text": [
      "\n",
      "================================================================================\n",
      "Customer Satisfaction Rating\n",
      "\n",
      "--------------------------------------------------------------------------------\n",
      "\n",
      "XGBoost Regressor \tInterview Model\n",
      "\n",
      "r2: 0.9930652201041176\n",
      "neg_root_mean_squared_error: -0.08692361461834656\n",
      "max_error: -0.2550804591178894\n",
      "\n",
      "********************************************************************************\n",
      "XGBoost Regressor \tHiring Model\n",
      "\n",
      "r2: 0.9938153331998246\n",
      "neg_root_mean_squared_error: -0.07877006777941022\n",
      "max_error: -0.2547267436981202\n",
      "\n",
      "\n",
      "\n",
      "\n",
      "================================================================================\n",
      "Sales Rating\n",
      "\n",
      "--------------------------------------------------------------------------------\n",
      "\n",
      "XGBoost Regressor \tInterview Model\n",
      "\n",
      "r2: 0.9870170327742741\n",
      "neg_root_mean_squared_error: -0.10254220762534792\n",
      "max_error: -0.3210410976409914\n",
      "\n",
      "********************************************************************************\n",
      "XGBoost Regressor \tHiring Model\n",
      "\n",
      "r2: 0.9858590064724978\n",
      "neg_root_mean_squared_error: -0.11071789626191036\n",
      "max_error: -0.4132187271118166\n",
      "\n",
      "\n",
      "\n",
      "\n",
      "================================================================================\n",
      "Fired_Fired\n",
      "\n",
      "--------------------------------------------------------------------------------\n",
      "\n",
      "XGBoost Classifier \tInterview Model\n",
      "\n",
      "roc_auc: 0.8297455968688846\n",
      "f1: 0.16091954022988506\n",
      "recall: 1.0\n",
      "precision: 0.0875\n",
      "\n",
      "********************************************************************************\n",
      "XGBoost Classifier \tHiring Model\n",
      "\n",
      "roc_auc: 0.728\n",
      "f1: 0.33333333333333337\n",
      "recall: 0.2\n",
      "precision: 1.0\n",
      "\n",
      "\n",
      "\n"
     ]
    },
    {
     "name": "stderr",
     "output_type": "stream",
     "text": [
      "C:\\Users\\Carson\\Anaconda3\\envs\\NN\\lib\\site-packages\\sklearn\\metrics\\_classification.py:1221: UndefinedMetricWarning: Precision is ill-defined and being set to 0.0 due to no predicted samples. Use `zero_division` parameter to control this behavior.\n",
      "  _warn_prf(average, modifier, msg_start, len(result))\n"
     ]
    }
   ],
   "source": [
    "# Follow this up with a comparison between the performance (test scores) on your\n",
    "# two sets of models.\n",
    "#\n",
    "# You should print something like, for each of the targets:\n",
    "#   Using interview features for target (target) the model scored (score)\n",
    "#   versus using the hiring features where it scored (score)\n",
    "def evaluate(model, x, y, scoring=['r2', 'neg_root_mean_squared_error', 'max_error']):\n",
    "    results = (cross_validate(model, x, y, cv=5, scoring=scoring))\n",
    "    for method in scoring:\n",
    "        print(f'''{method}: {np.max(results['test_'+method])}''')\n",
    "        \n",
    "model_names = [ \"XGBoost Regressor\", \"XGBoost Regressor\", \"XGBoost Classifier\"]\n",
    "scorers = [\n",
    "    ['r2', 'neg_root_mean_squared_error', 'max_error'],\n",
    "    ['r2', 'neg_root_mean_squared_error', 'max_error'],\n",
    "    ['roc_auc', 'f1', 'recall', 'precision']\n",
    "]\n",
    "choices = ['Customer Satisfaction Rating', 'Sales Rating', 'Fired_Fired']\n",
    "for i, model in enumerate(my_interview_models):\n",
    "    print('\\n'+\"=\"*80)\n",
    "    print(choices[i])\n",
    "    print('\\n'+\"-\"*80+'\\n')\n",
    "    print(model_names[i], \"\\tInterview Model\\n\")\n",
    "    evaluate(my_interview_models[i], interview_x_test, interview_y_test[choices[i]],scorers[i])\n",
    "    print('\\n'+\"*\"*80)\n",
    "    print(model_names[i], \"\\tHiring Model\\n\")\n",
    "    evaluate(my_hiring_models[i], hire_x_test, hire_y_test[choices[i]],scorers[i])\n",
    "    print(\"\\n\\n\")"
   ]
  },
  {
   "cell_type": "markdown",
   "metadata": {
    "id": "cOB_29ZQDa5r"
   },
   "source": [
    "## Model Evaluation\n",
    "\n",
    "In this section we'll create example applicants and see how they would fare based on their applications and your models. First, let's create some example applications. We've created four applicants, and you'll need to create a fifth one in the cell below."
   ]
  },
  {
   "cell_type": "code",
   "execution_count": 50,
   "metadata": {
    "ExecuteTime": {
     "end_time": "2020-12-08T06:36:35.276083Z",
     "start_time": "2020-12-08T06:36:35.259067Z"
    },
    "deletable": false,
    "id": "I_mNuuafD1ID",
    "nbgrader": {
     "cell_type": "code",
     "checksum": "1b633f680d8268103d3467dff7fc146b",
     "grade": false,
     "grade_id": "cell-f8b4174a433caec6",
     "locked": false,
     "schema_version": 3,
     "solution": true,
     "task": false
    }
   },
   "outputs": [],
   "source": [
    "applicant_1 = {\n",
    "    'First Name': \"Stefon\",\n",
    "    'Last Name': \"Smith\",\n",
    "    'Date of Birth': \"1989-12-24\",\n",
    "    'Address': \"4892 Jessica Turnpike Suite 781\",\n",
    "    'Zipcode': 86553,\n",
    "    'Gender': \"Male\",\n",
    "    'Race / Ethnicity': \"Caucasian\",\n",
    "    'English Fluency': \"Proficient\",\n",
    "    'Spanish Fluency': \"Basic\",\n",
    "    'Education': \"Associates\",\n",
    "    'High School GPA': 2.9,\n",
    "    'College GPA': 3.1,\n",
    "    'Years of Experience': 5,\n",
    "    'Years of Volunteering': 2,\n",
    "    'Myers Briggs Type': \"ESFJ\",\n",
    "    'Twitter followers': 524,\n",
    "    'Instagram Followers': 857,\n",
    "    'Requires Sponsorship': True\n",
    "}\n",
    "applicant_2 = {\n",
    "    'First Name': \"Sarah\",\n",
    "    'Last Name': \"Chang\",\n",
    "    'Date of Birth': \"1995-04-13\",\n",
    "    'Address': \"9163 Rebecca Loop\",\n",
    "    'Zipcode': 43711,\n",
    "    'Gender': \"Female\",\n",
    "    'Race / Ethnicity': \"Hispanic\",\n",
    "    'English Fluency': \"Fluent\",\n",
    "    'Spanish Fluency': \"Fluent\",\n",
    "    'Education': \"Undergraduate\",\n",
    "    'High School GPA': 4.0,\n",
    "    'College GPA': 3.8,\n",
    "    'Years of Experience': 5,\n",
    "    'Years of Volunteering': 0,\n",
    "    'Myers Briggs Type': \"ISTJ\",\n",
    "    'Twitter followers': 97,\n",
    "    'Instagram Followers': 204,\n",
    "    'Requires Sponsorship': False\n",
    "}\n",
    "applicant_3 = {\n",
    "    'First Name': \"Daniel\",\n",
    "    'Last Name': \"Richardson\",\n",
    "    'Date of Birth': \"1998-10-23\",\n",
    "    'Address': \"436 Lauren Stream\",\n",
    "    'Zipcode': 54821,\n",
    "    'Gender': \"Male\",\n",
    "    'Race / Ethnicity': \"Black\",\n",
    "    'English Fluency': \"Fluent\",\n",
    "    'Spanish Fluency': \"Proficient\",\n",
    "    'Education': \"Undergraduate\",\n",
    "    'High School GPA': 3.0,\n",
    "    'College GPA': 3.2,\n",
    "    'Years of Experience': 1,\n",
    "    'Years of Volunteering': 1,\n",
    "    'Myers Briggs Type': \"ENFJ\",\n",
    "    'Twitter followers': 2087,\n",
    "    'Instagram Followers': 3211,\n",
    "    'Requires Sponsorship': False\n",
    "}\n",
    "\n",
    "applicant_4 = {\n",
    "    'First Name': \"Billy\",\n",
    "    'Last Name': \"Bob\",\n",
    "    'Date of Birth': \"1999-11-03\",\n",
    "    'Address': \"412 Railway Stream\",\n",
    "    'Zipcode': 43711,\n",
    "    'Gender': \"Male\",\n",
    "    'Race / Ethnicity': \"Caucasian\",\n",
    "    'English Fluency': \"Basic\",\n",
    "    'Spanish Fluency': \"Fluent\",\n",
    "    'Education': \"Undergraduate\",\n",
    "    'High School GPA': 2.0,\n",
    "    'College GPA': 3.5,\n",
    "    'Years of Experience': 1,\n",
    "    'Years of Volunteering': 1,\n",
    "    'Myers Briggs Type': \"ENFJ\",\n",
    "    'Twitter followers': 207,\n",
    "    'Instagram Followers': 309,\n",
    "    'Requires Sponsorship': False\n",
    "}\n",
    "\n",
    "# Create a fictional applicant by copying the attributes above from any of the\n",
    "# other applicants and/or adding example values that you would be curious to\n",
    "# see how your model treats. For example, create an applicant you'd be sure to\n",
    "# reject or sure to hire.\n",
    "\n",
    "applicant_5 = {\n",
    "    'First Name': \"Jane\",\n",
    "    'Last Name': \"Doe\",\n",
    "    'Date of Birth': \"1999-11-03\",\n",
    "    'Address': \"412 Railway Stream\",\n",
    "    'Zipcode': 43711,\n",
    "    'Gender': \"Female\",\n",
    "    'Race / Ethnicity': \"Caucasian\",\n",
    "    'English Fluency': \"Fluent\",\n",
    "    'Spanish Fluency': \"Fluent\",\n",
    "    'Education': \"Undergraduate\",\n",
    "    'High School GPA': 4.0,\n",
    "    'College GPA': 4.0,\n",
    "    'Years of Experience': 10,\n",
    "    'Years of Volunteering': 5,\n",
    "    'Myers Briggs Type': \"ENFJ\",\n",
    "    'Twitter followers': 20700,\n",
    "    'Instagram Followers': 30900,\n",
    "    'Requires Sponsorship': False\n",
    "}\n"
   ]
  },
  {
   "cell_type": "code",
   "execution_count": 51,
   "metadata": {
    "ExecuteTime": {
     "end_time": "2020-12-08T06:36:35.367661Z",
     "start_time": "2020-12-08T06:36:35.278083Z"
    },
    "deletable": false,
    "editable": false,
    "id": "VvWLYqtEUE9q",
    "nbgrader": {
     "cell_type": "code",
     "checksum": "8d75f1550e13541f1e138be0f5dd7393",
     "grade": true,
     "grade_id": "cell-5a2332a45ba35b42",
     "locked": true,
     "points": 5,
     "schema_version": 3,
     "solution": false,
     "task": false
    }
   },
   "outputs": [],
   "source": [
    "for key in applicant_4.keys():\n",
    "    assert key in applicant_5.keys()"
   ]
  },
  {
   "cell_type": "code",
   "execution_count": 52,
   "metadata": {
    "ExecuteTime": {
     "end_time": "2020-12-08T06:36:35.443226Z",
     "start_time": "2020-12-08T06:36:35.369162Z"
    },
    "deletable": false,
    "editable": false,
    "id": "BXqD3wgDD1PX",
    "nbgrader": {
     "cell_type": "code",
     "checksum": "a06031e5e9f4360db064b4fc753fb49b",
     "grade": false,
     "grade_id": "cell-2cf93863baeae2d9",
     "locked": true,
     "schema_version": 3,
     "solution": false,
     "task": false
    }
   },
   "outputs": [],
   "source": [
    "new_people = [applicant_1, applicant_2, applicant_3, applicant_4, applicant_5]\n",
    "new_people_df = pd.DataFrame.from_records(new_people)"
   ]
  },
  {
   "cell_type": "code",
   "execution_count": 53,
   "metadata": {
    "ExecuteTime": {
     "end_time": "2020-12-08T06:36:35.541813Z",
     "start_time": "2020-12-08T06:36:35.444728Z"
    }
   },
   "outputs": [
    {
     "data": {
      "text/html": [
       "<div>\n",
       "<style scoped>\n",
       "    .dataframe tbody tr th:only-of-type {\n",
       "        vertical-align: middle;\n",
       "    }\n",
       "\n",
       "    .dataframe tbody tr th {\n",
       "        vertical-align: top;\n",
       "    }\n",
       "\n",
       "    .dataframe thead th {\n",
       "        text-align: right;\n",
       "    }\n",
       "</style>\n",
       "<table border=\"1\" class=\"dataframe\">\n",
       "  <thead>\n",
       "    <tr style=\"text-align: right;\">\n",
       "      <th></th>\n",
       "      <th>First Name</th>\n",
       "      <th>Last Name</th>\n",
       "      <th>Date of Birth</th>\n",
       "      <th>Address</th>\n",
       "      <th>Zipcode</th>\n",
       "      <th>Gender</th>\n",
       "      <th>Race / Ethnicity</th>\n",
       "      <th>English Fluency</th>\n",
       "      <th>Spanish Fluency</th>\n",
       "      <th>Education</th>\n",
       "      <th>High School GPA</th>\n",
       "      <th>College GPA</th>\n",
       "      <th>Years of Experience</th>\n",
       "      <th>Years of Volunteering</th>\n",
       "      <th>Myers Briggs Type</th>\n",
       "      <th>Twitter followers</th>\n",
       "      <th>Instagram Followers</th>\n",
       "      <th>Requires Sponsorship</th>\n",
       "    </tr>\n",
       "  </thead>\n",
       "  <tbody>\n",
       "    <tr>\n",
       "      <th>0</th>\n",
       "      <td>Stefon</td>\n",
       "      <td>Smith</td>\n",
       "      <td>1989-12-24</td>\n",
       "      <td>4892 Jessica Turnpike Suite 781</td>\n",
       "      <td>86553</td>\n",
       "      <td>Male</td>\n",
       "      <td>Caucasian</td>\n",
       "      <td>Proficient</td>\n",
       "      <td>Basic</td>\n",
       "      <td>Associates</td>\n",
       "      <td>2.9</td>\n",
       "      <td>3.1</td>\n",
       "      <td>5</td>\n",
       "      <td>2</td>\n",
       "      <td>ESFJ</td>\n",
       "      <td>524</td>\n",
       "      <td>857</td>\n",
       "      <td>True</td>\n",
       "    </tr>\n",
       "    <tr>\n",
       "      <th>1</th>\n",
       "      <td>Sarah</td>\n",
       "      <td>Chang</td>\n",
       "      <td>1995-04-13</td>\n",
       "      <td>9163 Rebecca Loop</td>\n",
       "      <td>43711</td>\n",
       "      <td>Female</td>\n",
       "      <td>Hispanic</td>\n",
       "      <td>Fluent</td>\n",
       "      <td>Fluent</td>\n",
       "      <td>Undergraduate</td>\n",
       "      <td>4.0</td>\n",
       "      <td>3.8</td>\n",
       "      <td>5</td>\n",
       "      <td>0</td>\n",
       "      <td>ISTJ</td>\n",
       "      <td>97</td>\n",
       "      <td>204</td>\n",
       "      <td>False</td>\n",
       "    </tr>\n",
       "    <tr>\n",
       "      <th>2</th>\n",
       "      <td>Daniel</td>\n",
       "      <td>Richardson</td>\n",
       "      <td>1998-10-23</td>\n",
       "      <td>436 Lauren Stream</td>\n",
       "      <td>54821</td>\n",
       "      <td>Male</td>\n",
       "      <td>Black</td>\n",
       "      <td>Fluent</td>\n",
       "      <td>Proficient</td>\n",
       "      <td>Undergraduate</td>\n",
       "      <td>3.0</td>\n",
       "      <td>3.2</td>\n",
       "      <td>1</td>\n",
       "      <td>1</td>\n",
       "      <td>ENFJ</td>\n",
       "      <td>2087</td>\n",
       "      <td>3211</td>\n",
       "      <td>False</td>\n",
       "    </tr>\n",
       "    <tr>\n",
       "      <th>3</th>\n",
       "      <td>Billy</td>\n",
       "      <td>Bob</td>\n",
       "      <td>1999-11-03</td>\n",
       "      <td>412 Railway Stream</td>\n",
       "      <td>43711</td>\n",
       "      <td>Male</td>\n",
       "      <td>Caucasian</td>\n",
       "      <td>Basic</td>\n",
       "      <td>Fluent</td>\n",
       "      <td>Undergraduate</td>\n",
       "      <td>2.0</td>\n",
       "      <td>3.5</td>\n",
       "      <td>1</td>\n",
       "      <td>1</td>\n",
       "      <td>ENFJ</td>\n",
       "      <td>207</td>\n",
       "      <td>309</td>\n",
       "      <td>False</td>\n",
       "    </tr>\n",
       "    <tr>\n",
       "      <th>4</th>\n",
       "      <td>Jane</td>\n",
       "      <td>Doe</td>\n",
       "      <td>1999-11-03</td>\n",
       "      <td>412 Railway Stream</td>\n",
       "      <td>43711</td>\n",
       "      <td>Female</td>\n",
       "      <td>Caucasian</td>\n",
       "      <td>Fluent</td>\n",
       "      <td>Fluent</td>\n",
       "      <td>Undergraduate</td>\n",
       "      <td>4.0</td>\n",
       "      <td>4.0</td>\n",
       "      <td>10</td>\n",
       "      <td>5</td>\n",
       "      <td>ENFJ</td>\n",
       "      <td>20700</td>\n",
       "      <td>30900</td>\n",
       "      <td>False</td>\n",
       "    </tr>\n",
       "  </tbody>\n",
       "</table>\n",
       "</div>"
      ],
      "text/plain": [
       "  First Name   Last Name Date of Birth                          Address  \\\n",
       "0     Stefon       Smith    1989-12-24  4892 Jessica Turnpike Suite 781   \n",
       "1      Sarah       Chang    1995-04-13                9163 Rebecca Loop   \n",
       "2     Daniel  Richardson    1998-10-23                436 Lauren Stream   \n",
       "3      Billy         Bob    1999-11-03               412 Railway Stream   \n",
       "4       Jane         Doe    1999-11-03               412 Railway Stream   \n",
       "\n",
       "   Zipcode  Gender Race / Ethnicity English Fluency Spanish Fluency  \\\n",
       "0    86553    Male        Caucasian      Proficient           Basic   \n",
       "1    43711  Female         Hispanic          Fluent          Fluent   \n",
       "2    54821    Male            Black          Fluent      Proficient   \n",
       "3    43711    Male        Caucasian           Basic          Fluent   \n",
       "4    43711  Female        Caucasian          Fluent          Fluent   \n",
       "\n",
       "       Education  High School GPA  College GPA  Years of Experience  \\\n",
       "0     Associates              2.9          3.1                    5   \n",
       "1  Undergraduate              4.0          3.8                    5   \n",
       "2  Undergraduate              3.0          3.2                    1   \n",
       "3  Undergraduate              2.0          3.5                    1   \n",
       "4  Undergraduate              4.0          4.0                   10   \n",
       "\n",
       "   Years of Volunteering Myers Briggs Type  Twitter followers  \\\n",
       "0                      2              ESFJ                524   \n",
       "1                      0              ISTJ                 97   \n",
       "2                      1              ENFJ               2087   \n",
       "3                      1              ENFJ                207   \n",
       "4                      5              ENFJ              20700   \n",
       "\n",
       "   Instagram Followers  Requires Sponsorship  \n",
       "0                  857                  True  \n",
       "1                  204                 False  \n",
       "2                 3211                 False  \n",
       "3                  309                 False  \n",
       "4                30900                 False  "
      ]
     },
     "execution_count": 53,
     "metadata": {},
     "output_type": "execute_result"
    }
   ],
   "source": [
    "new_people_df"
   ]
  },
  {
   "cell_type": "markdown",
   "metadata": {
    "id": "7izcLclbHjNA"
   },
   "source": [
    "### Future Applicants Data Cleaning\n",
    "\n"
   ]
  },
  {
   "cell_type": "code",
   "execution_count": 54,
   "metadata": {
    "ExecuteTime": {
     "end_time": "2020-12-08T06:36:35.660414Z",
     "start_time": "2020-12-08T06:36:35.543817Z"
    },
    "deletable": false,
    "id": "Ue9L02lED1Xn",
    "nbgrader": {
     "cell_type": "code",
     "checksum": "823bca69f4da6cc87e4800ff6d74e8f3",
     "grade": false,
     "grade_id": "cell-e8d9072c79ce7dab",
     "locked": false,
     "schema_version": 3,
     "solution": true,
     "task": false
    }
   },
   "outputs": [],
   "source": [
    "# Apply all the cleaning and dummy variable creation you did above to this new\n",
    "# DataFrame. You can copy your code from above and modify it to apply to\n",
    "# new_people_df instead of df.\n",
    "\n",
    "def preprocess_df(df):\n",
    "    df = convertMBT(df)\n",
    "    dummies = pd.get_dummies(df[categorical_columns], drop_first=False)\n",
    "    df = pd.concat([df, dummies],axis=1)\n",
    "    df = df.drop(categorical_columns, axis=1)\n",
    "    for index, row in df.iterrows():\n",
    "        dob = row['Date of Birth'].split(\"-\")\n",
    "        dob = date(int(dob[0]), int(dob[1]), int(dob[2]))\n",
    "        df.at[index,'Age'] = calculate_age(dob)\n",
    "\n",
    "    df = df.drop([\"Date of Birth\"], axis=1)\n",
    "    df.fillna(df.mean(), inplace=True)\n",
    "    return df\n",
    "\n",
    "categorical_columns = ['Gender', 'Zipcode', 'Race / Ethnicity', 'English Fluency',\n",
    "                       'Spanish Fluency', 'Education', 'MBTI_EI', 'MBTI_SN', 'MBTI_TF', 'MBTI_JP']\n",
    "new_people_df = preprocess_df(new_people_df)"
   ]
  },
  {
   "cell_type": "code",
   "execution_count": 55,
   "metadata": {
    "ExecuteTime": {
     "end_time": "2020-12-08T06:36:35.750991Z",
     "start_time": "2020-12-08T06:36:35.661915Z"
    },
    "id": "vh8eVaGmOkNB"
   },
   "outputs": [
    {
     "data": {
      "text/html": [
       "<div>\n",
       "<style scoped>\n",
       "    .dataframe tbody tr th:only-of-type {\n",
       "        vertical-align: middle;\n",
       "    }\n",
       "\n",
       "    .dataframe tbody tr th {\n",
       "        vertical-align: top;\n",
       "    }\n",
       "\n",
       "    .dataframe thead th {\n",
       "        text-align: right;\n",
       "    }\n",
       "</style>\n",
       "<table border=\"1\" class=\"dataframe\">\n",
       "  <thead>\n",
       "    <tr style=\"text-align: right;\">\n",
       "      <th></th>\n",
       "      <th>First Name</th>\n",
       "      <th>Last Name</th>\n",
       "      <th>Address</th>\n",
       "      <th>High School GPA</th>\n",
       "      <th>College GPA</th>\n",
       "      <th>Years of Experience</th>\n",
       "      <th>Years of Volunteering</th>\n",
       "      <th>Twitter followers</th>\n",
       "      <th>Instagram Followers</th>\n",
       "      <th>Requires Sponsorship</th>\n",
       "      <th>...</th>\n",
       "      <th>Education_Associates</th>\n",
       "      <th>Education_Undergraduate</th>\n",
       "      <th>MBTI_EI_E</th>\n",
       "      <th>MBTI_EI_I</th>\n",
       "      <th>MBTI_SN_N</th>\n",
       "      <th>MBTI_SN_S</th>\n",
       "      <th>MBTI_TF_F</th>\n",
       "      <th>MBTI_TF_T</th>\n",
       "      <th>MBTI_JP_J</th>\n",
       "      <th>Age</th>\n",
       "    </tr>\n",
       "  </thead>\n",
       "  <tbody>\n",
       "    <tr>\n",
       "      <th>0</th>\n",
       "      <td>Stefon</td>\n",
       "      <td>Smith</td>\n",
       "      <td>4892 Jessica Turnpike Suite 781</td>\n",
       "      <td>2.9</td>\n",
       "      <td>3.1</td>\n",
       "      <td>5</td>\n",
       "      <td>2</td>\n",
       "      <td>524</td>\n",
       "      <td>857</td>\n",
       "      <td>True</td>\n",
       "      <td>...</td>\n",
       "      <td>1</td>\n",
       "      <td>0</td>\n",
       "      <td>1</td>\n",
       "      <td>0</td>\n",
       "      <td>0</td>\n",
       "      <td>1</td>\n",
       "      <td>1</td>\n",
       "      <td>0</td>\n",
       "      <td>1</td>\n",
       "      <td>30.0</td>\n",
       "    </tr>\n",
       "    <tr>\n",
       "      <th>1</th>\n",
       "      <td>Sarah</td>\n",
       "      <td>Chang</td>\n",
       "      <td>9163 Rebecca Loop</td>\n",
       "      <td>4.0</td>\n",
       "      <td>3.8</td>\n",
       "      <td>5</td>\n",
       "      <td>0</td>\n",
       "      <td>97</td>\n",
       "      <td>204</td>\n",
       "      <td>False</td>\n",
       "      <td>...</td>\n",
       "      <td>0</td>\n",
       "      <td>1</td>\n",
       "      <td>0</td>\n",
       "      <td>1</td>\n",
       "      <td>0</td>\n",
       "      <td>1</td>\n",
       "      <td>0</td>\n",
       "      <td>1</td>\n",
       "      <td>1</td>\n",
       "      <td>25.0</td>\n",
       "    </tr>\n",
       "    <tr>\n",
       "      <th>2</th>\n",
       "      <td>Daniel</td>\n",
       "      <td>Richardson</td>\n",
       "      <td>436 Lauren Stream</td>\n",
       "      <td>3.0</td>\n",
       "      <td>3.2</td>\n",
       "      <td>1</td>\n",
       "      <td>1</td>\n",
       "      <td>2087</td>\n",
       "      <td>3211</td>\n",
       "      <td>False</td>\n",
       "      <td>...</td>\n",
       "      <td>0</td>\n",
       "      <td>1</td>\n",
       "      <td>1</td>\n",
       "      <td>0</td>\n",
       "      <td>1</td>\n",
       "      <td>0</td>\n",
       "      <td>1</td>\n",
       "      <td>0</td>\n",
       "      <td>1</td>\n",
       "      <td>22.0</td>\n",
       "    </tr>\n",
       "    <tr>\n",
       "      <th>3</th>\n",
       "      <td>Billy</td>\n",
       "      <td>Bob</td>\n",
       "      <td>412 Railway Stream</td>\n",
       "      <td>2.0</td>\n",
       "      <td>3.5</td>\n",
       "      <td>1</td>\n",
       "      <td>1</td>\n",
       "      <td>207</td>\n",
       "      <td>309</td>\n",
       "      <td>False</td>\n",
       "      <td>...</td>\n",
       "      <td>0</td>\n",
       "      <td>1</td>\n",
       "      <td>1</td>\n",
       "      <td>0</td>\n",
       "      <td>1</td>\n",
       "      <td>0</td>\n",
       "      <td>1</td>\n",
       "      <td>0</td>\n",
       "      <td>1</td>\n",
       "      <td>21.0</td>\n",
       "    </tr>\n",
       "    <tr>\n",
       "      <th>4</th>\n",
       "      <td>Jane</td>\n",
       "      <td>Doe</td>\n",
       "      <td>412 Railway Stream</td>\n",
       "      <td>4.0</td>\n",
       "      <td>4.0</td>\n",
       "      <td>10</td>\n",
       "      <td>5</td>\n",
       "      <td>20700</td>\n",
       "      <td>30900</td>\n",
       "      <td>False</td>\n",
       "      <td>...</td>\n",
       "      <td>0</td>\n",
       "      <td>1</td>\n",
       "      <td>1</td>\n",
       "      <td>0</td>\n",
       "      <td>1</td>\n",
       "      <td>0</td>\n",
       "      <td>1</td>\n",
       "      <td>0</td>\n",
       "      <td>1</td>\n",
       "      <td>21.0</td>\n",
       "    </tr>\n",
       "  </tbody>\n",
       "</table>\n",
       "<p>5 rows × 31 columns</p>\n",
       "</div>"
      ],
      "text/plain": [
       "  First Name   Last Name                          Address  High School GPA  \\\n",
       "0     Stefon       Smith  4892 Jessica Turnpike Suite 781              2.9   \n",
       "1      Sarah       Chang                9163 Rebecca Loop              4.0   \n",
       "2     Daniel  Richardson                436 Lauren Stream              3.0   \n",
       "3      Billy         Bob               412 Railway Stream              2.0   \n",
       "4       Jane         Doe               412 Railway Stream              4.0   \n",
       "\n",
       "   College GPA  Years of Experience  Years of Volunteering  Twitter followers  \\\n",
       "0          3.1                    5                      2                524   \n",
       "1          3.8                    5                      0                 97   \n",
       "2          3.2                    1                      1               2087   \n",
       "3          3.5                    1                      1                207   \n",
       "4          4.0                   10                      5              20700   \n",
       "\n",
       "   Instagram Followers  Requires Sponsorship  ...  Education_Associates  \\\n",
       "0                  857                  True  ...                     1   \n",
       "1                  204                 False  ...                     0   \n",
       "2                 3211                 False  ...                     0   \n",
       "3                  309                 False  ...                     0   \n",
       "4                30900                 False  ...                     0   \n",
       "\n",
       "   Education_Undergraduate  MBTI_EI_E  MBTI_EI_I  MBTI_SN_N  MBTI_SN_S  \\\n",
       "0                        0          1          0          0          1   \n",
       "1                        1          0          1          0          1   \n",
       "2                        1          1          0          1          0   \n",
       "3                        1          1          0          1          0   \n",
       "4                        1          1          0          1          0   \n",
       "\n",
       "   MBTI_TF_F  MBTI_TF_T  MBTI_JP_J   Age  \n",
       "0          1          0          1  30.0  \n",
       "1          0          1          1  25.0  \n",
       "2          1          0          1  22.0  \n",
       "3          1          0          1  21.0  \n",
       "4          1          0          1  21.0  \n",
       "\n",
       "[5 rows x 31 columns]"
      ]
     },
     "execution_count": 55,
     "metadata": {},
     "output_type": "execute_result"
    }
   ],
   "source": [
    "new_people_df"
   ]
  },
  {
   "cell_type": "code",
   "execution_count": 56,
   "metadata": {
    "ExecuteTime": {
     "end_time": "2020-12-08T06:36:35.846572Z",
     "start_time": "2020-12-08T06:36:35.752491Z"
    }
   },
   "outputs": [],
   "source": [
    "for i, feature in enumerate(interview_features):\n",
    "    if feature not in new_people_df.columns: interview_features.pop(i) \n",
    "for i, feature in enumerate(hire_features):\n",
    "    if feature not in new_people_df.columns: hire_features.pop(i)"
   ]
  },
  {
   "cell_type": "code",
   "execution_count": 57,
   "metadata": {
    "ExecuteTime": {
     "end_time": "2020-12-08T06:36:35.934148Z",
     "start_time": "2020-12-08T06:36:35.848074Z"
    },
    "deletable": false,
    "editable": false,
    "id": "fp8p3gdiD1NN",
    "nbgrader": {
     "cell_type": "code",
     "checksum": "851b90d71f4377ba57be9db912cca89d",
     "grade": true,
     "grade_id": "cell-f9226b28d96f00a8",
     "locked": true,
     "points": 10,
     "schema_version": 3,
     "solution": false,
     "task": false
    }
   },
   "outputs": [],
   "source": [
    "for feature in interview_features:\n",
    "    assert feature in new_people_df.columns\n",
    "for feature in hire_features:\n",
    "    assert feature in new_people_df.columns"
   ]
  },
  {
   "cell_type": "markdown",
   "metadata": {
    "id": "sUfDigqdHir7"
   },
   "source": [
    "### Future Applicant Model(s) Predictions\n",
    "\n",
    "Now let's predict what the applicants' scores would be. Use your `best_interview_model` and `best_hire_model` to predict their scores."
   ]
  },
  {
   "cell_type": "code",
   "execution_count": 58,
   "metadata": {
    "ExecuteTime": {
     "end_time": "2020-12-08T06:36:36.029729Z",
     "start_time": "2020-12-08T06:36:35.936149Z"
    },
    "deletable": false,
    "id": "yDbBZnIvHTGq",
    "nbgrader": {
     "cell_type": "code",
     "checksum": "138d3d03cc063c83b89a4cf2212d5d54",
     "grade": false,
     "grade_id": "cell-8ecd71076203ea0e",
     "locked": false,
     "schema_version": 3,
     "solution": true,
     "task": false
    }
   },
   "outputs": [
    {
     "name": "stdout",
     "output_type": "stream",
     "text": [
      "[{'Customer Satisfaction Rating': 2.1607285, 'Sales Rating': 2.047553, 'Fired_Fired': 1}, {'Customer Satisfaction Rating': 1.8108281, 'Sales Rating': 1.9719129, 'Fired_Fired': 1}, {'Customer Satisfaction Rating': 1.2477419, 'Sales Rating': 1.2628446, 'Fired_Fired': 1}, {'Customer Satisfaction Rating': 1.0187082, 'Sales Rating': 1.1003184, 'Fired_Fired': 1}, {'Customer Satisfaction Rating': 3.9259496, 'Sales Rating': 3.736687, 'Fired_Fired': 1}]\n",
      "\n",
      "********************************************************************************\n",
      "\n",
      "[{'Customer Satisfaction Rating': 2.1607285, 'Sales Rating': 2.047553, 'Fired_Fired': 0}, {'Customer Satisfaction Rating': 1.8108281, 'Sales Rating': 1.9719129, 'Fired_Fired': 0}, {'Customer Satisfaction Rating': 1.2477419, 'Sales Rating': 1.2628446, 'Fired_Fired': 0}, {'Customer Satisfaction Rating': 1.0187082, 'Sales Rating': 1.1003184, 'Fired_Fired': 0}, {'Customer Satisfaction Rating': 3.9259496, 'Sales Rating': 3.736687, 'Fired_Fired': 0}]\n"
     ]
    }
   ],
   "source": [
    "# Save your predictions as new_people_interview and new_people_hire.\n",
    "# Each of these should be a list of dictionaries, with one dictionery for\n",
    "# each applicant. The keys of the dictionaries should be the same as the\n",
    "# elements/strings in the \"targets\" list you created above.\n",
    "\n",
    "new_people_interview_features = new_people_df[interview_features]\n",
    "new_people_hire_features = new_people_df[hire_features]\n",
    "interview_satisfaction_pred = my_interview_models[0].predict(new_people_interview_features)\n",
    "interview_sales_pred = my_interview_models[1].predict(new_people_interview_features)\n",
    "interview_fired_pred = my_interview_models[2].predict(new_people_interview_features)\n",
    "hiring_satisfaction_pred = my_interview_models[0].predict(new_people_hire_features)\n",
    "hiring_sales_pred = my_hiring_models[1].predict(new_people_hire_features)\n",
    "hiring_fired_pred = my_hiring_models[2].predict(new_people_hire_features)\n",
    "\n",
    "new_people_interview = []\n",
    "new_people_hire = []\n",
    "\n",
    "for j, person in enumerate(new_people):\n",
    "    new_people_interview.append({targets[0]: interview_satisfaction_pred[j],\n",
    "                                 targets[1]: interview_sales_pred[j],\n",
    "                                 targets[2]: interview_fired_pred[j]})\n",
    "    new_people_hire.append({targets[0]: hiring_satisfaction_pred[j],\n",
    "                            targets[1]: hiring_sales_pred[j],\n",
    "                            targets[2]: hiring_fired_pred[j]})\n",
    "print(new_people_interview)\n",
    "print('\\n'+\"*\"*80+\"\\n\")\n",
    "print(new_people_hire)"
   ]
  },
  {
   "cell_type": "code",
   "execution_count": 59,
   "metadata": {
    "ExecuteTime": {
     "end_time": "2020-12-08T06:36:36.102292Z",
     "start_time": "2020-12-08T06:36:36.031231Z"
    },
    "deletable": false,
    "editable": false,
    "id": "rooCaeaeHzjX",
    "nbgrader": {
     "cell_type": "code",
     "checksum": "0d8e0f1f97905aa3f29301220a68f14c",
     "grade": true,
     "grade_id": "cell-6c696e5279f751cc",
     "locked": true,
     "points": 30,
     "schema_version": 3,
     "solution": false,
     "task": false
    }
   },
   "outputs": [],
   "source": [
    "for new_person_interview in new_people_interview:\n",
    "    for key in targets:\n",
    "        assert key in new_person_interview.keys()\n",
    "\n",
    "for new_person_hire in new_people_hire:\n",
    "    for key in targets:\n",
    "        assert key in new_person_hire.keys()"
   ]
  },
  {
   "cell_type": "markdown",
   "metadata": {
    "id": "enVnHJUsIoso"
   },
   "source": [
    "### Ranking Evaluation\n",
    "\n",
    "Your manager notes that given that you might have more than one prediction target, the model predictions aren't really ranking or selecting people. There is no \"best\" person because there's more than one metric to look through. A human still needs to look through the predictions so your models don't yet really do what SellsALOT has asked for.\n",
    "\n",
    "Your manager asks you to create a synthetic scalar variable that is calculated from the multiple target predictions of an individual person. That way we'll have one metric by which we can rank people. You need to create that synthetic metric (score).\n",
    "\n",
    "Some candidate approaches:\n",
    "\n",
    "1. Incorporating a binary value, x:\n",
    "    - You can multiply x by some arbitrary value and add/subtract it to/from the total score:\n",
    "      - score = t1 + t2 * x\n",
    "    - You can multiple your entire score output by the binary value to say something like \"if not x, then  score is 0\", e.g.:\n",
    "      - score = x * (t1 + t2)\n",
    "1. Balancing between different target values:\n",
    "    - You can balance between different values by adding a multiplier (if t1 is twice as important as t2, then the score can be something like:\n",
    "     - score = 2 * t1 + t2\n",
    "1. Some combination of the items above\n",
    "1. Something creative you devise on your own!"
   ]
  },
  {
   "cell_type": "code",
   "execution_count": 60,
   "metadata": {
    "ExecuteTime": {
     "end_time": "2020-12-08T06:36:36.200376Z",
     "start_time": "2020-12-08T06:36:36.103793Z"
    },
    "deletable": false,
    "id": "-PJoR68cInMi",
    "nbgrader": {
     "cell_type": "code",
     "checksum": "a20a434440cbaa8f2424bdc7bef7412d",
     "grade": false,
     "grade_id": "cell-d639d76def9446d0",
     "locked": false,
     "schema_version": 3,
     "solution": true,
     "task": false
    }
   },
   "outputs": [],
   "source": [
    "def calculate_synthetic_metric(targets):\n",
    "    \"\"\"Calculates a synthetic matric based on the targets of an individual\n",
    "    Your metric should result in a higher score being a better one\n",
    "\n",
    "    Args:\n",
    "      targets (dict): The dictionary with keys as the target names and\n",
    "                      values as the target values/predictions\n",
    "\n",
    "    Returns:\n",
    "      float: The synthetic score produced from \n",
    "    \"\"\"\n",
    "    if isinstance(targets, dict): targets = list(targets.values())\n",
    "    const = 1.1\n",
    "    score = (targets[0] + targets[1])\n",
    "    if targets[2] != 1: score *= const\n",
    "    return score\n",
    "        "
   ]
  },
  {
   "cell_type": "markdown",
   "metadata": {
    "id": "A658jUL-Kxpu"
   },
   "source": [
    "Let's try out the synthetic metric on the original data and see if you're happy with the result based on the past data."
   ]
  },
  {
   "cell_type": "code",
   "execution_count": 61,
   "metadata": {
    "ExecuteTime": {
     "end_time": "2020-12-08T06:36:36.333991Z",
     "start_time": "2020-12-08T06:36:36.202378Z"
    },
    "deletable": false,
    "id": "RaTPe6B8Ksho",
    "nbgrader": {
     "cell_type": "code",
     "checksum": "1bdafa196b6b229524601ae3a2b95b56",
     "grade": false,
     "grade_id": "cell-3d6e8af884146387",
     "locked": false,
     "schema_version": 3,
     "solution": true,
     "task": false
    }
   },
   "outputs": [],
   "source": [
    "# Add a column named \"Metric\" to the **original** DataFrame with the synthetic metric applied to each row\n",
    "df['Metric'] = df[targets].apply(lambda x: calculate_synthetic_metric(x), axis=1)"
   ]
  },
  {
   "cell_type": "code",
   "execution_count": 62,
   "metadata": {
    "ExecuteTime": {
     "end_time": "2020-12-08T06:36:36.423568Z",
     "start_time": "2020-12-08T06:36:36.335493Z"
    },
    "id": "NcnVkFH0LJs5"
   },
   "outputs": [
    {
     "data": {
      "text/html": [
       "<div>\n",
       "<style scoped>\n",
       "    .dataframe tbody tr th:only-of-type {\n",
       "        vertical-align: middle;\n",
       "    }\n",
       "\n",
       "    .dataframe tbody tr th {\n",
       "        vertical-align: top;\n",
       "    }\n",
       "\n",
       "    .dataframe thead th {\n",
       "        text-align: right;\n",
       "    }\n",
       "</style>\n",
       "<table border=\"1\" class=\"dataframe\">\n",
       "  <thead>\n",
       "    <tr style=\"text-align: right;\">\n",
       "      <th></th>\n",
       "      <th>First Name</th>\n",
       "      <th>Last Name</th>\n",
       "      <th>Address</th>\n",
       "      <th>High School GPA</th>\n",
       "      <th>College GPA</th>\n",
       "      <th>Years of Experience</th>\n",
       "      <th>Years of Volunteering</th>\n",
       "      <th>Twitter followers</th>\n",
       "      <th>Instagram Followers</th>\n",
       "      <th>Requires Sponsorship</th>\n",
       "      <th>...</th>\n",
       "      <th>MBTI_SN_N</th>\n",
       "      <th>MBTI_SN_S</th>\n",
       "      <th>MBTI_TF_F</th>\n",
       "      <th>MBTI_TF_T</th>\n",
       "      <th>MBTI_JP_J</th>\n",
       "      <th>MBTI_JP_P</th>\n",
       "      <th>Fired_Current Employee</th>\n",
       "      <th>Fired_Fired</th>\n",
       "      <th>Age</th>\n",
       "      <th>Metric</th>\n",
       "    </tr>\n",
       "  </thead>\n",
       "  <tbody>\n",
       "    <tr>\n",
       "      <th>0</th>\n",
       "      <td>Sarah</td>\n",
       "      <td>Chang</td>\n",
       "      <td>764 Howard Tunnel</td>\n",
       "      <td>3.10</td>\n",
       "      <td>2.52</td>\n",
       "      <td>8.8</td>\n",
       "      <td>0.0</td>\n",
       "      <td>693</td>\n",
       "      <td>1108</td>\n",
       "      <td>False</td>\n",
       "      <td>...</td>\n",
       "      <td>0</td>\n",
       "      <td>1</td>\n",
       "      <td>0</td>\n",
       "      <td>1</td>\n",
       "      <td>1</td>\n",
       "      <td>0</td>\n",
       "      <td>1</td>\n",
       "      <td>0</td>\n",
       "      <td>30.0</td>\n",
       "      <td>4.708</td>\n",
       "    </tr>\n",
       "    <tr>\n",
       "      <th>1</th>\n",
       "      <td>Daniel</td>\n",
       "      <td>Taylor</td>\n",
       "      <td>4892 Jessica Turnpike Suite 781</td>\n",
       "      <td>3.02</td>\n",
       "      <td>3.90</td>\n",
       "      <td>13.7</td>\n",
       "      <td>0.0</td>\n",
       "      <td>507</td>\n",
       "      <td>1259</td>\n",
       "      <td>False</td>\n",
       "      <td>...</td>\n",
       "      <td>0</td>\n",
       "      <td>1</td>\n",
       "      <td>1</td>\n",
       "      <td>0</td>\n",
       "      <td>1</td>\n",
       "      <td>0</td>\n",
       "      <td>1</td>\n",
       "      <td>0</td>\n",
       "      <td>35.0</td>\n",
       "      <td>6.985</td>\n",
       "    </tr>\n",
       "    <tr>\n",
       "      <th>2</th>\n",
       "      <td>Heather</td>\n",
       "      <td>Stewart</td>\n",
       "      <td>778 Linda Orchard Apt. 609</td>\n",
       "      <td>2.95</td>\n",
       "      <td>2.63</td>\n",
       "      <td>5.2</td>\n",
       "      <td>0.0</td>\n",
       "      <td>599</td>\n",
       "      <td>868</td>\n",
       "      <td>False</td>\n",
       "      <td>...</td>\n",
       "      <td>1</td>\n",
       "      <td>0</td>\n",
       "      <td>1</td>\n",
       "      <td>0</td>\n",
       "      <td>0</td>\n",
       "      <td>1</td>\n",
       "      <td>1</td>\n",
       "      <td>0</td>\n",
       "      <td>27.0</td>\n",
       "      <td>3.146</td>\n",
       "    </tr>\n",
       "    <tr>\n",
       "      <th>3</th>\n",
       "      <td>Katherine</td>\n",
       "      <td>Dillon</td>\n",
       "      <td>139 Linda Crossroad Suite 115</td>\n",
       "      <td>3.99</td>\n",
       "      <td>3.88</td>\n",
       "      <td>12.5</td>\n",
       "      <td>0.0</td>\n",
       "      <td>1321</td>\n",
       "      <td>889</td>\n",
       "      <td>True</td>\n",
       "      <td>...</td>\n",
       "      <td>0</td>\n",
       "      <td>1</td>\n",
       "      <td>1</td>\n",
       "      <td>0</td>\n",
       "      <td>0</td>\n",
       "      <td>1</td>\n",
       "      <td>1</td>\n",
       "      <td>0</td>\n",
       "      <td>33.0</td>\n",
       "      <td>6.061</td>\n",
       "    </tr>\n",
       "    <tr>\n",
       "      <th>4</th>\n",
       "      <td>Sheri</td>\n",
       "      <td>Bolton</td>\n",
       "      <td>1858 Lauren Orchard</td>\n",
       "      <td>3.82</td>\n",
       "      <td>3.30</td>\n",
       "      <td>7.0</td>\n",
       "      <td>0.0</td>\n",
       "      <td>414</td>\n",
       "      <td>13760</td>\n",
       "      <td>True</td>\n",
       "      <td>...</td>\n",
       "      <td>0</td>\n",
       "      <td>1</td>\n",
       "      <td>1</td>\n",
       "      <td>0</td>\n",
       "      <td>1</td>\n",
       "      <td>0</td>\n",
       "      <td>1</td>\n",
       "      <td>0</td>\n",
       "      <td>29.0</td>\n",
       "      <td>4.092</td>\n",
       "    </tr>\n",
       "  </tbody>\n",
       "</table>\n",
       "<p>5 rows × 50 columns</p>\n",
       "</div>"
      ],
      "text/plain": [
       "  First Name Last Name                          Address  High School GPA  \\\n",
       "0      Sarah     Chang                764 Howard Tunnel             3.10   \n",
       "1     Daniel    Taylor  4892 Jessica Turnpike Suite 781             3.02   \n",
       "2    Heather   Stewart       778 Linda Orchard Apt. 609             2.95   \n",
       "3  Katherine    Dillon    139 Linda Crossroad Suite 115             3.99   \n",
       "4      Sheri    Bolton              1858 Lauren Orchard             3.82   \n",
       "\n",
       "   College GPA  Years of Experience  Years of Volunteering  Twitter followers  \\\n",
       "0         2.52                  8.8                    0.0                693   \n",
       "1         3.90                 13.7                    0.0                507   \n",
       "2         2.63                  5.2                    0.0                599   \n",
       "3         3.88                 12.5                    0.0               1321   \n",
       "4         3.30                  7.0                    0.0                414   \n",
       "\n",
       "   Instagram Followers  Requires Sponsorship  ...  MBTI_SN_N  MBTI_SN_S  \\\n",
       "0                 1108                 False  ...          0          1   \n",
       "1                 1259                 False  ...          0          1   \n",
       "2                  868                 False  ...          1          0   \n",
       "3                  889                  True  ...          0          1   \n",
       "4                13760                  True  ...          0          1   \n",
       "\n",
       "   MBTI_TF_F  MBTI_TF_T  MBTI_JP_J  MBTI_JP_P  Fired_Current Employee  \\\n",
       "0          0          1          1          0                       1   \n",
       "1          1          0          1          0                       1   \n",
       "2          1          0          0          1                       1   \n",
       "3          1          0          0          1                       1   \n",
       "4          1          0          1          0                       1   \n",
       "\n",
       "   Fired_Fired   Age  Metric  \n",
       "0            0  30.0   4.708  \n",
       "1            0  35.0   6.985  \n",
       "2            0  27.0   3.146  \n",
       "3            0  33.0   6.061  \n",
       "4            0  29.0   4.092  \n",
       "\n",
       "[5 rows x 50 columns]"
      ]
     },
     "execution_count": 62,
     "metadata": {},
     "output_type": "execute_result"
    }
   ],
   "source": [
    "df.head()"
   ]
  },
  {
   "cell_type": "code",
   "execution_count": 63,
   "metadata": {
    "ExecuteTime": {
     "end_time": "2020-12-08T06:36:36.494130Z",
     "start_time": "2020-12-08T06:36:36.424569Z"
    },
    "deletable": false,
    "editable": false,
    "id": "jztW-KZrIKSw",
    "nbgrader": {
     "cell_type": "code",
     "checksum": "2d8e68ef16698c391051af8b5507f0ed",
     "grade": true,
     "grade_id": "cell-bdb5b26a22302883",
     "locked": true,
     "points": 10,
     "schema_version": 3,
     "solution": false,
     "task": false
    }
   },
   "outputs": [],
   "source": [
    "assert \"Metric\" in df.columns\n",
    "assert np.issubdtype(df[\"Metric\"].dtype, np.number)"
   ]
  },
  {
   "cell_type": "markdown",
   "metadata": {
    "id": "Qy_LBAqeLQT0"
   },
   "source": [
    "Are you happy with the synthetic score based on the values for each person here? Go back and update it until you're satisfied with this score."
   ]
  },
  {
   "cell_type": "code",
   "execution_count": 64,
   "metadata": {
    "ExecuteTime": {
     "end_time": "2020-12-08T06:36:36.575199Z",
     "start_time": "2020-12-08T06:36:36.495633Z"
    },
    "deletable": false,
    "id": "VaLgvQurLkjE",
    "nbgrader": {
     "cell_type": "code",
     "checksum": "046aa4c11f5fc567707186a9649f0b39",
     "grade": true,
     "grade_id": "cell-25c42dc943a39e64",
     "locked": false,
     "points": 20,
     "schema_version": 3,
     "solution": true,
     "task": false
    }
   },
   "outputs": [],
   "source": [
    "# Explain the logic behind your synthetic scoring mechanism and save it as synthetic_score_reasoning\n",
    "synthetic_score_reasoning = f'''\n",
    "My models were very strict about firing people which meant that it was a very strong variable to use in the score. Since a good hire\n",
    "is 0, instead of using zero, I used a constant which gave a small boost of 10%. So if you are really good and you pass, you get\n",
    "a little bonus, and if you don't, you are only judged on a combination of your scores.\n",
    "'''"
   ]
  },
  {
   "cell_type": "code",
   "execution_count": 65,
   "metadata": {
    "ExecuteTime": {
     "end_time": "2020-12-08T06:36:36.652265Z",
     "start_time": "2020-12-08T06:36:36.576702Z"
    },
    "deletable": false,
    "editable": false,
    "id": "UlnqBpZUL1a8",
    "nbgrader": {
     "cell_type": "code",
     "checksum": "5fdf2191b11c7d91989b3e1aa9fc67f2",
     "grade": true,
     "grade_id": "cell-1fec797ad27734ef",
     "locked": true,
     "points": 10,
     "schema_version": 3,
     "solution": false,
     "task": false
    }
   },
   "outputs": [],
   "source": [
    "assert len(synthetic_score_reasoning) > 100"
   ]
  },
  {
   "cell_type": "markdown",
   "metadata": {
    "id": "uk-TMmydL7qn"
   },
   "source": [
    "Now let's calculate the synthetic scores for the new people (applicants) and see if you're satisfied with your models' rankings for interviewing and hiring."
   ]
  },
  {
   "cell_type": "code",
   "execution_count": 66,
   "metadata": {
    "ExecuteTime": {
     "end_time": "2020-12-08T06:36:36.727330Z",
     "start_time": "2020-12-08T06:36:36.665276Z"
    },
    "id": "9eC4ydbKLPnk"
   },
   "outputs": [],
   "source": [
    "new_people_interview_score = [calculate_synthetic_metric(target_values) for target_values in new_people_interview]\n",
    "new_people_hire_score = [calculate_synthetic_metric(target_values) for target_values in new_people_hire]"
   ]
  },
  {
   "cell_type": "code",
   "execution_count": 67,
   "metadata": {
    "ExecuteTime": {
     "end_time": "2020-12-08T06:36:36.818909Z",
     "start_time": "2020-12-08T06:36:36.734836Z"
    },
    "id": "NHhfGnvTMh_T"
   },
   "outputs": [],
   "source": [
    "best_interview_person = new_people[new_people_interview_score.index(max(new_people_interview_score))]\n",
    "best_hire_person = new_people[new_people_hire_score.index(max(new_people_hire_score))]"
   ]
  },
  {
   "cell_type": "markdown",
   "metadata": {
    "id": "Nikv-vhUMi-z"
   },
   "source": [
    "Based on these scores, your model selected the following people:"
   ]
  },
  {
   "cell_type": "code",
   "execution_count": 68,
   "metadata": {
    "ExecuteTime": {
     "end_time": "2020-12-08T06:36:36.893974Z",
     "start_time": "2020-12-08T06:36:36.820412Z"
    },
    "id": "JEoWB0MGNFS-"
   },
   "outputs": [
    {
     "name": "stdout",
     "output_type": "stream",
     "text": [
      "\n",
      "Your interviewing model selected Jane Doe as the person to interview.\n",
      "\n",
      "Your hiring model selected Jane Doe as the person to hire.\n",
      "\n"
     ]
    }
   ],
   "source": [
    "print(f\"\"\"\n",
    "Your interviewing model selected {best_interview_person['First Name']} {best_interview_person['Last Name']} as the person to interview.\n",
    "\n",
    "Your hiring model selected {best_hire_person['First Name']} {best_hire_person['Last Name']} as the person to hire.\n",
    "\"\"\")"
   ]
  },
  {
   "cell_type": "markdown",
   "metadata": {
    "id": "xyEJR9axNmv_"
   },
   "source": [
    "Are you happy with these results? Feel free to modify the `applicant_5`'s attributes and see how your model performs based on changing these values. "
   ]
  },
  {
   "cell_type": "code",
   "execution_count": 69,
   "metadata": {
    "ExecuteTime": {
     "end_time": "2020-12-08T06:36:36.981548Z",
     "start_time": "2020-12-08T06:36:36.895474Z"
    },
    "deletable": false,
    "id": "FFWGYkmpNx_C",
    "nbgrader": {
     "cell_type": "code",
     "checksum": "3b544fd0fd911c789a56004c93fc3ac2",
     "grade": true,
     "grade_id": "cell-cc40d17ae80242e0",
     "locked": false,
     "points": 10,
     "schema_version": 3,
     "solution": true,
     "task": false
    }
   },
   "outputs": [
    {
     "name": "stdout",
     "output_type": "stream",
     "text": [
      "\n",
      "Satisfaction Level:\n",
      "I was really happy with my results from the models using regression, but felt more slightly more disappointed by the classifier. \n",
      "\n",
      "Edits/Changes:\n",
      "I tried changing the feature set I was using along with multiple GridSearches to optimize for different metrics. I ended\n",
      "up using most the features because the model's performed the best that way. I had also implemented Random Forests, but got\n",
      "better results using XGBoost.\n",
      "\n",
      "General Conclusions:\n",
      "I thought seeing the feature importance graphs from my model's was really informative in seeing how it made it's decision.\n",
      "This gave me a clear idea of what the model was classifiying as an optimal candidate. It was also really interesting to \n",
      "see how strongly the social media features effected the models. I wasn't expecting that data to be as useful as the model did.\n",
      "\n"
     ]
    }
   ],
   "source": [
    "# Describe your level of satisfaction with your models\n",
    "# Did you edit your model based on the results? What did you change?\n",
    "# What general conclusions did you get from the exercise\n",
    "# Save your answer to the above questions as conclusions\n",
    "\n",
    "conclusions = f'''\n",
    "Satisfaction Level:\n",
    "I was really happy with my results from the models using regression, but felt more slightly more disappointed by the classifier. \n",
    "\n",
    "Edits/Changes:\n",
    "I tried changing the feature set I was using along with multiple GridSearches to optimize for different metrics. I ended\n",
    "up using most the features because the model's performed the best that way. I had also implemented Random Forests, but got\n",
    "better results using XGBoost.\n",
    "\n",
    "General Conclusions:\n",
    "I thought seeing the feature importance graphs from my model's was really informative in seeing how it made it's decision.\n",
    "This gave me a clear idea of what the model was classifiying as an optimal candidate. It was also really interesting to \n",
    "see how strongly the social media features effected the models. I wasn't expecting that data to be as useful as the model did.\n",
    "'''\n",
    "print(conclusions)"
   ]
  },
  {
   "cell_type": "code",
   "execution_count": 70,
   "metadata": {
    "ExecuteTime": {
     "end_time": "2020-12-08T06:36:37.059115Z",
     "start_time": "2020-12-08T06:36:36.983049Z"
    },
    "id": "1vBdn2XzOIhk"
   },
   "outputs": [],
   "source": [
    "assert len(conclusions) > 100"
   ]
  },
  {
   "cell_type": "markdown",
   "metadata": {
    "deletable": false,
    "editable": false,
    "id": "aEDK4ChDQrky",
    "nbgrader": {
     "cell_type": "markdown",
     "checksum": "03dcba3c87298cd428ec01f9a0075d6c",
     "grade": false,
     "grade_id": "cell-4a3caccc18c17350",
     "locked": true,
     "schema_version": 3,
     "solution": false
    }
   },
   "source": [
    "## Feedback"
   ]
  },
  {
   "cell_type": "code",
   "execution_count": 71,
   "metadata": {
    "ExecuteTime": {
     "end_time": "2020-12-08T06:36:37.125674Z",
     "start_time": "2020-12-08T06:36:37.060616Z"
    },
    "deletable": false,
    "id": "w-Yu33YPQrky",
    "nbgrader": {
     "cell_type": "code",
     "checksum": "687d8bbd0750d67bdc439a0a539f4563",
     "grade": false,
     "grade_id": "cell-259e62fb9f936804",
     "locked": false,
     "schema_version": 3,
     "solution": true
    }
   },
   "outputs": [
    {
     "data": {
      "text/plain": [
       "\"The assert statements were a little strict and didn't allow for the full manipulation of data even though it was helpful guidance.\""
      ]
     },
     "execution_count": 71,
     "metadata": {},
     "output_type": "execute_result"
    }
   ],
   "source": [
    "def feedback():\n",
    "    \"\"\"Provide feedback on the contents of this exercise\n",
    "    \n",
    "    Returns:\n",
    "        string\n",
    "    \"\"\"\n",
    "    return \"The assert statements were a little strict and didn't allow for the full manipulation of data even though it was helpful guidance.\"\n",
    "\n",
    "feedback()"
   ]
  },
  {
   "cell_type": "code",
   "execution_count": null,
   "metadata": {
    "deletable": false,
    "editable": false,
    "id": "2Tmx8n-9Qrk0",
    "nbgrader": {
     "cell_type": "code",
     "checksum": "a981d530666ab499761c90062b408a01",
     "grade": true,
     "grade_id": "cell-865e5f961cfd020f",
     "locked": true,
     "points": 0,
     "schema_version": 3,
     "solution": false
    }
   },
   "outputs": [],
   "source": []
  }
 ],
 "metadata": {
  "colab": {
   "collapsed_sections": [],
   "name": "02- Job Placement.ipynb",
   "provenance": [],
   "toc_visible": true
  },
  "hide_input": false,
  "kernelspec": {
   "display_name": "Python 3",
   "language": "python",
   "name": "python3"
  },
  "language_info": {
   "codemirror_mode": {
    "name": "ipython",
    "version": 3
   },
   "file_extension": ".py",
   "mimetype": "text/x-python",
   "name": "python",
   "nbconvert_exporter": "python",
   "pygments_lexer": "ipython3",
   "version": "3.6.11"
  },
  "toc": {
   "base_numbering": 1,
   "nav_menu": {},
   "number_sections": true,
   "sideBar": true,
   "skip_h1_title": false,
   "title_cell": "Table of Contents",
   "title_sidebar": "Contents",
   "toc_cell": false,
   "toc_position": {},
   "toc_section_display": true,
   "toc_window_display": false
  },
  "varInspector": {
   "cols": {
    "lenName": 16,
    "lenType": 16,
    "lenVar": 40
   },
   "kernels_config": {
    "python": {
     "delete_cmd_postfix": "",
     "delete_cmd_prefix": "del ",
     "library": "var_list.py",
     "varRefreshCmd": "print(var_dic_list())"
    },
    "r": {
     "delete_cmd_postfix": ") ",
     "delete_cmd_prefix": "rm(",
     "library": "var_list.r",
     "varRefreshCmd": "cat(var_dic_list()) "
    }
   },
   "types_to_exclude": [
    "module",
    "function",
    "builtin_function_or_method",
    "instance",
    "_Feature"
   ],
   "window_display": false
  }
 },
 "nbformat": 4,
 "nbformat_minor": 1
}
