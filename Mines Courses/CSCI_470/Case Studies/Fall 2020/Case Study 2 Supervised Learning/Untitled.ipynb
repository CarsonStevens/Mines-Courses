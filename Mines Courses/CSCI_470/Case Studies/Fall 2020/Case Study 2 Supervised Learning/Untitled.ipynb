{
 "cells": [
  {
   "cell_type": "code",
   "execution_count": null,
   "metadata": {
    "ExecuteTime": {
     "start_time": "2020-12-06T00:19:23.477Z"
    }
   },
   "outputs": [],
   "source": [
    "!pip install prompt_toolkit==1.0.14\n",
    "!pip install PyInquirer"
   ]
  },
  {
   "cell_type": "code",
   "execution_count": null,
   "metadata": {
    "ExecuteTime": {
     "start_time": "2020-12-06T00:19:35.366Z"
    }
   },
   "outputs": [],
   "source": [
    "from __future__ import print_function, unicode_literals\n",
    "\n",
    "from pprint import pprint\n",
    "\n",
    "from PyInquirer import prompt, Separator\n",
    "\n",
    "from examples import custom_style_2\n",
    "\n",
    "\n",
    "\n",
    "def get_delivery_options(answers):\n",
    "    options = ['bike', 'car', 'truck']\n",
    "    if answers['size'] == 'jumbo':\n",
    "        options.append('helicopter')\n",
    "    return options\n",
    "\n",
    "\n",
    "questions = [\n",
    "    {\n",
    "        'type': 'list',\n",
    "        'name': 'theme',\n",
    "        'message': 'What do you want to do?',\n",
    "        'choices': [\n",
    "            'Order a pizza',\n",
    "            'Make a reservation',\n",
    "            Separator(),\n",
    "            'Ask for opening hours',\n",
    "            {\n",
    "                'name': 'Contact support',\n",
    "                'disabled': 'Unavailable at this time'\n",
    "            },\n",
    "            'Talk to the receptionist'\n",
    "        ]\n",
    "    },\n",
    "    {\n",
    "        'type': 'list',\n",
    "        'name': 'size',\n",
    "        'message': 'What size do you need?',\n",
    "        'choices': ['Jumbo', 'Large', 'Standard', 'Medium', 'Small', 'Micro'],\n",
    "        'filter': lambda val: val.lower()\n",
    "    },\n",
    "    {\n",
    "        'type': 'list',\n",
    "        'name': 'delivery',\n",
    "        'message': 'Which vehicle you want to use for delivery?',\n",
    "        'choices': get_delivery_options,\n",
    "    },\n",
    "]\n",
    "\n",
    "answers = prompt.prompt(questions, style=custom_style_2)\n",
    "pprint(answers)"
   ]
  },
  {
   "cell_type": "code",
   "execution_count": null,
   "metadata": {},
   "outputs": [],
   "source": []
  }
 ],
 "metadata": {
  "hide_input": false,
  "kernelspec": {
   "display_name": "Python 3",
   "language": "python",
   "name": "python3"
  },
  "toc": {
   "base_numbering": 1,
   "nav_menu": {},
   "number_sections": true,
   "sideBar": true,
   "skip_h1_title": false,
   "title_cell": "Table of Contents",
   "title_sidebar": "Contents",
   "toc_cell": false,
   "toc_position": {},
   "toc_section_display": true,
   "toc_window_display": false
  },
  "varInspector": {
   "cols": {
    "lenName": 16,
    "lenType": 16,
    "lenVar": 40
   },
   "kernels_config": {
    "python": {
     "delete_cmd_postfix": "",
     "delete_cmd_prefix": "del ",
     "library": "var_list.py",
     "varRefreshCmd": "print(var_dic_list())"
    },
    "r": {
     "delete_cmd_postfix": ") ",
     "delete_cmd_prefix": "rm(",
     "library": "var_list.r",
     "varRefreshCmd": "cat(var_dic_list()) "
    }
   },
   "types_to_exclude": [
    "module",
    "function",
    "builtin_function_or_method",
    "instance",
    "_Feature"
   ],
   "window_display": false
  }
 },
 "nbformat": 4,
 "nbformat_minor": 4
}
