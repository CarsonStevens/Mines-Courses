{
  "nbformat": 4,
  "nbformat_minor": 0,
  "metadata": {
    "kernelspec": {
      "display_name": "iml-exercises",
      "language": "python",
      "name": "iml-exercises"
    },
    "language_info": {
      "codemirror_mode": {
        "name": "ipython",
        "version": 3
      },
      "file_extension": ".py",
      "mimetype": "text/x-python",
      "name": "python",
      "nbconvert_exporter": "python",
      "pygments_lexer": "ipython3",
      "version": "3.6.5"
    },
    "colab": {
      "name": "03 - Optimization.ipynb",
      "version": "0.3.2",
      "provenance": []
    }
  },
  "cells": [
    {
      "cell_type": "markdown",
      "metadata": {
        "deletable": false,
        "editable": false,
        "nbgrader": {
          "checksum": "3bbb092f9dda670ae5e600ef103fc13e",
          "grade": false,
          "grade_id": "cell-5c3ee5bb12251c38",
          "locked": true,
          "schema_version": 1,
          "solution": false
        },
        "id": "m6LPyAZI5J44",
        "colab_type": "text"
      },
      "source": [
        "# Optimization & Linear Algebra Review: Carson Stevens\n",
        "\n",
        "In this exercise we will focus on the two main topics we covered in the lecture.\n",
        "\n",
        "## Linear Algebra\n",
        "\n",
        "In the lecture, with regards to Linear Algebra, we covered:\n",
        "\n",
        "- some notation that we use for linear algebra\n",
        "- special kinds of matrices\n",
        "- matrix properties and operations\n",
        "- norm definitions\n",
        "\n",
        "Now let's practice some of these. "
      ]
    },
    {
      "cell_type": "code",
      "metadata": {
        "deletable": false,
        "editable": false,
        "nbgrader": {
          "checksum": "807d7e772d8bd0f606f5be1498244edf",
          "grade": false,
          "grade_id": "cell-76297faedae614aa",
          "locked": true,
          "schema_version": 1,
          "solution": false
        },
        "id": "JEU8_fB95J48",
        "colab_type": "code",
        "colab": {}
      },
      "source": [
        "import numpy as np\n",
        "import matplotlib\n",
        "import matplotlib.pyplot as plt\n",
        "plt.style.use(\"ggplot\")"
      ],
      "execution_count": 0,
      "outputs": []
    },
    {
      "cell_type": "markdown",
      "metadata": {
        "deletable": false,
        "editable": false,
        "nbgrader": {
          "checksum": "8ca679bf4d21d1b22cbd1dcee0aef69a",
          "grade": false,
          "grade_id": "cell-490a5e9eb6aa86c4",
          "locked": true,
          "schema_version": 1,
          "solution": false
        },
        "id": "VSgOe2xc5J5E",
        "colab_type": "text"
      },
      "source": [
        "In numpy we can create a vector or matrix or tensor using the [`np.array`](https://docs.scipy.org/doc/numpy/reference/generated/numpy.array.html) object."
      ]
    },
    {
      "cell_type": "code",
      "metadata": {
        "deletable": false,
        "editable": false,
        "nbgrader": {
          "checksum": "2ce24d172842035ce6919fa72bc586b2",
          "grade": false,
          "grade_id": "cell-ec73f64d4642033b",
          "locked": true,
          "schema_version": 1,
          "solution": false
        },
        "id": "p35zQ8yI5J5H",
        "colab_type": "code",
        "colab": {
          "base_uri": "https://localhost:8080/",
          "height": 52
        },
        "outputId": "0b8fbdaa-a1ae-48a2-cfe0-32e712660b5d"
      },
      "source": [
        "vector = np.array([1,2,3])\n",
        "print(vector)\n",
        "print(f\"The shape of our vector is {vector.shape}\")"
      ],
      "execution_count": 4,
      "outputs": [
        {
          "output_type": "stream",
          "text": [
            "[1 2 3]\n",
            "The shape of our vector is (3,)\n"
          ],
          "name": "stdout"
        }
      ]
    },
    {
      "cell_type": "code",
      "metadata": {
        "deletable": false,
        "editable": false,
        "nbgrader": {
          "checksum": "d394529bb3ad99c416300fb3e0ab7b4a",
          "grade": false,
          "grade_id": "cell-d86d8f801297b296",
          "locked": true,
          "schema_version": 1,
          "solution": false
        },
        "id": "GrGwoth35J5O",
        "colab_type": "code",
        "colab": {
          "base_uri": "https://localhost:8080/",
          "height": 69
        },
        "outputId": "e57a9016-6a23-4113-8315-0b5e91bfba2a"
      },
      "source": [
        "matrix = np.array([\n",
        "    [1,2,3],\n",
        "    [4,5,6]\n",
        "])\n",
        "print(matrix)\n",
        "print(f\"The shape of our matrix is {matrix.shape}\")"
      ],
      "execution_count": 5,
      "outputs": [
        {
          "output_type": "stream",
          "text": [
            "[[1 2 3]\n",
            " [4 5 6]]\n",
            "The shape of our matrix is (2, 3)\n"
          ],
          "name": "stdout"
        }
      ]
    },
    {
      "cell_type": "code",
      "metadata": {
        "deletable": false,
        "editable": false,
        "nbgrader": {
          "checksum": "0ef52f72a43db75d979be5772bb4c4ed",
          "grade": false,
          "grade_id": "cell-259403e923fb8888",
          "locked": true,
          "schema_version": 1,
          "solution": false
        },
        "id": "DCayFDQY5J5V",
        "colab_type": "code",
        "colab": {
          "base_uri": "https://localhost:8080/",
          "height": 122
        },
        "outputId": "7c7a175b-f6b1-4688-853a-dc68135c15ef"
      },
      "source": [
        "tensor = np.array([\n",
        "    [\n",
        "        [1,2,3],\n",
        "        [4,5,6]\n",
        "    ],\n",
        "    [\n",
        "        [7,8,9],\n",
        "        [10,11,12]\n",
        "    ]\n",
        "])\n",
        "print(tensor)\n",
        "print(f\"The shape of our tensor is {tensor.shape}\")"
      ],
      "execution_count": 6,
      "outputs": [
        {
          "output_type": "stream",
          "text": [
            "[[[ 1  2  3]\n",
            "  [ 4  5  6]]\n",
            "\n",
            " [[ 7  8  9]\n",
            "  [10 11 12]]]\n",
            "The shape of our tensor is (2, 2, 3)\n"
          ],
          "name": "stdout"
        }
      ]
    },
    {
      "cell_type": "markdown",
      "metadata": {
        "deletable": false,
        "editable": false,
        "nbgrader": {
          "checksum": "06fe53124742adffc7784032d2f63ecb",
          "grade": false,
          "grade_id": "cell-abea5b78170e37b8",
          "locked": true,
          "schema_version": 1,
          "solution": false
        },
        "id": "oPrOGHYK5J5a",
        "colab_type": "text"
      },
      "source": [
        "### Products\n",
        "\n",
        "Let's try out some products now and check how they work. By default, numpy would do element wise multiplication if we use the `*` operator. Instead, we can use the [`@`](https://docs.python.org/3/library/operator.html#mapping-operators-to-functions) operator. (This is valid as of Python 3.5, otherwise you can use [`np.matmul`](https://docs.scipy.org/doc/numpy/reference/generated/numpy.matmul.html)).\n",
        "\n",
        "Let's start by making some vectors and matrices. "
      ]
    },
    {
      "cell_type": "code",
      "metadata": {
        "deletable": false,
        "editable": false,
        "nbgrader": {
          "checksum": "e9e9d112f2c504b77d63604498321472",
          "grade": false,
          "grade_id": "cell-a0f3bf53ab8bacd1",
          "locked": true,
          "schema_version": 1,
          "solution": false
        },
        "id": "2O4ZkGnI5J5c",
        "colab_type": "code",
        "colab": {}
      },
      "source": [
        "x = np.array([[1,2,3]]) # a row vector\n",
        "y = np.array([[4],[5],[6]]) # a column vector"
      ],
      "execution_count": 0,
      "outputs": []
    },
    {
      "cell_type": "code",
      "metadata": {
        "deletable": false,
        "editable": false,
        "nbgrader": {
          "checksum": "4077450fd7184318ee663157d5a58c0a",
          "grade": false,
          "grade_id": "cell-6f147aa13c09e78a",
          "locked": true,
          "schema_version": 1,
          "solution": false
        },
        "id": "QKOvyCBh5J5g",
        "colab_type": "code",
        "colab": {
          "base_uri": "https://localhost:8080/",
          "height": 34
        },
        "outputId": "bf6cd4b8-09dd-40b4-e17a-baa1733eb071"
      },
      "source": [
        "print(x)"
      ],
      "execution_count": 8,
      "outputs": [
        {
          "output_type": "stream",
          "text": [
            "[[1 2 3]]\n"
          ],
          "name": "stdout"
        }
      ]
    },
    {
      "cell_type": "code",
      "metadata": {
        "deletable": false,
        "editable": false,
        "nbgrader": {
          "checksum": "33c15064e132a9b7ec5aa6f206a62108",
          "grade": false,
          "grade_id": "cell-ab40a47b8abc6019",
          "locked": true,
          "schema_version": 1,
          "solution": false
        },
        "id": "Jq_ooGJv5J5l",
        "colab_type": "code",
        "colab": {
          "base_uri": "https://localhost:8080/",
          "height": 69
        },
        "outputId": "f0ca5fa8-14bc-4523-e9d8-428868889552"
      },
      "source": [
        "print(y)"
      ],
      "execution_count": 9,
      "outputs": [
        {
          "output_type": "stream",
          "text": [
            "[[4]\n",
            " [5]\n",
            " [6]]\n"
          ],
          "name": "stdout"
        }
      ]
    },
    {
      "cell_type": "markdown",
      "metadata": {
        "deletable": false,
        "editable": false,
        "nbgrader": {
          "checksum": "dc08b90e842adfb00a8563e8be8d8fa5",
          "grade": false,
          "grade_id": "cell-fc80c9d5707cd675",
          "locked": true,
          "schema_version": 1,
          "solution": false
        },
        "id": "ADhoywva5J5p",
        "colab_type": "text"
      },
      "source": [
        "We can determine an array's dimensions by calling [`.shape`](https://docs.scipy.org/doc/numpy/reference/generated/numpy.ndarray.shape.html)."
      ]
    },
    {
      "cell_type": "code",
      "metadata": {
        "deletable": false,
        "editable": false,
        "nbgrader": {
          "checksum": "1ddd2943b1cdbf33a839be2f956fe8ce",
          "grade": false,
          "grade_id": "cell-0905c1dbb30518b7",
          "locked": true,
          "schema_version": 1,
          "solution": false
        },
        "id": "iTFIMCDR5J5r",
        "colab_type": "code",
        "colab": {
          "base_uri": "https://localhost:8080/",
          "height": 34
        },
        "outputId": "fd54c78c-6696-48bb-9ae8-b2c8f8fd7081"
      },
      "source": [
        "x.shape, y.shape"
      ],
      "execution_count": 10,
      "outputs": [
        {
          "output_type": "execute_result",
          "data": {
            "text/plain": [
              "((1, 3), (3, 1))"
            ]
          },
          "metadata": {
            "tags": []
          },
          "execution_count": 10
        }
      ]
    },
    {
      "cell_type": "markdown",
      "metadata": {
        "deletable": false,
        "editable": false,
        "nbgrader": {
          "checksum": "4f1536c9abf692fa741a50b0efd224c3",
          "grade": false,
          "grade_id": "cell-480f03a8af18ee72",
          "locked": true,
          "schema_version": 1,
          "solution": false
        },
        "id": "3zZebSwi5J5v",
        "colab_type": "text"
      },
      "source": [
        "Now let's try multiplying the two vectors to get their inner product. We'll also verify the result by manually calculating it."
      ]
    },
    {
      "cell_type": "code",
      "metadata": {
        "deletable": false,
        "editable": false,
        "nbgrader": {
          "checksum": "81c800387af6e7ff33c00044f95e3f13",
          "grade": false,
          "grade_id": "cell-067233ddb9ced301",
          "locked": true,
          "schema_version": 1,
          "solution": false
        },
        "id": "PyTMZcHy5J5w",
        "colab_type": "code",
        "colab": {
          "base_uri": "https://localhost:8080/",
          "height": 34
        },
        "outputId": "0ffefc30-cbab-46d7-f0c2-a0a935d53e67"
      },
      "source": [
        "x @ y, 1 * 4 + 2 * 5 + 3 * 6"
      ],
      "execution_count": 11,
      "outputs": [
        {
          "output_type": "execute_result",
          "data": {
            "text/plain": [
              "(array([[32]]), 32)"
            ]
          },
          "metadata": {
            "tags": []
          },
          "execution_count": 11
        }
      ]
    },
    {
      "cell_type": "markdown",
      "metadata": {
        "deletable": false,
        "editable": false,
        "nbgrader": {
          "checksum": "6c0fbe4b7c33f69d411d3a9c5297bd3d",
          "grade": false,
          "grade_id": "cell-b262141113422a11",
          "locked": true,
          "schema_version": 1,
          "solution": false
        },
        "id": "QRG8kg8J5J52",
        "colab_type": "text"
      },
      "source": [
        "Now let's look at how transpose works. With numpy, you can access the transpose of a `np.array` by calling its [`.T`](https://docs.scipy.org/doc/numpy/reference/generated/numpy.ndarray.T.html) method or using [`np.transpose()`](https://docs.scipy.org/doc/numpy/reference/generated/numpy.transpose.html). For simplicity, we will use `.T`."
      ]
    },
    {
      "cell_type": "code",
      "metadata": {
        "deletable": false,
        "editable": false,
        "nbgrader": {
          "checksum": "ce2e03d3f6c351e41fc1e762c0944fe6",
          "grade": false,
          "grade_id": "cell-2a0e90dd462b47f8",
          "locked": true,
          "schema_version": 1,
          "solution": false
        },
        "id": "QaBsPt9S5J54",
        "colab_type": "code",
        "colab": {
          "base_uri": "https://localhost:8080/",
          "height": 87
        },
        "outputId": "098a5668-a8f4-4f4b-d77f-f414fc586820"
      },
      "source": [
        "print(x)\n",
        "print(x.T)"
      ],
      "execution_count": 12,
      "outputs": [
        {
          "output_type": "stream",
          "text": [
            "[[1 2 3]]\n",
            "[[1]\n",
            " [2]\n",
            " [3]]\n"
          ],
          "name": "stdout"
        }
      ]
    },
    {
      "cell_type": "markdown",
      "metadata": {
        "deletable": false,
        "editable": false,
        "nbgrader": {
          "checksum": "c7ef4092951d74daa6f0fde2ea16da2c",
          "grade": false,
          "grade_id": "cell-164e6abebb08eaf5",
          "locked": true,
          "schema_version": 1,
          "solution": false
        },
        "id": "ryMkaEcd5J58",
        "colab_type": "text"
      },
      "source": [
        "In this next cell we can see that if the shapes of two different objects do not align, the product will fail."
      ]
    },
    {
      "cell_type": "code",
      "metadata": {
        "deletable": false,
        "editable": false,
        "nbgrader": {
          "checksum": "99b472fe6ce13dd1c213bb2cac173d42",
          "grade": false,
          "grade_id": "cell-538631ef3dd9eea9",
          "locked": true,
          "schema_version": 1,
          "solution": false
        },
        "id": "6az6cal85J59",
        "colab_type": "code",
        "colab": {
          "base_uri": "https://localhost:8080/",
          "height": 52
        },
        "outputId": "cb314677-cbd8-43f0-d934-8eaa336da456"
      },
      "source": [
        "try:\n",
        "    x.T @ y\n",
        "except Exception as e:\n",
        "    print(e)\n",
        "    \n",
        "try:\n",
        "    x @ y.T\n",
        "except Exception as e:\n",
        "    print(e)"
      ],
      "execution_count": 13,
      "outputs": [
        {
          "output_type": "stream",
          "text": [
            "matmul: Input operand 1 has a mismatch in its core dimension 0, with gufunc signature (n?,k),(k,m?)->(n?,m?) (size 3 is different from 1)\n",
            "matmul: Input operand 1 has a mismatch in its core dimension 0, with gufunc signature (n?,k),(k,m?)->(n?,m?) (size 1 is different from 3)\n"
          ],
          "name": "stdout"
        }
      ]
    },
    {
      "cell_type": "code",
      "metadata": {
        "deletable": false,
        "editable": false,
        "nbgrader": {
          "checksum": "aea5dde4b957273d8d89a352d426c99e",
          "grade": false,
          "grade_id": "cell-7d55b138185aa845",
          "locked": true,
          "schema_version": 1,
          "solution": false
        },
        "id": "HXif8g605J6B",
        "colab_type": "code",
        "colab": {
          "base_uri": "https://localhost:8080/",
          "height": 34
        },
        "outputId": "3e8896b9-9856-4cab-eb69-65a256f6995d"
      },
      "source": [
        "x.shape, x.T.shape"
      ],
      "execution_count": 14,
      "outputs": [
        {
          "output_type": "execute_result",
          "data": {
            "text/plain": [
              "((1, 3), (3, 1))"
            ]
          },
          "metadata": {
            "tags": []
          },
          "execution_count": 14
        }
      ]
    },
    {
      "cell_type": "markdown",
      "metadata": {
        "deletable": false,
        "editable": false,
        "nbgrader": {
          "checksum": "6d34ac698da101b2743eadd0be662888",
          "grade": false,
          "grade_id": "cell-88477de8d0d92c45",
          "locked": true,
          "schema_version": 1,
          "solution": false
        },
        "id": "yIebxIrz5J6E",
        "colab_type": "text"
      },
      "source": [
        "Squeezing gets rid of any shape dimensions with value = 1. This ensures a variable can be treated as a vector instead of a matrix with 1 row for example. Check out the documentation for [`.squeeze`](https://docs.scipy.org/doc/numpy/reference/generated/numpy.squeeze.html)."
      ]
    },
    {
      "cell_type": "code",
      "metadata": {
        "deletable": false,
        "editable": false,
        "nbgrader": {
          "checksum": "a42452baab12c89fa358f8d473d54f79",
          "grade": false,
          "grade_id": "cell-936fe967d8555c17",
          "locked": true,
          "schema_version": 1,
          "solution": false
        },
        "id": "bOdipBko5J6F",
        "colab_type": "code",
        "colab": {
          "base_uri": "https://localhost:8080/",
          "height": 34
        },
        "outputId": "eb555cd0-acec-4e7b-a297-6422061a43cf"
      },
      "source": [
        "x.shape, x.squeeze().shape"
      ],
      "execution_count": 15,
      "outputs": [
        {
          "output_type": "execute_result",
          "data": {
            "text/plain": [
              "((1, 3), (3,))"
            ]
          },
          "metadata": {
            "tags": []
          },
          "execution_count": 15
        }
      ]
    },
    {
      "cell_type": "code",
      "metadata": {
        "deletable": false,
        "editable": false,
        "nbgrader": {
          "checksum": "e1cf79eca818cb2cfa3ce559c5a57120",
          "grade": false,
          "grade_id": "cell-768c024cfbe56406",
          "locked": true,
          "schema_version": 1,
          "solution": false
        },
        "id": "shHHr1Kl5J6J",
        "colab_type": "code",
        "colab": {
          "base_uri": "https://localhost:8080/",
          "height": 69
        },
        "outputId": "6be85516-6930-4d47-9202-2cae7f3809ef"
      },
      "source": [
        "x.T @ y.T"
      ],
      "execution_count": 16,
      "outputs": [
        {
          "output_type": "execute_result",
          "data": {
            "text/plain": [
              "array([[ 4,  5,  6],\n",
              "       [ 8, 10, 12],\n",
              "       [12, 15, 18]])"
            ]
          },
          "metadata": {
            "tags": []
          },
          "execution_count": 16
        }
      ]
    },
    {
      "cell_type": "markdown",
      "metadata": {
        "deletable": false,
        "editable": false,
        "nbgrader": {
          "checksum": "08d4db54cb1d14f01d4ab4f6a9cc20ff",
          "grade": false,
          "grade_id": "cell-83447f44a6d79ac9",
          "locked": true,
          "schema_version": 1,
          "solution": false
        },
        "id": "aaFUfCVa5J6M",
        "colab_type": "text"
      },
      "source": [
        "Now let's move on to matrices."
      ]
    },
    {
      "cell_type": "code",
      "metadata": {
        "deletable": false,
        "editable": false,
        "nbgrader": {
          "checksum": "d4d4f558a2fa2f18ae29d08923a6244e",
          "grade": false,
          "grade_id": "cell-8edd5450d369693b",
          "locked": true,
          "schema_version": 1,
          "solution": false
        },
        "id": "Yn4ydSzV5J6N",
        "colab_type": "code",
        "colab": {
          "base_uri": "https://localhost:8080/",
          "height": 34
        },
        "outputId": "15dee239-b96a-4803-b122-5f0c60cffcb8"
      },
      "source": [
        "X = np.array([\n",
        "    [1, 2],\n",
        "    [3, 4]\n",
        "])\n",
        "Y = np.array([\n",
        "    [1, 2, 3],\n",
        "    [4, 5, 6]\n",
        "])\n",
        "X.shape, Y.shape"
      ],
      "execution_count": 17,
      "outputs": [
        {
          "output_type": "execute_result",
          "data": {
            "text/plain": [
              "((2, 2), (2, 3))"
            ]
          },
          "metadata": {
            "tags": []
          },
          "execution_count": 17
        }
      ]
    },
    {
      "cell_type": "code",
      "metadata": {
        "deletable": false,
        "nbgrader": {
          "checksum": "8db7f6ba5c7b9fd6d0f0ad5d1ad59f97",
          "grade": false,
          "grade_id": "cell-613462977968b2ef",
          "locked": false,
          "schema_version": 1,
          "solution": true
        },
        "id": "Ff7Pat8-5J6R",
        "colab_type": "code",
        "colab": {}
      },
      "source": [
        "# Calculate the product of X and Y and save it to the variable `out`\n",
        "# YOUR CODE HERE\n",
        "out = X@Y"
      ],
      "execution_count": 0,
      "outputs": []
    },
    {
      "cell_type": "code",
      "metadata": {
        "deletable": false,
        "editable": false,
        "nbgrader": {
          "checksum": "d70c21fcfb116025f9d6bf372632ce49",
          "grade": true,
          "grade_id": "cell-049e2d9010d235b1",
          "locked": true,
          "points": 10,
          "schema_version": 1,
          "solution": false
        },
        "id": "OiVoXZEU5J6U",
        "colab_type": "code",
        "colab": {}
      },
      "source": [
        "assert out.shape == (2,3)\n",
        "assert out[0,0] == 1 * 1 + 2 * 4\n",
        "assert out[1,1] == 3 * 2 + 4 * 5"
      ],
      "execution_count": 0,
      "outputs": []
    },
    {
      "cell_type": "code",
      "metadata": {
        "deletable": false,
        "editable": false,
        "nbgrader": {
          "checksum": "f007b3d56754ddfd25b0ed829338e422",
          "grade": false,
          "grade_id": "cell-306e06d0009f2e3a",
          "locked": true,
          "schema_version": 1,
          "solution": false
        },
        "id": "taySRUME5J6Y",
        "colab_type": "code",
        "colab": {
          "base_uri": "https://localhost:8080/",
          "height": 52
        },
        "outputId": "d12b488e-beac-4654-f688-1f70358778c9"
      },
      "source": [
        "print(f\"The output shape of XY should be {X.shape[0]}, {Y.shape[1]}\")\n",
        "print(f\"It is in fact, {out.shape} \")"
      ],
      "execution_count": 20,
      "outputs": [
        {
          "output_type": "stream",
          "text": [
            "The output shape of XY should be 2, 3\n",
            "It is in fact, (2, 3) \n"
          ],
          "name": "stdout"
        }
      ]
    },
    {
      "cell_type": "markdown",
      "metadata": {
        "deletable": false,
        "editable": false,
        "nbgrader": {
          "checksum": "47b7aa14564f13a04a0931af8e9f7685",
          "grade": false,
          "grade_id": "cell-0bc6146a3e43d909",
          "locked": true,
          "schema_version": 1,
          "solution": false
        },
        "id": "x4pv0TrC5J6d",
        "colab_type": "text"
      },
      "source": [
        "### Norms\n",
        "\n",
        "Now let's calculate the norms that we discussed in the lecture."
      ]
    },
    {
      "cell_type": "markdown",
      "metadata": {
        "deletable": false,
        "editable": false,
        "nbgrader": {
          "checksum": "f6e13b69b3bd93a1b6a0032ac4c8a898",
          "grade": false,
          "grade_id": "cell-05bee9210bc40d3c",
          "locked": true,
          "schema_version": 1,
          "solution": false
        },
        "id": "6Y0Pnn715J6f",
        "colab_type": "text"
      },
      "source": [
        "#### Vector Norms\n",
        "\n",
        "First, let's calculate the $\\ell_1$ norm. We can calculate norms manually or using numpy's [`linalg.norm`](https://docs.scipy.org/doc/numpy/reference/generated/numpy.linalg.norm.html) method."
      ]
    },
    {
      "cell_type": "code",
      "metadata": {
        "deletable": false,
        "editable": false,
        "nbgrader": {
          "checksum": "91ce5715a5dfe4925214117f729cf2ec",
          "grade": false,
          "grade_id": "cell-dce2c5f53e609065",
          "locked": true,
          "schema_version": 1,
          "solution": false
        },
        "id": "O8fqqSqr5J6i",
        "colab_type": "code",
        "colab": {
          "base_uri": "https://localhost:8080/",
          "height": 34
        },
        "outputId": "6316a680-6845-416c-c8d6-626a63b0846f"
      },
      "source": [
        "ell_1_of_x = np.linalg.norm(x.squeeze(), 1)\n",
        "sum_of_abs_of_x = np.abs(x).sum() \n",
        "print(ell_1_of_x, sum_of_abs_of_x)"
      ],
      "execution_count": 21,
      "outputs": [
        {
          "output_type": "stream",
          "text": [
            "6.0 6\n"
          ],
          "name": "stdout"
        }
      ]
    },
    {
      "cell_type": "markdown",
      "metadata": {
        "deletable": false,
        "editable": false,
        "nbgrader": {
          "checksum": "9e26e7352f28cef64ee003e65601ca19",
          "grade": false,
          "grade_id": "cell-cedb89e4c49de0ca",
          "locked": true,
          "schema_version": 1,
          "solution": false
        },
        "id": "epoEiOcZ5J6m",
        "colab_type": "text"
      },
      "source": [
        "Now calculate the $\\ell_2$ norm of $\\mathbf{x}$, once using the norm function and compare it to calculating it manually. Check the shape of $\\mathbf{x}$ to make sure it is a vector. (You might need to use `.squeeze()`). "
      ]
    },
    {
      "cell_type": "code",
      "metadata": {
        "deletable": false,
        "nbgrader": {
          "checksum": "ee5f3889f6080918ab64934439bf9485",
          "grade": false,
          "grade_id": "cell-699b991ec4a0d632",
          "locked": false,
          "schema_version": 1,
          "solution": true
        },
        "id": "WIxmiYUN5J6n",
        "colab_type": "code",
        "colab": {
          "base_uri": "https://localhost:8080/",
          "height": 34
        },
        "outputId": "d096763a-9204-4e80-d73b-ec4f8ba3b537"
      },
      "source": [
        "# Use the norm function to calculate ell_2_of_x \n",
        "# Manually calculate the norm and save to manual_ell_2_of_x\n",
        "\n",
        "# YOUR CODE HERE\n",
        "ell_2_of_x = np.linalg.norm(x.squeeze(), ord=2)\n",
        "manual_ell_2_of_x = pow(pow(np.abs(x),2).sum(),0.5)\n",
        "print(ell_2_of_x, manual_ell_2_of_x)\n"
      ],
      "execution_count": 22,
      "outputs": [
        {
          "output_type": "stream",
          "text": [
            "3.7416573867739413 3.7416573867739413\n"
          ],
          "name": "stdout"
        }
      ]
    },
    {
      "cell_type": "code",
      "metadata": {
        "deletable": false,
        "editable": false,
        "nbgrader": {
          "checksum": "a2bf76f8538dd5a72f45ef25f117899a",
          "grade": true,
          "grade_id": "cell-fff606eac0bb19f1",
          "locked": true,
          "points": 5,
          "schema_version": 1,
          "solution": false
        },
        "id": "-BlkEjUP5J6t",
        "colab_type": "code",
        "colab": {}
      },
      "source": [
        "assert ell_2_of_x == manual_ell_2_of_x"
      ],
      "execution_count": 0,
      "outputs": []
    },
    {
      "cell_type": "markdown",
      "metadata": {
        "deletable": false,
        "editable": false,
        "nbgrader": {
          "checksum": "d0f710fbe54f7915041a5aa995274acc",
          "grade": false,
          "grade_id": "cell-f6f33806eb0b3dee",
          "locked": true,
          "schema_version": 1,
          "solution": false
        },
        "id": "asgvPNYE5J61",
        "colab_type": "text"
      },
      "source": [
        "#### Matrix Norms\n",
        "\n",
        "Test the multiple definitions of the Frobenius norm."
      ]
    },
    {
      "cell_type": "code",
      "metadata": {
        "deletable": false,
        "editable": false,
        "nbgrader": {
          "checksum": "3a5056f5a384006da1c39f6efe8cf0ba",
          "grade": false,
          "grade_id": "cell-fccb8b7174999dd4",
          "locked": true,
          "schema_version": 1,
          "solution": false
        },
        "id": "sx7Vfi-Y5J62",
        "colab_type": "code",
        "colab": {
          "base_uri": "https://localhost:8080/",
          "height": 104
        },
        "outputId": "d1d92830-f401-446e-b857-a63955db5b60"
      },
      "source": [
        "print(X)\n",
        "result = []\n",
        "for row in X:\n",
        "    print(row)\n",
        "    result.append(np.linalg.norm(row.flatten(), 2))\n",
        "print(np.linalg.norm(result))"
      ],
      "execution_count": 24,
      "outputs": [
        {
          "output_type": "stream",
          "text": [
            "[[1 2]\n",
            " [3 4]]\n",
            "[1 2]\n",
            "[3 4]\n",
            "5.477225575051661\n"
          ],
          "name": "stdout"
        }
      ]
    },
    {
      "cell_type": "code",
      "metadata": {
        "deletable": false,
        "editable": false,
        "nbgrader": {
          "checksum": "2a3c31dfd48b1bb07abae32539a864e2",
          "grade": false,
          "grade_id": "cell-b457677d4a4ada9e",
          "locked": true,
          "schema_version": 1,
          "solution": false
        },
        "id": "o7OyXRy85J65",
        "colab_type": "code",
        "colab": {
          "base_uri": "https://localhost:8080/",
          "height": 34
        },
        "outputId": "2ec789bd-f83d-4435-e033-e5f0e516b858"
      },
      "source": [
        "np.linalg.norm(X)"
      ],
      "execution_count": 25,
      "outputs": [
        {
          "output_type": "execute_result",
          "data": {
            "text/plain": [
              "5.477225575051661"
            ]
          },
          "metadata": {
            "tags": []
          },
          "execution_count": 25
        }
      ]
    },
    {
      "cell_type": "code",
      "metadata": {
        "deletable": false,
        "editable": false,
        "nbgrader": {
          "checksum": "952271d757a5cc770ef3fcd270c17fb2",
          "grade": false,
          "grade_id": "cell-ccbebf6e7267aa33",
          "locked": true,
          "schema_version": 1,
          "solution": false
        },
        "id": "eakcBmC35J68",
        "colab_type": "code",
        "colab": {
          "base_uri": "https://localhost:8080/",
          "height": 34
        },
        "outputId": "dbf7f181-1b49-43ac-8815-9aedc651e0c8"
      },
      "source": [
        "print(np.sum(X**2)**0.5)"
      ],
      "execution_count": 26,
      "outputs": [
        {
          "output_type": "stream",
          "text": [
            "5.477225575051661\n"
          ],
          "name": "stdout"
        }
      ]
    },
    {
      "cell_type": "markdown",
      "metadata": {
        "deletable": false,
        "editable": false,
        "nbgrader": {
          "checksum": "a618a31175bf668ec5c9199fab7175b9",
          "grade": false,
          "grade_id": "cell-8b50d209407cecf4",
          "locked": true,
          "schema_version": 1,
          "solution": false
        },
        "id": "D09-EI6u5J6-",
        "colab_type": "text"
      },
      "source": [
        "The trace of a matrix is the sum of its diagonal. With numpy we can calculate the trace of a matrix using [`np.trace`](https://docs.scipy.org/doc/numpy/reference/generated/numpy.trace.html)."
      ]
    },
    {
      "cell_type": "code",
      "metadata": {
        "deletable": false,
        "editable": false,
        "nbgrader": {
          "checksum": "3c89335041f79d1cff00e7f42ab88937",
          "grade": false,
          "grade_id": "cell-01eef4e18e96a01d",
          "locked": true,
          "schema_version": 1,
          "solution": false
        },
        "id": "qu1A33fH5J6_",
        "colab_type": "code",
        "colab": {
          "base_uri": "https://localhost:8080/",
          "height": 69
        },
        "outputId": "10a3fb5d-dc34-444a-ec99-410b39b06d69"
      },
      "source": [
        "print(X)\n",
        "np.diag(X).sum(), np.trace(X)"
      ],
      "execution_count": 27,
      "outputs": [
        {
          "output_type": "stream",
          "text": [
            "[[1 2]\n",
            " [3 4]]\n"
          ],
          "name": "stdout"
        },
        {
          "output_type": "execute_result",
          "data": {
            "text/plain": [
              "(5, 5)"
            ]
          },
          "metadata": {
            "tags": []
          },
          "execution_count": 27
        }
      ]
    },
    {
      "cell_type": "markdown",
      "metadata": {
        "deletable": false,
        "editable": false,
        "nbgrader": {
          "checksum": "a99eb6e5f2ef0b9ebcf96d0c8270063e",
          "grade": false,
          "grade_id": "cell-e4ee63039f6af952",
          "locked": true,
          "schema_version": 1,
          "solution": false
        },
        "id": "lMDGWqpH5J7C",
        "colab_type": "text"
      },
      "source": [
        "Test the relationship between the Frobenius norm and trace."
      ]
    },
    {
      "cell_type": "code",
      "metadata": {
        "deletable": false,
        "editable": false,
        "nbgrader": {
          "checksum": "fa89371c98ef2e0ee9806ba6cdfd52d1",
          "grade": false,
          "grade_id": "cell-f74c4e676b78ff9b",
          "locked": true,
          "schema_version": 1,
          "solution": false
        },
        "id": "rtcjg0ny5J7D",
        "colab_type": "code",
        "colab": {
          "base_uri": "https://localhost:8080/",
          "height": 34
        },
        "outputId": "088e8db6-6c19-499f-a5f2-32ad3cd91391"
      },
      "source": [
        "np.trace(X @ X.T)**0.5"
      ],
      "execution_count": 28,
      "outputs": [
        {
          "output_type": "execute_result",
          "data": {
            "text/plain": [
              "5.477225575051661"
            ]
          },
          "metadata": {
            "tags": []
          },
          "execution_count": 28
        }
      ]
    },
    {
      "cell_type": "markdown",
      "metadata": {
        "deletable": false,
        "editable": false,
        "nbgrader": {
          "checksum": "6b1ebdb8b6ee3ba7f7116c709ba9371d",
          "grade": false,
          "grade_id": "cell-b9a62e3210d26ecb",
          "locked": true,
          "schema_version": 1,
          "solution": false
        },
        "id": "GbXK8IkK5J7F",
        "colab_type": "text"
      },
      "source": [
        "### Special Matrices\n",
        "\n",
        "Here we'll investigate the identity matrix, diagonal matrices, and symmetric matrices."
      ]
    },
    {
      "cell_type": "markdown",
      "metadata": {
        "deletable": false,
        "editable": false,
        "nbgrader": {
          "checksum": "3f6e776f856464db80ec2ca5099fe54b",
          "grade": false,
          "grade_id": "cell-8d9b8353a10a27ff",
          "locked": true,
          "schema_version": 1,
          "solution": false
        },
        "id": "RJa0zks-5J7G",
        "colab_type": "text"
      },
      "source": [
        "You can create an identity matrix using [`np.eye`](https://docs.scipy.org/doc/numpy/reference/generated/numpy.eye.html)"
      ]
    },
    {
      "cell_type": "code",
      "metadata": {
        "deletable": false,
        "editable": false,
        "nbgrader": {
          "checksum": "0bf8642b9f7b3d9eb39bef89542d85e3",
          "grade": false,
          "grade_id": "cell-f27b933c88f47ce1",
          "locked": true,
          "schema_version": 1,
          "solution": false
        },
        "id": "xPBnSNB55J7I",
        "colab_type": "code",
        "colab": {
          "base_uri": "https://localhost:8080/",
          "height": 104
        },
        "outputId": "bdeef61f-c10d-4150-d5da-6f231ab50e8f"
      },
      "source": [
        "five_identity = np.eye(5)\n",
        "five_identity"
      ],
      "execution_count": 29,
      "outputs": [
        {
          "output_type": "execute_result",
          "data": {
            "text/plain": [
              "array([[1., 0., 0., 0., 0.],\n",
              "       [0., 1., 0., 0., 0.],\n",
              "       [0., 0., 1., 0., 0.],\n",
              "       [0., 0., 0., 1., 0.],\n",
              "       [0., 0., 0., 0., 1.]])"
            ]
          },
          "metadata": {
            "tags": []
          },
          "execution_count": 29
        }
      ]
    },
    {
      "cell_type": "markdown",
      "metadata": {
        "deletable": false,
        "editable": false,
        "nbgrader": {
          "checksum": "3c057b2cbc72f7045aba6fb83fb93b77",
          "grade": false,
          "grade_id": "cell-a62e1c74ee90ba2d",
          "locked": true,
          "schema_version": 1,
          "solution": false
        },
        "id": "ltA72JLG5J7L",
        "colab_type": "text"
      },
      "source": [
        "[`np.diag`](https://docs.scipy.org/doc/numpy/reference/generated/numpy.diag.html) is used to either create a diagonal matrix or extract the diagonal of an existing matrix."
      ]
    },
    {
      "cell_type": "code",
      "metadata": {
        "deletable": false,
        "editable": false,
        "nbgrader": {
          "checksum": "a7827131b018aaee62a92435ad8de654",
          "grade": false,
          "grade_id": "cell-9b0e2490ec5217fd",
          "locked": true,
          "schema_version": 1,
          "solution": false
        },
        "id": "nTYN6YBJ5J7M",
        "colab_type": "code",
        "colab": {
          "base_uri": "https://localhost:8080/",
          "height": 104
        },
        "outputId": "99804053-98ed-4ca7-c629-ac788dd5682d"
      },
      "source": [
        "D = np.diag([1,2,3,4,5])\n",
        "D"
      ],
      "execution_count": 30,
      "outputs": [
        {
          "output_type": "execute_result",
          "data": {
            "text/plain": [
              "array([[1, 0, 0, 0, 0],\n",
              "       [0, 2, 0, 0, 0],\n",
              "       [0, 0, 3, 0, 0],\n",
              "       [0, 0, 0, 4, 0],\n",
              "       [0, 0, 0, 0, 5]])"
            ]
          },
          "metadata": {
            "tags": []
          },
          "execution_count": 30
        }
      ]
    },
    {
      "cell_type": "code",
      "metadata": {
        "deletable": false,
        "editable": false,
        "nbgrader": {
          "checksum": "5c7739b89ef5e655c11be8602d8e57fa",
          "grade": false,
          "grade_id": "cell-1c3a67302f17a13a",
          "locked": true,
          "schema_version": 1,
          "solution": false
        },
        "id": "THbXmjaj5J7O",
        "colab_type": "code",
        "colab": {
          "base_uri": "https://localhost:8080/",
          "height": 34
        },
        "outputId": "bd931098-8de3-4977-ce26-579bbf5da3e8"
      },
      "source": [
        "np.diag(five_identity)"
      ],
      "execution_count": 31,
      "outputs": [
        {
          "output_type": "execute_result",
          "data": {
            "text/plain": [
              "array([1., 1., 1., 1., 1.])"
            ]
          },
          "metadata": {
            "tags": []
          },
          "execution_count": 31
        }
      ]
    },
    {
      "cell_type": "markdown",
      "metadata": {
        "deletable": false,
        "editable": false,
        "nbgrader": {
          "checksum": "e028ea8f63268800a32e827511742a95",
          "grade": false,
          "grade_id": "cell-24fe13e71812f70a",
          "locked": true,
          "schema_version": 1,
          "solution": false
        },
        "id": "E7Td4xh_5J7R",
        "colab_type": "text"
      },
      "source": [
        "We can check if a matrix is Symmetric by checking if it is equivalent to its transpose. Is a diagonal matrix symmetric?\n"
      ]
    },
    {
      "cell_type": "code",
      "metadata": {
        "deletable": false,
        "editable": false,
        "nbgrader": {
          "checksum": "c6519a7b302febb3565c42baa57c1f27",
          "grade": false,
          "grade_id": "cell-e40cd544bc026eb1",
          "locked": true,
          "schema_version": 1,
          "solution": false
        },
        "id": "MUxw1jzl5J7S",
        "colab_type": "code",
        "colab": {
          "base_uri": "https://localhost:8080/",
          "height": 34
        },
        "outputId": "1ecb6dd7-f91b-405c-c5a0-3efbb3d62a3a"
      },
      "source": [
        "print(f\"It is {np.all(D == D.T)} that D is a symmetric matrix\")"
      ],
      "execution_count": 32,
      "outputs": [
        {
          "output_type": "stream",
          "text": [
            "It is True that D is a symmetric matrix\n"
          ],
          "name": "stdout"
        }
      ]
    },
    {
      "cell_type": "code",
      "metadata": {
        "deletable": false,
        "editable": false,
        "nbgrader": {
          "checksum": "351c8b3bba4ae34a68988ca5b3cfd656",
          "grade": false,
          "grade_id": "cell-7185d891f53e6a13",
          "locked": true,
          "schema_version": 1,
          "solution": false
        },
        "id": "whBXnA745J7U",
        "colab_type": "code",
        "colab": {
          "base_uri": "https://localhost:8080/",
          "height": 34
        },
        "outputId": "9b0cfc01-7191-4acd-be76-c3cef73999bb"
      },
      "source": [
        "print(f\"It is {np.all(X == X.T)} that X is a symmetric matrix\")"
      ],
      "execution_count": 33,
      "outputs": [
        {
          "output_type": "stream",
          "text": [
            "It is False that X is a symmetric matrix\n"
          ],
          "name": "stdout"
        }
      ]
    },
    {
      "cell_type": "markdown",
      "metadata": {
        "deletable": false,
        "editable": false,
        "nbgrader": {
          "checksum": "5a49663bf9abe9476dd40f83749666e0",
          "grade": false,
          "grade_id": "cell-3eda10c67692d773",
          "locked": true,
          "schema_version": 1,
          "solution": false
        },
        "id": "JOltpM9V5J7a",
        "colab_type": "text"
      },
      "source": [
        "We can calculate the rank of a matrix using [`np.linalg.matrix_rank`](https://docs.scipy.org/doc/numpy-1.14.0/reference/generated/numpy.linalg.matrix_rank.html)."
      ]
    },
    {
      "cell_type": "code",
      "metadata": {
        "deletable": false,
        "editable": false,
        "nbgrader": {
          "checksum": "e16c5905edebb6795a66e4d22ba3d4ce",
          "grade": false,
          "grade_id": "cell-c21ee304e791e8a2",
          "locked": true,
          "schema_version": 1,
          "solution": false
        },
        "id": "5T5HtDGw5J7b",
        "colab_type": "code",
        "colab": {
          "base_uri": "https://localhost:8080/",
          "height": 34
        },
        "outputId": "387598ad-b985-4f79-8a71-4e0293c40493"
      },
      "source": [
        "np.linalg.matrix_rank(X)"
      ],
      "execution_count": 34,
      "outputs": [
        {
          "output_type": "execute_result",
          "data": {
            "text/plain": [
              "2"
            ]
          },
          "metadata": {
            "tags": []
          },
          "execution_count": 34
        }
      ]
    },
    {
      "cell_type": "code",
      "metadata": {
        "deletable": false,
        "editable": false,
        "nbgrader": {
          "checksum": "56a47543b7d8841d6e2af93815f7fa39",
          "grade": false,
          "grade_id": "cell-bac54b7f0f21347f",
          "locked": true,
          "schema_version": 1,
          "solution": false
        },
        "id": "-ZGfegwt5J7f",
        "colab_type": "code",
        "colab": {
          "base_uri": "https://localhost:8080/",
          "height": 34
        },
        "outputId": "f7db359c-745b-41e1-d7ca-f0a05864b3dc"
      },
      "source": [
        "np.linalg.matrix_rank(five_identity)"
      ],
      "execution_count": 35,
      "outputs": [
        {
          "output_type": "execute_result",
          "data": {
            "text/plain": [
              "5"
            ]
          },
          "metadata": {
            "tags": []
          },
          "execution_count": 35
        }
      ]
    },
    {
      "cell_type": "code",
      "metadata": {
        "deletable": false,
        "editable": false,
        "nbgrader": {
          "checksum": "7acfaf0e7e848f12dc5b1fe670a4a8c8",
          "grade": false,
          "grade_id": "cell-adfab159c927ec00",
          "locked": true,
          "schema_version": 1,
          "solution": false
        },
        "id": "2VcFg6Kz5J7j",
        "colab_type": "code",
        "colab": {
          "base_uri": "https://localhost:8080/",
          "height": 34
        },
        "outputId": "82fc2cba-51ef-4fb2-9dbd-2160cd966f01"
      },
      "source": [
        "np.linalg.matrix_rank(np.array([\n",
        "    [1, 2, 3],\n",
        "    [2, 4, 6]\n",
        "]))"
      ],
      "execution_count": 36,
      "outputs": [
        {
          "output_type": "execute_result",
          "data": {
            "text/plain": [
              "1"
            ]
          },
          "metadata": {
            "tags": []
          },
          "execution_count": 36
        }
      ]
    },
    {
      "cell_type": "code",
      "metadata": {
        "deletable": false,
        "editable": false,
        "nbgrader": {
          "checksum": "c6b943649a22931fc34fbd84f7cb8ebc",
          "grade": false,
          "grade_id": "cell-b22277caedf82091",
          "locked": true,
          "schema_version": 1,
          "solution": false
        },
        "id": "2Aejn5415J7o",
        "colab_type": "code",
        "colab": {
          "base_uri": "https://localhost:8080/",
          "height": 34
        },
        "outputId": "7ca6dbff-582a-4da1-a277-c84ba7292bd4"
      },
      "source": [
        "np.linalg.matrix_rank(np.array([\n",
        "    [1, 2, 4],\n",
        "    [2, 4, 6]\n",
        "]))"
      ],
      "execution_count": 37,
      "outputs": [
        {
          "output_type": "execute_result",
          "data": {
            "text/plain": [
              "2"
            ]
          },
          "metadata": {
            "tags": []
          },
          "execution_count": 37
        }
      ]
    },
    {
      "cell_type": "markdown",
      "metadata": {
        "deletable": false,
        "editable": false,
        "nbgrader": {
          "checksum": "13e2543b7a31d0d6c99056d465851417",
          "grade": false,
          "grade_id": "cell-6696b1cd99c70c35",
          "locked": true,
          "schema_version": 1,
          "solution": false
        },
        "id": "W18ladsv5J7s",
        "colab_type": "text"
      },
      "source": [
        "Check to see if these numbers make sense to you based on the definition of rank."
      ]
    },
    {
      "cell_type": "markdown",
      "metadata": {
        "deletable": false,
        "editable": false,
        "nbgrader": {
          "checksum": "042163a6896379516bbef00151007e65",
          "grade": false,
          "grade_id": "cell-7d3d8ac8c5368d1e",
          "locked": true,
          "schema_version": 1,
          "solution": false
        },
        "id": "5pPpvPdq5J7v",
        "colab_type": "text"
      },
      "source": [
        "## Decomposition\n",
        "\n",
        "Now let's look at decomposing a matrix into multiple matrices. We have two main methods of doing so. Singular Value Decomposition works on all matrices and eigenvalue decomposition works on symmetric matrices.\n",
        "\n",
        "We can use [`linalg.svd`](https://docs.scipy.org/doc/numpy-1.14.0/reference/generated/numpy.linalg.svd.html) to calculate the SVD of a matrix and [`linalg.eig`](https://docs.scipy.org/doc/numpy-1.14.0/reference/generated/numpy.linalg.eig.html) to form the eigenvalue decomposition of a symmetric matrix."
      ]
    },
    {
      "cell_type": "code",
      "metadata": {
        "deletable": false,
        "editable": false,
        "nbgrader": {
          "checksum": "577eba00d96a81a7a000b680c706315d",
          "grade": false,
          "grade_id": "cell-116eebdb1023e6c9",
          "locked": true,
          "schema_version": 1,
          "solution": false
        },
        "id": "WZip5VqN5J7w",
        "colab_type": "code",
        "colab": {
          "base_uri": "https://localhost:8080/",
          "height": 296
        },
        "outputId": "617c18fe-db50-469e-8509-db4ce04bd04e"
      },
      "source": [
        "U, Sigma, VT = np.linalg.svd(Y)\n",
        "V = VT.T\n",
        "print(U)\n",
        "print(V)\n",
        "print(Sigma)\n",
        "U@U.T, U.T @ U, V@V.T, V.T @ V"
      ],
      "execution_count": 38,
      "outputs": [
        {
          "output_type": "stream",
          "text": [
            "[[-0.3863177  -0.92236578]\n",
            " [-0.92236578  0.3863177 ]]\n",
            "[[-0.42866713  0.80596391  0.40824829]\n",
            " [-0.56630692  0.11238241 -0.81649658]\n",
            " [-0.7039467  -0.58119908  0.40824829]]\n",
            "[9.508032   0.77286964]\n"
          ],
          "name": "stdout"
        },
        {
          "output_type": "execute_result",
          "data": {
            "text/plain": [
              "(array([[ 1.00000000e+00, -8.49433239e-18],\n",
              "        [-8.49433239e-18,  1.00000000e+00]]),\n",
              " array([[ 1.00000000e+00, -8.49433239e-18],\n",
              "        [-8.49433239e-18,  1.00000000e+00]]),\n",
              " array([[1.00000000e+00, 1.16059657e-16, 9.83171390e-17],\n",
              "        [1.16059657e-16, 1.00000000e+00, 4.58633852e-19],\n",
              "        [9.83171390e-17, 4.58633852e-19, 1.00000000e+00]]),\n",
              " array([[ 1.00000000e+00,  4.13108370e-17,  2.21870637e-17],\n",
              "        [ 4.13108370e-17,  1.00000000e+00, -1.77008767e-16],\n",
              "        [ 2.21870637e-17, -1.77008767e-16,  1.00000000e+00]]))"
            ]
          },
          "metadata": {
            "tags": []
          },
          "execution_count": 38
        }
      ]
    },
    {
      "cell_type": "markdown",
      "metadata": {
        "deletable": false,
        "editable": false,
        "nbgrader": {
          "checksum": "145e15752ac0f286f3c12aeaed259f8f",
          "grade": false,
          "grade_id": "cell-0b57fad13a05d006",
          "locked": true,
          "schema_version": 1,
          "solution": false
        },
        "id": "8qmDzZ9i5J71",
        "colab_type": "text"
      },
      "source": [
        "Check the orthogonality of the resulting matrices."
      ]
    },
    {
      "cell_type": "code",
      "metadata": {
        "deletable": false,
        "editable": false,
        "nbgrader": {
          "checksum": "7bccf034406078a7c1e49824493062d2",
          "grade": false,
          "grade_id": "cell-227f9de1eea2e6de",
          "locked": true,
          "schema_version": 1,
          "solution": false
        },
        "id": "JsISguMe5J72",
        "colab_type": "code",
        "colab": {
          "base_uri": "https://localhost:8080/",
          "height": 191
        },
        "outputId": "7ba015c2-749c-4944-e5ef-5f725705350d"
      },
      "source": [
        "U@U.T, U.T @ U, V@V.T, V.T @ V"
      ],
      "execution_count": 39,
      "outputs": [
        {
          "output_type": "execute_result",
          "data": {
            "text/plain": [
              "(array([[ 1.00000000e+00, -8.49433239e-18],\n",
              "        [-8.49433239e-18,  1.00000000e+00]]),\n",
              " array([[ 1.00000000e+00, -8.49433239e-18],\n",
              "        [-8.49433239e-18,  1.00000000e+00]]),\n",
              " array([[1.00000000e+00, 1.16059657e-16, 9.83171390e-17],\n",
              "        [1.16059657e-16, 1.00000000e+00, 4.58633852e-19],\n",
              "        [9.83171390e-17, 4.58633852e-19, 1.00000000e+00]]),\n",
              " array([[ 1.00000000e+00,  4.13108370e-17,  2.21870637e-17],\n",
              "        [ 4.13108370e-17,  1.00000000e+00, -1.77008767e-16],\n",
              "        [ 2.21870637e-17, -1.77008767e-16,  1.00000000e+00]]))"
            ]
          },
          "metadata": {
            "tags": []
          },
          "execution_count": 39
        }
      ]
    },
    {
      "cell_type": "markdown",
      "metadata": {
        "deletable": false,
        "editable": false,
        "nbgrader": {
          "checksum": "810f22b839dd8db23bfc586363cee448",
          "grade": false,
          "grade_id": "cell-3f97408d9b50ed75",
          "locked": true,
          "schema_version": 1,
          "solution": false
        },
        "id": "M3kAR5p45J7_",
        "colab_type": "text"
      },
      "source": [
        "Let's create a symmetric matrix $\\mathbf{S}$ to verify SVD's equivalence to eigenvalue decomposition when the matrix is symmetric."
      ]
    },
    {
      "cell_type": "code",
      "metadata": {
        "deletable": false,
        "editable": false,
        "nbgrader": {
          "checksum": "bf04adbd33cea1dad168f18aa0afb8d0",
          "grade": false,
          "grade_id": "cell-384d6d71a540eba5",
          "locked": true,
          "schema_version": 1,
          "solution": false
        },
        "id": "geX5g7rp5J8A",
        "colab_type": "code",
        "colab": {}
      },
      "source": [
        "S = np.array([\n",
        "    [1, 2, 3],\n",
        "    [2, 3, 7],\n",
        "    [3, 7, 12]\n",
        "])"
      ],
      "execution_count": 0,
      "outputs": []
    },
    {
      "cell_type": "code",
      "metadata": {
        "deletable": false,
        "editable": false,
        "nbgrader": {
          "checksum": "94797a37f3b0217b62f5902841d3d6de",
          "grade": false,
          "grade_id": "cell-98358611208e7211",
          "locked": true,
          "schema_version": 1,
          "solution": false
        },
        "id": "Qz9X-kua5J8D",
        "colab_type": "code",
        "colab": {
          "base_uri": "https://localhost:8080/",
          "height": 139
        },
        "outputId": "5fc47556-d42b-44cc-c128-75e191ea5f0c"
      },
      "source": [
        "U, Sigma, VT = np.linalg.svd(S)\n",
        "V = VT.T\n",
        "print(U)\n",
        "print(V)\n",
        "print(Sigma)"
      ],
      "execution_count": 41,
      "outputs": [
        {
          "output_type": "stream",
          "text": [
            "[[-0.22380127 -0.26826216  0.93698901]\n",
            " [-0.47060372  0.87162146  0.13714285]\n",
            " [-0.85348997 -0.41025777 -0.32131516]]\n",
            "[[-0.22380127  0.26826216  0.93698901]\n",
            " [-0.47060372 -0.87162146  0.13714285]\n",
            " [-0.85348997  0.41025777 -0.32131516]]\n",
            "[16.64636961  0.91033134  0.26396173]\n"
          ],
          "name": "stdout"
        }
      ]
    },
    {
      "cell_type": "code",
      "metadata": {
        "deletable": false,
        "nbgrader": {
          "checksum": "3ea6b9e8a5eea43bd991f0dc23ab521c",
          "grade": false,
          "grade_id": "cell-da850a693bb7be9c",
          "locked": false,
          "schema_version": 1,
          "solution": true
        },
        "id": "x5Qxv86-5J8F",
        "colab_type": "code",
        "colab": {}
      },
      "source": [
        "# Calculate the eigenvalues and eigenvectors of S and save them to eig_vals and eig_vecs respectively.\n",
        "# YOUR CODE HERE\n",
        "eig_vals, eig_vecs = np.linalg.eig(S)"
      ],
      "execution_count": 0,
      "outputs": []
    },
    {
      "cell_type": "code",
      "metadata": {
        "deletable": false,
        "editable": false,
        "nbgrader": {
          "checksum": "cc191190b094f50eac9f1be269991b54",
          "grade": true,
          "grade_id": "cell-0078b327366d23e9",
          "locked": true,
          "points": 5,
          "schema_version": 1,
          "solution": false
        },
        "id": "nyYkn5L25J8H",
        "colab_type": "code",
        "colab": {}
      },
      "source": [
        "assert eig_vals.shape == (3,)\n",
        "assert eig_vecs.shape == (3,3)"
      ],
      "execution_count": 0,
      "outputs": []
    },
    {
      "cell_type": "markdown",
      "metadata": {
        "deletable": false,
        "editable": false,
        "nbgrader": {
          "checksum": "4eed3d759b08441ad1883dfa9087280d",
          "grade": false,
          "grade_id": "cell-ed87420970917ba4",
          "locked": true,
          "schema_version": 1,
          "solution": false
        },
        "id": "5dev5Ebr5J8N",
        "colab_type": "text"
      },
      "source": [
        "Verify some properties of eigenvalues for symmetric matrices."
      ]
    },
    {
      "cell_type": "code",
      "metadata": {
        "deletable": false,
        "editable": false,
        "nbgrader": {
          "checksum": "786159102914bbbd159d36e6e34dc7be",
          "grade": false,
          "grade_id": "cell-087b2bf4330d2796",
          "locked": true,
          "schema_version": 1,
          "solution": false
        },
        "id": "VD1x3ml75J8P",
        "colab_type": "code",
        "colab": {
          "base_uri": "https://localhost:8080/",
          "height": 69
        },
        "outputId": "f3bfdf69-07df-474d-cd8e-309b88fee30e"
      },
      "source": [
        "np.linalg.eigvals(S.T @ S), np.linalg.eigvals(S @ S.T), np.linalg.eigvals(S) ** 2"
      ],
      "execution_count": 44,
      "outputs": [
        {
          "output_type": "execute_result",
          "data": {
            "text/plain": [
              "(array([2.77101621e+02, 6.96757948e-02, 8.28703141e-01]),\n",
              " array([2.77101621e+02, 6.96757948e-02, 8.28703141e-01]),\n",
              " array([2.77101621e+02, 6.96757948e-02, 8.28703141e-01]))"
            ]
          },
          "metadata": {
            "tags": []
          },
          "execution_count": 44
        }
      ]
    },
    {
      "cell_type": "markdown",
      "metadata": {
        "deletable": false,
        "editable": false,
        "nbgrader": {
          "checksum": "06592d27996690c948e9f6d1e341c8dc",
          "grade": false,
          "grade_id": "cell-1280c87e936562eb",
          "locked": true,
          "schema_version": 1,
          "solution": false
        },
        "id": "b_XjKsor5J8S",
        "colab_type": "text"
      },
      "source": [
        "## Feedback"
      ]
    },
    {
      "cell_type": "code",
      "metadata": {
        "deletable": false,
        "nbgrader": {
          "checksum": "ad17574c24c2f7c49b06fd098156817f",
          "grade": false,
          "grade_id": "cell-9e98681da9a95117",
          "locked": false,
          "schema_version": 1,
          "solution": true
        },
        "id": "z0x9VwE55J8U",
        "colab_type": "code",
        "colab": {}
      },
      "source": [
        "def feedback():\n",
        "    \"\"\"Provide feedback on the contents of this exercise\n",
        "    \n",
        "    Returns:\n",
        "        string\n",
        "    \"\"\"\n",
        "    feedback=\"Still a little confusing about how these are going to be used in the future for problems. Otherwise, very glad I don't have to memorize how to compute all of this manually.\"\n",
        "    return feedback"
      ],
      "execution_count": 0,
      "outputs": []
    },
    {
      "cell_type": "code",
      "metadata": {
        "deletable": false,
        "editable": false,
        "nbgrader": {
          "checksum": "73f936690f200756f103c220eda93934",
          "grade": true,
          "grade_id": "cell-38e4606280755f60",
          "locked": true,
          "points": 0,
          "schema_version": 1,
          "solution": false
        },
        "id": "jpiUtp-75J8W",
        "colab_type": "code",
        "colab": {
          "base_uri": "https://localhost:8080/",
          "height": 54
        },
        "outputId": "83666a9f-a920-4aeb-800b-18a9c86ff3ab"
      },
      "source": [
        "feedback()"
      ],
      "execution_count": 46,
      "outputs": [
        {
          "output_type": "execute_result",
          "data": {
            "text/plain": [
              "\"Still a little confusing about how these are going to be used in the future for problems. Otherwise, very glad I don't have to memorize how to compute all of this manually.\""
            ]
          },
          "metadata": {
            "tags": []
          },
          "execution_count": 46
        }
      ]
    },
    {
      "cell_type": "code",
      "metadata": {
        "id": "s5cPEDV4-PTr",
        "colab_type": "code",
        "colab": {}
      },
      "source": [
        ""
      ],
      "execution_count": 0,
      "outputs": []
    }
  ]
}