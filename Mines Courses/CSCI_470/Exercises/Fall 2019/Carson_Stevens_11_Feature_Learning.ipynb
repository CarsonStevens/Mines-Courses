{
  "nbformat": 4,
  "nbformat_minor": 0,
  "metadata": {
    "kernelspec": {
      "display_name": "iml-exercises",
      "language": "python",
      "name": "iml-exercises"
    },
    "language_info": {
      "codemirror_mode": {
        "name": "ipython",
        "version": 3
      },
      "file_extension": ".py",
      "mimetype": "text/x-python",
      "name": "python",
      "nbconvert_exporter": "python",
      "pygments_lexer": "ipython3",
      "version": "3.6.5"
    },
    "colab": {
      "name": "Carson Stevens 11 - Feature Learning.ipynb",
      "provenance": [],
      "collapsed_sections": [
        "9N8CtmfJF_ni",
        "b9VwmaVLF_n9",
        "_i9SCjJDF_od",
        "Y_wPw7hdF_o5"
      ]
    }
  },
  "cells": [
    {
      "cell_type": "markdown",
      "metadata": {
        "deletable": false,
        "editable": false,
        "nbgrader": {
          "checksum": "51dec2afd3628e00047e3dbca32b2151",
          "grade": false,
          "grade_id": "cell-9aa804aaaa8f9bca",
          "locked": true,
          "schema_version": 1,
          "solution": false
        },
        "id": "t82zHVqrF_mV",
        "colab_type": "text"
      },
      "source": [
        "# Feature Learning - Carson Stevens\n",
        "\n",
        "In this exercise we will use a dataset with high dimensionality and apply supervised learning methods to it after various feature learning methods."
      ]
    },
    {
      "cell_type": "code",
      "metadata": {
        "deletable": false,
        "editable": false,
        "nbgrader": {
          "checksum": "1fb04df1383071b8c98758b7274af192",
          "grade": false,
          "grade_id": "cell-675ea75b33420748",
          "locked": true,
          "schema_version": 1,
          "solution": false
        },
        "id": "gVrPAq75F_mZ",
        "colab_type": "code",
        "colab": {}
      },
      "source": [
        "import numpy as np\n",
        "import pandas as pd\n",
        "import matplotlib\n",
        "import matplotlib.pyplot as plt\n",
        "import sklearn as sk\n",
        "\n",
        "plt.style.use(\"ggplot\")"
      ],
      "execution_count": 0,
      "outputs": []
    },
    {
      "cell_type": "code",
      "metadata": {
        "deletable": false,
        "editable": false,
        "nbgrader": {
          "checksum": "f492e5f4e57dac45f8f599b8cf72cdaa",
          "grade": false,
          "grade_id": "cell-dcc937bc7b3f119b",
          "locked": true,
          "schema_version": 1,
          "solution": false
        },
        "id": "1FZDuG9kF_ml",
        "colab_type": "code",
        "colab": {}
      },
      "source": [
        "from sklearn.datasets import fetch_california_housing\n",
        "from sklearn.model_selection import train_test_split, GridSearchCV\n",
        "from sklearn.feature_selection import SelectKBest, mutual_info_regression, RFE\n",
        "from sklearn.linear_model import LinearRegression, LassoCV\n",
        "from sklearn.decomposition import PCA"
      ],
      "execution_count": 0,
      "outputs": []
    },
    {
      "cell_type": "markdown",
      "metadata": {
        "deletable": false,
        "editable": false,
        "nbgrader": {
          "checksum": "7fb5cd342ec6cc8e53a4ef9ce07334af",
          "grade": false,
          "grade_id": "cell-700c5cdb1419069b",
          "locked": true,
          "schema_version": 1,
          "solution": false
        },
        "id": "uFfz0q2KF_mt",
        "colab_type": "text"
      },
      "source": [
        "The data we'll be working with is the [California housing dataset](http://scikit-learn.org/stable/datasets/index.html#california-housing-dataset)."
      ]
    },
    {
      "cell_type": "code",
      "metadata": {
        "deletable": false,
        "editable": false,
        "nbgrader": {
          "checksum": "6817f6d9b1d9def615d314fbc46fc3ae",
          "grade": false,
          "grade_id": "cell-5ec1b36cba18af4d",
          "locked": true,
          "schema_version": 1,
          "solution": false
        },
        "id": "lXT7Bl5TF_mv",
        "colab_type": "code",
        "colab": {
          "base_uri": "https://localhost:8080/",
          "height": 756
        },
        "outputId": "76987006-c897-454c-aa26-05eac76742f1"
      },
      "source": [
        "house_data = fetch_california_housing()\n",
        "print(house_data[\"DESCR\"])"
      ],
      "execution_count": 3,
      "outputs": [
        {
          "output_type": "stream",
          "text": [
            "Downloading Cal. housing from https://ndownloader.figshare.com/files/5976036 to /root/scikit_learn_data\n"
          ],
          "name": "stderr"
        },
        {
          "output_type": "stream",
          "text": [
            ".. _california_housing_dataset:\n",
            "\n",
            "California Housing dataset\n",
            "--------------------------\n",
            "\n",
            "**Data Set Characteristics:**\n",
            "\n",
            "    :Number of Instances: 20640\n",
            "\n",
            "    :Number of Attributes: 8 numeric, predictive attributes and the target\n",
            "\n",
            "    :Attribute Information:\n",
            "        - MedInc        median income in block\n",
            "        - HouseAge      median house age in block\n",
            "        - AveRooms      average number of rooms\n",
            "        - AveBedrms     average number of bedrooms\n",
            "        - Population    block population\n",
            "        - AveOccup      average house occupancy\n",
            "        - Latitude      house block latitude\n",
            "        - Longitude     house block longitude\n",
            "\n",
            "    :Missing Attribute Values: None\n",
            "\n",
            "This dataset was obtained from the StatLib repository.\n",
            "http://lib.stat.cmu.edu/datasets/\n",
            "\n",
            "The target variable is the median house value for California districts.\n",
            "\n",
            "This dataset was derived from the 1990 U.S. census, using one row per census\n",
            "block group. A block group is the smallest geographical unit for which the U.S.\n",
            "Census Bureau publishes sample data (a block group typically has a population\n",
            "of 600 to 3,000 people).\n",
            "\n",
            "It can be downloaded/loaded using the\n",
            ":func:`sklearn.datasets.fetch_california_housing` function.\n",
            "\n",
            ".. topic:: References\n",
            "\n",
            "    - Pace, R. Kelley and Ronald Barry, Sparse Spatial Autoregressions,\n",
            "      Statistics and Probability Letters, 33 (1997) 291-297\n",
            "\n"
          ],
          "name": "stdout"
        }
      ]
    },
    {
      "cell_type": "code",
      "metadata": {
        "deletable": false,
        "editable": false,
        "nbgrader": {
          "checksum": "7f0db01c55b339e171da352d2734570f",
          "grade": false,
          "grade_id": "cell-f7103f854887d832",
          "locked": true,
          "schema_version": 1,
          "solution": false
        },
        "id": "KJ4gLz5FF_m0",
        "colab_type": "code",
        "colab": {}
      },
      "source": [
        "house_features = pd.DataFrame(house_data[\"data\"], columns=house_data[\"feature_names\"])\n",
        "house_prices = pd.Series(house_data[\"target\"])"
      ],
      "execution_count": 0,
      "outputs": []
    },
    {
      "cell_type": "code",
      "metadata": {
        "deletable": false,
        "editable": false,
        "nbgrader": {
          "checksum": "0cf0b6c83f7171764bb881774daea1c5",
          "grade": false,
          "grade_id": "cell-10562d702c478147",
          "locked": true,
          "schema_version": 1,
          "solution": false
        },
        "id": "jeOvohCgF_m3",
        "colab_type": "code",
        "colab": {
          "base_uri": "https://localhost:8080/",
          "height": 205
        },
        "outputId": "0787701a-55b2-4a01-a4b0-348dd13b0a36"
      },
      "source": [
        "house_features.head()"
      ],
      "execution_count": 5,
      "outputs": [
        {
          "output_type": "execute_result",
          "data": {
            "text/html": [
              "<div>\n",
              "<style scoped>\n",
              "    .dataframe tbody tr th:only-of-type {\n",
              "        vertical-align: middle;\n",
              "    }\n",
              "\n",
              "    .dataframe tbody tr th {\n",
              "        vertical-align: top;\n",
              "    }\n",
              "\n",
              "    .dataframe thead th {\n",
              "        text-align: right;\n",
              "    }\n",
              "</style>\n",
              "<table border=\"1\" class=\"dataframe\">\n",
              "  <thead>\n",
              "    <tr style=\"text-align: right;\">\n",
              "      <th></th>\n",
              "      <th>MedInc</th>\n",
              "      <th>HouseAge</th>\n",
              "      <th>AveRooms</th>\n",
              "      <th>AveBedrms</th>\n",
              "      <th>Population</th>\n",
              "      <th>AveOccup</th>\n",
              "      <th>Latitude</th>\n",
              "      <th>Longitude</th>\n",
              "    </tr>\n",
              "  </thead>\n",
              "  <tbody>\n",
              "    <tr>\n",
              "      <th>0</th>\n",
              "      <td>8.3252</td>\n",
              "      <td>41.0</td>\n",
              "      <td>6.984127</td>\n",
              "      <td>1.023810</td>\n",
              "      <td>322.0</td>\n",
              "      <td>2.555556</td>\n",
              "      <td>37.88</td>\n",
              "      <td>-122.23</td>\n",
              "    </tr>\n",
              "    <tr>\n",
              "      <th>1</th>\n",
              "      <td>8.3014</td>\n",
              "      <td>21.0</td>\n",
              "      <td>6.238137</td>\n",
              "      <td>0.971880</td>\n",
              "      <td>2401.0</td>\n",
              "      <td>2.109842</td>\n",
              "      <td>37.86</td>\n",
              "      <td>-122.22</td>\n",
              "    </tr>\n",
              "    <tr>\n",
              "      <th>2</th>\n",
              "      <td>7.2574</td>\n",
              "      <td>52.0</td>\n",
              "      <td>8.288136</td>\n",
              "      <td>1.073446</td>\n",
              "      <td>496.0</td>\n",
              "      <td>2.802260</td>\n",
              "      <td>37.85</td>\n",
              "      <td>-122.24</td>\n",
              "    </tr>\n",
              "    <tr>\n",
              "      <th>3</th>\n",
              "      <td>5.6431</td>\n",
              "      <td>52.0</td>\n",
              "      <td>5.817352</td>\n",
              "      <td>1.073059</td>\n",
              "      <td>558.0</td>\n",
              "      <td>2.547945</td>\n",
              "      <td>37.85</td>\n",
              "      <td>-122.25</td>\n",
              "    </tr>\n",
              "    <tr>\n",
              "      <th>4</th>\n",
              "      <td>3.8462</td>\n",
              "      <td>52.0</td>\n",
              "      <td>6.281853</td>\n",
              "      <td>1.081081</td>\n",
              "      <td>565.0</td>\n",
              "      <td>2.181467</td>\n",
              "      <td>37.85</td>\n",
              "      <td>-122.25</td>\n",
              "    </tr>\n",
              "  </tbody>\n",
              "</table>\n",
              "</div>"
            ],
            "text/plain": [
              "   MedInc  HouseAge  AveRooms  ...  AveOccup  Latitude  Longitude\n",
              "0  8.3252      41.0  6.984127  ...  2.555556     37.88    -122.23\n",
              "1  8.3014      21.0  6.238137  ...  2.109842     37.86    -122.22\n",
              "2  7.2574      52.0  8.288136  ...  2.802260     37.85    -122.24\n",
              "3  5.6431      52.0  5.817352  ...  2.547945     37.85    -122.25\n",
              "4  3.8462      52.0  6.281853  ...  2.181467     37.85    -122.25\n",
              "\n",
              "[5 rows x 8 columns]"
            ]
          },
          "metadata": {
            "tags": []
          },
          "execution_count": 5
        }
      ]
    },
    {
      "cell_type": "code",
      "metadata": {
        "deletable": false,
        "editable": false,
        "nbgrader": {
          "checksum": "298e8f00107762b172a854dd0e6d8a6d",
          "grade": false,
          "grade_id": "cell-f287bd15a4b23bc5",
          "locked": true,
          "schema_version": 1,
          "solution": false
        },
        "id": "uQa2f6TeF_m7",
        "colab_type": "code",
        "colab": {
          "base_uri": "https://localhost:8080/",
          "height": 298
        },
        "outputId": "cec954e6-0787-454d-deff-27b45cc2fee3"
      },
      "source": [
        "house_features.describe()"
      ],
      "execution_count": 6,
      "outputs": [
        {
          "output_type": "execute_result",
          "data": {
            "text/html": [
              "<div>\n",
              "<style scoped>\n",
              "    .dataframe tbody tr th:only-of-type {\n",
              "        vertical-align: middle;\n",
              "    }\n",
              "\n",
              "    .dataframe tbody tr th {\n",
              "        vertical-align: top;\n",
              "    }\n",
              "\n",
              "    .dataframe thead th {\n",
              "        text-align: right;\n",
              "    }\n",
              "</style>\n",
              "<table border=\"1\" class=\"dataframe\">\n",
              "  <thead>\n",
              "    <tr style=\"text-align: right;\">\n",
              "      <th></th>\n",
              "      <th>MedInc</th>\n",
              "      <th>HouseAge</th>\n",
              "      <th>AveRooms</th>\n",
              "      <th>AveBedrms</th>\n",
              "      <th>Population</th>\n",
              "      <th>AveOccup</th>\n",
              "      <th>Latitude</th>\n",
              "      <th>Longitude</th>\n",
              "    </tr>\n",
              "  </thead>\n",
              "  <tbody>\n",
              "    <tr>\n",
              "      <th>count</th>\n",
              "      <td>20640.000000</td>\n",
              "      <td>20640.000000</td>\n",
              "      <td>20640.000000</td>\n",
              "      <td>20640.000000</td>\n",
              "      <td>20640.000000</td>\n",
              "      <td>20640.000000</td>\n",
              "      <td>20640.000000</td>\n",
              "      <td>20640.000000</td>\n",
              "    </tr>\n",
              "    <tr>\n",
              "      <th>mean</th>\n",
              "      <td>3.870671</td>\n",
              "      <td>28.639486</td>\n",
              "      <td>5.429000</td>\n",
              "      <td>1.096675</td>\n",
              "      <td>1425.476744</td>\n",
              "      <td>3.070655</td>\n",
              "      <td>35.631861</td>\n",
              "      <td>-119.569704</td>\n",
              "    </tr>\n",
              "    <tr>\n",
              "      <th>std</th>\n",
              "      <td>1.899822</td>\n",
              "      <td>12.585558</td>\n",
              "      <td>2.474173</td>\n",
              "      <td>0.473911</td>\n",
              "      <td>1132.462122</td>\n",
              "      <td>10.386050</td>\n",
              "      <td>2.135952</td>\n",
              "      <td>2.003532</td>\n",
              "    </tr>\n",
              "    <tr>\n",
              "      <th>min</th>\n",
              "      <td>0.499900</td>\n",
              "      <td>1.000000</td>\n",
              "      <td>0.846154</td>\n",
              "      <td>0.333333</td>\n",
              "      <td>3.000000</td>\n",
              "      <td>0.692308</td>\n",
              "      <td>32.540000</td>\n",
              "      <td>-124.350000</td>\n",
              "    </tr>\n",
              "    <tr>\n",
              "      <th>25%</th>\n",
              "      <td>2.563400</td>\n",
              "      <td>18.000000</td>\n",
              "      <td>4.440716</td>\n",
              "      <td>1.006079</td>\n",
              "      <td>787.000000</td>\n",
              "      <td>2.429741</td>\n",
              "      <td>33.930000</td>\n",
              "      <td>-121.800000</td>\n",
              "    </tr>\n",
              "    <tr>\n",
              "      <th>50%</th>\n",
              "      <td>3.534800</td>\n",
              "      <td>29.000000</td>\n",
              "      <td>5.229129</td>\n",
              "      <td>1.048780</td>\n",
              "      <td>1166.000000</td>\n",
              "      <td>2.818116</td>\n",
              "      <td>34.260000</td>\n",
              "      <td>-118.490000</td>\n",
              "    </tr>\n",
              "    <tr>\n",
              "      <th>75%</th>\n",
              "      <td>4.743250</td>\n",
              "      <td>37.000000</td>\n",
              "      <td>6.052381</td>\n",
              "      <td>1.099526</td>\n",
              "      <td>1725.000000</td>\n",
              "      <td>3.282261</td>\n",
              "      <td>37.710000</td>\n",
              "      <td>-118.010000</td>\n",
              "    </tr>\n",
              "    <tr>\n",
              "      <th>max</th>\n",
              "      <td>15.000100</td>\n",
              "      <td>52.000000</td>\n",
              "      <td>141.909091</td>\n",
              "      <td>34.066667</td>\n",
              "      <td>35682.000000</td>\n",
              "      <td>1243.333333</td>\n",
              "      <td>41.950000</td>\n",
              "      <td>-114.310000</td>\n",
              "    </tr>\n",
              "  </tbody>\n",
              "</table>\n",
              "</div>"
            ],
            "text/plain": [
              "             MedInc      HouseAge  ...      Latitude     Longitude\n",
              "count  20640.000000  20640.000000  ...  20640.000000  20640.000000\n",
              "mean       3.870671     28.639486  ...     35.631861   -119.569704\n",
              "std        1.899822     12.585558  ...      2.135952      2.003532\n",
              "min        0.499900      1.000000  ...     32.540000   -124.350000\n",
              "25%        2.563400     18.000000  ...     33.930000   -121.800000\n",
              "50%        3.534800     29.000000  ...     34.260000   -118.490000\n",
              "75%        4.743250     37.000000  ...     37.710000   -118.010000\n",
              "max       15.000100     52.000000  ...     41.950000   -114.310000\n",
              "\n",
              "[8 rows x 8 columns]"
            ]
          },
          "metadata": {
            "tags": []
          },
          "execution_count": 6
        }
      ]
    },
    {
      "cell_type": "code",
      "metadata": {
        "deletable": false,
        "editable": false,
        "nbgrader": {
          "checksum": "d102ceee11a2836db5d4fb63e741b7ab",
          "grade": false,
          "grade_id": "cell-399de11feef27c9f",
          "locked": true,
          "schema_version": 1,
          "solution": false
        },
        "id": "GPUk0VvTF_m_",
        "colab_type": "code",
        "colab": {
          "base_uri": "https://localhost:8080/",
          "height": 122
        },
        "outputId": "6efc3218-eb2c-4dc0-fdf9-90bc35c4a892"
      },
      "source": [
        "house_prices.head()"
      ],
      "execution_count": 7,
      "outputs": [
        {
          "output_type": "execute_result",
          "data": {
            "text/plain": [
              "0    4.526\n",
              "1    3.585\n",
              "2    3.521\n",
              "3    3.413\n",
              "4    3.422\n",
              "dtype: float64"
            ]
          },
          "metadata": {
            "tags": []
          },
          "execution_count": 7
        }
      ]
    },
    {
      "cell_type": "code",
      "metadata": {
        "deletable": false,
        "editable": false,
        "nbgrader": {
          "checksum": "ade2a7841568e65cc53f438fa91ac326",
          "grade": false,
          "grade_id": "cell-20fdd83710664f14",
          "locked": true,
          "schema_version": 1,
          "solution": false
        },
        "id": "QcCmccR7F_nD",
        "colab_type": "code",
        "colab": {
          "base_uri": "https://localhost:8080/",
          "height": 175
        },
        "outputId": "3d55f4ac-f09e-4ea9-fc0b-1d147d8ca3e1"
      },
      "source": [
        "house_prices.describe()"
      ],
      "execution_count": 8,
      "outputs": [
        {
          "output_type": "execute_result",
          "data": {
            "text/plain": [
              "count    20640.000000\n",
              "mean         2.068558\n",
              "std          1.153956\n",
              "min          0.149990\n",
              "25%          1.196000\n",
              "50%          1.797000\n",
              "75%          2.647250\n",
              "max          5.000010\n",
              "dtype: float64"
            ]
          },
          "metadata": {
            "tags": []
          },
          "execution_count": 8
        }
      ]
    },
    {
      "cell_type": "markdown",
      "metadata": {
        "deletable": false,
        "editable": false,
        "nbgrader": {
          "checksum": "f70a7c3e5c79214b35e9f0dedb1df3ef",
          "grade": false,
          "grade_id": "cell-a6d14e9cfadf9cbe",
          "locked": true,
          "schema_version": 1,
          "solution": false
        },
        "id": "qR0Drq4GF_nG",
        "colab_type": "text"
      },
      "source": [
        "First, we'll split our data in order to determine how well we're doing."
      ]
    },
    {
      "cell_type": "code",
      "metadata": {
        "deletable": false,
        "editable": false,
        "nbgrader": {
          "checksum": "54c192139c17a81266f0926417fb5e6d",
          "grade": false,
          "grade_id": "cell-74fc4b2531172f7d",
          "locked": true,
          "schema_version": 1,
          "solution": false
        },
        "id": "mci5243oF_nH",
        "colab_type": "code",
        "colab": {}
      },
      "source": [
        "X_train, X_test, y_train, y_test = train_test_split(house_features, house_prices, test_size=0.2, random_state=0)"
      ],
      "execution_count": 0,
      "outputs": []
    },
    {
      "cell_type": "markdown",
      "metadata": {
        "deletable": false,
        "editable": false,
        "nbgrader": {
          "checksum": "8f07f2c1ce9aa27506c562faca2a5fb6",
          "grade": false,
          "grade_id": "cell-73f4d23f398ef242",
          "locked": true,
          "schema_version": 1,
          "solution": false
        },
        "id": "95Zyld2hF_nK",
        "colab_type": "text"
      },
      "source": [
        "## Filter Feature Selection\n",
        "\n",
        "Select the best features based on [mutual information score](http://scikit-learn.org/stable/modules/generated/sklearn.feature_selection.mutual_info_regression.html#sklearn.feature_selection.mutual_info_regression) from the training data then transform X_train and X_test into the new shape for the data. See [SelectKBest](http://scikit-learn.org/stable/modules/generated/sklearn.feature_selection.SelectKBest.html#sklearn.feature_selection.SelectKBest)"
      ]
    },
    {
      "cell_type": "code",
      "metadata": {
        "deletable": false,
        "editable": false,
        "nbgrader": {
          "checksum": "ca3308af8e550ea13ba7854363433aa5",
          "grade": false,
          "grade_id": "cell-07907cf1d043fed9",
          "locked": true,
          "schema_version": 1,
          "solution": false
        },
        "id": "S4UNdOIFF_nL",
        "colab_type": "code",
        "colab": {}
      },
      "source": [
        "# We will select the best k features from all feature selection methods\n",
        "k = 4"
      ],
      "execution_count": 0,
      "outputs": []
    },
    {
      "cell_type": "code",
      "metadata": {
        "deletable": false,
        "nbgrader": {
          "checksum": "ddf23e9beb8c17ad16a3f00a31d968d0",
          "grade": false,
          "grade_id": "cell-279e39610c47c8f8",
          "locked": false,
          "schema_version": 1,
          "solution": true
        },
        "id": "vrTiOG09F_nP",
        "colab_type": "code",
        "colab": {}
      },
      "source": [
        "# Save the transformed values into mi_X_train and mi_X_test\n",
        "# Save the transformer you use into mi_transformer\n",
        "# YOUR CODE HERE\n",
        "mi_transformer = SelectKBest(mutual_info_regression, k=k)\n",
        "mi_X_train = mi_transformer.fit_transform(X_train, y_train)\n",
        "mi_X_test = mi_transformer.fit_transform(X_test, y_test)"
      ],
      "execution_count": 0,
      "outputs": []
    },
    {
      "cell_type": "code",
      "metadata": {
        "deletable": false,
        "editable": false,
        "nbgrader": {
          "checksum": "ea66d4ab9ec2e513b1cb7e0b8e7d3b27",
          "grade": false,
          "grade_id": "cell-377847abf96c374c",
          "locked": true,
          "schema_version": 1,
          "solution": false
        },
        "id": "NF7gVelZF_nT",
        "colab_type": "code",
        "colab": {
          "base_uri": "https://localhost:8080/",
          "height": 158
        },
        "outputId": "b7ee0f1f-663d-497d-c128-0984f40f3131"
      },
      "source": [
        "for feature, importance in zip(house_features.columns, mi_transformer.scores_):\n",
        "    print(f\"The MI score for {feature} is {importance}\")"
      ],
      "execution_count": 19,
      "outputs": [
        {
          "output_type": "stream",
          "text": [
            "The MI score for MedInc is 0.35083883676020644\n",
            "The MI score for HouseAge is 0.025657931661364763\n",
            "The MI score for AveRooms is 0.0717899413899481\n",
            "The MI score for AveBedrms is 0.012833079391118218\n",
            "The MI score for Population is 0.0\n",
            "The MI score for AveOccup is 0.08613907280830846\n",
            "The MI score for Latitude is 0.3193685358829743\n",
            "The MI score for Longitude is 0.38982128814105543\n"
          ],
          "name": "stdout"
        }
      ]
    },
    {
      "cell_type": "code",
      "metadata": {
        "deletable": false,
        "editable": false,
        "nbgrader": {
          "checksum": "802f9b55b98b872ea4be999d1459edc7",
          "grade": true,
          "grade_id": "cell-d7ebf063a0a3ce74",
          "locked": true,
          "points": 5,
          "schema_version": 1,
          "solution": false
        },
        "id": "IPstIDGoF_nX",
        "colab_type": "code",
        "colab": {}
      },
      "source": [
        "assert mi_transformer.k == k\n",
        "assert isinstance(mi_transformer, SelectKBest)\n",
        "assert len(mi_transformer.scores_) == 8\n",
        "assert mi_X_train.shape == (16512, k)\n",
        "assert mi_X_test.shape == (4128, k)"
      ],
      "execution_count": 0,
      "outputs": []
    },
    {
      "cell_type": "markdown",
      "metadata": {
        "deletable": false,
        "editable": false,
        "nbgrader": {
          "checksum": "b201dbd371d118f334add32ccf2a7cc9",
          "grade": false,
          "grade_id": "cell-1c4269050710987f",
          "locked": true,
          "schema_version": 1,
          "solution": false
        },
        "id": "03bXiaA7F_na",
        "colab_type": "text"
      },
      "source": [
        "Since the focus in this exercise is on the feature learning and not on the supervised learning portion, we will use a simple estimator (linear regression) for the model training portions."
      ]
    },
    {
      "cell_type": "code",
      "metadata": {
        "deletable": false,
        "editable": false,
        "nbgrader": {
          "checksum": "6d9ca4b8f5de340dea4512b6572b29ff",
          "grade": false,
          "grade_id": "cell-26d261acabd92043",
          "locked": true,
          "schema_version": 1,
          "solution": false
        },
        "id": "_7ZxbqkiF_nb",
        "colab_type": "code",
        "colab": {
          "base_uri": "https://localhost:8080/",
          "height": 34
        },
        "outputId": "17793994-e17c-48ef-bbef-cc75192efa4f"
      },
      "source": [
        "miEst = LinearRegression()\n",
        "miEst.fit(mi_X_train, y_train)"
      ],
      "execution_count": 21,
      "outputs": [
        {
          "output_type": "execute_result",
          "data": {
            "text/plain": [
              "LinearRegression(copy_X=True, fit_intercept=True, n_jobs=None, normalize=False)"
            ]
          },
          "metadata": {
            "tags": []
          },
          "execution_count": 21
        }
      ]
    },
    {
      "cell_type": "code",
      "metadata": {
        "deletable": false,
        "editable": false,
        "nbgrader": {
          "checksum": "6afc8d1e070a52921c7fa3867da9027e",
          "grade": false,
          "grade_id": "cell-509cc8db3043cda3",
          "locked": true,
          "schema_version": 1,
          "solution": false
        },
        "id": "FNRE9siCF_nf",
        "colab_type": "code",
        "colab": {
          "base_uri": "https://localhost:8080/",
          "height": 52
        },
        "outputId": "eeee6f07-d54a-4d37-aeca-6f4c46c49848"
      },
      "source": [
        "print(f\"The mean squared error when training on the MI selected features is {miEst.score(mi_X_train, y_train)}.\")\n",
        "print(f\"When testing on the test data, the mean squared error is {miEst.score(mi_X_test, y_test)}\")"
      ],
      "execution_count": 22,
      "outputs": [
        {
          "output_type": "stream",
          "text": [
            "The mean squared error when training on the MI selected features is 0.5894298141364945.\n",
            "When testing on the test data, the mean squared error is 0.47070228675454834\n"
          ],
          "name": "stdout"
        }
      ]
    },
    {
      "cell_type": "markdown",
      "metadata": {
        "deletable": false,
        "editable": false,
        "nbgrader": {
          "checksum": "a19ec42566dc53638e47d98725acc184",
          "grade": false,
          "grade_id": "cell-188bc386a321fe4a",
          "locked": true,
          "schema_version": 1,
          "solution": false
        },
        "id": "9N8CtmfJF_ni",
        "colab_type": "text"
      },
      "source": [
        "## Wrapper Feature Selection\n",
        "\n",
        "Now try using [recursive feature elimination](http://scikit-learn.org/stable/modules/generated/sklearn.feature_selection.RFE.html) to select the 2 features we will use instead."
      ]
    },
    {
      "cell_type": "code",
      "metadata": {
        "deletable": false,
        "nbgrader": {
          "checksum": "0fe2ba44c7feb9255c635a20cac0a917",
          "grade": false,
          "grade_id": "cell-55f80656b8a4988d",
          "locked": false,
          "schema_version": 1,
          "solution": true
        },
        "id": "VPgvcjT1F_nj",
        "colab_type": "code",
        "colab": {}
      },
      "source": [
        "# Use an RFE object to determine the k features to select from X_train using a step of 2\n",
        "# Save the rfe object as rfe_transformer\n",
        "# Create rfe_X_train and rfe_X_test which are the updated features based on the RFE output\n",
        "\n",
        "rfeEst = LinearRegression()\n",
        "rfe_transformer = RFE(rfeEst, k, step=2)\n",
        "rfe_X_train = rfe_transformer.fit_transform(X_train, y_train)\n",
        "rfe_X_test = rfe_transformer.fit_transform(X_test, y_test)"
      ],
      "execution_count": 0,
      "outputs": []
    },
    {
      "cell_type": "code",
      "metadata": {
        "deletable": false,
        "editable": false,
        "nbgrader": {
          "checksum": "ebcd381effeed7d311780a88e840ee21",
          "grade": true,
          "grade_id": "cell-b331e2be0d0e31be",
          "locked": true,
          "points": 5,
          "schema_version": 1,
          "solution": false
        },
        "id": "hB2C6k65F_no",
        "colab_type": "code",
        "colab": {}
      },
      "source": [
        "assert isinstance(rfe_transformer, RFE)\n",
        "assert rfe_transformer.step == 2\n",
        "assert len(rfe_transformer.support_) == 8\n",
        "assert mi_X_train.shape == (16512, k)\n",
        "assert mi_X_test.shape == (4128, k)"
      ],
      "execution_count": 0,
      "outputs": []
    },
    {
      "cell_type": "code",
      "metadata": {
        "deletable": false,
        "editable": false,
        "nbgrader": {
          "checksum": "d6363314448c16a6c6785ac49d8b7acd",
          "grade": false,
          "grade_id": "cell-8b5e64094fc56786",
          "locked": true,
          "schema_version": 1,
          "solution": false
        },
        "id": "wh4SRJX9F_nt",
        "colab_type": "code",
        "colab": {
          "base_uri": "https://localhost:8080/",
          "height": 34
        },
        "outputId": "c01dcc2a-7d2f-41db-a4c2-295ce16c3261"
      },
      "source": [
        "rfeEst = LinearRegression()\n",
        "rfeEst.fit(rfe_X_train, y_train)"
      ],
      "execution_count": 26,
      "outputs": [
        {
          "output_type": "execute_result",
          "data": {
            "text/plain": [
              "LinearRegression(copy_X=True, fit_intercept=True, n_jobs=None, normalize=False)"
            ]
          },
          "metadata": {
            "tags": []
          },
          "execution_count": 26
        }
      ]
    },
    {
      "cell_type": "code",
      "metadata": {
        "deletable": false,
        "editable": false,
        "nbgrader": {
          "checksum": "2379d6e355a26818dace8a8dedd1c217",
          "grade": false,
          "grade_id": "cell-23d00cc293b154f8",
          "locked": true,
          "schema_version": 1,
          "solution": false
        },
        "id": "kYDwhasAF_n0",
        "colab_type": "code",
        "colab": {
          "base_uri": "https://localhost:8080/",
          "height": 52
        },
        "outputId": "dbfe5c70-6a03-42bd-a9ca-a2d98b6cf691"
      },
      "source": [
        "print(f\"The mean squared error when training on the RFE selected features is {rfeEst.score(rfe_X_train, y_train)}.\")\n",
        "print(f\"When testing on the test data, the mean squared error is {rfeEst.score(rfe_X_test, y_test)}\")"
      ],
      "execution_count": 27,
      "outputs": [
        {
          "output_type": "stream",
          "text": [
            "The mean squared error when training on the RFE selected features is 0.5926637486301407.\n",
            "When testing on the test data, the mean squared error is 0.5720072080584462\n"
          ],
          "name": "stdout"
        }
      ]
    },
    {
      "cell_type": "markdown",
      "metadata": {
        "deletable": false,
        "editable": false,
        "nbgrader": {
          "checksum": "2fab1553b908cc0d0f9f47e5de40bfb9",
          "grade": false,
          "grade_id": "cell-b851aa52ef728d9f",
          "locked": true,
          "schema_version": 1,
          "solution": false
        },
        "id": "b9VwmaVLF_n9",
        "colab_type": "text"
      },
      "source": [
        "## Embedded Methods\n",
        "\n",
        "For the embedded methods feature selection example, we will use Lasso. For this task you should use [LassoCV](http://scikit-learn.org/stable/modules/generated/sklearn.linear_model.LassoCV.html#sklearn.linear_model.LassoCV) and **not** [Lasso](http://scikit-learn.org/stable/modules/generated/sklearn.linear_model.Lasso.html) so that it trains with various values for alpha.\n",
        "\n",
        "Since this is an embedded method, the feature selection will occur directly in the model."
      ]
    },
    {
      "cell_type": "code",
      "metadata": {
        "deletable": false,
        "nbgrader": {
          "checksum": "3c0ea00f1a333384c39b6c54026db57c",
          "grade": false,
          "grade_id": "cell-1cedfcb1fb61f7ff",
          "locked": false,
          "schema_version": 1,
          "solution": true
        },
        "id": "-90SXmqvF_n-",
        "colab_type": "code",
        "colab": {
          "base_uri": "https://localhost:8080/",
          "height": 72
        },
        "outputId": "2f23f0ce-136c-4237-e48f-c17a73bb2b9c"
      },
      "source": [
        "# Create a LassoCV model trained with 10 alphas and save it to lassoClf\n",
        "lassoClf = LassoCV(n_alphas=10).fit(X_train, y_train)"
      ],
      "execution_count": 30,
      "outputs": [
        {
          "output_type": "stream",
          "text": [
            "/usr/local/lib/python3.6/dist-packages/sklearn/model_selection/_split.py:1978: FutureWarning: The default value of cv will change from 3 to 5 in version 0.22. Specify it explicitly to silence this warning.\n",
            "  warnings.warn(CV_WARNING, FutureWarning)\n"
          ],
          "name": "stderr"
        }
      ]
    },
    {
      "cell_type": "code",
      "metadata": {
        "deletable": false,
        "editable": false,
        "nbgrader": {
          "checksum": "6c25b457315d92952d60a972bdf3d3f8",
          "grade": false,
          "grade_id": "cell-e0ef99dd29a079d0",
          "locked": true,
          "schema_version": 1,
          "solution": false
        },
        "id": "-p9FqZyrF_oG",
        "colab_type": "code",
        "colab": {
          "base_uri": "https://localhost:8080/",
          "height": 52
        },
        "outputId": "0bf35adf-96f2-49c5-b3ce-98198a009527"
      },
      "source": [
        "lassoClf.coef_"
      ],
      "execution_count": 31,
      "outputs": [
        {
          "output_type": "execute_result",
          "data": {
            "text/plain": [
              "array([ 3.83899283e-01,  1.13979529e-02,  1.56884471e-03,  0.00000000e+00,\n",
              "       -4.07469366e-07, -4.61025303e-03, -3.24168177e-01, -3.23939467e-01])"
            ]
          },
          "metadata": {
            "tags": []
          },
          "execution_count": 31
        }
      ]
    },
    {
      "cell_type": "code",
      "metadata": {
        "deletable": false,
        "editable": false,
        "nbgrader": {
          "checksum": "793adcaf747fdf56ed8fd07e49132d78",
          "grade": false,
          "grade_id": "cell-13ec10079ead686f",
          "locked": true,
          "schema_version": 1,
          "solution": false
        },
        "id": "gMgprl_nF_oK",
        "colab_type": "code",
        "colab": {
          "base_uri": "https://localhost:8080/",
          "height": 34
        },
        "outputId": "3a443664-d97a-432e-e8af-174cab0cc3c9"
      },
      "source": [
        "lassoClf.alpha_"
      ],
      "execution_count": 32,
      "outputs": [
        {
          "output_type": "execute_result",
          "data": {
            "text/plain": [
              "0.03577400513173515"
            ]
          },
          "metadata": {
            "tags": []
          },
          "execution_count": 32
        }
      ]
    },
    {
      "cell_type": "code",
      "metadata": {
        "deletable": false,
        "editable": false,
        "nbgrader": {
          "checksum": "ef05bf66f40dc577fc39a38a27421750",
          "grade": true,
          "grade_id": "cell-14338e2d22cac6c8",
          "locked": true,
          "points": 5,
          "schema_version": 1,
          "solution": false
        },
        "id": "fORBP22gF_oP",
        "colab_type": "code",
        "colab": {}
      },
      "source": [
        "assert lassoClf\n",
        "assert isinstance(lassoClf, LassoCV)\n",
        "assert len(lassoClf.coef_) == 8"
      ],
      "execution_count": 0,
      "outputs": []
    },
    {
      "cell_type": "code",
      "metadata": {
        "deletable": false,
        "editable": false,
        "nbgrader": {
          "checksum": "cfff075e92ab73f6e02626bbc173c357",
          "grade": false,
          "grade_id": "cell-a658fc6cce0c662e",
          "locked": true,
          "schema_version": 1,
          "solution": false
        },
        "id": "wpatTxAIF_oX",
        "colab_type": "code",
        "colab": {
          "base_uri": "https://localhost:8080/",
          "height": 52
        },
        "outputId": "d3bb47a1-c76c-499f-cb5f-4e7a6f1020c0"
      },
      "source": [
        "print(f\"The mean squared error when training using lasso is {lassoClf.score(X_train, y_train)}.\")\n",
        "print(f\"When testing on the test data, the mean squared error is {lassoClf.score(X_test, y_test)}\")"
      ],
      "execution_count": 34,
      "outputs": [
        {
          "output_type": "stream",
          "text": [
            "The mean squared error when training using lasso is 0.5929687839875066.\n",
            "When testing on the test data, the mean squared error is 0.5709853376060581\n"
          ],
          "name": "stdout"
        }
      ]
    },
    {
      "cell_type": "markdown",
      "metadata": {
        "deletable": false,
        "editable": false,
        "nbgrader": {
          "checksum": "9168c5ee3b8ae091921313503dc97dd5",
          "grade": false,
          "grade_id": "cell-4ecba6679dfc69af",
          "locked": true,
          "schema_version": 1,
          "solution": false
        },
        "id": "_i9SCjJDF_od",
        "colab_type": "text"
      },
      "source": [
        "## Feature Extraction\n",
        "\n",
        "Here we'll use [PCA](http://scikit-learn.org/stable/modules/generated/sklearn.decomposition.PCA.html) to extract features from the data."
      ]
    },
    {
      "cell_type": "code",
      "metadata": {
        "deletable": false,
        "nbgrader": {
          "checksum": "668881dea502f0bad19790f241bf92b8",
          "grade": false,
          "grade_id": "cell-3a808f14f3df2364",
          "locked": false,
          "schema_version": 1,
          "solution": true
        },
        "id": "nS0I7b4aF_oe",
        "colab_type": "code",
        "colab": {}
      },
      "source": [
        "# Select the best k features using PCA\n",
        "# Save the PCA transformer object as pca_transformer\n",
        "# Transform X_train and X_test into the new shape and save to pca_X_train and pca_X_test\n",
        "\n",
        "pca_transformer = PCA(n_components=k)\n",
        "pca_X_train = pca_transformer.fit_transform(X_train, y_train)\n",
        "pca_X_test = pca_transformer.fit_transform(X_test, y_test)"
      ],
      "execution_count": 0,
      "outputs": []
    },
    {
      "cell_type": "code",
      "metadata": {
        "deletable": false,
        "editable": false,
        "nbgrader": {
          "checksum": "1e43773f70b00e2146b5b4bc51e984d8",
          "grade": true,
          "grade_id": "cell-24fe227022674d69",
          "locked": true,
          "points": 5,
          "schema_version": 1,
          "solution": false
        },
        "id": "xKlIWokLF_og",
        "colab_type": "code",
        "colab": {}
      },
      "source": [
        "assert pca_transformer \n",
        "assert isinstance(pca_transformer, PCA)\n",
        "assert pca_transformer.n_components == k\n",
        "assert pca_X_train.shape == (16512, k)\n",
        "assert pca_X_test.shape == (4128, k)"
      ],
      "execution_count": 0,
      "outputs": []
    },
    {
      "cell_type": "code",
      "metadata": {
        "deletable": false,
        "editable": false,
        "nbgrader": {
          "checksum": "0c5cdad74e679b9aa582920cb104269a",
          "grade": false,
          "grade_id": "cell-4914fe3dff0d5ffd",
          "locked": true,
          "schema_version": 1,
          "solution": false
        },
        "id": "JybN9wooF_ol",
        "colab_type": "code",
        "colab": {
          "base_uri": "https://localhost:8080/",
          "height": 34
        },
        "outputId": "5259faf3-e2e4-45b1-ca3d-e3c081de18c7"
      },
      "source": [
        "pcaEst = LinearRegression()\n",
        "pcaEst.fit(pca_X_train, y_train)"
      ],
      "execution_count": 37,
      "outputs": [
        {
          "output_type": "execute_result",
          "data": {
            "text/plain": [
              "LinearRegression(copy_X=True, fit_intercept=True, n_jobs=None, normalize=False)"
            ]
          },
          "metadata": {
            "tags": []
          },
          "execution_count": 37
        }
      ]
    },
    {
      "cell_type": "code",
      "metadata": {
        "deletable": false,
        "editable": false,
        "nbgrader": {
          "checksum": "3bc86018600810251586f82d9e1daf7b",
          "grade": false,
          "grade_id": "cell-671ca4e23f127618",
          "locked": true,
          "schema_version": 1,
          "solution": false
        },
        "id": "S0JH-HkIF_oo",
        "colab_type": "code",
        "colab": {
          "base_uri": "https://localhost:8080/",
          "height": 52
        },
        "outputId": "143e0dd2-2db2-4540-edde-02ccc8185899"
      },
      "source": [
        "print(f\"The mean squared error when training using PCA is {pcaEst.score(pca_X_train, y_train)}.\")\n",
        "print(f\"When testing on the test data, the mean squared error is {pcaEst.score(pca_X_test, y_test)}\")"
      ],
      "execution_count": 38,
      "outputs": [
        {
          "output_type": "stream",
          "text": [
            "The mean squared error when training using PCA is 0.011832093756049766.\n",
            "When testing on the test data, the mean squared error is -0.048750604036826635\n"
          ],
          "name": "stdout"
        }
      ]
    },
    {
      "cell_type": "code",
      "metadata": {
        "deletable": false,
        "editable": false,
        "nbgrader": {
          "checksum": "4fdeb951dfab628fde133d2ffb52c550",
          "grade": false,
          "grade_id": "cell-e8c34edca3f89d4b",
          "locked": true,
          "schema_version": 1,
          "solution": false
        },
        "id": "Y_ReAlo0F_or",
        "colab_type": "code",
        "colab": {
          "base_uri": "https://localhost:8080/",
          "height": 439
        },
        "outputId": "d3e97605-fb12-4f15-e3f1-ea0d00efbbb4"
      },
      "source": [
        "pca_transformer.get_covariance()"
      ],
      "execution_count": 39,
      "outputs": [
        {
          "output_type": "execute_result",
          "data": {
            "text/plain": [
              "array([[ 2.23579364e+00, -3.18771382e+00,  1.48756512e-01,\n",
              "         1.69472546e-02,  1.24895355e+01,  1.82062525e+00,\n",
              "         7.89267455e-02, -1.74446127e-02],\n",
              "       [-3.18771382e+00,  1.56862159e+02, -5.41613178e+00,\n",
              "        -5.73497229e-01, -3.89074435e+03,  4.55700251e+00,\n",
              "        -2.28156664e-01, -2.19335133e+00],\n",
              "       [ 1.48756512e-01, -5.41613178e+00,  2.65053295e+00,\n",
              "         6.01581641e-02, -2.39865733e+02, -8.07388222e-01,\n",
              "         8.30509189e-01, -6.56836836e-01],\n",
              "       [ 1.69472546e-02, -5.73497229e-01,  6.01581641e-02,\n",
              "         2.16093966e+00, -4.12967932e+01, -1.06221707e-01,\n",
              "         9.95240481e-02, -7.91819823e-02],\n",
              "       [ 1.24895355e+01, -3.89074435e+03, -2.39865733e+02,\n",
              "        -4.12967932e+01,  1.18627561e+06,  1.96753405e+03,\n",
              "        -1.94094317e+02,  1.68074699e+02],\n",
              "       [ 1.82062525e+00,  4.55700251e+00, -8.07388222e-01,\n",
              "        -1.06221707e-01,  1.96753405e+03,  3.73428838e+02,\n",
              "         5.11788380e-01, -4.34953303e-01],\n",
              "       [ 7.89267455e-02, -2.28156664e-01,  8.30509189e-01,\n",
              "         9.95240481e-02, -1.94094317e+02,  5.11788380e-01,\n",
              "         5.39062977e+00, -2.96717424e+00],\n",
              "       [-1.74446127e-02, -2.19335133e+00, -6.56836836e-01,\n",
              "        -7.91819823e-02,  1.68074699e+02, -4.34953303e-01,\n",
              "        -2.96717424e+00,  4.91535120e+00]])"
            ]
          },
          "metadata": {
            "tags": []
          },
          "execution_count": 39
        }
      ]
    },
    {
      "cell_type": "markdown",
      "metadata": {
        "deletable": false,
        "editable": false,
        "nbgrader": {
          "checksum": "69b8022702de36b9b44a556d801f35c4",
          "grade": false,
          "grade_id": "cell-0af4ac9c65ab66bc",
          "locked": true,
          "schema_version": 1,
          "solution": false
        },
        "id": "lO6_ahzQF_oz",
        "colab_type": "text"
      },
      "source": [
        "The explained variance ratio tells us how much of the variance is explained by each component."
      ]
    },
    {
      "cell_type": "code",
      "metadata": {
        "deletable": false,
        "editable": false,
        "nbgrader": {
          "checksum": "d4d1641a51c78d240d27fcbb81a6346d",
          "grade": false,
          "grade_id": "cell-d6c09d63a73d814d",
          "locked": true,
          "schema_version": 1,
          "solution": false
        },
        "id": "rjCK1ZoxF_o1",
        "colab_type": "code",
        "colab": {
          "base_uri": "https://localhost:8080/",
          "height": 34
        },
        "outputId": "8d0b10d2-f362-4925-c961-8326f6601e32"
      },
      "source": [
        "pca_transformer.explained_variance_ratio_"
      ],
      "execution_count": 40,
      "outputs": [
        {
          "output_type": "execute_result",
          "data": {
            "text/plain": [
              "array([9.99552156e-01, 3.12356391e-04, 1.21278303e-04, 6.95148693e-06])"
            ]
          },
          "metadata": {
            "tags": []
          },
          "execution_count": 40
        }
      ]
    },
    {
      "cell_type": "markdown",
      "metadata": {
        "deletable": false,
        "editable": false,
        "nbgrader": {
          "checksum": "4663ad4a4e000598dc8d1a97bd2e2f71",
          "grade": false,
          "grade_id": "cell-4b75632b6e8bb9c2",
          "locked": true,
          "schema_version": 1,
          "solution": false
        },
        "id": "0dNlicplF_o3",
        "colab_type": "text"
      },
      "source": [
        "Sometimes PCA may perform poorly for regression cases. See [this answer](https://stats.stackexchange.com/a/52798) on StackExchange for more info. In the next lecture, we will take a deeper dive into PCA."
      ]
    },
    {
      "cell_type": "markdown",
      "metadata": {
        "deletable": false,
        "editable": false,
        "nbgrader": {
          "checksum": "1f7640f916f64aeac4af3ec318d3b9cd",
          "grade": false,
          "grade_id": "cell-a1034774d762a001",
          "locked": true,
          "schema_version": 1,
          "solution": false
        },
        "id": "Y_wPw7hdF_o5",
        "colab_type": "text"
      },
      "source": [
        "## Feedback"
      ]
    },
    {
      "cell_type": "code",
      "metadata": {
        "deletable": false,
        "nbgrader": {
          "checksum": "ed936ab53a1391c5e6af8df699a1dbf5",
          "grade": false,
          "grade_id": "feedback",
          "locked": false,
          "schema_version": 1,
          "solution": true
        },
        "id": "OEXonu2TF_o6",
        "colab_type": "code",
        "colab": {}
      },
      "source": [
        "def feedback():\n",
        "    \"\"\"Provide feedback on the contents of this exercise\n",
        "    \n",
        "    Returns:\n",
        "        string\n",
        "    \"\"\"\n",
        "    return \"A good exercise for dimensionality reduction. I think a better explaination about what multidimension data looks like transformed would be cool\""
      ],
      "execution_count": 0,
      "outputs": []
    },
    {
      "cell_type": "code",
      "metadata": {
        "deletable": false,
        "editable": false,
        "nbgrader": {
          "checksum": "f39f6185a54850c2f1f9b5b2a17b7543",
          "grade": true,
          "grade_id": "feedback-tests",
          "locked": true,
          "points": 0,
          "schema_version": 1,
          "solution": false
        },
        "id": "bzYhzUVHF_o9",
        "colab_type": "code",
        "colab": {
          "base_uri": "https://localhost:8080/",
          "height": 54
        },
        "outputId": "33d1f5c9-6ca6-4f06-f5e0-cd12e191db28"
      },
      "source": [
        "feedback()"
      ],
      "execution_count": 42,
      "outputs": [
        {
          "output_type": "execute_result",
          "data": {
            "text/plain": [
              "'A good exercise for dimensionality reduction. I think a better explaination about what multidimension data looks like transformed would be cool'"
            ]
          },
          "metadata": {
            "tags": []
          },
          "execution_count": 42
        }
      ]
    }
  ]
}