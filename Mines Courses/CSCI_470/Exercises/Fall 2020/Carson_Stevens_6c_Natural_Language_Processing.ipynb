{
 "cells": [
  {
   "cell_type": "markdown",
   "metadata": {},
   "source": [
    "## CSCI 470 Activities and Case Studies\n",
    "\n",
    "1. For all activities, you are allowed to collaborate with a partner. \n",
    "1. For case studies, you should work individually and are **not** allowed to collaborate.\n",
    "\n",
    "By filling out this notebook and submitting it, you acknowledge that you are aware of the above policies and are agreeing to comply with them."
   ]
  },
  {
   "cell_type": "markdown",
   "metadata": {},
   "source": [
    "Some considerations with regard to how these notebooks will be graded:\n",
    "\n",
    "1. You can add more notebook cells or edit existing notebook cells other than \"# YOUR CODE HERE\" to test out or debug your code. We actually highly recommend you do so to gain a better understanding of what is happening. However, during grading, **these changes are ignored**. \n",
    "2. You must ensure that all your code for the particular task is available in the cells that say \"# YOUR CODE HERE\"\n",
    "3. Every cell that says \"# YOUR CODE HERE\" is followed by a \"raise NotImplementedError\". You need to remove that line. During grading, if an error occurs then you will not receive points for your work in that section.\n",
    "4. If your code passes the \"assert\" statements, then no output will result. If your code fails the \"assert\" statements, you will get an \"AssertionError\". Getting an assertion error means you will not receive points for that particular task.\n",
    "5. If you edit the \"assert\" statements to make your code pass, they will still fail when they are graded since the \"assert\" statements will revert to the original. Make sure you don't edit the assert statements.\n",
    "6. We may sometimes have \"hidden\" tests for grading. This means that passing the visible \"assert\" statements is not sufficient. The \"assert\" statements are there as a guide but you need to make sure you understand what you're required to do and ensure that you are doing it correctly. Passing the visible tests is necessary but not sufficient to get the grade for that cell.\n",
    "7. When you are asked to define a function, make sure you **don't** use any variables outside of the parameters passed to the function. You can think of the parameters being passed to the function as a hint. Make sure you're using all of those variables.\n",
    "8. Finally, **make sure you run \"Kernel > Restart and Run All\"** and pass all the asserts before submitting. If you don't restart the kernel, there may be some code that you ran and deleted that is still being used and that was why your asserts were passing."
   ]
  },
  {
   "cell_type": "markdown",
   "metadata": {
    "deletable": false,
    "editable": false,
    "nbgrader": {
     "checksum": "5c8ce6b8ae7f449c3fd4d44eeb3cf80b",
     "grade": false,
     "grade_id": "cell-0d4717fe7700aa92",
     "locked": true,
     "schema_version": 3,
     "solution": false
    }
   },
   "source": [
    "# Natural Language Processing"
   ]
  },
  {
   "cell_type": "code",
   "execution_count": 1,
   "metadata": {
    "ExecuteTime": {
     "end_time": "2020-11-05T05:19:43.755321Z",
     "start_time": "2020-11-05T05:19:43.753319Z"
    },
    "deletable": false,
    "editable": false,
    "nbgrader": {
     "checksum": "ad29b177dd5a0376cd85ba9e39209fec",
     "grade": false,
     "grade_id": "cell-7ff8992190e52386",
     "locked": true,
     "schema_version": 3,
     "solution": false
    }
   },
   "outputs": [],
   "source": [
    "# # Uncomment the below line to install\n",
    "# ! pip install spacy\n",
    "# ! python -m spacy download en_core_web_md"
   ]
  },
  {
   "cell_type": "code",
   "execution_count": 2,
   "metadata": {
    "ExecuteTime": {
     "end_time": "2020-11-05T05:19:58.330984Z",
     "start_time": "2020-11-05T05:19:43.757322Z"
    },
    "deletable": false,
    "editable": false,
    "nbgrader": {
     "checksum": "56a4068f8a3db8d2189569cde657aa44",
     "grade": false,
     "grade_id": "cell-839fb7e9db39b4dd",
     "locked": true,
     "schema_version": 3,
     "solution": false
    }
   },
   "outputs": [],
   "source": [
    "import sklearn\n",
    "from sklearn.datasets import fetch_20newsgroups\n",
    "from sklearn.model_selection import train_test_split\n",
    "from sklearn.feature_extraction.text import CountVectorizer, TfidfTransformer, HashingVectorizer\n",
    "from sklearn.naive_bayes import MultinomialNB, GaussianNB\n",
    "from sklearn.metrics import classification_report, f1_score, accuracy_score\n",
    "from sklearn.svm import LinearSVC\n",
    "import numpy as np\n",
    "import en_core_web_md"
   ]
  },
  {
   "cell_type": "code",
   "execution_count": 3,
   "metadata": {
    "ExecuteTime": {
     "end_time": "2020-11-05T05:19:58.974535Z",
     "start_time": "2020-11-05T05:19:58.332485Z"
    },
    "deletable": false,
    "editable": false,
    "nbgrader": {
     "checksum": "50df3022d50dc10fd18cd71acf03c2f5",
     "grade": false,
     "grade_id": "cell-32547bf8b3c17d81",
     "locked": true,
     "schema_version": 3,
     "solution": false
    }
   },
   "outputs": [],
   "source": [
    "data = fetch_20newsgroups(subset=\"all\")"
   ]
  },
  {
   "cell_type": "code",
   "execution_count": 4,
   "metadata": {
    "ExecuteTime": {
     "end_time": "2020-11-05T05:19:58.981040Z",
     "start_time": "2020-11-05T05:19:58.976037Z"
    },
    "deletable": false,
    "editable": false,
    "nbgrader": {
     "checksum": "1ee06fb20e81b0a6aeece342974b39bb",
     "grade": false,
     "grade_id": "cell-222fb692deae0d18",
     "locked": true,
     "schema_version": 3,
     "solution": false
    }
   },
   "outputs": [
    {
     "name": "stdout",
     "output_type": "stream",
     "text": [
      ".. _20newsgroups_dataset:\n",
      "\n",
      "The 20 newsgroups text dataset\n",
      "------------------------------\n",
      "\n",
      "The 20 newsgroups dataset comprises around 18000 newsgroups posts on\n",
      "20 topics split in two subsets: one for training (or development)\n",
      "and the other one for testing (or for performance evaluation). The split\n",
      "between the train and test set is based upon a messages posted before\n",
      "and after a specific date.\n",
      "\n",
      "This module contains two loaders. The first one,\n",
      ":func:`sklearn.datasets.fetch_20newsgroups`,\n",
      "returns a list of the raw texts that can be fed to text feature\n",
      "extractors such as :class:`sklearn.feature_extraction.text.CountVectorizer`\n",
      "with custom parameters so as to extract feature vectors.\n",
      "The second one, :func:`sklearn.datasets.fetch_20newsgroups_vectorized`,\n",
      "returns ready-to-use features, i.e., it is not necessary to use a feature\n",
      "extractor.\n",
      "\n",
      "**Data Set Characteristics:**\n",
      "\n",
      "    =================   ==========\n",
      "    Classes                     20\n",
      "    Samples total            18846\n",
      "    Dimensionality               1\n",
      "    Features                  text\n",
      "    =================   ==========\n",
      "\n",
      "Usage\n",
      "~~~~~\n",
      "\n",
      "The :func:`sklearn.datasets.fetch_20newsgroups` function is a data\n",
      "fetching / caching functions that downloads the data archive from\n",
      "the original `20 newsgroups website`_, extracts the archive contents\n",
      "in the ``~/scikit_learn_data/20news_home`` folder and calls the\n",
      ":func:`sklearn.datasets.load_files` on either the training or\n",
      "testing set folder, or both of them::\n",
      "\n",
      "  >>> from sklearn.datasets import fetch_20newsgroups\n",
      "  >>> newsgroups_train = fetch_20newsgroups(subset='train')\n",
      "\n",
      "  >>> from pprint import pprint\n",
      "  >>> pprint(list(newsgroups_train.target_names))\n",
      "  ['alt.atheism',\n",
      "   'comp.graphics',\n",
      "   'comp.os.ms-windows.misc',\n",
      "   'comp.sys.ibm.pc.hardware',\n",
      "   'comp.sys.mac.hardware',\n",
      "   'comp.windows.x',\n",
      "   'misc.forsale',\n",
      "   'rec.autos',\n",
      "   'rec.motorcycles',\n",
      "   'rec.sport.baseball',\n",
      "   'rec.sport.hockey',\n",
      "   'sci.crypt',\n",
      "   'sci.electronics',\n",
      "   'sci.med',\n",
      "   'sci.space',\n",
      "   'soc.religion.christian',\n",
      "   'talk.politics.guns',\n",
      "   'talk.politics.mideast',\n",
      "   'talk.politics.misc',\n",
      "   'talk.religion.misc']\n",
      "\n",
      "The real data lies in the ``filenames`` and ``target`` attributes. The target\n",
      "attribute is the integer index of the category::\n",
      "\n",
      "  >>> newsgroups_train.filenames.shape\n",
      "  (11314,)\n",
      "  >>> newsgroups_train.target.shape\n",
      "  (11314,)\n",
      "  >>> newsgroups_train.target[:10]\n",
      "  array([ 7,  4,  4,  1, 14, 16, 13,  3,  2,  4])\n",
      "\n",
      "It is possible to load only a sub-selection of the categories by passing the\n",
      "list of the categories to load to the\n",
      ":func:`sklearn.datasets.fetch_20newsgroups` function::\n",
      "\n",
      "  >>> cats = ['alt.atheism', 'sci.space']\n",
      "  >>> newsgroups_train = fetch_20newsgroups(subset='train', categories=cats)\n",
      "\n",
      "  >>> list(newsgroups_train.target_names)\n",
      "  ['alt.atheism', 'sci.space']\n",
      "  >>> newsgroups_train.filenames.shape\n",
      "  (1073,)\n",
      "  >>> newsgroups_train.target.shape\n",
      "  (1073,)\n",
      "  >>> newsgroups_train.target[:10]\n",
      "  array([0, 1, 1, 1, 0, 1, 1, 0, 0, 0])\n",
      "\n",
      "Converting text to vectors\n",
      "~~~~~~~~~~~~~~~~~~~~~~~~~~\n",
      "\n",
      "In order to feed predictive or clustering models with the text data,\n",
      "one first need to turn the text into vectors of numerical values suitable\n",
      "for statistical analysis. This can be achieved with the utilities of the\n",
      "``sklearn.feature_extraction.text`` as demonstrated in the following\n",
      "example that extract `TF-IDF`_ vectors of unigram tokens\n",
      "from a subset of 20news::\n",
      "\n",
      "  >>> from sklearn.feature_extraction.text import TfidfVectorizer\n",
      "  >>> categories = ['alt.atheism', 'talk.religion.misc',\n",
      "  ...               'comp.graphics', 'sci.space']\n",
      "  >>> newsgroups_train = fetch_20newsgroups(subset='train',\n",
      "  ...                                       categories=categories)\n",
      "  >>> vectorizer = TfidfVectorizer()\n",
      "  >>> vectors = vectorizer.fit_transform(newsgroups_train.data)\n",
      "  >>> vectors.shape\n",
      "  (2034, 34118)\n",
      "\n",
      "The extracted TF-IDF vectors are very sparse, with an average of 159 non-zero\n",
      "components by sample in a more than 30000-dimensional space\n",
      "(less than .5% non-zero features)::\n",
      "\n",
      "  >>> vectors.nnz / float(vectors.shape[0])\n",
      "  159.01327...\n",
      "\n",
      ":func:`sklearn.datasets.fetch_20newsgroups_vectorized` is a function which \n",
      "returns ready-to-use token counts features instead of file names.\n",
      "\n",
      ".. _`20 newsgroups website`: http://people.csail.mit.edu/jrennie/20Newsgroups/\n",
      ".. _`TF-IDF`: https://en.wikipedia.org/wiki/Tf-idf\n",
      "\n",
      "\n",
      "Filtering text for more realistic training\n",
      "~~~~~~~~~~~~~~~~~~~~~~~~~~~~~~~~~~~~~~~~~~\n",
      "\n",
      "It is easy for a classifier to overfit on particular things that appear in the\n",
      "20 Newsgroups data, such as newsgroup headers. Many classifiers achieve very\n",
      "high F-scores, but their results would not generalize to other documents that\n",
      "aren't from this window of time.\n",
      "\n",
      "For example, let's look at the results of a multinomial Naive Bayes classifier,\n",
      "which is fast to train and achieves a decent F-score::\n",
      "\n",
      "  >>> from sklearn.naive_bayes import MultinomialNB\n",
      "  >>> from sklearn import metrics\n",
      "  >>> newsgroups_test = fetch_20newsgroups(subset='test',\n",
      "  ...                                      categories=categories)\n",
      "  >>> vectors_test = vectorizer.transform(newsgroups_test.data)\n",
      "  >>> clf = MultinomialNB(alpha=.01)\n",
      "  >>> clf.fit(vectors, newsgroups_train.target)\n",
      "  MultinomialNB(alpha=0.01, class_prior=None, fit_prior=True)\n",
      "\n",
      "  >>> pred = clf.predict(vectors_test)\n",
      "  >>> metrics.f1_score(newsgroups_test.target, pred, average='macro')\n",
      "  0.88213...\n",
      "\n",
      "(The example :ref:`sphx_glr_auto_examples_text_plot_document_classification_20newsgroups.py` shuffles\n",
      "the training and test data, instead of segmenting by time, and in that case\n",
      "multinomial Naive Bayes gets a much higher F-score of 0.88. Are you suspicious\n",
      "yet of what's going on inside this classifier?)\n",
      "\n",
      "Let's take a look at what the most informative features are:\n",
      "\n",
      "  >>> import numpy as np\n",
      "  >>> def show_top10(classifier, vectorizer, categories):\n",
      "  ...     feature_names = np.asarray(vectorizer.get_feature_names())\n",
      "  ...     for i, category in enumerate(categories):\n",
      "  ...         top10 = np.argsort(classifier.coef_[i])[-10:]\n",
      "  ...         print(\"%s: %s\" % (category, \" \".join(feature_names[top10])))\n",
      "  ...\n",
      "  >>> show_top10(clf, vectorizer, newsgroups_train.target_names)\n",
      "  alt.atheism: edu it and in you that is of to the\n",
      "  comp.graphics: edu in graphics it is for and of to the\n",
      "  sci.space: edu it that is in and space to of the\n",
      "  talk.religion.misc: not it you in is that and to of the\n",
      "\n",
      "\n",
      "You can now see many things that these features have overfit to:\n",
      "\n",
      "- Almost every group is distinguished by whether headers such as\n",
      "  ``NNTP-Posting-Host:`` and ``Distribution:`` appear more or less often.\n",
      "- Another significant feature involves whether the sender is affiliated with\n",
      "  a university, as indicated either by their headers or their signature.\n",
      "- The word \"article\" is a significant feature, based on how often people quote\n",
      "  previous posts like this: \"In article [article ID], [name] <[e-mail address]>\n",
      "  wrote:\"\n",
      "- Other features match the names and e-mail addresses of particular people who\n",
      "  were posting at the time.\n",
      "\n",
      "With such an abundance of clues that distinguish newsgroups, the classifiers\n",
      "barely have to identify topics from text at all, and they all perform at the\n",
      "same high level.\n",
      "\n",
      "For this reason, the functions that load 20 Newsgroups data provide a\n",
      "parameter called **remove**, telling it what kinds of information to strip out\n",
      "of each file. **remove** should be a tuple containing any subset of\n",
      "``('headers', 'footers', 'quotes')``, telling it to remove headers, signature\n",
      "blocks, and quotation blocks respectively.\n",
      "\n",
      "  >>> newsgroups_test = fetch_20newsgroups(subset='test',\n",
      "  ...                                      remove=('headers', 'footers', 'quotes'),\n",
      "  ...                                      categories=categories)\n",
      "  >>> vectors_test = vectorizer.transform(newsgroups_test.data)\n",
      "  >>> pred = clf.predict(vectors_test)\n",
      "  >>> metrics.f1_score(pred, newsgroups_test.target, average='macro')\n",
      "  0.77310...\n",
      "\n",
      "This classifier lost over a lot of its F-score, just because we removed\n",
      "metadata that has little to do with topic classification.\n",
      "It loses even more if we also strip this metadata from the training data:\n",
      "\n",
      "  >>> newsgroups_train = fetch_20newsgroups(subset='train',\n",
      "  ...                                       remove=('headers', 'footers', 'quotes'),\n",
      "  ...                                       categories=categories)\n",
      "  >>> vectors = vectorizer.fit_transform(newsgroups_train.data)\n",
      "  >>> clf = MultinomialNB(alpha=.01)\n",
      "  >>> clf.fit(vectors, newsgroups_train.target)\n",
      "  MultinomialNB(alpha=0.01, class_prior=None, fit_prior=True)\n",
      "\n",
      "  >>> vectors_test = vectorizer.transform(newsgroups_test.data)\n",
      "  >>> pred = clf.predict(vectors_test)\n",
      "  >>> metrics.f1_score(newsgroups_test.target, pred, average='macro')\n",
      "  0.76995...\n",
      "\n",
      "Some other classifiers cope better with this harder version of the task. Try\n",
      "running :ref:`sphx_glr_auto_examples_model_selection_grid_search_text_feature_extraction.py` with and without\n",
      "the ``--filter`` option to compare the results.\n",
      "\n",
      ".. topic:: Recommendation\n",
      "\n",
      "  When evaluating text classifiers on the 20 Newsgroups data, you\n",
      "  should strip newsgroup-related metadata. In scikit-learn, you can do this by\n",
      "  setting ``remove=('headers', 'footers', 'quotes')``. The F-score will be\n",
      "  lower because it is more realistic.\n",
      "\n",
      ".. topic:: Examples\n",
      "\n",
      "   * :ref:`sphx_glr_auto_examples_model_selection_grid_search_text_feature_extraction.py`\n",
      "\n",
      "   * :ref:`sphx_glr_auto_examples_text_plot_document_classification_20newsgroups.py`\n",
      "\n"
     ]
    }
   ],
   "source": [
    "print(data.DESCR)"
   ]
  },
  {
   "cell_type": "code",
   "execution_count": 5,
   "metadata": {
    "ExecuteTime": {
     "end_time": "2020-11-05T05:19:59.090635Z",
     "start_time": "2020-11-05T05:19:58.983042Z"
    },
    "deletable": false,
    "editable": false,
    "nbgrader": {
     "checksum": "48fa44e3ed13130dd58386fbc41f1801",
     "grade": false,
     "grade_id": "cell-c1f44b15459bea17",
     "locked": true,
     "schema_version": 3,
     "solution": false
    }
   },
   "outputs": [
    {
     "name": "stdout",
     "output_type": "stream",
     "text": [
      "The following are the 20 topics that an article can belong to:\n",
      "['alt.atheism', 'comp.graphics', 'comp.os.ms-windows.misc', 'comp.sys.ibm.pc.hardware', 'comp.sys.mac.hardware', 'comp.windows.x', 'misc.forsale', 'rec.autos', 'rec.motorcycles', 'rec.sport.baseball', 'rec.sport.hockey', 'sci.crypt', 'sci.electronics', 'sci.med', 'sci.space', 'soc.religion.christian', 'talk.politics.guns', 'talk.politics.mideast', 'talk.politics.misc', 'talk.religion.misc']\n"
     ]
    }
   ],
   "source": [
    "text = data[\"data\"]\n",
    "target = data[\"target\"]\n",
    "print(\"The following are the 20 topics that an article can belong to:\")\n",
    "print(data[\"target_names\"])"
   ]
  },
  {
   "cell_type": "code",
   "execution_count": 6,
   "metadata": {
    "ExecuteTime": {
     "end_time": "2020-11-05T05:19:59.168202Z",
     "start_time": "2020-11-05T05:19:59.093137Z"
    },
    "deletable": false,
    "editable": false,
    "nbgrader": {
     "checksum": "c2d0239fa14b9e082a02968d7c142595",
     "grade": false,
     "grade_id": "cell-3792303ddcf70dbb",
     "locked": true,
     "schema_version": 3,
     "solution": false
    }
   },
   "outputs": [],
   "source": [
    "X_train, X_test, y_train, y_test = train_test_split(text, target, random_state=0)"
   ]
  },
  {
   "cell_type": "code",
   "execution_count": 7,
   "metadata": {
    "ExecuteTime": {
     "end_time": "2020-11-05T05:19:59.248771Z",
     "start_time": "2020-11-05T05:19:59.170204Z"
    },
    "deletable": false,
    "editable": false,
    "nbgrader": {
     "checksum": "ac68ffd4d73dff7c10eea2e716b9040a",
     "grade": false,
     "grade_id": "cell-2377d43a03f72b0f",
     "locked": true,
     "schema_version": 3,
     "solution": false
    }
   },
   "outputs": [
    {
     "name": "stdout",
     "output_type": "stream",
     "text": [
      "The training dataset contains 14134 articles.\n",
      "The test dataset contains 4712 articles.\n"
     ]
    }
   ],
   "source": [
    "print(f\"The training dataset contains {len(X_train)} articles.\")\n",
    "print(f\"The test dataset contains {len(X_test)} articles.\")"
   ]
  },
  {
   "cell_type": "markdown",
   "metadata": {
    "deletable": false,
    "editable": false,
    "nbgrader": {
     "checksum": "d1991f8c56f04db0dad84fea9274d2f5",
     "grade": false,
     "grade_id": "cell-b2b050fc5a1f96db",
     "locked": true,
     "schema_version": 3,
     "solution": false
    }
   },
   "source": [
    "Scikit learn implements the BoW feature representation using [CountVectorizer](http://scikit-learn.org/stable/modules/generated/sklearn.feature_extraction.text.CountVectorizer.html), and it also has implementations for [TF-IDF](http://scikit-learn.org/stable/modules/generated/sklearn.feature_extraction.text.TfidfVectorizer.html#sklearn.feature_extraction.text.TfidfVectorizer) and [hashed vector](http://scikit-learn.org/stable/modules/generated/sklearn.feature_extraction.text.HashingVectorizer.html#sklearn.feature_extraction.text.HashingVectorizer) representations.\n",
    "\n",
    "Determine the feature representations of our dataset using each of those approaches."
   ]
  },
  {
   "cell_type": "code",
   "execution_count": 8,
   "metadata": {
    "ExecuteTime": {
     "end_time": "2020-11-05T05:20:30.405507Z",
     "start_time": "2020-11-05T05:19:59.250273Z"
    },
    "deletable": false,
    "nbgrader": {
     "checksum": "45ef423d08f71eebb73f9e0f431566d2",
     "grade": false,
     "grade_id": "cell-f899f3942f01be93",
     "locked": false,
     "schema_version": 3,
     "solution": true
    }
   },
   "outputs": [
    {
     "name": "stdout",
     "output_type": "stream",
     "text": [
      "Wall time: 31.1 s\n"
     ]
    }
   ],
   "source": [
    "%%time\n",
    "# Use English stopwords and produce a BoW representation for the data using up to trigrams\n",
    "# Save the vectorizer as counter and the transformed data as X_train_bow, and X_test_bow\n",
    "counter = CountVectorizer(stop_words=\"english\", ngram_range=(1,3))\n",
    "counter.fit(X_train)\n",
    "X_train_bow = counter.transform(X_train)\n",
    "X_test_bow  = counter.transform(X_test)"
   ]
  },
  {
   "cell_type": "code",
   "execution_count": 9,
   "metadata": {
    "ExecuteTime": {
     "end_time": "2020-11-05T05:20:34.071653Z",
     "start_time": "2020-11-05T05:20:30.407509Z"
    },
    "deletable": false,
    "editable": false,
    "nbgrader": {
     "checksum": "54e331ac2a899a8d165562540b4e9c49",
     "grade": true,
     "grade_id": "cell-740433b073b13510",
     "locked": true,
     "points": 5,
     "schema_version": 3,
     "solution": false
    }
   },
   "outputs": [],
   "source": [
    "assert counter\n",
    "assert counter.stop_words == \"english\"\n",
    "assert counter.ngram_range == (1,3)\n",
    "assert len(counter.get_feature_names()) == 3034327\n",
    "assert X_train_bow.shape == (14134, 3034327)\n",
    "assert X_test_bow.shape == (4712, 3034327)"
   ]
  },
  {
   "cell_type": "markdown",
   "metadata": {
    "deletable": false,
    "editable": false,
    "nbgrader": {
     "checksum": "630143b0c7f771b9c5855dbb5caf411d",
     "grade": false,
     "grade_id": "cell-cd1cb3b0c71eedd9",
     "locked": true,
     "schema_version": 3,
     "solution": false
    }
   },
   "source": [
    "Note that sklearn implements a [TfidfVectorizer](http://scikit-learn.org/stable/modules/generated/sklearn.feature_extraction.text.TfidfVectorizer.html) and [TfidfTransformer](http://scikit-learn.org/stable/modules/generated/sklearn.feature_extraction.text.TfidfTransformer.html). The main difference between the two is in the inputs to fitting and transforming. The [Vectorizer's fit/transform](http://scikit-learn.org/stable/modules/generated/sklearn.feature_extraction.text.TfidfVectorizer.html#sklearn.feature_extraction.text.TfidfVectorizer.fit) take an input of text whereas the [transformer's](http://scikit-learn.org/stable/modules/generated/sklearn.feature_extraction.text.TfidfTransformer.html#sklearn.feature_extraction.text.TfidfTransformer.fit) take an input of a BoW vector. Given that we already determined the BoW vectors, it would be more time efficient to use TfidfTransformer."
   ]
  },
  {
   "cell_type": "code",
   "execution_count": 10,
   "metadata": {
    "ExecuteTime": {
     "end_time": "2020-11-05T05:20:35.582951Z",
     "start_time": "2020-11-05T05:20:34.073154Z"
    },
    "deletable": false,
    "nbgrader": {
     "checksum": "dee5b8fbe12f0499a87727cd864d345c",
     "grade": false,
     "grade_id": "cell-018bdbbae2613aef",
     "locked": false,
     "schema_version": 3,
     "solution": true
    }
   },
   "outputs": [
    {
     "name": "stdout",
     "output_type": "stream",
     "text": [
      "Wall time: 1.51 s\n"
     ]
    }
   ],
   "source": [
    "%%time\n",
    "# Use the BoW representation you just created above to produce a TFIDF representation of the data\n",
    "# Save the transformer to tfidfer and the transformed data as X_train_tfidf, and X_test_tfidf\n",
    "\n",
    "tfidfer = TfidfTransformer()\n",
    "tfidfer.fit(X_train_bow)\n",
    "X_train_tfidf = tfidfer.transform(X_train_bow)\n",
    "X_test_tfidf = tfidfer.transform(X_test_bow)"
   ]
  },
  {
   "cell_type": "code",
   "execution_count": 11,
   "metadata": {
    "ExecuteTime": {
     "end_time": "2020-11-05T05:20:35.588956Z",
     "start_time": "2020-11-05T05:20:35.584452Z"
    },
    "deletable": false,
    "editable": false,
    "nbgrader": {
     "checksum": "ecdb4782c18f141c55bfeefc8dec8c48",
     "grade": true,
     "grade_id": "cell-0e6ce5999cd93389",
     "locked": true,
     "points": 5,
     "schema_version": 3,
     "solution": false
    }
   },
   "outputs": [],
   "source": [
    "assert tfidfer\n",
    "assert X_train_tfidf.shape  == (14134, 3034327)\n",
    "assert X_test_tfidf.shape  == (4712, 3034327)"
   ]
  },
  {
   "cell_type": "markdown",
   "metadata": {
    "deletable": false,
    "editable": false,
    "nbgrader": {
     "checksum": "5f5c54e66ea2ef754e096d6523435c69",
     "grade": false,
     "grade_id": "cell-ed956dd2a828dea8",
     "locked": true,
     "schema_version": 3,
     "solution": false
    }
   },
   "source": [
    "Now use the hashing vectorizer to do the same."
   ]
  },
  {
   "cell_type": "code",
   "execution_count": 12,
   "metadata": {
    "ExecuteTime": {
     "end_time": "2020-11-05T05:20:43.247528Z",
     "start_time": "2020-11-05T05:20:35.592459Z"
    },
    "deletable": false,
    "nbgrader": {
     "checksum": "2b1b4bcba6502dee96172ab281c7d4ca",
     "grade": false,
     "grade_id": "cell-2ad00d9b9df56ed5",
     "locked": false,
     "schema_version": 3,
     "solution": true
    }
   },
   "outputs": [
    {
     "name": "stdout",
     "output_type": "stream",
     "text": [
      "Wall time: 7.57 s\n"
     ]
    }
   ],
   "source": [
    "%%time \n",
    "# Use English stopwords and produce a Hashed vector representation for the data using up to trigrams\n",
    "# Save the vectorizer as hasher and the transformed data as X_train_hash, and X_test_hash\n",
    "# Make sure you set alternate_sign to False so we can use this representation with Multinomial Naive\n",
    "# Bayes later in the exercise.\n",
    "\n",
    "hasher = HashingVectorizer(stop_words=\"english\", ngram_range=(1,3), alternate_sign=False)\n",
    "hasher.fit(X_train)\n",
    "X_train_hash = hasher.transform(X_train)\n",
    "X_test_hash = hasher.transform(X_test)"
   ]
  },
  {
   "cell_type": "code",
   "execution_count": 13,
   "metadata": {
    "ExecuteTime": {
     "end_time": "2020-11-05T05:20:43.253032Z",
     "start_time": "2020-11-05T05:20:43.249030Z"
    },
    "deletable": false,
    "editable": false,
    "nbgrader": {
     "checksum": "5fee5c79f5236e12894fdf52279d3f9a",
     "grade": true,
     "grade_id": "cell-f6a5afb5d4f0a4d9",
     "locked": true,
     "points": 5,
     "schema_version": 3,
     "solution": false
    }
   },
   "outputs": [],
   "source": [
    "assert hasher\n",
    "assert hasher.stop_words == \"english\"\n",
    "assert hasher.ngram_range == (1,3)\n",
    "assert X_train_hash.shape == (14134, 1048576)\n",
    "assert X_test_hash.shape == (4712, 1048576)"
   ]
  },
  {
   "cell_type": "markdown",
   "metadata": {
    "deletable": false,
    "editable": false,
    "nbgrader": {
     "checksum": "ca2e69878f74f9dfccd119da570bfe6d",
     "grade": false,
     "grade_id": "cell-f81192642c9b9950",
     "locked": true,
     "schema_version": 3,
     "solution": false
    }
   },
   "source": [
    "Compare the time it took to run the count vectorizer vs the hasing vectorizer even though they both will iterate through all the words."
   ]
  },
  {
   "cell_type": "markdown",
   "metadata": {
    "deletable": false,
    "editable": false,
    "nbgrader": {
     "checksum": "e5d5d7774aecfc0c87da6a25ef08d25d",
     "grade": false,
     "grade_id": "cell-279d25a3bcd86cf6",
     "locked": true,
     "schema_version": 3,
     "solution": false
    }
   },
   "source": [
    "Now recall [Naive Bayes Classification](http://scikit-learn.org/stable/modules/naive_bayes.html) which we discussed early on in the supervised learning lectures. We will use Naive Bayes classifiers to predict the topic of the articles and compare our feature representations. Use a Multinomial Naive Bayes classifier to predict the topics."
   ]
  },
  {
   "cell_type": "code",
   "execution_count": 14,
   "metadata": {
    "ExecuteTime": {
     "end_time": "2020-11-05T05:20:50.991173Z",
     "start_time": "2020-11-05T05:20:43.256036Z"
    },
    "deletable": false,
    "nbgrader": {
     "checksum": "e5257b0ce184bcaec3437d5f17b374a3",
     "grade": false,
     "grade_id": "cell-cdf5ba26c387fd97",
     "locked": false,
     "schema_version": 3,
     "solution": true
    }
   },
   "outputs": [
    {
     "name": "stdout",
     "output_type": "stream",
     "text": [
      "(4712, 3034327)\n",
      "Results for Bag of Words\n",
      "--------------------------------------------------------------------------------\n",
      "              precision    recall  f1-score   support\n",
      "\n",
      "           0       0.91      0.94      0.92       205\n",
      "           1       0.78      0.87      0.82       245\n",
      "           2       0.92      0.76      0.83       250\n",
      "           3       0.77      0.83      0.80       243\n",
      "           4       0.89      0.85      0.87       255\n",
      "           5       0.84      0.91      0.88       240\n",
      "           6       0.90      0.75      0.82       249\n",
      "           7       0.89      0.90      0.89       219\n",
      "           8       0.96      0.91      0.94       246\n",
      "           9       0.92      0.97      0.94       227\n",
      "          10       0.96      0.98      0.97       287\n",
      "          11       0.88      0.97      0.92       234\n",
      "          12       0.93      0.82      0.87       247\n",
      "          13       0.93      0.92      0.93       250\n",
      "          14       0.90      0.96      0.93       240\n",
      "          15       0.93      0.95      0.94       250\n",
      "          16       0.90      0.98      0.93       211\n",
      "          17       0.94      1.00      0.96       246\n",
      "          18       0.93      0.92      0.93       209\n",
      "          19       0.93      0.72      0.81       159\n",
      "\n",
      "    accuracy                           0.90      4712\n",
      "   macro avg       0.90      0.90      0.90      4712\n",
      "weighted avg       0.90      0.90      0.90      4712\n",
      "\n",
      "--------------------------------------------------------------------------------\n",
      "(4712, 3034327)\n",
      "Results for TF-IDF\n",
      "--------------------------------------------------------------------------------\n",
      "              precision    recall  f1-score   support\n",
      "\n",
      "           0       0.89      0.92      0.90       205\n",
      "           1       0.83      0.82      0.83       245\n",
      "           2       0.85      0.84      0.85       250\n",
      "           3       0.77      0.84      0.80       243\n",
      "           4       0.90      0.83      0.87       255\n",
      "           5       0.88      0.88      0.88       240\n",
      "           6       0.86      0.77      0.81       249\n",
      "           7       0.82      0.89      0.85       219\n",
      "           8       0.93      0.92      0.93       246\n",
      "           9       0.86      0.97      0.91       227\n",
      "          10       0.92      0.98      0.95       287\n",
      "          11       0.88      0.97      0.92       234\n",
      "          12       0.92      0.80      0.85       247\n",
      "          13       0.96      0.88      0.92       250\n",
      "          14       0.87      0.96      0.91       240\n",
      "          15       0.78      0.94      0.85       250\n",
      "          16       0.83      0.98      0.90       211\n",
      "          17       0.95      0.99      0.97       246\n",
      "          18       0.99      0.77      0.87       209\n",
      "          19       0.92      0.42      0.57       159\n",
      "\n",
      "    accuracy                           0.88      4712\n",
      "   macro avg       0.88      0.87      0.87      4712\n",
      "weighted avg       0.88      0.88      0.87      4712\n",
      "\n",
      "--------------------------------------------------------------------------------\n",
      "(4712, 1048576)\n",
      "Results for Hashing\n",
      "--------------------------------------------------------------------------------\n",
      "              precision    recall  f1-score   support\n",
      "\n",
      "           0       0.87      0.87      0.87       205\n",
      "           1       0.78      0.80      0.79       245\n",
      "           2       0.84      0.80      0.82       250\n",
      "           3       0.71      0.82      0.76       243\n",
      "           4       0.91      0.80      0.85       255\n",
      "           5       0.88      0.86      0.87       240\n",
      "           6       0.85      0.78      0.81       249\n",
      "           7       0.82      0.89      0.85       219\n",
      "           8       0.89      0.91      0.90       246\n",
      "           9       0.82      0.96      0.88       227\n",
      "          10       0.93      0.95      0.94       287\n",
      "          11       0.83      0.97      0.90       234\n",
      "          12       0.90      0.77      0.83       247\n",
      "          13       0.95      0.86      0.91       250\n",
      "          14       0.86      0.97      0.91       240\n",
      "          15       0.75      0.94      0.83       250\n",
      "          16       0.79      0.97      0.87       211\n",
      "          17       0.93      0.98      0.95       246\n",
      "          18       0.99      0.69      0.81       209\n",
      "          19       0.98      0.27      0.42       159\n",
      "\n",
      "    accuracy                           0.85      4712\n",
      "   macro avg       0.86      0.84      0.84      4712\n",
      "weighted avg       0.86      0.85      0.85      4712\n",
      "\n",
      "--------------------------------------------------------------------------------\n"
     ]
    }
   ],
   "source": [
    "for feat_name, train_feat, test_feat in zip([\"Bag of Words\", \"TF-IDF\", \"Hashing\"],[X_train_bow, X_train_tfidf, X_train_hash], [X_test_bow, X_test_tfidf, X_test_hash]):\n",
    "    # Create a Multinomial Naive Bayes model saved to `mnb` and fit it to train_feat\n",
    "    # YOUR CODE HERE\n",
    "    mnb = MultinomialNB()\n",
    "    print(test_feat.shape)\n",
    "    train_feat = mnb.fit(train_feat, y_train)\n",
    "    y_pred = mnb.predict(test_feat)\n",
    "    print(f\"Results for {feat_name}\")\n",
    "    print(\"-\"*80)\n",
    "    print(classification_report(y_test, y_pred))\n",
    "    print(\"-\"*80)\n"
   ]
  },
  {
   "cell_type": "code",
   "execution_count": 15,
   "metadata": {
    "ExecuteTime": {
     "end_time": "2020-11-05T05:20:50.995176Z",
     "start_time": "2020-11-05T05:20:50.992675Z"
    },
    "deletable": false,
    "editable": false,
    "nbgrader": {
     "checksum": "c6868948856264f42927eef81e550203",
     "grade": true,
     "grade_id": "cell-b545c8d3793a05e7",
     "locked": true,
     "points": 1,
     "schema_version": 3,
     "solution": false
    }
   },
   "outputs": [],
   "source": [
    "assert isinstance(mnb, MultinomialNB)"
   ]
  },
  {
   "cell_type": "markdown",
   "metadata": {
    "deletable": false,
    "editable": false,
    "nbgrader": {
     "checksum": "0e12e32a8bcd208a60db88b25a2f2ab2",
     "grade": false,
     "grade_id": "cell-f1fb206ff47bb7a6",
     "locked": true,
     "schema_version": 3,
     "solution": false
    }
   },
   "source": [
    "## Learned Embeddings\n",
    "\n",
    "We will use [spacy](https://spacy.io/) for more sophisticated NLP. Make sure you downloaded the english model in the commented code at the top of the notebook before proceeding. It may take some time to download.\n",
    "\n",
    "Spacy allows us to parse text and automatically does the following:\n",
    "- tokenization\n",
    "- lemmatization\n",
    "- sentence splitting\n",
    "- entity recognition\n",
    "- token vector representation\n"
   ]
  },
  {
   "cell_type": "code",
   "execution_count": 16,
   "metadata": {
    "ExecuteTime": {
     "end_time": "2020-11-05T05:20:55.243322Z",
     "start_time": "2020-11-05T05:20:50.998179Z"
    },
    "deletable": false,
    "editable": false,
    "nbgrader": {
     "checksum": "2c063a433e96171b19c013141d9aed53",
     "grade": false,
     "grade_id": "cell-bdd9ef5d3e965340",
     "locked": true,
     "schema_version": 3,
     "solution": false
    }
   },
   "outputs": [
    {
     "name": "stdout",
     "output_type": "stream",
     "text": [
      "Wall time: 4.17 s\n"
     ]
    }
   ],
   "source": [
    "%%time\n",
    "nlp = en_core_web_md.load()"
   ]
  },
  {
   "cell_type": "code",
   "execution_count": 17,
   "metadata": {
    "ExecuteTime": {
     "end_time": "2020-11-05T05:20:55.264840Z",
     "start_time": "2020-11-05T05:20:55.244823Z"
    },
    "deletable": false,
    "editable": false,
    "nbgrader": {
     "checksum": "dde683a4f8f25f1cf4e3cb04bd092989",
     "grade": false,
     "grade_id": "cell-11e9ffbf2f50c6eb",
     "locked": true,
     "schema_version": 3,
     "solution": false
    }
   },
   "outputs": [],
   "source": [
    "text = \"This is the first sentence in this test string. The quick brown fox jumps over the lazy dog.\"\n",
    "\n",
    "parsed_text = nlp(text)"
   ]
  },
  {
   "cell_type": "code",
   "execution_count": 18,
   "metadata": {
    "ExecuteTime": {
     "end_time": "2020-11-05T05:20:55.328895Z",
     "start_time": "2020-11-05T05:20:55.266341Z"
    },
    "deletable": false,
    "editable": false,
    "nbgrader": {
     "checksum": "11bf7045ed3934b887d3f3c1edd270bf",
     "grade": false,
     "grade_id": "cell-d4194dd187aa95b1",
     "locked": true,
     "schema_version": 3,
     "solution": false
    }
   },
   "outputs": [
    {
     "name": "stdout",
     "output_type": "stream",
     "text": [
      "Analyzing sentence: This is the first sentence in this test string.\n",
      "Lemmatization: this be the first sentence in this test string .\n",
      "Analyzing token: This\n",
      "This token is the first one in the sentence\n",
      "Stop word\n",
      "Entity type: \n",
      "Part of speech: DET\n",
      "Lemma: this\n",
      "----------\n",
      "Analyzing token: is\n",
      "Stop word\n",
      "Entity type: \n",
      "Part of speech: AUX\n",
      "Lemma: be\n",
      "----------\n",
      "Analyzing token: the\n",
      "Stop word\n",
      "Entity type: \n",
      "Part of speech: DET\n",
      "Lemma: the\n",
      "----------\n",
      "Analyzing token: first\n",
      "Stop word\n",
      "Entity type: ORDINAL\n",
      "Part of speech: ADJ\n",
      "Lemma: first\n",
      "----------\n",
      "Analyzing token: sentence\n",
      "Not stop word\n",
      "Entity type: \n",
      "Part of speech: NOUN\n",
      "Lemma: sentence\n",
      "----------\n",
      "Analyzing token: in\n",
      "Stop word\n",
      "Entity type: \n",
      "Part of speech: ADP\n",
      "Lemma: in\n",
      "----------\n",
      "Analyzing token: this\n",
      "Stop word\n",
      "Entity type: \n",
      "Part of speech: DET\n",
      "Lemma: this\n",
      "----------\n",
      "Analyzing token: test\n",
      "Not stop word\n",
      "Entity type: \n",
      "Part of speech: NOUN\n",
      "Lemma: test\n",
      "----------\n",
      "Analyzing token: string\n",
      "Not stop word\n",
      "Entity type: \n",
      "Part of speech: NOUN\n",
      "Lemma: string\n",
      "----------\n",
      "Analyzing token: .\n",
      "Not stop word\n",
      "Entity type: \n",
      "Part of speech: PUNCT\n",
      "Lemma: .\n",
      "----------\n",
      "--------------------------------------------------\n",
      "Analyzing sentence: The quick brown fox jumps over the lazy dog.\n",
      "Lemmatization: the quick brown fox jump over the lazy dog .\n",
      "Analyzing token: The\n",
      "This token is the first one in the sentence\n",
      "Stop word\n",
      "Entity type: \n",
      "Part of speech: DET\n",
      "Lemma: the\n",
      "----------\n",
      "Analyzing token: quick\n",
      "Not stop word\n",
      "Entity type: \n",
      "Part of speech: ADJ\n",
      "Lemma: quick\n",
      "----------\n",
      "Analyzing token: brown\n",
      "Not stop word\n",
      "Entity type: PERSON\n",
      "Part of speech: ADJ\n",
      "Lemma: brown\n",
      "----------\n",
      "Analyzing token: fox\n",
      "Not stop word\n",
      "Entity type: PERSON\n",
      "Part of speech: NOUN\n",
      "Lemma: fox\n",
      "----------\n",
      "Analyzing token: jumps\n",
      "Not stop word\n",
      "Entity type: \n",
      "Part of speech: VERB\n",
      "Lemma: jump\n",
      "----------\n",
      "Analyzing token: over\n",
      "Stop word\n",
      "Entity type: \n",
      "Part of speech: ADP\n",
      "Lemma: over\n",
      "----------\n",
      "Analyzing token: the\n",
      "Stop word\n",
      "Entity type: \n",
      "Part of speech: DET\n",
      "Lemma: the\n",
      "----------\n",
      "Analyzing token: lazy\n",
      "Not stop word\n",
      "Entity type: \n",
      "Part of speech: ADJ\n",
      "Lemma: lazy\n",
      "----------\n",
      "Analyzing token: dog\n",
      "Not stop word\n",
      "Entity type: \n",
      "Part of speech: NOUN\n",
      "Lemma: dog\n",
      "----------\n",
      "Analyzing token: .\n",
      "Not stop word\n",
      "Entity type: \n",
      "Part of speech: PUNCT\n",
      "Lemma: .\n",
      "----------\n",
      "--------------------------------------------------\n"
     ]
    }
   ],
   "source": [
    "for sent in parsed_text.sents:\n",
    "    print(f\"Analyzing sentence: {sent}\")\n",
    "    print(f\"Lemmatization: {sent.lemma_}\")\n",
    "    for token in sent:\n",
    "        print(f\"Analyzing token: {token}\")\n",
    "        if token.is_sent_start:\n",
    "            print(\"This token is the first one in the sentence\")\n",
    "        if token.is_stop:\n",
    "            print(\"Stop word\")\n",
    "        else:\n",
    "            print(\"Not stop word\")\n",
    "        print(f\"Entity type: {token.ent_type_}\")\n",
    "        print(f\"Part of speech: {token.pos_}\")\n",
    "        print(f\"Lemma: {token.lemma_}\")\n",
    "        print(\"-\"*10)\n",
    "    print(\"-\"*50)"
   ]
  },
  {
   "cell_type": "code",
   "execution_count": 19,
   "metadata": {
    "ExecuteTime": {
     "end_time": "2020-11-05T05:20:55.410966Z",
     "start_time": "2020-11-05T05:20:55.330397Z"
    },
    "deletable": false,
    "nbgrader": {
     "checksum": "778289b88c9003cc27f7839543106eb6",
     "grade": false,
     "grade_id": "cell-a1f85ff1f2b6b116",
     "locked": false,
     "schema_version": 3,
     "solution": true
    }
   },
   "outputs": [],
   "source": [
    "### Come up with a couple sentences to test out and set the text to my_text\n",
    "my_text = \"This is your machine learning system? Yup. You pour the data into this big pile of linear algebra, then collect the answers on the other side. What if the answers are wrong? Just stir the pile unitl they start looking right.\""
   ]
  },
  {
   "cell_type": "code",
   "execution_count": 20,
   "metadata": {
    "ExecuteTime": {
     "end_time": "2020-11-05T05:20:55.484028Z",
     "start_time": "2020-11-05T05:20:55.412467Z"
    },
    "deletable": false,
    "editable": false,
    "nbgrader": {
     "checksum": "aadee940b59935acd80563ce3c6b248e",
     "grade": true,
     "grade_id": "cell-dd4c284f3101e2e6",
     "locked": true,
     "points": 1,
     "schema_version": 3,
     "solution": false
    }
   },
   "outputs": [],
   "source": [
    "assert len(my_text) > 10\n",
    "assert my_text.count(\".\") > 2"
   ]
  },
  {
   "cell_type": "code",
   "execution_count": 21,
   "metadata": {
    "ExecuteTime": {
     "end_time": "2020-11-05T05:20:55.598126Z",
     "start_time": "2020-11-05T05:20:55.488032Z"
    },
    "deletable": false,
    "editable": false,
    "nbgrader": {
     "checksum": "f6193aa815fad57f5db9423bdb6d8b34",
     "grade": false,
     "grade_id": "cell-fd7fed9c7e3903f4",
     "locked": true,
     "schema_version": 3,
     "solution": false
    }
   },
   "outputs": [
    {
     "name": "stdout",
     "output_type": "stream",
     "text": [
      "Analyzing sentence: This is your machine learning system?\n",
      "Lemmatization: this be -PRON- machine learn system ?\n",
      "Analyzing token: This\n",
      "This token is the first one in the sentence\n",
      "Stop word\n",
      "Entity type: \n",
      "Part of speech: DET\n",
      "Lemma: this\n",
      "----------\n",
      "Analyzing token: is\n",
      "Stop word\n",
      "Entity type: \n",
      "Part of speech: AUX\n",
      "Lemma: be\n",
      "----------\n",
      "Analyzing token: your\n",
      "Stop word\n",
      "Entity type: \n",
      "Part of speech: DET\n",
      "Lemma: -PRON-\n",
      "----------\n",
      "Analyzing token: machine\n",
      "Not stop word\n",
      "Entity type: \n",
      "Part of speech: NOUN\n",
      "Lemma: machine\n",
      "----------\n",
      "Analyzing token: learning\n",
      "Not stop word\n",
      "Entity type: \n",
      "Part of speech: VERB\n",
      "Lemma: learn\n",
      "----------\n",
      "Analyzing token: system\n",
      "Not stop word\n",
      "Entity type: \n",
      "Part of speech: NOUN\n",
      "Lemma: system\n",
      "----------\n",
      "Analyzing token: ?\n",
      "Not stop word\n",
      "Entity type: \n",
      "Part of speech: PUNCT\n",
      "Lemma: ?\n",
      "----------\n",
      "--------------------------------------------------\n",
      "Analyzing sentence: Yup.\n",
      "Lemmatization: yup .\n",
      "Analyzing token: Yup\n",
      "This token is the first one in the sentence\n",
      "Not stop word\n",
      "Entity type: \n",
      "Part of speech: INTJ\n",
      "Lemma: yup\n",
      "----------\n",
      "Analyzing token: .\n",
      "Not stop word\n",
      "Entity type: \n",
      "Part of speech: PUNCT\n",
      "Lemma: .\n",
      "----------\n",
      "--------------------------------------------------\n",
      "Analyzing sentence: You pour the data into this big pile of linear algebra, then collect the answers on the other side.\n",
      "Lemmatization: -PRON- pour the datum into this big pile of linear algebra , then collect the answer on the other side .\n",
      "Analyzing token: You\n",
      "This token is the first one in the sentence\n",
      "Stop word\n",
      "Entity type: \n",
      "Part of speech: PRON\n",
      "Lemma: -PRON-\n",
      "----------\n",
      "Analyzing token: pour\n",
      "Not stop word\n",
      "Entity type: \n",
      "Part of speech: VERB\n",
      "Lemma: pour\n",
      "----------\n",
      "Analyzing token: the\n",
      "Stop word\n",
      "Entity type: \n",
      "Part of speech: DET\n",
      "Lemma: the\n",
      "----------\n",
      "Analyzing token: data\n",
      "Not stop word\n",
      "Entity type: \n",
      "Part of speech: NOUN\n",
      "Lemma: datum\n",
      "----------\n",
      "Analyzing token: into\n",
      "Stop word\n",
      "Entity type: \n",
      "Part of speech: ADP\n",
      "Lemma: into\n",
      "----------\n",
      "Analyzing token: this\n",
      "Stop word\n",
      "Entity type: \n",
      "Part of speech: DET\n",
      "Lemma: this\n",
      "----------\n",
      "Analyzing token: big\n",
      "Not stop word\n",
      "Entity type: \n",
      "Part of speech: ADJ\n",
      "Lemma: big\n",
      "----------\n",
      "Analyzing token: pile\n",
      "Not stop word\n",
      "Entity type: \n",
      "Part of speech: NOUN\n",
      "Lemma: pile\n",
      "----------\n",
      "Analyzing token: of\n",
      "Stop word\n",
      "Entity type: \n",
      "Part of speech: ADP\n",
      "Lemma: of\n",
      "----------\n",
      "Analyzing token: linear\n",
      "Not stop word\n",
      "Entity type: \n",
      "Part of speech: ADJ\n",
      "Lemma: linear\n",
      "----------\n",
      "Analyzing token: algebra\n",
      "Not stop word\n",
      "Entity type: \n",
      "Part of speech: NOUN\n",
      "Lemma: algebra\n",
      "----------\n",
      "Analyzing token: ,\n",
      "Not stop word\n",
      "Entity type: \n",
      "Part of speech: PUNCT\n",
      "Lemma: ,\n",
      "----------\n",
      "Analyzing token: then\n",
      "Stop word\n",
      "Entity type: \n",
      "Part of speech: ADV\n",
      "Lemma: then\n",
      "----------\n",
      "Analyzing token: collect\n",
      "Not stop word\n",
      "Entity type: \n",
      "Part of speech: VERB\n",
      "Lemma: collect\n",
      "----------\n",
      "Analyzing token: the\n",
      "Stop word\n",
      "Entity type: \n",
      "Part of speech: DET\n",
      "Lemma: the\n",
      "----------\n",
      "Analyzing token: answers\n",
      "Not stop word\n",
      "Entity type: \n",
      "Part of speech: NOUN\n",
      "Lemma: answer\n",
      "----------\n",
      "Analyzing token: on\n",
      "Stop word\n",
      "Entity type: \n",
      "Part of speech: ADP\n",
      "Lemma: on\n",
      "----------\n",
      "Analyzing token: the\n",
      "Stop word\n",
      "Entity type: \n",
      "Part of speech: DET\n",
      "Lemma: the\n",
      "----------\n",
      "Analyzing token: other\n",
      "Stop word\n",
      "Entity type: \n",
      "Part of speech: ADJ\n",
      "Lemma: other\n",
      "----------\n",
      "Analyzing token: side\n",
      "Stop word\n",
      "Entity type: \n",
      "Part of speech: NOUN\n",
      "Lemma: side\n",
      "----------\n",
      "Analyzing token: .\n",
      "Not stop word\n",
      "Entity type: \n",
      "Part of speech: PUNCT\n",
      "Lemma: .\n",
      "----------\n",
      "--------------------------------------------------\n",
      "Analyzing sentence: What if the answers are wrong?\n",
      "Lemmatization: what if the answer be wrong ?\n",
      "Analyzing token: What\n",
      "This token is the first one in the sentence\n",
      "Stop word\n",
      "Entity type: \n",
      "Part of speech: PRON\n",
      "Lemma: what\n",
      "----------\n",
      "Analyzing token: if\n",
      "Stop word\n",
      "Entity type: \n",
      "Part of speech: SCONJ\n",
      "Lemma: if\n",
      "----------\n",
      "Analyzing token: the\n",
      "Stop word\n",
      "Entity type: \n",
      "Part of speech: DET\n",
      "Lemma: the\n",
      "----------\n",
      "Analyzing token: answers\n",
      "Not stop word\n",
      "Entity type: \n",
      "Part of speech: NOUN\n",
      "Lemma: answer\n",
      "----------\n",
      "Analyzing token: are\n",
      "Stop word\n",
      "Entity type: \n",
      "Part of speech: AUX\n",
      "Lemma: be\n",
      "----------\n",
      "Analyzing token: wrong\n",
      "Not stop word\n",
      "Entity type: \n",
      "Part of speech: ADJ\n",
      "Lemma: wrong\n",
      "----------\n",
      "Analyzing token: ?\n",
      "Not stop word\n",
      "Entity type: \n",
      "Part of speech: PUNCT\n",
      "Lemma: ?\n",
      "----------\n",
      "--------------------------------------------------\n",
      "Analyzing sentence: Just stir the pile unitl\n",
      "Lemmatization: just stir the pile unitl\n",
      "Analyzing token: Just\n",
      "This token is the first one in the sentence\n",
      "Stop word\n",
      "Entity type: \n",
      "Part of speech: ADV\n",
      "Lemma: just\n",
      "----------\n",
      "Analyzing token: stir\n",
      "Not stop word\n",
      "Entity type: \n",
      "Part of speech: VERB\n",
      "Lemma: stir\n",
      "----------\n",
      "Analyzing token: the\n",
      "Stop word\n",
      "Entity type: \n",
      "Part of speech: DET\n",
      "Lemma: the\n",
      "----------\n",
      "Analyzing token: pile\n",
      "Not stop word\n",
      "Entity type: \n",
      "Part of speech: NOUN\n",
      "Lemma: pile\n",
      "----------\n",
      "Analyzing token: unitl\n",
      "Not stop word\n",
      "Entity type: \n",
      "Part of speech: NOUN\n",
      "Lemma: unitl\n",
      "----------\n",
      "--------------------------------------------------\n",
      "Analyzing sentence: they start looking right.\n",
      "Lemmatization: -PRON- start look right .\n",
      "Analyzing token: they\n",
      "This token is the first one in the sentence\n",
      "Stop word\n",
      "Entity type: \n",
      "Part of speech: PRON\n",
      "Lemma: -PRON-\n",
      "----------\n",
      "Analyzing token: start\n",
      "Not stop word\n",
      "Entity type: \n",
      "Part of speech: VERB\n",
      "Lemma: start\n",
      "----------\n",
      "Analyzing token: looking\n",
      "Not stop word\n",
      "Entity type: \n",
      "Part of speech: VERB\n",
      "Lemma: look\n",
      "----------\n",
      "Analyzing token: right\n",
      "Not stop word\n",
      "Entity type: \n",
      "Part of speech: ADV\n",
      "Lemma: right\n",
      "----------\n",
      "Analyzing token: .\n",
      "Not stop word\n",
      "Entity type: \n",
      "Part of speech: PUNCT\n",
      "Lemma: .\n",
      "----------\n",
      "--------------------------------------------------\n"
     ]
    }
   ],
   "source": [
    "parsed = nlp(my_text)\n",
    "for sent in parsed.sents:\n",
    "    print(f\"Analyzing sentence: {sent}\")\n",
    "    print(f\"Lemmatization: {sent.lemma_}\")\n",
    "    for token in sent:\n",
    "        print(f\"Analyzing token: {token}\")\n",
    "        if token.is_sent_start:\n",
    "            print(\"This token is the first one in the sentence\")\n",
    "        if token.is_stop:\n",
    "            print(\"Stop word\")\n",
    "        else:\n",
    "            print(\"Not stop word\")\n",
    "        print(f\"Entity type: {token.ent_type_}\")\n",
    "        print(f\"Part of speech: {token.pos_}\")\n",
    "        print(f\"Lemma: {token.lemma_}\")\n",
    "        print(\"-\"*10)\n",
    "    print(\"-\"*50)"
   ]
  },
  {
   "cell_type": "markdown",
   "metadata": {
    "deletable": false,
    "editable": false,
    "nbgrader": {
     "checksum": "a200a636496b7c4b0a02f61e4ac84a2f",
     "grade": false,
     "grade_id": "cell-1a2a413b9c440b95",
     "locked": true,
     "schema_version": 3,
     "solution": false
    }
   },
   "source": [
    "If we use the larger spacy models, we get the GloVe representation for some words based on a pre-trained model. The GloVe vectors should be in 300 dimensions."
   ]
  },
  {
   "cell_type": "code",
   "execution_count": 22,
   "metadata": {
    "ExecuteTime": {
     "end_time": "2020-11-05T05:20:55.656176Z",
     "start_time": "2020-11-05T05:20:55.600629Z"
    },
    "deletable": false,
    "editable": false,
    "nbgrader": {
     "checksum": "94d3c1d517f9151fa1f3b6de01983a48",
     "grade": false,
     "grade_id": "cell-da272ac031f8d791",
     "locked": true,
     "schema_version": 3,
     "solution": false
    }
   },
   "outputs": [
    {
     "data": {
      "text/plain": [
       "(300,)"
      ]
     },
     "execution_count": 22,
     "metadata": {},
     "output_type": "execute_result"
    }
   ],
   "source": [
    "token.vector.shape"
   ]
  },
  {
   "cell_type": "markdown",
   "metadata": {
    "deletable": false,
    "editable": false,
    "nbgrader": {
     "checksum": "3c68c644df1851056a4f8f93cda99494",
     "grade": false,
     "grade_id": "cell-7d1247a2cf60bab3",
     "locked": true,
     "schema_version": 3,
     "solution": false
    }
   },
   "source": [
    "Given that the parsing of text takes some time, we will only consider the first 1000 articles in our data."
   ]
  },
  {
   "cell_type": "code",
   "execution_count": 23,
   "metadata": {
    "ExecuteTime": {
     "end_time": "2020-11-05T05:20:55.784424Z",
     "start_time": "2020-11-05T05:20:55.657678Z"
    },
    "deletable": false,
    "editable": false,
    "nbgrader": {
     "checksum": "2d075c5070bd31c803ad35d1e57b88ee",
     "grade": false,
     "grade_id": "cell-65e1d1dbb5567b87",
     "locked": true,
     "schema_version": 3,
     "solution": false
    }
   },
   "outputs": [],
   "source": [
    "new_X_train, new_X_test, new_y_train, new_y_test = train_test_split(X_train[:1000], y_train[:1000], random_state=0)"
   ]
  },
  {
   "cell_type": "code",
   "execution_count": 24,
   "metadata": {
    "ExecuteTime": {
     "end_time": "2020-11-05T05:21:58.329535Z",
     "start_time": "2020-11-05T05:20:55.786044Z"
    },
    "deletable": false,
    "nbgrader": {
     "checksum": "8daa6c62df8c89646e4aeda76b252ac0",
     "grade": false,
     "grade_id": "cell-a35e8a4ea5c845f6",
     "locked": false,
     "schema_version": 3,
     "solution": true
    }
   },
   "outputs": [
    {
     "name": "stdout",
     "output_type": "stream",
     "text": [
      "Wall time: 1min 2s\n"
     ]
    }
   ],
   "source": [
    "%%time\n",
    "# Using nlp from above, parse every instance of new_X_train\n",
    "# save the document vectors to a np.array called X_train_glove\n",
    "\n",
    "X_train_glove = []\n",
    "for words in new_X_train:\n",
    "    parsed = nlp(words)\n",
    "    X_train_glove.append(np.array(parsed.vector))\n",
    "    \n",
    "X_test_glove = []\n",
    "for words in new_X_test:\n",
    "    parsed = nlp(words)\n",
    "    X_test_glove.append(np.array(parsed.vector))\n",
    "\n",
    "X_train_glove = np.array(X_train_glove)\n",
    "X_test_glove = np.array(X_test_glove)"
   ]
  },
  {
   "cell_type": "code",
   "execution_count": 25,
   "metadata": {
    "ExecuteTime": {
     "end_time": "2020-11-05T05:21:58.334038Z",
     "start_time": "2020-11-05T05:21:58.331036Z"
    },
    "deletable": false,
    "editable": false,
    "nbgrader": {
     "checksum": "3cbbe22214eea789813b27bee43dc314",
     "grade": true,
     "grade_id": "cell-8431bb15ebe0914f",
     "locked": true,
     "points": 3,
     "schema_version": 3,
     "solution": false
    }
   },
   "outputs": [],
   "source": [
    "assert X_train_glove.shape == (len(new_X_train), 300)\n",
    "assert X_test_glove.shape == (len(new_X_test), 300)"
   ]
  },
  {
   "cell_type": "code",
   "execution_count": 26,
   "metadata": {
    "ExecuteTime": {
     "end_time": "2020-11-05T05:21:59.909390Z",
     "start_time": "2020-11-05T05:21:58.336541Z"
    },
    "deletable": false,
    "editable": false,
    "nbgrader": {
     "checksum": "6d13cff29a75bb3f0b8087af24238c43",
     "grade": false,
     "grade_id": "cell-5b693b9255ee6aea",
     "locked": true,
     "schema_version": 3,
     "solution": false
    }
   },
   "outputs": [
    {
     "name": "stdout",
     "output_type": "stream",
     "text": [
      "              precision    recall  f1-score   support\n",
      "\n",
      "           0       0.00      0.00      0.00         7\n",
      "           1       0.50      0.50      0.50        10\n",
      "           2       0.60      0.55      0.57        11\n",
      "           3       0.60      0.50      0.55        12\n",
      "           4       0.50      0.50      0.50        12\n",
      "           5       0.58      0.64      0.61        11\n",
      "           6       0.64      0.90      0.75        10\n",
      "           7       0.77      0.94      0.85        18\n",
      "           8       0.88      0.82      0.85        17\n",
      "           9       0.76      0.76      0.76        17\n",
      "          10       0.64      0.64      0.64        14\n",
      "          11       0.79      0.79      0.79        14\n",
      "          12       0.69      0.47      0.56        19\n",
      "          13       0.80      1.00      0.89        16\n",
      "          14       0.75      0.60      0.67        10\n",
      "          15       0.56      0.77      0.65        13\n",
      "          16       0.83      0.71      0.77        14\n",
      "          17       0.73      0.89      0.80         9\n",
      "          18       0.78      0.64      0.70        11\n",
      "          19       0.20      0.20      0.20         5\n",
      "\n",
      "    accuracy                           0.68       250\n",
      "   macro avg       0.63      0.64      0.63       250\n",
      "weighted avg       0.67      0.68      0.67       250\n",
      "\n"
     ]
    }
   ],
   "source": [
    "svm = LinearSVC().fit(X_train_glove, new_y_train)\n",
    "y_pred = svm.predict(X_test_glove)\n",
    "print(classification_report(new_y_test, y_pred))"
   ]
  },
  {
   "cell_type": "markdown",
   "metadata": {
    "deletable": false,
    "editable": false,
    "nbgrader": {
     "checksum": "7e662876feeb742e62383826b6fcb418",
     "grade": false,
     "grade_id": "cell-cbdc66865e98beb5",
     "locked": true,
     "schema_version": 3,
     "solution": false
    }
   },
   "source": [
    "We will not cover LDA in this exercise but if you are interested in topic modeling, you should check out [Gensim](https://radimrehurek.com/gensim/) and its [LDA implementation](https://radimrehurek.com/gensim/models/ldamodel.html)."
   ]
  },
  {
   "cell_type": "markdown",
   "metadata": {
    "deletable": false,
    "editable": false,
    "nbgrader": {
     "checksum": "483e65acc4062f57f7320d9b4cb0f945",
     "grade": false,
     "grade_id": "cell-75181722913aa756",
     "locked": true,
     "schema_version": 3,
     "solution": false
    }
   },
   "source": [
    "## Feedback"
   ]
  },
  {
   "cell_type": "code",
   "execution_count": 27,
   "metadata": {
    "ExecuteTime": {
     "end_time": "2020-11-05T05:21:59.915394Z",
     "start_time": "2020-11-05T05:21:59.911392Z"
    },
    "deletable": false,
    "nbgrader": {
     "checksum": "ed936ab53a1391c5e6af8df699a1dbf5",
     "grade": false,
     "grade_id": "feedback",
     "locked": false,
     "schema_version": 3,
     "solution": true
    }
   },
   "outputs": [
    {
     "data": {
      "text/plain": [
       "'In my opinion, this notebook did really show the true power of modern day NLP. Working with something like the HuggingFace Transformers library might yield more interest from students.'"
      ]
     },
     "execution_count": 27,
     "metadata": {},
     "output_type": "execute_result"
    }
   ],
   "source": [
    "def feedback():\n",
    "    \"\"\"Provide feedback on the contents of this exercise\n",
    "    \n",
    "    Returns:\n",
    "        string\n",
    "    \"\"\"\n",
    "    return \"In my opinion, this notebook did really show the true power of modern day NLP. Working with something like the HuggingFace Transformers library might yield more interest from students.\"\n",
    "feedback()"
   ]
  },
  {
   "cell_type": "code",
   "execution_count": null,
   "metadata": {
    "deletable": false,
    "editable": false,
    "nbgrader": {
     "checksum": "f39f6185a54850c2f1f9b5b2a17b7543",
     "grade": true,
     "grade_id": "feedback-tests",
     "locked": true,
     "points": 0,
     "schema_version": 3,
     "solution": false
    }
   },
   "outputs": [],
   "source": []
  }
 ],
 "metadata": {
  "hide_input": false,
  "kernelspec": {
   "display_name": "Python 3",
   "language": "python",
   "name": "python3"
  },
  "language_info": {
   "codemirror_mode": {
    "name": "ipython",
    "version": 3
   },
   "file_extension": ".py",
   "mimetype": "text/x-python",
   "name": "python",
   "nbconvert_exporter": "python",
   "pygments_lexer": "ipython3",
   "version": "3.6.10"
  },
  "toc": {
   "base_numbering": 1,
   "nav_menu": {},
   "number_sections": true,
   "sideBar": true,
   "skip_h1_title": false,
   "title_cell": "Table of Contents",
   "title_sidebar": "Contents",
   "toc_cell": false,
   "toc_position": {},
   "toc_section_display": true,
   "toc_window_display": false
  },
  "varInspector": {
   "cols": {
    "lenName": 16,
    "lenType": 16,
    "lenVar": 40
   },
   "kernels_config": {
    "python": {
     "delete_cmd_postfix": "",
     "delete_cmd_prefix": "del ",
     "library": "var_list.py",
     "varRefreshCmd": "print(var_dic_list())"
    },
    "r": {
     "delete_cmd_postfix": ") ",
     "delete_cmd_prefix": "rm(",
     "library": "var_list.r",
     "varRefreshCmd": "cat(var_dic_list()) "
    }
   },
   "types_to_exclude": [
    "module",
    "function",
    "builtin_function_or_method",
    "instance",
    "_Feature"
   ],
   "window_display": false
  }
 },
 "nbformat": 4,
 "nbformat_minor": 2
}
