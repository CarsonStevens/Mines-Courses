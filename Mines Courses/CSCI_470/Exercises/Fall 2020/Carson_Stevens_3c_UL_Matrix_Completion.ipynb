{
 "cells": [
  {
   "cell_type": "markdown",
   "metadata": {},
   "source": [
    "## CSCI 470 Activities and Case Studies\n",
    "\n",
    "1. For all activities, you are allowed to collaborate with a partner. \n",
    "1. For case studies, you should work individually and are **not** allowed to collaborate.\n",
    "\n",
    "By filling out this notebook and submitting it, you acknowledge that you are aware of the above policies and are agreeing to comply with them."
   ]
  },
  {
   "cell_type": "markdown",
   "metadata": {},
   "source": [
    "Some considerations with regard to how these notebooks will be graded:\n",
    "\n",
    "1. You can add more notebook cells or edit existing notebook cells other than \"# YOUR CODE HERE\" to test out or debug your code. We actually highly recommend you do so to gain a better understanding of what is happening. However, during grading, **these changes are ignored**. \n",
    "2. You must ensure that all your code for the particular task is available in the cells that say \"# YOUR CODE HERE\"\n",
    "3. Every cell that says \"# YOUR CODE HERE\" is followed by a \"raise NotImplementedError\". You need to remove that line. During grading, if an error occurs then you will not receive points for your work in that section.\n",
    "4. If your code passes the \"assert\" statements, then no output will result. If your code fails the \"assert\" statements, you will get an \"AssertionError\". Getting an assertion error means you will not receive points for that particular task.\n",
    "5. If you edit the \"assert\" statements to make your code pass, they will still fail when they are graded since the \"assert\" statements will revert to the original. Make sure you don't edit the assert statements.\n",
    "6. We may sometimes have \"hidden\" tests for grading. This means that passing the visible \"assert\" statements is not sufficient. The \"assert\" statements are there as a guide but you need to make sure you understand what you're required to do and ensure that you are doing it correctly. Passing the visible tests is necessary but not sufficient to get the grade for that cell.\n",
    "7. When you are asked to define a function, make sure you **don't** use any variables outside of the parameters passed to the function. You can think of the parameters being passed to the function as a hint. Make sure you're using all of those variables."
   ]
  },
  {
   "cell_type": "markdown",
   "metadata": {
    "deletable": false,
    "editable": false,
    "nbgrader": {
     "cell_type": "markdown",
     "checksum": "79dcee6d86cfe7a029c4df99cd85aa9b",
     "grade": false,
     "grade_id": "cell-c5f063695988bbdc",
     "locked": true,
     "schema_version": 3,
     "solution": false
    }
   },
   "source": [
    "# Unsupervised Learning - Matrix Completion"
   ]
  },
  {
   "cell_type": "code",
   "execution_count": 12,
   "metadata": {
    "deletable": false,
    "editable": false,
    "nbgrader": {
     "cell_type": "code",
     "checksum": "938981843c1691377c4e39e0d8a8be81",
     "grade": false,
     "grade_id": "cell-7df2defd51fbfab6",
     "locked": true,
     "schema_version": 3,
     "solution": false
    }
   },
   "outputs": [],
   "source": [
    "import numpy as np\n",
    "import pandas as pd\n",
    "import matplotlib\n",
    "import matplotlib.pyplot as plt\n",
    "import sklearn as sk\n",
    "from fancyimpute import SimpleFill, KNN, MatrixFactorization\n",
    "\n",
    "%matplotlib inline\n",
    "plt.style.use(\"ggplot\")\n",
    "\n",
    "np.random.seed(0)"
   ]
  },
  {
   "cell_type": "markdown",
   "metadata": {
    "deletable": false,
    "editable": false,
    "nbgrader": {
     "cell_type": "markdown",
     "checksum": "c51931829065107c81e6dfa5c510ac0b",
     "grade": false,
     "grade_id": "cell-83853056a4995f40",
     "locked": true,
     "schema_version": 3,
     "solution": false
    }
   },
   "source": [
    "## Synthetic Data\n",
    "First, let us create some synthetic data that we are going to use to test out a variety of matrix completion algorithms. Note that we force the data in $X$ to have a low rank. "
   ]
  },
  {
   "cell_type": "code",
   "execution_count": 13,
   "metadata": {},
   "outputs": [],
   "source": [
    "# Create the data matrix X\n",
    "# If you think of this as a recommendation engine\n",
    "# Select n as the number of users\n",
    "n = 100 \n",
    "# Select m as the number of movies or products\n",
    "m = 50\n",
    "# Select the inner_rank as the number of real genres or categories that movies or products belong to\n",
    "inner_rank = 10\n",
    "X = np.dot(np.random.randn(n, inner_rank), np.random.randn(inner_rank, m))"
   ]
  },
  {
   "cell_type": "code",
   "execution_count": 14,
   "metadata": {
    "deletable": false,
    "editable": false,
    "nbgrader": {
     "cell_type": "code",
     "checksum": "797e8c2ae18524f700a2cb42de548b99",
     "grade": false,
     "grade_id": "cell-0ac55c585d91159e",
     "locked": true,
     "schema_version": 3,
     "solution": false
    }
   },
   "outputs": [
    {
     "data": {
      "image/png": "[encoded data removed]",
      "text/plain": [
       "<Figure size 432x288 with 1 Axes>"
      ]
     },
     "metadata": {},
     "output_type": "display_data"
    }
   ],
   "source": [
    "# Let's visualize the matrix X\n",
    "plt.figure()\n",
    "plt.imshow(X)\n",
    "plt.grid(False)\n",
    "plt.title(\"Ground Truth\")\n",
    "plt.show()"
   ]
  },
  {
   "cell_type": "markdown",
   "metadata": {},
   "source": [
    "Here we've essentially created a matrix that represents the ground truth of how much each person really likes each product. Now in reality, we don't actually have access to that matrix. We have access to a very tiny view of this matrix because our users don't usually review products to let us know what they like."
   ]
  },
  {
   "cell_type": "markdown",
   "metadata": {
    "deletable": false,
    "editable": false,
    "nbgrader": {
     "cell_type": "markdown",
     "checksum": "31a4b7e05d539c863ac47568686e861e",
     "grade": false,
     "grade_id": "cell-9efcd717d87a7b77",
     "locked": true,
     "schema_version": 3,
     "solution": false
    }
   },
   "source": [
    "## Removing Data From $X$\n",
    "Since we are studying matrix completion algorithms we need to have some missing values! To do this we will randomly remove some data from $X$. \n",
    "\n",
    "Remember... since $X$ can be represented by an `inner_rank` of linearly independent columns it should be relatively easy for a matrix completion algorithm to reconstruct the missing data."
   ]
  },
  {
   "cell_type": "code",
   "execution_count": 15,
   "metadata": {
    "deletable": false,
    "editable": false,
    "nbgrader": {
     "cell_type": "code",
     "checksum": "a2ae558daf9f473a7f3fd5839d5c6b59",
     "grade": false,
     "grade_id": "cell-8bf1a624f06178d9",
     "locked": true,
     "schema_version": 3,
     "solution": false
    }
   },
   "outputs": [],
   "source": [
    "# What percent of user-movie combinations do we have access to?\n",
    "# For now we'll select an easier case but you can come back and change this value to see how the model performs\n",
    "visible_percentage = 0.6\n",
    "missing_mask = np.random.rand(*X.shape) < (1 - visible_percentage)\n",
    "X_incomplete = X.copy()\n",
    "# missing entries indicated with NaN\n",
    "X_incomplete[missing_mask] = np.nan"
   ]
  },
  {
   "cell_type": "code",
   "execution_count": 16,
   "metadata": {
    "deletable": false,
    "editable": false,
    "nbgrader": {
     "cell_type": "code",
     "checksum": "d36f11b40af23f9437d34d759a4858a7",
     "grade": false,
     "grade_id": "cell-0f7b57ff4f66c552",
     "locked": true,
     "schema_version": 3,
     "solution": false
    }
   },
   "outputs": [
    {
     "data": {
      "image/png": "[encoded data removed]",
      "text/plain": [
       "<Figure size 432x288 with 1 Axes>"
      ]
     },
     "metadata": {},
     "output_type": "display_data"
    }
   ],
   "source": [
    "# Let's visualize the data matrix X_incomplete\n",
    "plt.figure()\n",
    "plt.imshow(X_incomplete)\n",
    "plt.grid(False)\n",
    "plt.show()"
   ]
  },
  {
   "cell_type": "markdown",
   "metadata": {
    "deletable": false,
    "editable": false,
    "nbgrader": {
     "cell_type": "markdown",
     "checksum": "87a602dc2ec85572440d5ce331e93c5e",
     "grade": false,
     "grade_id": "cell-f2fd67262427b984",
     "locked": true,
     "schema_version": 3,
     "solution": false
    }
   },
   "source": [
    "## Matrix Completion\n",
    "Now, given the incomplete matrix `X_incomplete` we want to try and fill in the missing values. For this we are going to use the https://github.com/iskandr/fancyimpute package in Python.\n",
    "\n",
    "For the first example, I will provide an example implementation where we fill in all the missing values using `SimpleFill`:"
   ]
  },
  {
   "cell_type": "code",
   "execution_count": 17,
   "metadata": {
    "deletable": false,
    "editable": false,
    "nbgrader": {
     "cell_type": "code",
     "checksum": "eb678d1203e56a2a8e7f50a4e8217d2b",
     "grade": false,
     "grade_id": "cell-df9eba94ebec763c",
     "locked": true,
     "schema_version": 3,
     "solution": false
    }
   },
   "outputs": [],
   "source": [
    "meanFill = SimpleFill(\"mean\")\n",
    "X_filled_mean = meanFill.fit_transform(X_incomplete)"
   ]
  },
  {
   "cell_type": "code",
   "execution_count": 18,
   "metadata": {
    "deletable": false,
    "editable": false,
    "nbgrader": {
     "cell_type": "code",
     "checksum": "6e5fafcb37cde81b5c4bc9640c133d35",
     "grade": false,
     "grade_id": "cell-d4ce509cb9f02ca0",
     "locked": true,
     "schema_version": 3,
     "solution": false
    }
   },
   "outputs": [
    {
     "data": {
      "image/png": "[encoded data removed]",
      "text/plain": [
       "<Figure size 720x432 with 2 Axes>"
      ]
     },
     "metadata": {},
     "output_type": "display_data"
    }
   ],
   "source": [
    "f, (ax1, ax2) = plt.subplots(1, 2, figsize=(10,6))\n",
    "\n",
    "ax1.imshow(X)\n",
    "ax1.set_title(\"Original Matrix\")\n",
    "ax1.grid(False)\n",
    "\n",
    "ax2.imshow(X_filled_mean)\n",
    "ax2.set_title(\"Mean Fill Completed Matrix\")\n",
    "ax2.grid(False)\n",
    "plt.show()"
   ]
  },
  {
   "cell_type": "code",
   "execution_count": 19,
   "metadata": {
    "deletable": false,
    "editable": false,
    "nbgrader": {
     "cell_type": "code",
     "checksum": "d87f7dd5df7f9838b15bc89f9e99bb89",
     "grade": false,
     "grade_id": "cell-0862443f99453500",
     "locked": true,
     "schema_version": 3,
     "solution": false
    }
   },
   "outputs": [],
   "source": [
    "# To test the performance of our matrix completion algorithm we want to compare\n",
    "# the \"filled-in\" values to the original:\n",
    "def mat_completion_mse(X_filled, X_truth, missing_mask):\n",
    "    \"\"\"Calculates the mean squared error of the filled in values vs. the truth\n",
    "    \n",
    "    Args:\n",
    "        X_filled (np.ndarray): The \"filled-in\" matrix from a matrix completion algorithm\n",
    "        X_truth (np.ndarray): The true filled in matrix\n",
    "        missing_mask (np.ndarray): Boolean array of missing values\n",
    "    \n",
    "    Returns:\n",
    "        float: Mean squares error of the filled values\n",
    "    \"\"\"\n",
    "    return ((X_filled[missing_mask] - X_truth[missing_mask]) ** 2).mean()"
   ]
  },
  {
   "cell_type": "code",
   "execution_count": 20,
   "metadata": {
    "deletable": false,
    "editable": false,
    "nbgrader": {
     "cell_type": "code",
     "checksum": "3aea1e6d0d9f9e75bfde836827f309d7",
     "grade": false,
     "grade_id": "cell-532e359438e8446e",
     "locked": true,
     "schema_version": 3,
     "solution": false
    }
   },
   "outputs": [
    {
     "name": "stdout",
     "output_type": "stream",
     "text": [
      "meanFill MSE: 9.040554\n"
     ]
    }
   ],
   "source": [
    "meanFill_mse = mat_completion_mse(X_filled_mean, X, missing_mask)\n",
    "print(\"meanFill MSE: %f\" % meanFill_mse)"
   ]
  },
  {
   "cell_type": "markdown",
   "metadata": {
    "deletable": false,
    "editable": false,
    "nbgrader": {
     "cell_type": "markdown",
     "checksum": "03f7cae12b892a79300ade11dae2a984",
     "grade": false,
     "grade_id": "cell-e28746675948aebb",
     "locked": true,
     "schema_version": 3,
     "solution": false
    }
   },
   "source": [
    "### KNN Completion\n",
    "Next you will use the K-Nearest Neighbors algorithm to fill in the missing values. First, we will need to find the best number of neighbors to use for the KNN algorithm:"
   ]
  },
  {
   "cell_type": "code",
   "execution_count": 26,
   "metadata": {
    "deletable": false,
    "nbgrader": {
     "cell_type": "code",
     "checksum": "074241b1a59fd81af9cc5ee9307437d5",
     "grade": false,
     "grade_id": "cell-bb905ed6b3a9527e",
     "locked": false,
     "schema_version": 3,
     "solution": true
    }
   },
   "outputs": [],
   "source": [
    "# Find the best value for k\n",
    "def find_best_k(k_neighbors, complete_mat, incomplete_mat, missing_mask):\n",
    "    \"\"\"Determines the best k to use for matrix completion with KNN\n",
    "    \n",
    "    Args:\n",
    "        k_neighbors (iterable): The list of k's to try\n",
    "        complete_mat (np.ndarray): The original matrix with complete values\n",
    "        incomplete_mat (np.ndarray): The matrix with missing values\n",
    "        missing_mask (np.ndarray): Boolean array of missing values\n",
    "    \n",
    "    Returns:\n",
    "        integer: the best value of k to use for that particular matrix\n",
    "    \"\"\"\n",
    "    best_k = -1\n",
    "    best_k_mse = np.infty\n",
    "    \n",
    "    for neighbors in k_neighbors:\n",
    "        x_filled = KNN(neighbors).fit_transform(incomplete_mat)\n",
    "        mse = mat_completion_mse(x_filled, complete_mat, missing_mask)\n",
    "        if mse < best_k_mse:\n",
    "            best_k_mse = mse\n",
    "            best_k = neighbors\n",
    "    return best_k"
   ]
  },
  {
   "cell_type": "code",
   "execution_count": 27,
   "metadata": {
    "deletable": false,
    "editable": false,
    "nbgrader": {
     "cell_type": "code",
     "checksum": "cea5d57d47664845e14e75b6db12c206",
     "grade": false,
     "grade_id": "cell-141e014bb32ec388",
     "locked": true,
     "schema_version": 3,
     "solution": false
    }
   },
   "outputs": [
    {
     "name": "stdout",
     "output_type": "stream",
     "text": [
      "Imputing row 1/100 with 21 missing, elapsed time: 0.008\n",
      "Imputing row 1/100 with 21 missing, elapsed time: 0.007\n",
      "Imputing row 1/100 with 21 missing, elapsed time: 0.007\n",
      "Imputing row 1/100 with 21 missing, elapsed time: 0.007\n",
      "Imputing row 1/100 with 21 missing, elapsed time: 0.007\n",
      "Imputing row 1/100 with 21 missing, elapsed time: 0.007\n"
     ]
    }
   ],
   "source": [
    "k_neighbors = [2, 3, 4, 5, 10, 20]\n",
    "best_k = find_best_k(k_neighbors, X, X_incomplete, missing_mask)"
   ]
  },
  {
   "cell_type": "code",
   "execution_count": 28,
   "metadata": {},
   "outputs": [
    {
     "data": {
      "text/plain": [
       "5"
      ]
     },
     "execution_count": 28,
     "metadata": {},
     "output_type": "execute_result"
    }
   ],
   "source": [
    "best_k"
   ]
  },
  {
   "cell_type": "code",
   "execution_count": 29,
   "metadata": {
    "deletable": false,
    "editable": false,
    "nbgrader": {
     "cell_type": "code",
     "checksum": "7c59de31e48ace615ba2c52694b6461c",
     "grade": true,
     "grade_id": "cell-45bd8cddabf4443a",
     "locked": true,
     "points": 5,
     "schema_version": 3,
     "solution": false
    }
   },
   "outputs": [],
   "source": [
    "assert best_k == 5"
   ]
  },
  {
   "cell_type": "markdown",
   "metadata": {
    "deletable": false,
    "editable": false,
    "nbgrader": {
     "cell_type": "markdown",
     "checksum": "c333570054c96508f9ed13e99df5f930",
     "grade": false,
     "grade_id": "cell-6acf31581c53e8f1",
     "locked": true,
     "schema_version": 3,
     "solution": false
    }
   },
   "source": [
    "Now that we have found the `best_k` to use let's see how well it performed:"
   ]
  },
  {
   "cell_type": "code",
   "execution_count": 30,
   "metadata": {
    "deletable": false,
    "nbgrader": {
     "cell_type": "code",
     "checksum": "abab58f33915e096fbe10624c8c021d6",
     "grade": false,
     "grade_id": "cell-7848995ad39c2008",
     "locked": false,
     "schema_version": 3,
     "solution": true
    }
   },
   "outputs": [
    {
     "name": "stdout",
     "output_type": "stream",
     "text": [
      "Imputing row 1/100 with 21 missing, elapsed time: 0.007\n",
      "knnFill MSE: 4.391079\n"
     ]
    }
   ],
   "source": [
    "# Run KNN with the best_k and store the result in X_filled_knn\n",
    "\n",
    "X_filled_knn = KNN(best_k).fit_transform(X_incomplete)\n",
    "\n",
    "knnFill_mse = mat_completion_mse(X_filled_knn, X, missing_mask)\n",
    "print(\"knnFill MSE: %f\" % knnFill_mse)"
   ]
  },
  {
   "cell_type": "code",
   "execution_count": 31,
   "metadata": {
    "deletable": false,
    "editable": false,
    "nbgrader": {
     "cell_type": "code",
     "checksum": "8a7d04fa905a3f56b476615985f35942",
     "grade": true,
     "grade_id": "cell-4bb7cbb3efc7323b",
     "locked": true,
     "points": 5,
     "schema_version": 3,
     "solution": false
    }
   },
   "outputs": [],
   "source": [
    "assert knnFill_mse < meanFill_mse"
   ]
  },
  {
   "cell_type": "markdown",
   "metadata": {
    "deletable": false,
    "editable": false,
    "nbgrader": {
     "cell_type": "markdown",
     "checksum": "339613aecbfce1f3a2a7dd94d963e199",
     "grade": false,
     "grade_id": "cell-74c1eaa2175da0fd",
     "locked": true,
     "schema_version": 3,
     "solution": false
    }
   },
   "source": [
    "## Visually Comparison of Matrix Completion Algorithms\n",
    "To get a good idea of how these matrix completion algorithms compare we want to create a method that visualizes how well these algorithms actually perform."
   ]
  },
  {
   "cell_type": "markdown",
   "metadata": {
    "deletable": false,
    "editable": false,
    "nbgrader": {
     "cell_type": "markdown",
     "checksum": "2881023516df4f6d45bc40bf6775ab74",
     "grade": false,
     "grade_id": "cell-528e59c4b12cef64",
     "locked": true,
     "schema_version": 3,
     "solution": false
    }
   },
   "source": [
    "#### Creating a Collection of Models\n",
    "Now we create a handful of matrix completion algorithms that we want to visualize:\n",
    " - Mean Fill\n",
    " - K-Nearest Neighbors\n",
    " - MatrixFactorization (an implementaiton using gradient descent)"
   ]
  },
  {
   "cell_type": "code",
   "execution_count": 32,
   "metadata": {
    "deletable": false,
    "editable": false,
    "nbgrader": {
     "cell_type": "code",
     "checksum": "3641570c891ace4e383b66cb439211d7",
     "grade": false,
     "grade_id": "cell-3d5cf624afcdbce9",
     "locked": true,
     "schema_version": 3,
     "solution": false
    }
   },
   "outputs": [],
   "source": [
    "simpleFill = SimpleFill(\"mean\")\n",
    "knnFill = KNN(k=best_k)\n",
    "mfFill = MatrixFactorization(learning_rate=0.01, rank=5, l2_penalty=0, min_improvement=1e-6, optimization_algorithm=\"Nadam\")\n",
    "methods = [simpleFill, knnFill, mfFill]\n",
    "names = [\"SimpleFill\", \"KNN\", \"MatFactor\"]"
   ]
  },
  {
   "cell_type": "code",
   "execution_count": 37,
   "metadata": {
    "deletable": false,
    "nbgrader": {
     "cell_type": "code",
     "checksum": "4bfa4de1277fa413ebc9d0f333b2d3f5",
     "grade": false,
     "grade_id": "cell-d2d3aa0fb9bb6dfc",
     "locked": false,
     "schema_version": 3,
     "solution": true
    }
   },
   "outputs": [],
   "source": [
    "def mat_completion_comparison(methods, incomplete_mat, complete_mat, missing_mask):\n",
    "    \"\"\"Using a list of provided matrix completion methods calculate \n",
    "    the completed matrix and the determine the associated \n",
    "    mean-squared-error results.\n",
    "    \n",
    "    Args:\n",
    "        methods (iterable): A list of matrix completion algorithms\n",
    "        incomplete_mat (np.ndarray): The incomplete matrix\n",
    "        complete_mat (np.ndarray): The full matrix\n",
    "        missing_mask (np.ndarray): Boolean array of missing values\n",
    "    \n",
    "    Returns:\n",
    "        filled_mats (iterable): the \"filled-in\" matrices\n",
    "        mses (iterable): the mean square error results\n",
    "    \"\"\"\n",
    "    X_filled_mats = []\n",
    "    mses = []\n",
    "    for method in methods:\n",
    "        X_filled_mats.append(method.fit_transform(incomplete_mat))\n",
    "        mses.append(mat_completion_mse(X_filled_mats[-1], complete_mat, missing_mask))\n",
    "\n",
    "    return X_filled_mats, mses"
   ]
  },
  {
   "cell_type": "code",
   "execution_count": 38,
   "metadata": {
    "deletable": false,
    "editable": false,
    "nbgrader": {
     "cell_type": "code",
     "checksum": "9b2e05806908f7926fd71430ecbee618",
     "grade": true,
     "grade_id": "cell-6da57a5335f4c9a2",
     "locked": true,
     "points": 10,
     "schema_version": 3,
     "solution": false
    }
   },
   "outputs": [
    {
     "name": "stdout",
     "output_type": "stream",
     "text": [
      "Imputing row 1/100 with 21 missing, elapsed time: 0.007\n"
     ]
    },
    {
     "name": "stderr",
     "output_type": "stream",
     "text": [
      "C:\\Users\\Carson\\Anaconda3\\envs\\NN\\lib\\site-packages\\tensorflow_core\\python\\framework\\indexed_slices.py:433: UserWarning: Converting sparse IndexedSlices to a dense Tensor of unknown shape. This may consume a large amount of memory.\n",
      "  \"Converting sparse IndexedSlices to a dense Tensor of unknown shape. \"\n"
     ]
    },
    {
     "name": "stdout",
     "output_type": "stream",
     "text": [
      "Train on 2659 samples, validate on 296 samples\n",
      "Epoch 1/10000\n",
      "2659/2659 [==============================] - 2s 749us/step - loss: 1.2072 - val_loss: 1.1097\n",
      "Epoch 2/10000\n",
      "2659/2659 [==============================] - 0s 2us/step - loss: 1.1825 - val_loss: 1.1072\n",
      "Epoch 3/10000\n",
      "2659/2659 [==============================] - 0s 2us/step - loss: 1.1658 - val_loss: 1.1050\n",
      "Epoch 4/10000\n",
      "2659/2659 [==============================] - 0s 2us/step - loss: 1.1512 - val_loss: 1.1029\n",
      "Epoch 5/10000\n",
      "2659/2659 [==============================] - 0s 2us/step - loss: 1.1373 - val_loss: 1.1010\n",
      "Epoch 6/10000\n",
      "2659/2659 [==============================] - 0s 2us/step - loss: 1.1239 - val_loss: 1.0991\n",
      "Epoch 7/10000\n",
      "2659/2659 [==============================] - 0s 2us/step - loss: 1.1108 - val_loss: 1.0974\n",
      "Epoch 8/10000\n",
      "2659/2659 [==============================] - 0s 2us/step - loss: 1.0980 - val_loss: 1.0956\n",
      "Epoch 9/10000\n",
      "2659/2659 [==============================] - 0s 2us/step - loss: 1.0855 - val_loss: 1.0939\n",
      "Epoch 10/10000\n",
      "2659/2659 [==============================] - 0s 2us/step - loss: 1.0733 - val_loss: 1.0921\n",
      "Epoch 11/10000\n",
      "2659/2659 [==============================] - 0s 2us/step - loss: 1.0614 - val_loss: 1.0904\n",
      "Epoch 12/10000\n",
      "2659/2659 [==============================] - 0s 2us/step - loss: 1.0499 - val_loss: 1.0884\n",
      "Epoch 13/10000\n",
      "2659/2659 [==============================] - 0s 2us/step - loss: 1.0387 - val_loss: 1.0867\n",
      "Epoch 14/10000\n",
      "2659/2659 [==============================] - 0s 2us/step - loss: 1.0278 - val_loss: 1.0846\n",
      "Epoch 15/10000\n",
      "2659/2659 [==============================] - 0s 2us/step - loss: 1.0172 - val_loss: 1.0828\n",
      "Epoch 16/10000\n",
      "2659/2659 [==============================] - 0s 3us/step - loss: 1.0068 - val_loss: 1.0805\n",
      "Epoch 17/10000\n",
      "2659/2659 [==============================] - 0s 2us/step - loss: 0.9967 - val_loss: 1.0785\n",
      "Epoch 18/10000\n",
      "2659/2659 [==============================] - 0s 2us/step - loss: 0.9869 - val_loss: 1.0760\n",
      "Epoch 19/10000\n",
      "2659/2659 [==============================] - 0s 2us/step - loss: 0.9772 - val_loss: 1.0737\n",
      "Epoch 20/10000\n",
      "2659/2659 [==============================] - 0s 2us/step - loss: 0.9677 - val_loss: 1.0708\n",
      "Epoch 21/10000\n",
      "2659/2659 [==============================] - 0s 2us/step - loss: 0.9584 - val_loss: 1.0682\n",
      "Epoch 22/10000\n",
      "2659/2659 [==============================] - 0s 2us/step - loss: 0.9493 - val_loss: 1.0650\n",
      "Epoch 23/10000\n",
      "2659/2659 [==============================] - 0s 2us/step - loss: 0.9402 - val_loss: 1.0619\n",
      "Epoch 24/10000\n",
      "2659/2659 [==============================] - 0s 2us/step - loss: 0.9312 - val_loss: 1.0583\n",
      "Epoch 25/10000\n",
      "2659/2659 [==============================] - 0s 2us/step - loss: 0.9224 - val_loss: 1.0548\n",
      "Epoch 26/10000\n",
      "2659/2659 [==============================] - 0s 2us/step - loss: 0.9135 - val_loss: 1.0508\n",
      "Epoch 27/10000\n",
      "2659/2659 [==============================] - 0s 2us/step - loss: 0.9047 - val_loss: 1.0469\n",
      "Epoch 28/10000\n",
      "2659/2659 [==============================] - 0s 2us/step - loss: 0.8959 - val_loss: 1.0423\n",
      "Epoch 29/10000\n",
      "2659/2659 [==============================] - 0s 2us/step - loss: 0.8871 - val_loss: 1.0380\n",
      "Epoch 30/10000\n",
      "2659/2659 [==============================] - 0s 2us/step - loss: 0.8782 - val_loss: 1.0330\n",
      "Epoch 31/10000\n",
      "2659/2659 [==============================] - 0s 3us/step - loss: 0.8694 - val_loss: 1.0283\n",
      "Epoch 32/10000\n",
      "2659/2659 [==============================] - 0s 2us/step - loss: 0.8604 - val_loss: 1.0228\n",
      "Epoch 33/10000\n",
      "2659/2659 [==============================] - 0s 2us/step - loss: 0.8515 - val_loss: 1.0177\n",
      "Epoch 34/10000\n",
      "2659/2659 [==============================] - 0s 2us/step - loss: 0.8424 - val_loss: 1.0118\n",
      "Epoch 35/10000\n",
      "2659/2659 [==============================] - 0s 2us/step - loss: 0.8333 - val_loss: 1.0063\n",
      "Epoch 36/10000\n",
      "2659/2659 [==============================] - 0s 2us/step - loss: 0.8241 - val_loss: 1.0000\n",
      "Epoch 37/10000\n",
      "2659/2659 [==============================] - 0s 2us/step - loss: 0.8149 - val_loss: 0.9941\n",
      "Epoch 38/10000\n",
      "2659/2659 [==============================] - 0s 2us/step - loss: 0.8055 - val_loss: 0.9875\n",
      "Epoch 39/10000\n",
      "2659/2659 [==============================] - 0s 2us/step - loss: 0.7961 - val_loss: 0.9813\n",
      "Epoch 40/10000\n",
      "2659/2659 [==============================] - 0s 2us/step - loss: 0.7866 - val_loss: 0.9743\n",
      "Epoch 41/10000\n",
      "2659/2659 [==============================] - 0s 2us/step - loss: 0.7771 - val_loss: 0.9678\n",
      "Epoch 42/10000\n",
      "2659/2659 [==============================] - 0s 2us/step - loss: 0.7675 - val_loss: 0.9605\n",
      "Epoch 43/10000\n",
      "2659/2659 [==============================] - 0s 2us/step - loss: 0.7578 - val_loss: 0.9538\n",
      "Epoch 44/10000\n",
      "2659/2659 [==============================] - 0s 2us/step - loss: 0.7481 - val_loss: 0.9464\n",
      "Epoch 45/10000\n",
      "2659/2659 [==============================] - 0s 2us/step - loss: 0.7383 - val_loss: 0.9395\n",
      "Epoch 46/10000\n",
      "2659/2659 [==============================] - 0s 2us/step - loss: 0.7285 - val_loss: 0.9319\n",
      "Epoch 47/10000\n",
      "2659/2659 [==============================] - 0s 2us/step - loss: 0.7187 - val_loss: 0.9250\n",
      "Epoch 48/10000\n",
      "2659/2659 [==============================] - 0s 2us/step - loss: 0.7089 - val_loss: 0.9172\n",
      "Epoch 49/10000\n",
      "2659/2659 [==============================] - 0s 2us/step - loss: 0.6991 - val_loss: 0.9103\n",
      "Epoch 50/10000\n",
      "2659/2659 [==============================] - 0s 2us/step - loss: 0.6893 - val_loss: 0.9025\n",
      "Epoch 51/10000\n",
      "2659/2659 [==============================] - 0s 2us/step - loss: 0.6795 - val_loss: 0.8958\n",
      "Epoch 52/10000\n",
      "2659/2659 [==============================] - 0s 2us/step - loss: 0.6698 - val_loss: 0.8880\n",
      "Epoch 53/10000\n",
      "2659/2659 [==============================] - 0s 2us/step - loss: 0.6601 - val_loss: 0.8814\n",
      "Epoch 54/10000\n",
      "2659/2659 [==============================] - 0s 2us/step - loss: 0.6505 - val_loss: 0.8737\n",
      "Epoch 55/10000\n",
      "2659/2659 [==============================] - 0s 3us/step - loss: 0.6410 - val_loss: 0.8674\n",
      "Epoch 56/10000\n",
      "2659/2659 [==============================] - 0s 2us/step - loss: 0.6315 - val_loss: 0.8598\n",
      "Epoch 57/10000\n",
      "2659/2659 [==============================] - 0s 2us/step - loss: 0.6221 - val_loss: 0.8538\n",
      "Epoch 58/10000\n",
      "2659/2659 [==============================] - 0s 2us/step - loss: 0.6128 - val_loss: 0.8463\n",
      "Epoch 59/10000\n",
      "2659/2659 [==============================] - 0s 2us/step - loss: 0.6036 - val_loss: 0.8408\n",
      "Epoch 60/10000\n",
      "2659/2659 [==============================] - 0s 2us/step - loss: 0.5945 - val_loss: 0.8335\n",
      "Epoch 61/10000\n",
      "2659/2659 [==============================] - 0s 2us/step - loss: 0.5856 - val_loss: 0.8283\n",
      "Epoch 62/10000\n",
      "2659/2659 [==============================] - 0s 2us/step - loss: 0.5767 - val_loss: 0.8213\n",
      "Epoch 63/10000\n",
      "2659/2659 [==============================] - 0s 2us/step - loss: 0.5680 - val_loss: 0.8165\n",
      "Epoch 64/10000\n",
      "2659/2659 [==============================] - 0s 2us/step - loss: 0.5594 - val_loss: 0.8098\n",
      "Epoch 65/10000\n",
      "2659/2659 [==============================] - 0s 2us/step - loss: 0.5510 - val_loss: 0.8053\n",
      "Epoch 66/10000\n",
      "2659/2659 [==============================] - 0s 2us/step - loss: 0.5427 - val_loss: 0.7990\n",
      "Epoch 67/10000\n",
      "2659/2659 [==============================] - 0s 2us/step - loss: 0.5346 - val_loss: 0.7947\n",
      "Epoch 68/10000\n",
      "2659/2659 [==============================] - 0s 2us/step - loss: 0.5266 - val_loss: 0.7887\n",
      "Epoch 69/10000\n",
      "2659/2659 [==============================] - 0s 2us/step - loss: 0.5187 - val_loss: 0.7847\n",
      "Epoch 70/10000\n",
      "2659/2659 [==============================] - 0s 2us/step - loss: 0.5110 - val_loss: 0.7791\n",
      "Epoch 71/10000\n",
      "2659/2659 [==============================] - 0s 2us/step - loss: 0.5035 - val_loss: 0.7753\n",
      "Epoch 72/10000\n",
      "2659/2659 [==============================] - 0s 2us/step - loss: 0.4961 - val_loss: 0.7699\n",
      "Epoch 73/10000\n",
      "2659/2659 [==============================] - 0s 2us/step - loss: 0.4888 - val_loss: 0.7664\n",
      "Epoch 74/10000\n",
      "2659/2659 [==============================] - 0s 2us/step - loss: 0.4818 - val_loss: 0.7612\n",
      "Epoch 75/10000\n",
      "2659/2659 [==============================] - 0s 2us/step - loss: 0.4749 - val_loss: 0.7579\n",
      "Epoch 76/10000\n",
      "2659/2659 [==============================] - 0s 2us/step - loss: 0.4681 - val_loss: 0.7529\n",
      "Epoch 77/10000\n",
      "2659/2659 [==============================] - 0s 2us/step - loss: 0.4615 - val_loss: 0.7497\n"
     ]
    },
    {
     "name": "stdout",
     "output_type": "stream",
     "text": [
      "Epoch 78/10000\n",
      "2659/2659 [==============================] - 0s 2us/step - loss: 0.4550 - val_loss: 0.7449\n",
      "Epoch 79/10000\n",
      "2659/2659 [==============================] - 0s 2us/step - loss: 0.4487 - val_loss: 0.7417\n",
      "Epoch 80/10000\n",
      "2659/2659 [==============================] - 0s 2us/step - loss: 0.4426 - val_loss: 0.7371\n",
      "Epoch 81/10000\n",
      "2659/2659 [==============================] - 0s 2us/step - loss: 0.4365 - val_loss: 0.7340\n",
      "Epoch 82/10000\n",
      "2659/2659 [==============================] - 0s 2us/step - loss: 0.4307 - val_loss: 0.7294\n",
      "Epoch 83/10000\n",
      "2659/2659 [==============================] - 0s 2us/step - loss: 0.4249 - val_loss: 0.7265\n",
      "Epoch 84/10000\n",
      "2659/2659 [==============================] - 0s 2us/step - loss: 0.4194 - val_loss: 0.7219\n",
      "Epoch 85/10000\n",
      "2659/2659 [==============================] - 0s 2us/step - loss: 0.4139 - val_loss: 0.7191\n",
      "Epoch 86/10000\n",
      "2659/2659 [==============================] - 0s 2us/step - loss: 0.4086 - val_loss: 0.7145\n",
      "Epoch 87/10000\n",
      "2659/2659 [==============================] - 0s 2us/step - loss: 0.4034 - val_loss: 0.7117\n",
      "Epoch 88/10000\n",
      "2659/2659 [==============================] - 0s 2us/step - loss: 0.3983 - val_loss: 0.7072\n",
      "Epoch 89/10000\n",
      "2659/2659 [==============================] - 0s 2us/step - loss: 0.3934 - val_loss: 0.7044\n",
      "Epoch 90/10000\n",
      "2659/2659 [==============================] - 0s 2us/step - loss: 0.3886 - val_loss: 0.7000\n",
      "Epoch 91/10000\n",
      "2659/2659 [==============================] - 0s 2us/step - loss: 0.3839 - val_loss: 0.6972\n",
      "Epoch 92/10000\n",
      "2659/2659 [==============================] - 0s 3us/step - loss: 0.3793 - val_loss: 0.6928\n",
      "Epoch 93/10000\n",
      "2659/2659 [==============================] - 0s 3us/step - loss: 0.3748 - val_loss: 0.6900\n",
      "Epoch 94/10000\n",
      "2659/2659 [==============================] - 0s 3us/step - loss: 0.3704 - val_loss: 0.6857\n",
      "Epoch 95/10000\n",
      "2659/2659 [==============================] - 0s 2us/step - loss: 0.3662 - val_loss: 0.6829\n",
      "Epoch 96/10000\n",
      "2659/2659 [==============================] - 0s 2us/step - loss: 0.3620 - val_loss: 0.6786\n",
      "Epoch 97/10000\n",
      "2659/2659 [==============================] - 0s 2us/step - loss: 0.3579 - val_loss: 0.6759\n",
      "Epoch 98/10000\n",
      "2659/2659 [==============================] - 0s 2us/step - loss: 0.3540 - val_loss: 0.6717\n",
      "Epoch 99/10000\n",
      "2659/2659 [==============================] - 0s 2us/step - loss: 0.3501 - val_loss: 0.6689\n",
      "Epoch 100/10000\n",
      "2659/2659 [==============================] - 0s 2us/step - loss: 0.3463 - val_loss: 0.6648\n",
      "Epoch 101/10000\n",
      "2659/2659 [==============================] - 0s 2us/step - loss: 0.3426 - val_loss: 0.6621\n",
      "Epoch 102/10000\n",
      "2659/2659 [==============================] - 0s 2us/step - loss: 0.3390 - val_loss: 0.6581\n",
      "Epoch 103/10000\n",
      "2659/2659 [==============================] - 0s 2us/step - loss: 0.3355 - val_loss: 0.6553\n",
      "Epoch 104/10000\n",
      "2659/2659 [==============================] - 0s 2us/step - loss: 0.3321 - val_loss: 0.6515\n",
      "Epoch 105/10000\n",
      "2659/2659 [==============================] - 0s 2us/step - loss: 0.3287 - val_loss: 0.6487\n",
      "Epoch 106/10000\n",
      "2659/2659 [==============================] - 0s 2us/step - loss: 0.3255 - val_loss: 0.6451\n",
      "Epoch 107/10000\n",
      "2659/2659 [==============================] - 0s 2us/step - loss: 0.3223 - val_loss: 0.6423\n",
      "Epoch 108/10000\n",
      "2659/2659 [==============================] - 0s 2us/step - loss: 0.3192 - val_loss: 0.6389\n",
      "Epoch 109/10000\n",
      "2659/2659 [==============================] - 0s 2us/step - loss: 0.3162 - val_loss: 0.6361\n",
      "Epoch 110/10000\n",
      "2659/2659 [==============================] - 0s 2us/step - loss: 0.3132 - val_loss: 0.6328\n",
      "Epoch 111/10000\n",
      "2659/2659 [==============================] - 0s 2us/step - loss: 0.3104 - val_loss: 0.6302\n",
      "Epoch 112/10000\n",
      "2659/2659 [==============================] - 0s 2us/step - loss: 0.3076 - val_loss: 0.6270\n",
      "Epoch 113/10000\n",
      "2659/2659 [==============================] - 0s 2us/step - loss: 0.3049 - val_loss: 0.6244\n",
      "Epoch 114/10000\n",
      "2659/2659 [==============================] - 0s 2us/step - loss: 0.3022 - val_loss: 0.6215\n",
      "Epoch 115/10000\n",
      "2659/2659 [==============================] - 0s 2us/step - loss: 0.2996 - val_loss: 0.6189\n",
      "Epoch 116/10000\n",
      "2659/2659 [==============================] - 0s 2us/step - loss: 0.2971 - val_loss: 0.6162\n",
      "Epoch 117/10000\n",
      "2659/2659 [==============================] - 0s 2us/step - loss: 0.2947 - val_loss: 0.6138\n",
      "Epoch 118/10000\n",
      "2659/2659 [==============================] - 0s 2us/step - loss: 0.2923 - val_loss: 0.6112\n",
      "Epoch 119/10000\n",
      "2659/2659 [==============================] - 0s 2us/step - loss: 0.2900 - val_loss: 0.6088\n",
      "Epoch 120/10000\n",
      "2659/2659 [==============================] - 0s 2us/step - loss: 0.2878 - val_loss: 0.6064\n",
      "Epoch 121/10000\n",
      "2659/2659 [==============================] - 0s 2us/step - loss: 0.2856 - val_loss: 0.6042\n",
      "Epoch 122/10000\n",
      "2659/2659 [==============================] - 0s 2us/step - loss: 0.2835 - val_loss: 0.6020\n",
      "Epoch 123/10000\n",
      "2659/2659 [==============================] - 0s 2us/step - loss: 0.2815 - val_loss: 0.5999\n",
      "Epoch 124/10000\n",
      "2659/2659 [==============================] - 0s 2us/step - loss: 0.2795 - val_loss: 0.5979\n",
      "Epoch 125/10000\n",
      "2659/2659 [==============================] - 0s 2us/step - loss: 0.2775 - val_loss: 0.5959\n",
      "Epoch 126/10000\n",
      "2659/2659 [==============================] - 0s 2us/step - loss: 0.2757 - val_loss: 0.5941\n",
      "Epoch 127/10000\n",
      "2659/2659 [==============================] - 0s 2us/step - loss: 0.2739 - val_loss: 0.5922\n",
      "Epoch 128/10000\n",
      "2659/2659 [==============================] - 0s 2us/step - loss: 0.2721 - val_loss: 0.5905\n",
      "Epoch 129/10000\n",
      "2659/2659 [==============================] - 0s 2us/step - loss: 0.2704 - val_loss: 0.5888\n",
      "Epoch 130/10000\n",
      "2659/2659 [==============================] - 0s 2us/step - loss: 0.2688 - val_loss: 0.5873\n",
      "Epoch 131/10000\n",
      "2659/2659 [==============================] - 0s 2us/step - loss: 0.2672 - val_loss: 0.5856\n",
      "Epoch 132/10000\n",
      "2659/2659 [==============================] - 0s 2us/step - loss: 0.2656 - val_loss: 0.5843\n",
      "Epoch 133/10000\n",
      "2659/2659 [==============================] - 0s 2us/step - loss: 0.2641 - val_loss: 0.5827\n",
      "Epoch 134/10000\n",
      "2659/2659 [==============================] - 0s 2us/step - loss: 0.2627 - val_loss: 0.5815\n",
      "Epoch 135/10000\n",
      "2659/2659 [==============================] - 0s 2us/step - loss: 0.2613 - val_loss: 0.5801\n",
      "Epoch 136/10000\n",
      "2659/2659 [==============================] - 0s 2us/step - loss: 0.2599 - val_loss: 0.5790\n",
      "Epoch 137/10000\n",
      "2659/2659 [==============================] - 0s 2us/step - loss: 0.2586 - val_loss: 0.5776\n",
      "Epoch 138/10000\n",
      "2659/2659 [==============================] - 0s 2us/step - loss: 0.2573 - val_loss: 0.5768\n",
      "Epoch 139/10000\n",
      "2659/2659 [==============================] - 0s 2us/step - loss: 0.2561 - val_loss: 0.5754\n",
      "Epoch 140/10000\n",
      "2659/2659 [==============================] - 0s 2us/step - loss: 0.2549 - val_loss: 0.5747\n",
      "Epoch 141/10000\n",
      "2659/2659 [==============================] - 0s 2us/step - loss: 0.2538 - val_loss: 0.5734\n",
      "Epoch 142/10000\n",
      "2659/2659 [==============================] - 0s 2us/step - loss: 0.2527 - val_loss: 0.5728\n",
      "Epoch 143/10000\n",
      "2659/2659 [==============================] - 0s 2us/step - loss: 0.2516 - val_loss: 0.5716\n",
      "Epoch 144/10000\n",
      "2659/2659 [==============================] - 0s 2us/step - loss: 0.2506 - val_loss: 0.5711\n",
      "Epoch 145/10000\n",
      "2659/2659 [==============================] - 0s 2us/step - loss: 0.2496 - val_loss: 0.5700\n",
      "Epoch 146/10000\n",
      "2659/2659 [==============================] - 0s 2us/step - loss: 0.2486 - val_loss: 0.5696\n",
      "Epoch 147/10000\n",
      "2659/2659 [==============================] - 0s 2us/step - loss: 0.2476 - val_loss: 0.5685\n",
      "Epoch 148/10000\n",
      "2659/2659 [==============================] - 0s 2us/step - loss: 0.2467 - val_loss: 0.5681\n",
      "Epoch 149/10000\n",
      "2659/2659 [==============================] - 0s 2us/step - loss: 0.2459 - val_loss: 0.5671\n",
      "Epoch 150/10000\n",
      "2659/2659 [==============================] - 0s 2us/step - loss: 0.2450 - val_loss: 0.5669\n",
      "Epoch 151/10000\n",
      "2659/2659 [==============================] - 0s 2us/step - loss: 0.2442 - val_loss: 0.5659\n",
      "Epoch 152/10000\n",
      "2659/2659 [==============================] - 0s 2us/step - loss: 0.2434 - val_loss: 0.5657\n",
      "Epoch 153/10000\n",
      "2659/2659 [==============================] - 0s 2us/step - loss: 0.2426 - val_loss: 0.5647\n",
      "Epoch 154/10000\n",
      "2659/2659 [==============================] - 0s 2us/step - loss: 0.2419 - val_loss: 0.5646\n"
     ]
    },
    {
     "name": "stdout",
     "output_type": "stream",
     "text": [
      "Epoch 155/10000\n",
      "2659/2659 [==============================] - 0s 2us/step - loss: 0.2412 - val_loss: 0.5637\n",
      "Epoch 156/10000\n",
      "2659/2659 [==============================] - 0s 2us/step - loss: 0.2405 - val_loss: 0.5637\n",
      "Epoch 157/10000\n",
      "2659/2659 [==============================] - 0s 2us/step - loss: 0.2398 - val_loss: 0.5628\n",
      "Epoch 158/10000\n",
      "2659/2659 [==============================] - 0s 2us/step - loss: 0.2392 - val_loss: 0.5628\n",
      "Epoch 159/10000\n",
      "2659/2659 [==============================] - 0s 2us/step - loss: 0.2385 - val_loss: 0.5619\n",
      "Epoch 160/10000\n",
      "2659/2659 [==============================] - 0s 2us/step - loss: 0.2379 - val_loss: 0.5620\n",
      "Epoch 161/10000\n",
      "2659/2659 [==============================] - 0s 2us/step - loss: 0.2373 - val_loss: 0.5612\n",
      "Epoch 162/10000\n",
      "2659/2659 [==============================] - 0s 2us/step - loss: 0.2368 - val_loss: 0.5612\n",
      "Epoch 163/10000\n",
      "2659/2659 [==============================] - 0s 2us/step - loss: 0.2362 - val_loss: 0.5604\n",
      "Epoch 164/10000\n",
      "2659/2659 [==============================] - 0s 2us/step - loss: 0.2357 - val_loss: 0.5606\n",
      "Epoch 165/10000\n",
      "2659/2659 [==============================] - 0s 2us/step - loss: 0.2352 - val_loss: 0.5598\n",
      "Epoch 166/10000\n",
      "2659/2659 [==============================] - 0s 2us/step - loss: 0.2347 - val_loss: 0.5600\n",
      "Epoch 167/10000\n",
      "2659/2659 [==============================] - 0s 2us/step - loss: 0.2342 - val_loss: 0.5592\n",
      "Epoch 168/10000\n",
      "2659/2659 [==============================] - 0s 2us/step - loss: 0.2337 - val_loss: 0.5594\n",
      "Epoch 169/10000\n",
      "2659/2659 [==============================] - 0s 2us/step - loss: 0.2333 - val_loss: 0.5587\n",
      "Epoch 170/10000\n",
      "2659/2659 [==============================] - 0s 2us/step - loss: 0.2328 - val_loss: 0.5589\n",
      "Epoch 171/10000\n",
      "2659/2659 [==============================] - 0s 2us/step - loss: 0.2324 - val_loss: 0.5582\n",
      "Epoch 172/10000\n",
      "2659/2659 [==============================] - 0s 2us/step - loss: 0.2320 - val_loss: 0.5584\n",
      "Epoch 173/10000\n",
      "2659/2659 [==============================] - 0s 2us/step - loss: 0.2316 - val_loss: 0.5577\n",
      "Epoch 174/10000\n",
      "2659/2659 [==============================] - 0s 2us/step - loss: 0.2312 - val_loss: 0.5580\n",
      "Epoch 175/10000\n",
      "2659/2659 [==============================] - 0s 2us/step - loss: 0.2308 - val_loss: 0.5573\n",
      "Epoch 176/10000\n",
      "2659/2659 [==============================] - 0s 2us/step - loss: 0.2305 - val_loss: 0.5576\n",
      "Epoch 177/10000\n",
      "2659/2659 [==============================] - 0s 3us/step - loss: 0.2301 - val_loss: 0.5569\n",
      "Epoch 178/10000\n",
      "2659/2659 [==============================] - 0s 2us/step - loss: 0.2298 - val_loss: 0.5573\n",
      "Epoch 179/10000\n",
      "2659/2659 [==============================] - 0s 3us/step - loss: 0.2294 - val_loss: 0.5566\n",
      "Epoch 180/10000\n",
      "2659/2659 [==============================] - 0s 2us/step - loss: 0.2291 - val_loss: 0.5570\n",
      "Epoch 181/10000\n",
      "2659/2659 [==============================] - 0s 2us/step - loss: 0.2288 - val_loss: 0.5563\n",
      "Epoch 182/10000\n",
      "2659/2659 [==============================] - 0s 2us/step - loss: 0.2285 - val_loss: 0.5567\n",
      "Epoch 183/10000\n",
      "2659/2659 [==============================] - 0s 2us/step - loss: 0.2282 - val_loss: 0.5560\n",
      "Epoch 184/10000\n",
      "2659/2659 [==============================] - 0s 2us/step - loss: 0.2279 - val_loss: 0.5565\n",
      "Epoch 185/10000\n",
      "2659/2659 [==============================] - 0s 2us/step - loss: 0.2276 - val_loss: 0.5557\n",
      "Epoch 186/10000\n",
      "2659/2659 [==============================] - 0s 2us/step - loss: 0.2274 - val_loss: 0.5563\n",
      "Epoch 187/10000\n",
      "2659/2659 [==============================] - 0s 2us/step - loss: 0.2271 - val_loss: 0.5555\n",
      "Epoch 188/10000\n",
      "2659/2659 [==============================] - 0s 2us/step - loss: 0.2268 - val_loss: 0.5561\n",
      "Epoch 189/10000\n",
      "2659/2659 [==============================] - 0s 2us/step - loss: 0.2266 - val_loss: 0.5553\n",
      "Epoch 190/10000\n",
      "2659/2659 [==============================] - 0s 2us/step - loss: 0.2264 - val_loss: 0.5559\n",
      "Epoch 191/10000\n",
      "2659/2659 [==============================] - 0s 2us/step - loss: 0.2261 - val_loss: 0.5551\n",
      "Epoch 192/10000\n",
      "2659/2659 [==============================] - 0s 2us/step - loss: 0.2259 - val_loss: 0.5558\n",
      "Epoch 193/10000\n",
      "2659/2659 [==============================] - 0s 2us/step - loss: 0.2257 - val_loss: 0.5550\n",
      "Epoch 194/10000\n",
      "2659/2659 [==============================] - 0s 2us/step - loss: 0.2255 - val_loss: 0.5557\n",
      "Epoch 195/10000\n",
      "2659/2659 [==============================] - 0s 2us/step - loss: 0.2252 - val_loss: 0.5548\n",
      "Epoch 196/10000\n",
      "2659/2659 [==============================] - 0s 2us/step - loss: 0.2250 - val_loss: 0.5555\n",
      "Epoch 197/10000\n",
      "2659/2659 [==============================] - 0s 2us/step - loss: 0.2248 - val_loss: 0.5547\n",
      "Epoch 198/10000\n",
      "2659/2659 [==============================] - 0s 2us/step - loss: 0.2246 - val_loss: 0.5555\n",
      "Epoch 199/10000\n",
      "2659/2659 [==============================] - 0s 2us/step - loss: 0.2245 - val_loss: 0.5546\n",
      "Epoch 200/10000\n",
      "2659/2659 [==============================] - 0s 2us/step - loss: 0.2243 - val_loss: 0.5554\n",
      "Epoch 201/10000\n",
      "2659/2659 [==============================] - 0s 2us/step - loss: 0.2241 - val_loss: 0.5545\n",
      "Epoch 202/10000\n",
      "2659/2659 [==============================] - 0s 2us/step - loss: 0.2239 - val_loss: 0.5553\n",
      "Epoch 203/10000\n",
      "2659/2659 [==============================] - 0s 2us/step - loss: 0.2237 - val_loss: 0.5545\n",
      "Epoch 204/10000\n",
      "2659/2659 [==============================] - 0s 2us/step - loss: 0.2236 - val_loss: 0.5553\n",
      "Epoch 205/10000\n",
      "2659/2659 [==============================] - 0s 2us/step - loss: 0.2234 - val_loss: 0.5544\n",
      "Epoch 206/10000\n",
      "2659/2659 [==============================] - 0s 2us/step - loss: 0.2233 - val_loss: 0.5552\n",
      "Epoch 207/10000\n",
      "2659/2659 [==============================] - 0s 2us/step - loss: 0.2231 - val_loss: 0.5544\n",
      "Epoch 208/10000\n",
      "2659/2659 [==============================] - 0s 2us/step - loss: 0.2229 - val_loss: 0.5552\n",
      "Epoch 209/10000\n",
      "2659/2659 [==============================] - 0s 2us/step - loss: 0.2228 - val_loss: 0.5544\n",
      "Epoch 210/10000\n",
      "2659/2659 [==============================] - 0s 2us/step - loss: 0.2226 - val_loss: 0.5552\n",
      "Epoch 211/10000\n",
      "2659/2659 [==============================] - 0s 2us/step - loss: 0.2225 - val_loss: 0.5544\n",
      "Epoch 212/10000\n",
      "2659/2659 [==============================] - 0s 2us/step - loss: 0.2224 - val_loss: 0.5552\n",
      "Epoch 213/10000\n",
      "2659/2659 [==============================] - 0s 2us/step - loss: 0.2222 - val_loss: 0.5544\n",
      "Epoch 214/10000\n",
      "2659/2659 [==============================] - 0s 2us/step - loss: 0.2221 - val_loss: 0.5552\n",
      "Epoch 215/10000\n",
      "2659/2659 [==============================] - 0s 2us/step - loss: 0.2220 - val_loss: 0.5544\n",
      "Epoch 216/10000\n",
      "2659/2659 [==============================] - 0s 2us/step - loss: 0.2218 - val_loss: 0.5552\n"
     ]
    }
   ],
   "source": [
    "X_filled_mats, mses = mat_completion_comparison(methods, X_incomplete, X, missing_mask)\n",
    "assert len(X_filled_mats) == len(methods)\n",
    "assert len(mses) == len(methods)"
   ]
  },
  {
   "cell_type": "code",
   "execution_count": 39,
   "metadata": {
    "deletable": false,
    "editable": false,
    "nbgrader": {
     "cell_type": "code",
     "checksum": "6ec00eaf547a3f65c13b83ff890a6643",
     "grade": false,
     "grade_id": "cell-085ac1f2827084a5",
     "locked": true,
     "schema_version": 3,
     "solution": false
    }
   },
   "outputs": [
    {
     "data": {
      "image/png": "[encoded data removed]",
      "text/plain": [
       "<Figure size 720x432 with 3 Axes>"
      ]
     },
     "metadata": {},
     "output_type": "display_data"
    }
   ],
   "source": [
    "plt.figure(figsize = (10,6)) # Change the figure size to your liking\n",
    "\n",
    "for i in range(0, len(methods)):\n",
    "    X_filled = X_filled_mats[i]\n",
    "    mse = mses[i]\n",
    "    ax = plt.subplot(131 + i)\n",
    "    ax.imshow(X_filled)\n",
    "    ax.title.set_text(\"MSE: \" + str(round(mse, 2)))\n",
    "    ax.set_xlabel(names[i])\n",
    "    ax.grid(False)\n",
    "    \n",
    "plt.show()"
   ]
  },
  {
   "cell_type": "markdown",
   "metadata": {
    "deletable": false,
    "editable": false,
    "nbgrader": {
     "cell_type": "markdown",
     "checksum": "d3df605202578f6ab3f3bb7dfce8e9e7",
     "grade": false,
     "grade_id": "cell-73cc7955e97ceb8e",
     "locked": true,
     "schema_version": 3,
     "solution": false
    }
   },
   "source": [
    "## Feedback"
   ]
  },
  {
   "cell_type": "code",
   "execution_count": 41,
   "metadata": {
    "deletable": false,
    "nbgrader": {
     "cell_type": "code",
     "checksum": "ed936ab53a1391c5e6af8df699a1dbf5",
     "grade": false,
     "grade_id": "feedback",
     "locked": false,
     "schema_version": 3,
     "solution": true
    }
   },
   "outputs": [
    {
     "data": {
      "text/plain": [
       "\"Didn't understand why we switched to Fancy Impute when sklearn library has impute methods. The fancy impute ones use the sklearn library?\""
      ]
     },
     "execution_count": 41,
     "metadata": {},
     "output_type": "execute_result"
    }
   ],
   "source": [
    "def feedback():\n",
    "    \"\"\"Provide feedback on the contents of this exercise\n",
    "    \n",
    "    Returns:\n",
    "        string\n",
    "    \"\"\"\n",
    "    return \"Didn't understand why we switched to Fancy Impute when sklearn library has impute methods. The fancy impute ones use the sklearn library?\"\n",
    "feedback()"
   ]
  },
  {
   "cell_type": "code",
   "execution_count": null,
   "metadata": {
    "deletable": false,
    "editable": false,
    "nbgrader": {
     "cell_type": "code",
     "checksum": "f39f6185a54850c2f1f9b5b2a17b7543",
     "grade": true,
     "grade_id": "feedback-tests",
     "locked": true,
     "points": 0,
     "schema_version": 3,
     "solution": false
    }
   },
   "outputs": [],
   "source": []
  }
 ],
 "metadata": {
  "kernelspec": {
   "display_name": "Python 3",
   "language": "python",
   "name": "python3"
  },
  "language_info": {
   "codemirror_mode": {
    "name": "ipython",
    "version": 3
   },
   "file_extension": ".py",
   "mimetype": "text/x-python",
   "name": "python",
   "nbconvert_exporter": "python",
   "pygments_lexer": "ipython3",
   "version": "3.6.10"
  }
 },
 "nbformat": 4,
 "nbformat_minor": 2
}
