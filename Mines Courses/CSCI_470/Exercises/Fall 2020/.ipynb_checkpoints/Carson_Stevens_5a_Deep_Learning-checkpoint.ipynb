{
 "cells": [
  {
   "cell_type": "markdown",
   "metadata": {},
   "source": [
    "## CSCI 470 Activities and Case Studies\n",
    "\n",
    "1. For all activities, you are allowed to collaborate with a partner. \n",
    "1. For case studies, you should work individually and are **not** allowed to collaborate.\n",
    "\n",
    "By filling out this notebook and submitting it, you acknowledge that you are aware of the above policies and are agreeing to comply with them."
   ]
  },
  {
   "cell_type": "markdown",
   "metadata": {},
   "source": [
    "Some considerations with regard to how these notebooks will be graded:\n",
    "\n",
    "1. You can add more notebook cells or edit existing notebook cells other than \"# YOUR CODE HERE\" to test out or debug your code. We actually highly recommend you do so to gain a better understanding of what is happening. However, during grading, **these changes are ignored**. \n",
    "2. You must ensure that all your code for the particular task is available in the cells that say \"# YOUR CODE HERE\"\n",
    "3. Every cell that says \"# YOUR CODE HERE\" is followed by a \"raise NotImplementedError\". You need to remove that line. During grading, if an error occurs then you will not receive points for your work in that section.\n",
    "4. If your code passes the \"assert\" statements, then no output will result. If your code fails the \"assert\" statements, you will get an \"AssertionError\". Getting an assertion error means you will not receive points for that particular task.\n",
    "5. If you edit the \"assert\" statements to make your code pass, they will still fail when they are graded since the \"assert\" statements will revert to the original. Make sure you don't edit the assert statements.\n",
    "6. We may sometimes have \"hidden\" tests for grading. This means that passing the visible \"assert\" statements is not sufficient. The \"assert\" statements are there as a guide but you need to make sure you understand what you're required to do and ensure that you are doing it correctly. Passing the visible tests is necessary but not sufficient to get the grade for that cell.\n",
    "7. When you are asked to define a function, make sure you **don't** use any variables outside of the parameters passed to the function. You can think of the parameters being passed to the function as a hint. Make sure you're using all of those variables.\n",
    "8. Finally, **make sure you run \"Kernel > Restart and Run All\"** and pass all the asserts before submitting. If you don't restart the kernel, there may be some code that you ran and deleted that is still being used and that was why your asserts were passing."
   ]
  },
  {
   "cell_type": "markdown",
   "metadata": {
    "deletable": false,
    "editable": false,
    "nbgrader": {
     "cell_type": "markdown",
     "checksum": "f527c20692dbdf09018e4f5bc32e637a",
     "grade": false,
     "grade_id": "cell-4fb3a6f3d58fd28b",
     "locked": true,
     "schema_version": 3,
     "solution": false
    }
   },
   "source": [
    "# Deep Learning\n",
    "\n",
    "In this exercise, you will use a deep neural network to predict the values of houses based on some provided input data. You will use keras to build the model. Below is a description of how the keras models are set up.\n",
    "\n",
    "**Please read more about the data [here](https://www.cs.toronto.edu/~delve/data/boston/bostonDetail.html).**"
   ]
  },
  {
   "cell_type": "code",
   "execution_count": 1,
   "metadata": {
    "ExecuteTime": {
     "end_time": "2020-10-15T05:48:16.487550Z",
     "start_time": "2020-10-15T05:48:13.350114Z"
    },
    "deletable": false,
    "editable": false,
    "nbgrader": {
     "cell_type": "code",
     "checksum": "c39e29d77d1a419d614ec45f1cb64f75",
     "grade": false,
     "grade_id": "cell-d07727b5ced87bf2",
     "locked": true,
     "schema_version": 3,
     "solution": false
    }
   },
   "outputs": [],
   "source": [
    "import tensorflow as tf\n",
    "import tensorflow.keras as keras\n",
    "import numpy as np\n",
    "from tensorflow.keras import Sequential\n",
    "from tensorflow.keras.layers import Dense, Dropout\n",
    "\n",
    "np.random.seed(0)"
   ]
  },
  {
   "cell_type": "code",
   "execution_count": 2,
   "metadata": {
    "ExecuteTime": {
     "end_time": "2020-10-15T05:48:16.541096Z",
     "start_time": "2020-10-15T05:48:16.535591Z"
    },
    "deletable": false,
    "editable": false,
    "nbgrader": {
     "cell_type": "code",
     "checksum": "9671de294010d6b1c7292a418de83b6e",
     "grade": false,
     "grade_id": "cell-9b0245844d72bf80",
     "locked": true,
     "schema_version": 3,
     "solution": false
    }
   },
   "outputs": [],
   "source": [
    "(x_train, y_train), (x_test, y_test) = tf.keras.datasets.boston_housing.load_data()"
   ]
  },
  {
   "cell_type": "code",
   "execution_count": 3,
   "metadata": {
    "ExecuteTime": {
     "end_time": "2020-10-15T05:48:16.647688Z",
     "start_time": "2020-10-15T05:48:16.639180Z"
    },
    "deletable": false,
    "editable": false,
    "nbgrader": {
     "cell_type": "code",
     "checksum": "3527a9c335ebfaef9a7e5705a051f3e7",
     "grade": false,
     "grade_id": "cell-e2de7844f2c7f49e",
     "locked": true,
     "schema_version": 3,
     "solution": false
    }
   },
   "outputs": [
    {
     "data": {
      "text/plain": [
       "(404, 13)"
      ]
     },
     "execution_count": 3,
     "metadata": {},
     "output_type": "execute_result"
    }
   ],
   "source": [
    "x_train.shape"
   ]
  },
  {
   "cell_type": "code",
   "execution_count": 4,
   "metadata": {
    "ExecuteTime": {
     "end_time": "2020-10-15T05:48:16.748274Z",
     "start_time": "2020-10-15T05:48:16.744771Z"
    },
    "deletable": false,
    "editable": false,
    "nbgrader": {
     "cell_type": "code",
     "checksum": "77b73fcd17ac138c678b9c355259bb7f",
     "grade": false,
     "grade_id": "cell-33b45d559f48738f",
     "locked": true,
     "schema_version": 3,
     "solution": false
    }
   },
   "outputs": [
    {
     "data": {
      "text/plain": [
       "(404,)"
      ]
     },
     "execution_count": 4,
     "metadata": {},
     "output_type": "execute_result"
    }
   ],
   "source": [
    "y_train.shape"
   ]
  },
  {
   "cell_type": "code",
   "execution_count": 5,
   "metadata": {
    "ExecuteTime": {
     "end_time": "2020-10-15T05:48:16.846358Z",
     "start_time": "2020-10-15T05:48:16.842854Z"
    },
    "deletable": false,
    "editable": false,
    "nbgrader": {
     "cell_type": "code",
     "checksum": "f8d293a6e2d86c0ca74af9b20b395d2a",
     "grade": false,
     "grade_id": "cell-831e0268417ab95a",
     "locked": true,
     "schema_version": 3,
     "solution": false
    }
   },
   "outputs": [
    {
     "data": {
      "text/plain": [
       "(22.395049504950492, 9.199035423364862)"
      ]
     },
     "execution_count": 5,
     "metadata": {},
     "output_type": "execute_result"
    }
   ],
   "source": [
    "y_train.mean(), y_train.std()"
   ]
  },
  {
   "cell_type": "markdown",
   "metadata": {
    "deletable": false,
    "editable": false,
    "nbgrader": {
     "cell_type": "markdown",
     "checksum": "014ebf37af531587765a98e35734641e",
     "grade": false,
     "grade_id": "cell-2f0fe3b3a560d952",
     "locked": true,
     "schema_version": 3,
     "solution": false
    }
   },
   "source": [
    "The keras model consists of multiple parts:\n",
    "\n",
    "1. Construct the model layers, neurons per layer, activation function\n",
    "1. Determine the loss function, metrics and optimization method\n",
    "1. Fit the model to some data\n",
    "1. Evaluate the model using the same metric\n",
    "\n",
    "Some relevant docs:\n",
    " - [initializers](https://keras.io/initializers/)\n",
    " - [loss functions](https://www.tensorflow.org/api_docs/python/tf/keras/losses)\n",
    " - [regularizations](https://keras.io/regularizers/)\n",
    " - [optimizers](https://keras.io/optimizers/)\n",
    " - [metrics](https://www.tensorflow.org/api_docs/python/tf/keras/metrics)\n"
   ]
  },
  {
   "cell_type": "markdown",
   "metadata": {
    "deletable": false,
    "editable": false,
    "nbgrader": {
     "cell_type": "markdown",
     "checksum": "f3dd5f5299a0c880478d542d5ac8cea0",
     "grade": false,
     "grade_id": "cell-cae21934fa064b47",
     "locked": true,
     "schema_version": 3,
     "solution": false
    }
   },
   "source": [
    "First, to construct a model, use the [Sequential](https://keras.io/getting-started/sequential-model-guide/) object. You can pass multiple layers to the sequential object. For this exercise, we will only be using the [Dense](https://keras.io/layers/core/#dense) layers."
   ]
  },
  {
   "cell_type": "code",
   "execution_count": 6,
   "metadata": {
    "ExecuteTime": {
     "end_time": "2020-10-15T05:48:18.137033Z",
     "start_time": "2020-10-15T05:48:16.941940Z"
    },
    "deletable": false,
    "nbgrader": {
     "cell_type": "code",
     "checksum": "30c401a9efed33c3b0c84047c730fd3a",
     "grade": false,
     "grade_id": "cell-51879de7032d8823",
     "locked": false,
     "schema_version": 3,
     "solution": true
    }
   },
   "outputs": [
    {
     "name": "stdout",
     "output_type": "stream",
     "text": [
      "WARNING:tensorflow:Layer layer1 is casting an input tensor from dtype float64 to the layer's dtype of float32, which is new behavior in TensorFlow 2.  The layer has dtype float32 because it's dtype defaults to floatx.\n",
      "\n",
      "If you intended to run this layer in float32, you can safely ignore this warning. If in doubt, this warning is likely only an issue if you are porting a TensorFlow 1.X model to TensorFlow 2.\n",
      "\n",
      "To change all layers to have dtype float64 by default, call `tf.keras.backend.set_floatx('float64')`. To change just this layer, pass dtype='float64' to the layer constructor. If you are the author of this layer, you can disable autocasting by passing autocast=False to the base Layer constructor.\n",
      "\n",
      "(10,)\n",
      "(10,)\n",
      "(10,)\n",
      "(1,)\n"
     ]
    }
   ],
   "source": [
    "# Create 3 hidden layers with 10 neurons each, and an output layer with 1 neuron. Store the layers\n",
    "# in a list with the variable name \"layers\". Pass the list to keras.Sequential and save the\n",
    "# retuned model to the variable name \"model\".\n",
    "#\n",
    "# Use any activation you like such as \"relu\" or \"tanh\", you can alternate for each layer\n",
    "# For your first run, try using the linear activation and then see if modifying the activations improved the result.\n",
    "# Optional - give each layer a name and see how that shows up in the summary.\n",
    "layers = [Dense(10, activation=\"relu\", name=\"layer1\"),\n",
    "          Dense(10, activation=\"relu\", name=\"layer2\"),\n",
    "          Dense(10, activation=\"relu\", name=\"layer3\"),\n",
    "          Dense(1, activation=\"relu\", name=\"layer4\")]\n",
    "\n",
    "model = keras.Sequential(layers)\n",
    "model(x_train)\n",
    "for i,layer in enumerate(layers):\n",
    "#     print(layers[i],layer)\n",
    "    print(layer.weights[1].shape)"
   ]
  },
  {
   "cell_type": "code",
   "execution_count": 7,
   "metadata": {
    "ExecuteTime": {
     "end_time": "2020-10-15T05:48:18.238620Z",
     "start_time": "2020-10-15T05:48:18.235117Z"
    },
    "deletable": false,
    "editable": false,
    "nbgrader": {
     "cell_type": "code",
     "checksum": "be513e95dd1be407b5869167910389cc",
     "grade": true,
     "grade_id": "cell-ee74eff075f222ed",
     "locked": true,
     "points": 5,
     "schema_version": 3,
     "solution": false
    }
   },
   "outputs": [],
   "source": [
    "assert isinstance(model, Sequential)\n",
    "assert len(layers) == 4\n",
    "for i,layer in enumerate(layers):\n",
    "    assert isinstance(layers[i], Dense) \n",
    "    assert layer.weights[1].shape == [10,10,10,1][i]"
   ]
  },
  {
   "cell_type": "markdown",
   "metadata": {},
   "source": [
    "In TensorFlow, models are \"compiled\" before training. Compiling specifies the type of optimizer (e.g., gradient descent) and loss function, and creates code that will run efficiently on your hardware during training and model prediction.\n",
    "\n",
    "Review the models' .compile() methods to create code in the cell below.\n",
    "https://www.tensorflow.org/api_docs/python/tf/keras/Model#compile\n"
   ]
  },
  {
   "cell_type": "code",
   "execution_count": 8,
   "metadata": {
    "ExecuteTime": {
     "end_time": "2020-10-15T05:48:18.368231Z",
     "start_time": "2020-10-15T05:48:18.363727Z"
    },
    "deletable": false,
    "nbgrader": {
     "cell_type": "code",
     "checksum": "32893448483c519b62e7ceb898272725",
     "grade": false,
     "grade_id": "cell-9c5dcca57115d02a",
     "locked": false,
     "schema_version": 3,
     "solution": true
    }
   },
   "outputs": [],
   "source": [
    "# Apply the model's .compile() method to set it up for training.\n",
    "\n",
    "# Set up the model to do the following:\n",
    "# - use stochastic gradient descent to fit the model\n",
    "# - use mean absolute error as its loss function\n",
    "# - use mean absolute error as one of its metrics\n",
    "# - use mean squared error as one of its metrics\n",
    "model.compile(optimizer=keras.optimizers.SGD(lr=0.01, decay=0.1, momentum=0.1, nesterov=False)\n",
    ", loss=\"mean_absolute_error\", metrics=[\"mse\",\"mae\"])"
   ]
  },
  {
   "cell_type": "code",
   "execution_count": 9,
   "metadata": {
    "ExecuteTime": {
     "end_time": "2020-10-15T05:48:18.474322Z",
     "start_time": "2020-10-15T05:48:18.471820Z"
    },
    "deletable": false,
    "editable": false,
    "nbgrader": {
     "cell_type": "code",
     "checksum": "7834482fb4dcda0fbfd736e59ef85ab7",
     "grade": true,
     "grade_id": "cell-0746e29c34118826",
     "locked": true,
     "points": 5,
     "schema_version": 3,
     "solution": false
    }
   },
   "outputs": [],
   "source": [
    "assert isinstance(model.optimizer, keras.optimizers.SGD)\n",
    "assert model.loss in [\"mae\", \"mean_absolute_error\"]"
   ]
  },
  {
   "cell_type": "code",
   "execution_count": 10,
   "metadata": {
    "ExecuteTime": {
     "end_time": "2020-10-15T05:48:21.073057Z",
     "start_time": "2020-10-15T05:48:18.573909Z"
    },
    "deletable": false,
    "editable": false,
    "nbgrader": {
     "cell_type": "code",
     "checksum": "dc613baef143a2dfc90e3ff7222be5e6",
     "grade": false,
     "grade_id": "cell-d8bbd77fa779d371",
     "locked": true,
     "schema_version": 3,
     "solution": false
    }
   },
   "outputs": [
    {
     "name": "stdout",
     "output_type": "stream",
     "text": [
      "Train on 404 samples\n",
      "Epoch 1/50\n",
      "404/404 [==============================] - 0s 964us/sample - loss: 22.3950 - mse: 586.1605 - mae: 22.3951\n",
      "Epoch 2/50\n",
      "404/404 [==============================] - 0s 100us/sample - loss: 22.3950 - mse: 586.1605 - mae: 22.3951\n",
      "Epoch 3/50\n",
      "404/404 [==============================] - 0s 98us/sample - loss: 22.3950 - mse: 586.1605 - mae: 22.3950\n",
      "Epoch 4/50\n",
      "404/404 [==============================] - 0s 95us/sample - loss: 22.3950 - mse: 586.1605 - mae: 22.3951\n",
      "Epoch 5/50\n",
      "404/404 [==============================] - 0s 95us/sample - loss: 22.3950 - mse: 586.1605 - mae: 22.3951\n",
      "Epoch 6/50\n",
      "404/404 [==============================] - 0s 99us/sample - loss: 22.3951 - mse: 586.1605 - mae: 22.3951\n",
      "Epoch 7/50\n",
      "404/404 [==============================] - 0s 103us/sample - loss: 22.3950 - mse: 586.1605 - mae: 22.3950\n",
      "Epoch 8/50\n",
      "404/404 [==============================] - 0s 105us/sample - loss: 22.3950 - mse: 586.1605 - mae: 22.3950\n",
      "Epoch 9/50\n",
      "404/404 [==============================] - 0s 99us/sample - loss: 22.3950 - mse: 586.1605 - mae: 22.3950\n",
      "Epoch 10/50\n",
      "404/404 [==============================] - 0s 97us/sample - loss: 22.3950 - mse: 586.1605 - mae: 22.3950\n",
      "Epoch 11/50\n",
      "404/404 [==============================] - 0s 98us/sample - loss: 22.3950 - mse: 586.1605 - mae: 22.3951\n",
      "Epoch 12/50\n",
      "404/404 [==============================] - 0s 100us/sample - loss: 22.3950 - mse: 586.1605 - mae: 22.3950\n",
      "Epoch 13/50\n",
      "404/404 [==============================] - 0s 92us/sample - loss: 22.3950 - mse: 586.1605 - mae: 22.3951\n",
      "Epoch 14/50\n",
      "404/404 [==============================] - 0s 97us/sample - loss: 22.3950 - mse: 586.1605 - mae: 22.3951\n",
      "Epoch 15/50\n",
      "404/404 [==============================] - 0s 108us/sample - loss: 22.3950 - mse: 586.1605 - mae: 22.3951\n",
      "Epoch 16/50\n",
      "404/404 [==============================] - 0s 103us/sample - loss: 22.3950 - mse: 586.1605 - mae: 22.3951\n",
      "Epoch 17/50\n",
      "404/404 [==============================] - 0s 102us/sample - loss: 22.3950 - mse: 586.1604 - mae: 22.3950\n",
      "Epoch 18/50\n",
      "404/404 [==============================] - 0s 98us/sample - loss: 22.3950 - mse: 586.1605 - mae: 22.3950\n",
      "Epoch 19/50\n",
      "404/404 [==============================] - 0s 97us/sample - loss: 22.3950 - mse: 586.1605 - mae: 22.3950\n",
      "Epoch 20/50\n",
      "404/404 [==============================] - 0s 94us/sample - loss: 22.3950 - mse: 586.1605 - mae: 22.3950\n",
      "Epoch 21/50\n",
      "404/404 [==============================] - 0s 97us/sample - loss: 22.3950 - mse: 586.1605 - mae: 22.3951\n",
      "Epoch 22/50\n",
      "404/404 [==============================] - 0s 99us/sample - loss: 22.3950 - mse: 586.1604 - mae: 22.3950\n",
      "Epoch 23/50\n",
      "404/404 [==============================] - 0s 99us/sample - loss: 22.3950 - mse: 586.1605 - mae: 22.3950\n",
      "Epoch 24/50\n",
      "404/404 [==============================] - 0s 94us/sample - loss: 22.3950 - mse: 586.1605 - mae: 22.3950\n",
      "Epoch 25/50\n",
      "404/404 [==============================] - 0s 95us/sample - loss: 22.3950 - mse: 586.1605 - mae: 22.3950\n",
      "Epoch 26/50\n",
      "404/404 [==============================] - 0s 97us/sample - loss: 22.3950 - mse: 586.1605 - mae: 22.3950\n",
      "Epoch 27/50\n",
      "404/404 [==============================] - 0s 93us/sample - loss: 22.3950 - mse: 586.1606 - mae: 22.3950\n",
      "Epoch 28/50\n",
      "404/404 [==============================] - 0s 108us/sample - loss: 22.3950 - mse: 586.1605 - mae: 22.3950\n",
      "Epoch 29/50\n",
      "404/404 [==============================] - 0s 95us/sample - loss: 22.3950 - mse: 586.1605 - mae: 22.3950\n",
      "Epoch 30/50\n",
      "404/404 [==============================] - 0s 98us/sample - loss: 22.3950 - mse: 586.1605 - mae: 22.3951\n",
      "Epoch 31/50\n",
      "404/404 [==============================] - 0s 94us/sample - loss: 22.3950 - mse: 586.1605 - mae: 22.3950\n",
      "Epoch 32/50\n",
      "404/404 [==============================] - 0s 95us/sample - loss: 22.3950 - mse: 586.1605 - mae: 22.3950\n",
      "Epoch 33/50\n",
      "404/404 [==============================] - 0s 100us/sample - loss: 22.3950 - mse: 586.1605 - mae: 22.3950\n",
      "Epoch 34/50\n",
      "404/404 [==============================] - 0s 97us/sample - loss: 22.3950 - mse: 586.1605 - mae: 22.3950\n",
      "Epoch 35/50\n",
      "404/404 [==============================] - 0s 97us/sample - loss: 22.3950 - mse: 586.1605 - mae: 22.3950\n",
      "Epoch 36/50\n",
      "404/404 [==============================] - 0s 100us/sample - loss: 22.3950 - mse: 586.1605 - mae: 22.3950\n",
      "Epoch 37/50\n",
      "404/404 [==============================] - 0s 94us/sample - loss: 22.3950 - mse: 586.1605 - mae: 22.3951\n",
      "Epoch 38/50\n",
      "404/404 [==============================] - 0s 104us/sample - loss: 22.3950 - mse: 586.1605 - mae: 22.3951\n",
      "Epoch 39/50\n",
      "404/404 [==============================] - 0s 102us/sample - loss: 22.3950 - mse: 586.1605 - mae: 22.3950\n",
      "Epoch 40/50\n",
      "404/404 [==============================] - 0s 102us/sample - loss: 22.3950 - mse: 586.1606 - mae: 22.3951\n",
      "Epoch 41/50\n",
      "404/404 [==============================] - 0s 95us/sample - loss: 22.3950 - mse: 586.1605 - mae: 22.3950\n",
      "Epoch 42/50\n",
      "404/404 [==============================] - 0s 98us/sample - loss: 22.3950 - mse: 586.1605 - mae: 22.3951\n",
      "Epoch 43/50\n",
      "404/404 [==============================] - 0s 94us/sample - loss: 22.3950 - mse: 586.1605 - mae: 22.3950\n",
      "Epoch 44/50\n",
      "404/404 [==============================] - 0s 97us/sample - loss: 22.3950 - mse: 586.1606 - mae: 22.3950\n",
      "Epoch 45/50\n",
      "404/404 [==============================] - 0s 93us/sample - loss: 22.3950 - mse: 586.1605 - mae: 22.3951\n",
      "Epoch 46/50\n",
      "404/404 [==============================] - 0s 93us/sample - loss: 22.3950 - mse: 586.1605 - mae: 22.3950\n",
      "Epoch 47/50\n",
      "404/404 [==============================] - 0s 95us/sample - loss: 22.3950 - mse: 586.1605 - mae: 22.3950\n",
      "Epoch 48/50\n",
      "404/404 [==============================] - 0s 97us/sample - loss: 22.3950 - mse: 586.1605 - mae: 22.3950\n",
      "Epoch 49/50\n",
      "404/404 [==============================] - 0s 103us/sample - loss: 22.3950 - mse: 586.1605 - mae: 22.3950\n",
      "Epoch 50/50\n",
      "404/404 [==============================] - 0s 94us/sample - loss: 22.3950 - mse: 586.1605 - mae: 22.3950\n"
     ]
    },
    {
     "data": {
      "text/plain": [
       "<tensorflow.python.keras.callbacks.History at 0x1a6e2558b70>"
      ]
     },
     "execution_count": 10,
     "metadata": {},
     "output_type": "execute_result"
    }
   ],
   "source": [
    "# Now fit the model\n",
    "model.fit(x_train, y_train, epochs=50)"
   ]
  },
  {
   "cell_type": "code",
   "execution_count": 11,
   "metadata": {
    "ExecuteTime": {
     "end_time": "2020-10-15T05:48:21.173644Z",
     "start_time": "2020-10-15T05:48:21.170141Z"
    }
   },
   "outputs": [
    {
     "name": "stdout",
     "output_type": "stream",
     "text": [
      "Model: \"sequential\"\n",
      "_________________________________________________________________\n",
      "Layer (type)                 Output Shape              Param #   \n",
      "=================================================================\n",
      "layer1 (Dense)               multiple                  140       \n",
      "_________________________________________________________________\n",
      "layer2 (Dense)               multiple                  110       \n",
      "_________________________________________________________________\n",
      "layer3 (Dense)               multiple                  110       \n",
      "_________________________________________________________________\n",
      "layer4 (Dense)               multiple                  11        \n",
      "=================================================================\n",
      "Total params: 371\n",
      "Trainable params: 371\n",
      "Non-trainable params: 0\n",
      "_________________________________________________________________\n"
     ]
    }
   ],
   "source": [
    "model.summary()"
   ]
  },
  {
   "cell_type": "code",
   "execution_count": 12,
   "metadata": {
    "ExecuteTime": {
     "end_time": "2020-10-15T05:48:21.404843Z",
     "start_time": "2020-10-15T05:48:21.269726Z"
    },
    "deletable": false,
    "editable": false,
    "nbgrader": {
     "cell_type": "code",
     "checksum": "5979703b794f01a2821f23e974076f93",
     "grade": false,
     "grade_id": "cell-d280c00c6cabc586",
     "locked": true,
     "schema_version": 3,
     "solution": false
    }
   },
   "outputs": [
    {
     "name": "stdout",
     "output_type": "stream",
     "text": [
      "102/102 [==============================] - 0s 962us/sample - loss: 23.0784 - mse: 615.8578 - mae: 23.0784\n"
     ]
    },
    {
     "data": {
      "text/plain": [
       "[23.078431858735925, 615.85785, 23.078432]"
      ]
     },
     "execution_count": 12,
     "metadata": {},
     "output_type": "execute_result"
    }
   ],
   "source": [
    "# Here we can evaluate how our model does based on the test data\n",
    "model.evaluate(x_test, y_test)"
   ]
  },
  {
   "cell_type": "markdown",
   "metadata": {
    "deletable": false,
    "editable": false,
    "nbgrader": {
     "cell_type": "markdown",
     "checksum": "326bc26a2d582914d7afc0a6aef3f52a",
     "grade": false,
     "grade_id": "cell-f88eeeebe2137b4d",
     "locked": true,
     "schema_version": 3,
     "solution": false
    }
   },
   "source": [
    "Now let's try another optimizer instead of stochastic gradient descent (SGD). [Adam](https://keras.io/optimizers/#adam) is the recommended default for training neural networks since it usually performs quite well. In the next cell, compile the model with Adam instead of SGD and use the same loss and metrics. After compiling, fit the data for as many epochs as you think it takes to see the value start to converge."
   ]
  },
  {
   "cell_type": "code",
   "execution_count": 13,
   "metadata": {
    "ExecuteTime": {
     "end_time": "2020-10-15T05:48:21.627534Z",
     "start_time": "2020-10-15T05:48:21.579994Z"
    },
    "deletable": false,
    "nbgrader": {
     "cell_type": "code",
     "checksum": "ebe7f5ae7c9c23c466944038b6a4ff39",
     "grade": false,
     "grade_id": "cell-bee688f3d919be61",
     "locked": false,
     "schema_version": 3,
     "solution": true
    }
   },
   "outputs": [],
   "source": [
    "# Compile the model using Adam\n",
    "model.compile(optimizer=keras.optimizers.Adam(), loss=\"mean_absolute_error\", metrics=[\"mse\",\"mae\"])"
   ]
  },
  {
   "cell_type": "code",
   "execution_count": 14,
   "metadata": {
    "ExecuteTime": {
     "end_time": "2020-10-15T05:48:21.727620Z",
     "start_time": "2020-10-15T05:48:21.724617Z"
    }
   },
   "outputs": [
    {
     "name": "stdout",
     "output_type": "stream",
     "text": [
      "Model: \"sequential\"\n",
      "_________________________________________________________________\n",
      "Layer (type)                 Output Shape              Param #   \n",
      "=================================================================\n",
      "layer1 (Dense)               multiple                  140       \n",
      "_________________________________________________________________\n",
      "layer2 (Dense)               multiple                  110       \n",
      "_________________________________________________________________\n",
      "layer3 (Dense)               multiple                  110       \n",
      "_________________________________________________________________\n",
      "layer4 (Dense)               multiple                  11        \n",
      "=================================================================\n",
      "Total params: 371\n",
      "Trainable params: 371\n",
      "Non-trainable params: 0\n",
      "_________________________________________________________________\n"
     ]
    }
   ],
   "source": [
    "model.summary()"
   ]
  },
  {
   "cell_type": "code",
   "execution_count": 15,
   "metadata": {
    "ExecuteTime": {
     "end_time": "2020-10-15T05:48:21.826205Z",
     "start_time": "2020-10-15T05:48:21.823703Z"
    },
    "deletable": false,
    "editable": false,
    "nbgrader": {
     "cell_type": "code",
     "checksum": "526079ba3785fa572cc21eb9fd5fb7af",
     "grade": true,
     "grade_id": "cell-fe8cd91b8b780964",
     "locked": true,
     "points": 5,
     "schema_version": 3,
     "solution": false
    }
   },
   "outputs": [],
   "source": [
    "assert isinstance(model.optimizer, keras.optimizers.Adam)\n",
    "assert model.loss in [\"mae\", \"mean_absolute_error\"]"
   ]
  },
  {
   "cell_type": "code",
   "execution_count": 16,
   "metadata": {
    "ExecuteTime": {
     "end_time": "2020-10-15T05:48:22.059906Z",
     "start_time": "2020-10-15T05:48:21.923288Z"
    },
    "deletable": false,
    "editable": false,
    "nbgrader": {
     "cell_type": "code",
     "checksum": "7c0fd9f800dd0097d1fc6f8f231066ff",
     "grade": false,
     "grade_id": "cell-d5b63d6e873e152e",
     "locked": true,
     "schema_version": 3,
     "solution": false
    }
   },
   "outputs": [
    {
     "name": "stdout",
     "output_type": "stream",
     "text": [
      "102/102 [==============================] - 0s 981us/sample - loss: 23.0784 - mse: 615.8578 - mae: 23.0784\n"
     ]
    },
    {
     "data": {
      "text/plain": [
       "[23.078431858735925, 615.85785, 23.078432]"
      ]
     },
     "execution_count": 16,
     "metadata": {},
     "output_type": "execute_result"
    }
   ],
   "source": [
    "model.evaluate(x_test, y_test)"
   ]
  },
  {
   "cell_type": "markdown",
   "metadata": {
    "deletable": false,
    "editable": false,
    "nbgrader": {
     "cell_type": "markdown",
     "checksum": "6259b7620b4b9cdb901c2488bd8ca929",
     "grade": false,
     "grade_id": "cell-9ce06e7b86737575",
     "locked": true,
     "schema_version": 3,
     "solution": false
    }
   },
   "source": [
    "Now recreate the model with dropout layers. Add two dropout layers, one after the first layers of neurons and one after the second layer of neurons.\n",
    "You may use your existing ```layers``` list and insert the new layers, or create a new list of layers from scratch. Then construct the model as before.\n",
    "Select a low value of dropout (say, <0.1) that results in a good score."
   ]
  },
  {
   "cell_type": "code",
   "execution_count": 17,
   "metadata": {
    "ExecuteTime": {
     "end_time": "2020-10-15T05:48:22.257036Z",
     "start_time": "2020-10-15T05:48:22.169000Z"
    },
    "deletable": false,
    "nbgrader": {
     "cell_type": "code",
     "checksum": "ca42da446de9cd5ef51379f0974f9f3b",
     "grade": false,
     "grade_id": "cell-d5040e44398f8dc9",
     "locked": false,
     "schema_version": 3,
     "solution": true
    }
   },
   "outputs": [
    {
     "name": "stdout",
     "output_type": "stream",
     "text": [
      "WARNING:tensorflow:Layer layer1 is casting an input tensor from dtype float64 to the layer's dtype of float32, which is new behavior in TensorFlow 2.  The layer has dtype float32 because it's dtype defaults to floatx.\n",
      "\n",
      "If you intended to run this layer in float32, you can safely ignore this warning. If in doubt, this warning is likely only an issue if you are porting a TensorFlow 1.X model to TensorFlow 2.\n",
      "\n",
      "To change all layers to have dtype float64 by default, call `tf.keras.backend.set_floatx('float64')`. To change just this layer, pass dtype='float64' to the layer constructor. If you are the author of this layer, you can disable autocasting by passing autocast=False to the base Layer constructor.\n",
      "\n"
     ]
    },
    {
     "data": {
      "text/plain": [
       "<tf.Tensor: shape=(404, 1), dtype=float32, numpy=\n",
       "array([[130.6957  ],\n",
       "       [168.63713 ],\n",
       "       [165.18417 ],\n",
       "       [145.94055 ],\n",
       "       [170.25288 ],\n",
       "       [132.74767 ],\n",
       "       [167.24586 ],\n",
       "       [138.58144 ],\n",
       "       [ 68.58473 ],\n",
       "       [139.48859 ],\n",
       "       [161.37491 ],\n",
       "       [ 78.31757 ],\n",
       "       [130.61954 ],\n",
       "       [156.80132 ],\n",
       "       [100.35418 ],\n",
       "       [ 80.00346 ],\n",
       "       [171.00623 ],\n",
       "       [156.01291 ],\n",
       "       [159.47679 ],\n",
       "       [144.31496 ],\n",
       "       [ 77.44929 ],\n",
       "       [163.79352 ],\n",
       "       [169.35793 ],\n",
       "       [143.93953 ],\n",
       "       [134.30322 ],\n",
       "       [167.94176 ],\n",
       "       [141.99411 ],\n",
       "       [136.19011 ],\n",
       "       [126.65402 ],\n",
       "       [145.55968 ],\n",
       "       [154.89601 ],\n",
       "       [166.86102 ],\n",
       "       [133.03238 ],\n",
       "       [148.90349 ],\n",
       "       [166.30655 ],\n",
       "       [149.82993 ],\n",
       "       [104.75838 ],\n",
       "       [119.79863 ],\n",
       "       [145.97629 ],\n",
       "       [139.83316 ],\n",
       "       [172.46596 ],\n",
       "       [157.53668 ],\n",
       "       [142.68831 ],\n",
       "       [144.42117 ],\n",
       "       [170.04776 ],\n",
       "       [129.71204 ],\n",
       "       [142.53128 ],\n",
       "       [129.41034 ],\n",
       "       [127.60396 ],\n",
       "       [168.6835  ],\n",
       "       [135.84421 ],\n",
       "       [ 77.98187 ],\n",
       "       [138.55544 ],\n",
       "       [151.59737 ],\n",
       "       [127.12248 ],\n",
       "       [124.21055 ],\n",
       "       [ 82.72703 ],\n",
       "       [ 83.731895],\n",
       "       [154.03078 ],\n",
       "       [150.11417 ],\n",
       "       [114.368256],\n",
       "       [140.24236 ],\n",
       "       [163.83081 ],\n",
       "       [139.83287 ],\n",
       "       [ 79.394714],\n",
       "       [ 84.418304],\n",
       "       [101.34036 ],\n",
       "       [167.42728 ],\n",
       "       [151.80528 ],\n",
       "       [124.39405 ],\n",
       "       [146.37662 ],\n",
       "       [ 85.66732 ],\n",
       "       [163.4111  ],\n",
       "       [130.83418 ],\n",
       "       [ 83.82155 ],\n",
       "       [126.413506],\n",
       "       [ 76.065414],\n",
       "       [144.43298 ],\n",
       "       [128.45988 ],\n",
       "       [138.57864 ],\n",
       "       [154.0888  ],\n",
       "       [146.63536 ],\n",
       "       [111.65249 ],\n",
       "       [158.11717 ],\n",
       "       [141.9245  ],\n",
       "       [142.17545 ],\n",
       "       [169.0863  ],\n",
       "       [161.87187 ],\n",
       "       [137.17358 ],\n",
       "       [ 74.50356 ],\n",
       "       [175.3208  ],\n",
       "       [161.59935 ],\n",
       "       [149.08286 ],\n",
       "       [123.16212 ],\n",
       "       [134.82253 ],\n",
       "       [139.17767 ],\n",
       "       [173.04271 ],\n",
       "       [142.13698 ],\n",
       "       [165.51021 ],\n",
       "       [134.97604 ],\n",
       "       [139.12991 ],\n",
       "       [137.29683 ],\n",
       "       [142.24318 ],\n",
       "       [156.87094 ],\n",
       "       [ 78.12977 ],\n",
       "       [162.31213 ],\n",
       "       [137.86423 ],\n",
       "       [141.48387 ],\n",
       "       [ 74.14666 ],\n",
       "       [123.90518 ],\n",
       "       [139.33768 ],\n",
       "       [135.86679 ],\n",
       "       [149.25708 ],\n",
       "       [144.72124 ],\n",
       "       [161.85825 ],\n",
       "       [138.06743 ],\n",
       "       [145.70958 ],\n",
       "       [133.64651 ],\n",
       "       [130.44667 ],\n",
       "       [157.89096 ],\n",
       "       [137.192   ],\n",
       "       [137.10461 ],\n",
       "       [ 76.34884 ],\n",
       "       [158.57474 ],\n",
       "       [169.71426 ],\n",
       "       [ 80.3449  ],\n",
       "       [148.40561 ],\n",
       "       [159.8575  ],\n",
       "       [129.3528  ],\n",
       "       [153.73273 ],\n",
       "       [145.71332 ],\n",
       "       [150.71086 ],\n",
       "       [132.7908  ],\n",
       "       [159.97154 ],\n",
       "       [153.7893  ],\n",
       "       [109.82145 ],\n",
       "       [167.90656 ],\n",
       "       [133.1991  ],\n",
       "       [150.27524 ],\n",
       "       [163.09053 ],\n",
       "       [116.14444 ],\n",
       "       [140.08595 ],\n",
       "       [170.796   ],\n",
       "       [145.22705 ],\n",
       "       [127.428185],\n",
       "       [142.52753 ],\n",
       "       [151.15361 ],\n",
       "       [172.60295 ],\n",
       "       [ 78.90262 ],\n",
       "       [157.23952 ],\n",
       "       [ 74.735855],\n",
       "       [153.73116 ],\n",
       "       [133.34283 ],\n",
       "       [130.7692  ],\n",
       "       [154.63828 ],\n",
       "       [124.130554],\n",
       "       [147.80266 ],\n",
       "       [154.17421 ],\n",
       "       [ 89.57284 ],\n",
       "       [139.29805 ],\n",
       "       [136.46791 ],\n",
       "       [129.26367 ],\n",
       "       [128.96954 ],\n",
       "       [142.25623 ],\n",
       "       [163.17906 ],\n",
       "       [149.24037 ],\n",
       "       [144.59128 ],\n",
       "       [156.18599 ],\n",
       "       [154.94434 ],\n",
       "       [169.56664 ],\n",
       "       [144.89467 ],\n",
       "       [133.14224 ],\n",
       "       [177.56909 ],\n",
       "       [159.31367 ],\n",
       "       [148.21985 ],\n",
       "       [143.56476 ],\n",
       "       [ 78.49663 ],\n",
       "       [154.16135 ],\n",
       "       [ 67.10547 ],\n",
       "       [144.13007 ],\n",
       "       [168.57689 ],\n",
       "       [136.11803 ],\n",
       "       [130.5322  ],\n",
       "       [161.80034 ],\n",
       "       [155.79608 ],\n",
       "       [132.14925 ],\n",
       "       [148.7116  ],\n",
       "       [131.69035 ],\n",
       "       [139.39049 ],\n",
       "       [126.20285 ],\n",
       "       [104.83726 ],\n",
       "       [129.94847 ],\n",
       "       [137.43391 ],\n",
       "       [140.13547 ],\n",
       "       [143.51024 ],\n",
       "       [122.85603 ],\n",
       "       [165.77843 ],\n",
       "       [167.83829 ],\n",
       "       [158.14014 ],\n",
       "       [137.12679 ],\n",
       "       [141.83725 ],\n",
       "       [138.40688 ],\n",
       "       [147.9464  ],\n",
       "       [141.67694 ],\n",
       "       [131.32568 ],\n",
       "       [169.63873 ],\n",
       "       [ 74.93284 ],\n",
       "       [147.26929 ],\n",
       "       [131.76784 ],\n",
       "       [150.7856  ],\n",
       "       [117.046394],\n",
       "       [ 75.73603 ],\n",
       "       [157.94269 ],\n",
       "       [111.31208 ],\n",
       "       [167.02434 ],\n",
       "       [156.56856 ],\n",
       "       [148.40314 ],\n",
       "       [138.785   ],\n",
       "       [132.69617 ],\n",
       "       [133.1673  ],\n",
       "       [162.39778 ],\n",
       "       [168.16177 ],\n",
       "       [148.65283 ],\n",
       "       [143.1367  ],\n",
       "       [166.57303 ],\n",
       "       [141.22302 ],\n",
       "       [163.05046 ],\n",
       "       [177.25851 ],\n",
       "       [129.56348 ],\n",
       "       [160.39189 ],\n",
       "       [160.2797  ],\n",
       "       [142.8696  ],\n",
       "       [140.21211 ],\n",
       "       [135.33247 ],\n",
       "       [147.63638 ],\n",
       "       [136.03566 ],\n",
       "       [ 56.200603],\n",
       "       [ 75.62901 ],\n",
       "       [172.01878 ],\n",
       "       [169.8381  ],\n",
       "       [127.61391 ],\n",
       "       [166.05356 ],\n",
       "       [135.01611 ],\n",
       "       [146.4034  ],\n",
       "       [130.55727 ],\n",
       "       [140.71944 ],\n",
       "       [148.29497 ],\n",
       "       [166.33601 ],\n",
       "       [165.37018 ],\n",
       "       [165.90047 ],\n",
       "       [119.51646 ],\n",
       "       [121.94253 ],\n",
       "       [166.52235 ],\n",
       "       [157.84872 ],\n",
       "       [108.84827 ],\n",
       "       [118.113556],\n",
       "       [143.74211 ],\n",
       "       [135.58984 ],\n",
       "       [140.87871 ],\n",
       "       [163.07434 ],\n",
       "       [136.61386 ],\n",
       "       [126.83407 ],\n",
       "       [145.39285 ],\n",
       "       [159.72    ],\n",
       "       [132.43498 ],\n",
       "       [144.18353 ],\n",
       "       [109.42074 ],\n",
       "       [159.22212 ],\n",
       "       [137.2596  ],\n",
       "       [156.73991 ],\n",
       "       [ 56.465668],\n",
       "       [155.0349  ],\n",
       "       [140.31827 ],\n",
       "       [178.31943 ],\n",
       "       [149.94888 ],\n",
       "       [145.24768 ],\n",
       "       [129.40257 ],\n",
       "       [159.72858 ],\n",
       "       [151.61475 ],\n",
       "       [120.97798 ],\n",
       "       [131.90048 ],\n",
       "       [120.9327  ],\n",
       "       [168.89241 ],\n",
       "       [155.8508  ],\n",
       "       [ 80.981026],\n",
       "       [164.57881 ],\n",
       "       [165.89603 ],\n",
       "       [ 85.39246 ],\n",
       "       [165.37193 ],\n",
       "       [134.14674 ],\n",
       "       [160.62953 ],\n",
       "       [ 84.34414 ],\n",
       "       [139.76108 ],\n",
       "       [132.27151 ],\n",
       "       [115.04001 ],\n",
       "       [139.57565 ],\n",
       "       [129.29305 ],\n",
       "       [167.14015 ],\n",
       "       [157.09712 ],\n",
       "       [118.28313 ],\n",
       "       [145.7332  ],\n",
       "       [104.32212 ],\n",
       "       [168.13414 ],\n",
       "       [130.4146  ],\n",
       "       [144.39546 ],\n",
       "       [130.33385 ],\n",
       "       [163.10826 ],\n",
       "       [182.23395 ],\n",
       "       [146.78134 ],\n",
       "       [160.93987 ],\n",
       "       [156.28041 ],\n",
       "       [162.23741 ],\n",
       "       [158.57462 ],\n",
       "       [ 76.633156],\n",
       "       [135.40215 ],\n",
       "       [144.77277 ],\n",
       "       [145.12221 ],\n",
       "       [133.29515 ],\n",
       "       [161.69012 ],\n",
       "       [173.3042  ],\n",
       "       [140.78741 ],\n",
       "       [157.31798 ],\n",
       "       [137.7754  ],\n",
       "       [166.22302 ],\n",
       "       [141.70308 ],\n",
       "       [133.55937 ],\n",
       "       [142.00996 ],\n",
       "       [139.93597 ],\n",
       "       [155.56012 ],\n",
       "       [152.3255  ],\n",
       "       [142.09097 ],\n",
       "       [174.10919 ],\n",
       "       [150.48746 ],\n",
       "       [154.35123 ],\n",
       "       [157.94684 ],\n",
       "       [140.4265  ],\n",
       "       [134.76945 ],\n",
       "       [151.18028 ],\n",
       "       [168.76112 ],\n",
       "       [146.84827 ],\n",
       "       [142.44977 ],\n",
       "       [148.27422 ],\n",
       "       [129.41983 ],\n",
       "       [137.47363 ],\n",
       "       [142.63036 ],\n",
       "       [139.11613 ],\n",
       "       [153.93794 ],\n",
       "       [158.71881 ],\n",
       "       [134.69666 ],\n",
       "       [163.34392 ],\n",
       "       [143.31479 ],\n",
       "       [150.5853  ],\n",
       "       [167.88689 ],\n",
       "       [164.21513 ],\n",
       "       [165.71596 ],\n",
       "       [157.56076 ],\n",
       "       [157.64235 ],\n",
       "       [157.68906 ],\n",
       "       [155.90361 ],\n",
       "       [148.54005 ],\n",
       "       [144.27464 ],\n",
       "       [149.4024  ],\n",
       "       [136.16103 ],\n",
       "       [139.74    ],\n",
       "       [160.94044 ],\n",
       "       [130.53362 ],\n",
       "       [150.45735 ],\n",
       "       [126.66038 ],\n",
       "       [155.54704 ],\n",
       "       [ 76.61352 ],\n",
       "       [132.0102  ],\n",
       "       [130.29929 ],\n",
       "       [136.00725 ],\n",
       "       [134.74292 ],\n",
       "       [129.33653 ],\n",
       "       [133.37463 ],\n",
       "       [135.08476 ],\n",
       "       [126.224075],\n",
       "       [158.96622 ],\n",
       "       [159.67117 ],\n",
       "       [145.74126 ],\n",
       "       [139.08891 ],\n",
       "       [143.29462 ],\n",
       "       [145.16162 ],\n",
       "       [145.75772 ],\n",
       "       [150.49149 ],\n",
       "       [167.05879 ],\n",
       "       [146.8282  ],\n",
       "       [138.64143 ],\n",
       "       [141.38876 ],\n",
       "       [ 87.761986],\n",
       "       [134.0898  ],\n",
       "       [153.64102 ],\n",
       "       [172.84683 ],\n",
       "       [163.29187 ],\n",
       "       [ 85.251114],\n",
       "       [ 79.14695 ],\n",
       "       [142.63864 ],\n",
       "       [163.80243 ],\n",
       "       [133.27713 ],\n",
       "       [158.59421 ],\n",
       "       [145.21225 ],\n",
       "       [ 98.556114],\n",
       "       [155.86652 ]], dtype=float32)>"
      ]
     },
     "execution_count": 17,
     "metadata": {},
     "output_type": "execute_result"
    }
   ],
   "source": [
    "# YOUR CODE HERE\n",
    "layers = [Dense(10, activation=\"relu\", name=\"layer1\"),\n",
    "          Dropout(0.05, input_shape=(10,)),\n",
    "          Dense(10, activation=\"relu\", name=\"layer2\"),\n",
    "          Dropout(0.05, input_shape=(10,)),\n",
    "          Dense(10, activation=\"relu\", name=\"layer3\"),\n",
    "          Dense(1, activation=\"relu\", name=\"layer4\")]\n",
    "\n",
    "model = keras.Sequential(layers)\n",
    "model(x_train)\n"
   ]
  },
  {
   "cell_type": "code",
   "execution_count": 18,
   "metadata": {
    "ExecuteTime": {
     "end_time": "2020-10-15T05:48:22.359626Z",
     "start_time": "2020-10-15T05:48:22.355621Z"
    },
    "deletable": false,
    "editable": false,
    "nbgrader": {
     "cell_type": "code",
     "checksum": "721a17ce3e9c60bb177460e91fb5dbf9",
     "grade": true,
     "grade_id": "cell-b6c7e6e2ddc6742a",
     "locked": true,
     "points": 5,
     "schema_version": 3,
     "solution": false
    }
   },
   "outputs": [],
   "source": [
    "assert len(layers) == 6\n",
    "assert isinstance(layers[1], Dropout)\n",
    "assert isinstance(layers[3], Dropout)\n",
    "for i,layer in enumerate(layers):\n",
    "    if i not in [1,3]:\n",
    "        assert isinstance(layers[i], keras.layers.Dense) \n",
    "        assert layer.weights[1].shape == [10,0,10,0,10,1][i]"
   ]
  },
  {
   "cell_type": "code",
   "execution_count": 19,
   "metadata": {
    "ExecuteTime": {
     "end_time": "2020-10-15T05:48:40.620827Z",
     "start_time": "2020-10-15T05:48:22.459210Z"
    },
    "deletable": false,
    "editable": false,
    "nbgrader": {
     "cell_type": "code",
     "checksum": "f9966c8415ea47dd929702ca4e9e962d",
     "grade": false,
     "grade_id": "cell-6179f8d29fe18a67",
     "locked": true,
     "schema_version": 3,
     "solution": false
    }
   },
   "outputs": [
    {
     "name": "stdout",
     "output_type": "stream",
     "text": [
      "Model: \"sequential_1\"\n",
      "_________________________________________________________________\n",
      "Layer (type)                 Output Shape              Param #   \n",
      "=================================================================\n",
      "layer1 (Dense)               multiple                  140       \n",
      "_________________________________________________________________\n",
      "dropout (Dropout)            multiple                  0         \n",
      "_________________________________________________________________\n",
      "layer2 (Dense)               multiple                  110       \n",
      "_________________________________________________________________\n",
      "dropout_1 (Dropout)          multiple                  0         \n",
      "_________________________________________________________________\n",
      "layer3 (Dense)               multiple                  110       \n",
      "_________________________________________________________________\n",
      "layer4 (Dense)               multiple                  11        \n",
      "=================================================================\n",
      "Total params: 371\n",
      "Trainable params: 371\n",
      "Non-trainable params: 0\n",
      "_________________________________________________________________\n"
     ]
    }
   ],
   "source": [
    "model.compile(optimizer='adam', loss='mae', metrics=['mae', \"mse\"])\n",
    "model.fit(x_train, y_train, epochs=500, verbose=0)\n",
    "model.summary()"
   ]
  },
  {
   "cell_type": "code",
   "execution_count": 20,
   "metadata": {
    "ExecuteTime": {
     "end_time": "2020-10-15T05:48:40.871043Z",
     "start_time": "2020-10-15T05:48:40.732424Z"
    },
    "deletable": false,
    "editable": false,
    "nbgrader": {
     "cell_type": "code",
     "checksum": "fb0913cba0c0963d9bbea2016ac4f5b3",
     "grade": false,
     "grade_id": "cell-9ed3ec168ee4a1e5",
     "locked": true,
     "schema_version": 3,
     "solution": false
    }
   },
   "outputs": [
    {
     "name": "stdout",
     "output_type": "stream",
     "text": [
      "102/102 [==============================] - 0s 991us/sample - loss: 4.0194 - mae: 4.0194 - mse: 32.3118\n"
     ]
    },
    {
     "data": {
      "text/plain": [
       "[4.0194425302393295, 4.0194426, 32.31184]"
      ]
     },
     "execution_count": 20,
     "metadata": {},
     "output_type": "execute_result"
    }
   ],
   "source": [
    "model.evaluate(x_test, y_test)"
   ]
  },
  {
   "cell_type": "markdown",
   "metadata": {
    "deletable": false,
    "editable": false,
    "nbgrader": {
     "cell_type": "markdown",
     "checksum": "92cd81b54e6431d104554eef1db546f4",
     "grade": false,
     "grade_id": "cell-06909b3cd0248748",
     "locked": true,
     "schema_version": 3,
     "solution": false
    }
   },
   "source": [
    "Select a dropout rate that gets an okay score."
   ]
  },
  {
   "cell_type": "code",
   "execution_count": 21,
   "metadata": {
    "ExecuteTime": {
     "end_time": "2020-10-15T05:48:41.012164Z",
     "start_time": "2020-10-15T05:48:40.968127Z"
    },
    "deletable": false,
    "editable": false,
    "nbgrader": {
     "cell_type": "code",
     "checksum": "481af2c92de02457e006cf2856c16c17",
     "grade": true,
     "grade_id": "cell-538bede4947fe364",
     "locked": true,
     "points": 0,
     "schema_version": 3,
     "solution": false
    }
   },
   "outputs": [
    {
     "name": "stdout",
     "output_type": "stream",
     "text": [
      "102/102 [==============================] - 0s 103us/sample - loss: 4.0194 - mae: 4.0194 - mse: 32.3118\n"
     ]
    }
   ],
   "source": [
    "assert model.evaluate(x_test, y_test)[0] < 7"
   ]
  },
  {
   "cell_type": "markdown",
   "metadata": {
    "deletable": false,
    "editable": false,
    "nbgrader": {
     "cell_type": "markdown",
     "checksum": "23648526b4581cb6ea5df76b63c45274",
     "grade": false,
     "grade_id": "cell-bdd8daf85b096db9",
     "locked": true,
     "schema_version": 3,
     "solution": false
    }
   },
   "source": [
    "## Feedback"
   ]
  },
  {
   "cell_type": "code",
   "execution_count": 22,
   "metadata": {
    "ExecuteTime": {
     "end_time": "2020-10-15T05:48:41.115253Z",
     "start_time": "2020-10-15T05:48:41.110749Z"
    },
    "deletable": false,
    "nbgrader": {
     "cell_type": "code",
     "checksum": "ed936ab53a1391c5e6af8df699a1dbf5",
     "grade": false,
     "grade_id": "feedback",
     "locked": false,
     "schema_version": 3,
     "solution": true
    }
   },
   "outputs": [
    {
     "data": {
      "text/plain": [
       "'Good introduction, but wish there was more explanation behind some of the layer attributes and how to guess what initial values to use in loss/activation functions.'"
      ]
     },
     "execution_count": 22,
     "metadata": {},
     "output_type": "execute_result"
    }
   ],
   "source": [
    "def feedback():\n",
    "    \"\"\"Provide feedback on the contents of this exercise\n",
    "    \n",
    "    Returns:\n",
    "        string\n",
    "    \"\"\"\n",
    "    return \"Good introduction, but wish there was more explanation behind some of the layer attributes and how to guess what initial values to use in loss/activation functions.\"\n",
    "\n",
    "feedback()"
   ]
  },
  {
   "cell_type": "code",
   "execution_count": null,
   "metadata": {
    "deletable": false,
    "editable": false,
    "nbgrader": {
     "cell_type": "code",
     "checksum": "f39f6185a54850c2f1f9b5b2a17b7543",
     "grade": true,
     "grade_id": "feedback-tests",
     "locked": true,
     "points": 0,
     "schema_version": 3,
     "solution": false
    }
   },
   "outputs": [],
   "source": []
  }
 ],
 "metadata": {
  "hide_input": false,
  "kernelspec": {
   "display_name": "Python 3",
   "language": "python",
   "name": "python3"
  },
  "language_info": {
   "codemirror_mode": {
    "name": "ipython",
    "version": 3
   },
   "file_extension": ".py",
   "mimetype": "text/x-python",
   "name": "python",
   "nbconvert_exporter": "python",
   "pygments_lexer": "ipython3",
   "version": "3.6.10"
  },
  "toc": {
   "base_numbering": 1,
   "nav_menu": {},
   "number_sections": true,
   "sideBar": true,
   "skip_h1_title": false,
   "title_cell": "Table of Contents",
   "title_sidebar": "Contents",
   "toc_cell": false,
   "toc_position": {},
   "toc_section_display": true,
   "toc_window_display": false
  },
  "varInspector": {
   "cols": {
    "lenName": 16,
    "lenType": 16,
    "lenVar": 40
   },
   "kernels_config": {
    "python": {
     "delete_cmd_postfix": "",
     "delete_cmd_prefix": "del ",
     "library": "var_list.py",
     "varRefreshCmd": "print(var_dic_list())"
    },
    "r": {
     "delete_cmd_postfix": ") ",
     "delete_cmd_prefix": "rm(",
     "library": "var_list.r",
     "varRefreshCmd": "cat(var_dic_list()) "
    }
   },
   "types_to_exclude": [
    "module",
    "function",
    "builtin_function_or_method",
    "instance",
    "_Feature"
   ],
   "window_display": false
  }
 },
 "nbformat": 4,
 "nbformat_minor": 2
}
