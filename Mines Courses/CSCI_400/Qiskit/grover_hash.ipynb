{
 "cells": [
  {
   "cell_type": "code",
   "execution_count": 48,
   "metadata": {},
   "outputs": [],
   "source": [
    "import numpy as np\n",
    "import matplotlib.pyplot as plt\n",
    "%matplotlib inline\n",
    "\n",
    "# importing Qiskit\n",
    "from qiskit import BasicAer, IBMQ\n",
    "from qiskit import QuantumCircuit, ClassicalRegister, QuantumRegister, execute, compile\n",
    "from qiskit.tools.visualization import plot_histogram"
   ]
  },
  {
   "cell_type": "code",
   "execution_count": 49,
   "metadata": {},
   "outputs": [],
   "source": [
    "hash_bits = 3\n",
    "goal_hashed_value = [1, 0, 1]\n",
    "\n",
    "# Parameters of the hash function\n",
    "# Step one: for any True element, invert the coresponding qbit\n",
    "hash_negation = [True, False, False]\n",
    "# Step two: each element is the index of of the qbit, pre-scramble \n",
    "hash_scramble = [1, 2, 0]"
   ]
  },
  {
   "cell_type": "code",
   "execution_count": 50,
   "metadata": {},
   "outputs": [],
   "source": [
    "# Set all input registers to |+> superposition\n",
    "def initialize_input_registers(circuit, input_registers):\n",
    "    for i in range(hash_bits):\n",
    "        circuit.h(input_registers[i])"
   ]
  },
  {
   "cell_type": "code",
   "execution_count": 51,
   "metadata": {},
   "outputs": [],
   "source": [
    "# Entangle the output_register to show when the input_register superposition matches the goal_hash_value\n",
    "def build_oracle(quantum_circuit, input_registers, output_register, auxiliary_register):\n",
    "    \n",
    "    # For any bit that is negatated, add a \"x\" flip to do so\n",
    "    for (i, negate) in enumerate(hash_negation):\n",
    "        if negate:\n",
    "            quantum_circuit.x(input_registers[i])\n",
    "\n",
    "    # Apply the scramble instructions to the input registers\n",
    "    scrambled_input_registers = [0] * hash_bits\n",
    "    for i in hash_scramble:\n",
    "        scrambled_input_registers[i] = input_registers[hash_scramble[i]]\n",
    "\n",
    "        # Flip any bits for which the goal is 0, so we can have a sucessful match if all bits are 1s\n",
    "    for (i, goal_value) in enumerate(goal_hashed_value):\n",
    "        if goal_value == 0:\n",
    "            quantum_circuit.x(scrambled_input_registers[i])\n",
    "    \n",
    "    # Flag the output register for any superpositions that are now all 1s\n",
    "    # Currenty this part handles only a 3 bit hash - a CCCNOT gate\n",
    "    quantum_circuit.ccx(scrambled_input_registers[0], scrambled_input_registers[1], auxiliary_register[0])\n",
    "    quantum_circuit.ccx(scrambled_input_registers[2], auxiliary_register[0], output_register[0])\n",
    "    \n",
    "    # Pull the auxiliary_register out of superposition\n",
    "    quantum_circuit.ccx(scrambled_input_registers[0], scrambled_input_registers[1], auxiliary_register[0])\n",
    "\n",
    "    # un(re)flip any bits that were flipped to match 0s\n",
    "    for (i, goal_value) in enumerate(goal_hashed_value):\n",
    "        if goal_value == 0:\n",
    "            quantum_circuit.x(scrambled_input_registers[i])\n",
    "    \n",
    "    # Unscramble the bits, we'll just go back to using input_registers\n",
    "    \n",
    "    # un(re)flip any bits that were negated by the hash function\n",
    "    for (i, negate) in enumerate(hash_negation):\n",
    "        if negate:\n",
    "            quantum_circuit.x(input_registers[i])\n"
   ]
  },
  {
   "cell_type": "code",
   "execution_count": 52,
   "metadata": {},
   "outputs": [],
   "source": [
    "def n_controlled_Z(circuit, controls, target):\n",
    "    \"\"\"Implement a Z gate with multiple controls\"\"\"\n",
    "    if (len(controls) > 2):\n",
    "        raise ValueError('The controlled Z with more than 2 ' +\n",
    "                         'controls is not implemented')\n",
    "    elif (len(controls) == 1):\n",
    "        circuit.h(target)\n",
    "        circuit.cx(controls[0], target)\n",
    "        circuit.h(target)\n",
    "    elif (len(controls) == 2):\n",
    "        circuit.h(target)\n",
    "        circuit.ccx(controls[0], controls[1], target)\n",
    "        circuit.h(target)\n",
    "# -- end function"
   ]
  },
  {
   "cell_type": "code",
   "execution_count": 53,
   "metadata": {},
   "outputs": [],
   "source": [
    "def inversion_about_average(circuit, input_registers):\n",
    "    \"\"\"Apply inversion about the average step of Grover's algorithm.\"\"\"\n",
    "    # Hadamards everywhere\n",
    "    for j in range(hash_bits):\n",
    "        circuit.h(input_registers[j])\n",
    "    # D matrix: flips the sign of the state |000> only\n",
    "    for j in range(hash_bits):\n",
    "        circuit.x(input_registers[j])\n",
    "    n_controlled_Z(circuit, [input_registers[j] for j in range(hash_bits-1)], input_registers[hash_bits-1])\n",
    "    for j in range(hash_bits):\n",
    "        circuit.x(input_registers[j])\n",
    "    # Hadamards everywhere again\n",
    "    for j in range(hash_bits):\n",
    "        circuit.h(input_registers[j])\n",
    "# -- end function"
   ]
  },
  {
   "cell_type": "code",
   "execution_count": 70,
   "metadata": {},
   "outputs": [
    {
     "data": {
      "image/png": "[encoded data removed]",
      "text/plain": [
       "<Figure size 504x360 with 1 Axes>"
      ]
     },
     "execution_count": 70,
     "metadata": {},
     "output_type": "execute_result"
    }
   ],
   "source": [
    "# Create our qubits\n",
    "input_registers = QuantumRegister(hash_bits)\n",
    "output_register = QuantumRegister(1)\n",
    "auxiliary_register = QuantumRegister(1)\n",
    "\n",
    "# Create a space to store measured results\n",
    "result_registers = ClassicalRegister(hash_bits)\n",
    "\n",
    "# Define quantum circuit with above registers\n",
    "grover = QuantumCircuit()\n",
    "grover.add_register(input_registers)\n",
    "grover.add_register(output_register)\n",
    "grover.add_register(auxiliary_register)\n",
    "grover.add_register(result_registers)\n",
    "\n",
    "# Set all starting qubits into |+> superposition\n",
    "initialize_input_registers(grover, input_registers)\n",
    "\n",
    "# Add loops of the oracle and inversion\n",
    "for t in range(2):\n",
    "    build_oracle(grover, input_registers, output_register, auxiliary_register)\n",
    "    inversion_about_average(grover, input_registers)\n",
    "\n",
    "# Add measurements of the input cubits to the result registers\n",
    "# This collapses the wave function\n",
    "for i in range(hash_bits):\n",
    "    grover.measure(input_registers[i], result_registers[i])\n",
    "\n",
    "# Execute the algorithm\n",
    "backend = BasicAer.get_backend('qasm_simulator')\n",
    "job = execute([grover], backend=backend, shots=1000)\n",
    "result = job.result()\n",
    "\n",
    "# Get counts and plot a historgam of the frequency of value of each qubit\n",
    "counts = result.get_counts(grover)\n",
    "plot_histogram(counts)"
   ]
  },
  {
   "cell_type": "code",
   "execution_count": null,
   "metadata": {},
   "outputs": [],
   "source": []
  }
 ],
 "metadata": {
  "kernelspec": {
   "display_name": "Python 3",
   "language": "python",
   "name": "python3"
  },
  "language_info": {
   "codemirror_mode": {
    "name": "ipython",
    "version": 3
   },
   "file_extension": ".py",
   "mimetype": "text/x-python",
   "name": "python",
   "nbconvert_exporter": "python",
   "pygments_lexer": "ipython3",
   "version": "3.7.3"
  }
 },
 "nbformat": 4,
 "nbformat_minor": 2
}
