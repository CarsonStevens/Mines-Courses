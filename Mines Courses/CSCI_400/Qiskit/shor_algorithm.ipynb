{
 "cells": [
  {
   "cell_type": "code",
   "execution_count": 1,
   "metadata": {
    "scrolled": true
   },
   "outputs": [
    {
     "name": "stdout",
     "output_type": "stream",
     "text": [
      "Requirement already satisfied: qiskit in c:\\users\\byron\\anaconda3\\lib\\site-packages (0.8.0)\n",
      "Requirement already satisfied: qiskit_terra==0.7.1 in c:\\users\\byron\\anaconda3\\lib\\site-packages (from qiskit) (0.7.1)\n",
      "Requirement already satisfied: qiskit-aer==0.1.1 in c:\\users\\byron\\anaconda3\\lib\\site-packages (from qiskit) (0.1.1)\n",
      "Requirement already satisfied: qiskit-ignis==0.1.0 in c:\\users\\byron\\anaconda3\\lib\\site-packages (from qiskit) (0.1.0)\n",
      "Requirement already satisfied: sympy>=1.3 in c:\\users\\byron\\anaconda3\\lib\\site-packages (from qiskit_terra==0.7.1->qiskit) (1.3)\n",
      "Requirement already satisfied: requests>=2.19 in c:\\users\\byron\\anaconda3\\lib\\site-packages (from qiskit_terra==0.7.1->qiskit) (2.21.0)\n",
      "Requirement already satisfied: scipy!=0.19.1,>=0.19 in c:\\users\\byron\\anaconda3\\lib\\site-packages (from qiskit_terra==0.7.1->qiskit) (1.2.1)\n",
      "Requirement already satisfied: numpy>=1.13 in c:\\users\\byron\\anaconda3\\lib\\site-packages (from qiskit_terra==0.7.1->qiskit) (1.16.2)\n",
      "Requirement already satisfied: ply>=3.10 in c:\\users\\byron\\anaconda3\\lib\\site-packages (from qiskit_terra==0.7.1->qiskit) (3.11)\n",
      "Requirement already satisfied: psutil>=5 in c:\\users\\byron\\anaconda3\\lib\\site-packages (from qiskit_terra==0.7.1->qiskit) (5.6.1)\n",
      "Requirement already satisfied: jsonschema<2.7,>=2.6 in c:\\users\\byron\\anaconda3\\lib\\site-packages (from qiskit_terra==0.7.1->qiskit) (2.6.0)\n",
      "Requirement already satisfied: networkx>=2.2 in c:\\users\\byron\\anaconda3\\lib\\site-packages (from qiskit_terra==0.7.1->qiskit) (2.2)\n",
      "Requirement already satisfied: pillow>=4.2.1 in c:\\users\\byron\\anaconda3\\lib\\site-packages (from qiskit_terra==0.7.1->qiskit) (5.4.1)\n",
      "Requirement already satisfied: requests-ntlm>=1.1.0 in c:\\users\\byron\\anaconda3\\lib\\site-packages (from qiskit_terra==0.7.1->qiskit) (1.1.0)\n",
      "Requirement already satisfied: marshmallow<3,>=2.16.3 in c:\\users\\byron\\anaconda3\\lib\\site-packages (from qiskit_terra==0.7.1->qiskit) (2.19.2)\n",
      "Requirement already satisfied: marshmallow-polyfield<4,>=3.2 in c:\\users\\byron\\anaconda3\\lib\\site-packages (from qiskit_terra==0.7.1->qiskit) (3.2)\n",
      "Requirement already satisfied: chardet<3.1.0,>=3.0.2 in c:\\users\\byron\\anaconda3\\lib\\site-packages (from requests>=2.19->qiskit_terra==0.7.1->qiskit) (3.0.4)\n",
      "Requirement already satisfied: certifi>=2017.4.17 in c:\\users\\byron\\anaconda3\\lib\\site-packages (from requests>=2.19->qiskit_terra==0.7.1->qiskit) (2019.3.9)\n",
      "Requirement already satisfied: urllib3<1.25,>=1.21.1 in c:\\users\\byron\\anaconda3\\lib\\site-packages (from requests>=2.19->qiskit_terra==0.7.1->qiskit) (1.24.1)\n",
      "Requirement already satisfied: idna<2.9,>=2.5 in c:\\users\\byron\\anaconda3\\lib\\site-packages (from requests>=2.19->qiskit_terra==0.7.1->qiskit) (2.8)\n",
      "Requirement already satisfied: decorator>=4.3.0 in c:\\users\\byron\\anaconda3\\lib\\site-packages (from networkx>=2.2->qiskit_terra==0.7.1->qiskit) (4.4.0)\n",
      "Requirement already satisfied: ntlm-auth>=1.0.2 in c:\\users\\byron\\anaconda3\\lib\\site-packages (from requests-ntlm>=1.1.0->qiskit_terra==0.7.1->qiskit) (1.2.0)\n",
      "Requirement already satisfied: cryptography>=1.3 in c:\\users\\byron\\anaconda3\\lib\\site-packages (from requests-ntlm>=1.1.0->qiskit_terra==0.7.1->qiskit) (2.6.1)\n",
      "Requirement already satisfied: six>=1.4.1 in c:\\users\\byron\\appdata\\roaming\\python\\python37\\site-packages (from cryptography>=1.3->requests-ntlm>=1.1.0->qiskit_terra==0.7.1->qiskit) (1.12.0)\n",
      "Requirement already satisfied: asn1crypto>=0.21.0 in c:\\users\\byron\\anaconda3\\lib\\site-packages (from cryptography>=1.3->requests-ntlm>=1.1.0->qiskit_terra==0.7.1->qiskit) (0.24.0)\n",
      "Requirement already satisfied: cffi!=1.11.3,>=1.8 in c:\\users\\byron\\anaconda3\\lib\\site-packages (from cryptography>=1.3->requests-ntlm>=1.1.0->qiskit_terra==0.7.1->qiskit) (1.12.2)\n",
      "Requirement already satisfied: pycparser in c:\\users\\byron\\anaconda3\\lib\\site-packages (from cffi!=1.11.3,>=1.8->cryptography>=1.3->requests-ntlm>=1.1.0->qiskit_terra==0.7.1->qiskit) (2.19)\n",
      "Note: you may need to restart the kernel to use updated packages.\n"
     ]
    }
   ],
   "source": [
    "pip install qiskit"
   ]
  },
  {
   "cell_type": "code",
   "execution_count": 2,
   "metadata": {},
   "outputs": [],
   "source": [
    "from qiskit import ClassicalRegister, QuantumRegister, QuantumCircuit\n",
    "from qiskit import execute, IBMQ, BasicAer, compile\n",
    "from qiskit.tools.visualization import plot_histogram, circuit_drawer\n",
    "import random, math"
   ]
  },
  {
   "cell_type": "code",
   "execution_count": 3,
   "metadata": {},
   "outputs": [],
   "source": [
    "def pick_a_value(n):\n",
    "    \"\"\" This function will return the a value that is less than N,\n",
    "    where the greatest common denominator is 1\"\"\"\n",
    "    while True:\n",
    "        x = random.randint(1,n)\n",
    "        if math.gcd(x,n) == 1:\n",
    "            a = x\n",
    "            break\n",
    "    return a"
   ]
  },
  {
   "cell_type": "code",
   "execution_count": 21,
   "metadata": {},
   "outputs": [],
   "source": [
    "def n_bit_qft(circuit, arg_reg, n):\n",
    "    \"\"\"Perform quantum fourier transform on quantum circuit\"\"\"\n",
    "#     circuit = QuantumCircuit(q, c)\n",
    "    for k in range(n):\n",
    "        j = n - k\n",
    "        circuit.h(arg_reg[j - 1])\n",
    "        for i in reversed(range(j-1)):\n",
    "            circuit.cu1(2*math.pi/2**(j-1), arg_reg[i], arg_reg[j-1])\n",
    "            \n",
    "    for i in range(n//2):\n",
    "        circuit.swap(arg_reg[i], arg_reg[n-i-1])"
   ]
  },
  {
   "cell_type": "code",
   "execution_count": 5,
   "metadata": {},
   "outputs": [],
   "source": [
    "def check_r_value(n, r, a):\n",
    "    \"\"\"This function will check to see if R is even and that\n",
    "    a to the r/2 + 1 is not equal to 0 mod N\"\"\"\n",
    "    if r%2 != 0:\n",
    "        return False\n",
    "    elif (a**(r/2)+ 1)%n == 0:\n",
    "        return False\n",
    "    else:\n",
    "        return True"
   ]
  },
  {
   "cell_type": "code",
   "execution_count": 6,
   "metadata": {},
   "outputs": [],
   "source": [
    "def get_gcd_for_a(n, r, a):\n",
    "    \"\"\"This function will find p given by gcd(a^(r/2)-1, N)\"\"\"\n",
    "    p = math.gcd(int(a**(r/2)-1), n)\n",
    "    return p"
   ]
  },
  {
   "cell_type": "code",
   "execution_count": 18,
   "metadata": {},
   "outputs": [],
   "source": [
    "\"\"\"Set initial superposition of argument register\"\"\"\n",
    "def set_uniform_superposition(circuit, arg_reg, t):\n",
    "    for i in range(t):\n",
    "        circuit.h(arg_reg[i])\n"
   ]
  },
  {
   "cell_type": "code",
   "execution_count": null,
   "metadata": {},
   "outputs": [],
   "source": [
    "\"\"\"Apply modular exponentiation a^x mod N to the function register of Quantum circuit\"\"\"\n",
    "def apply_modular_exponentiation(shor, funct_reg, n):"
   ]
  },
  {
   "cell_type": "code",
   "execution_count": 33,
   "metadata": {},
   "outputs": [],
   "source": [
    "\"\"\"Take measurements on quantum circuit\"\"\"\n",
    "def measure_quantum_circuit(shor, num_bits):\n",
    "    for i in range(num_bits):\n",
    "        shor.measure(argument_register[i], function_register[i])"
   ]
  },
  {
   "cell_type": "code",
   "execution_count": 30,
   "metadata": {
    "scrolled": true
   },
   "outputs": [
    {
     "data": {
      "image/png": "[encoded data removed]",
      "text/plain": [
       "<Figure size 504x360 with 1 Axes>"
      ]
     },
     "execution_count": 30,
     "metadata": {},
     "output_type": "execute_result"
    }
   ],
   "source": [
    "\"\"\"main driver section\"\"\"\n",
    "N = 15                        # number to be factored\n",
    "T = 256                       # choose number of qubits for registers (T = 2^t and N^2 <= T <= 2N^2)\n",
    "n = math.ceil(math.log(N, 2)) # enough bits to hold value N\n",
    "t = 2*n                       # t = 2*n\n",
    "\n",
    "# create registers for estimating phase\n",
    "argument_register = QuantumRegister(t, 'q')\n",
    "function_register = ClassicalRegister(n, 'q')\n",
    "shor = QuantumCircuit(argument_register, function_register)\n",
    "\n",
    "set_uniform_superposition(shor, argument_register, t)\n",
    "apply_modular_exponentiation(shor, function_register, n) # TODO(implement)\n",
    "n_bit_qft(shor, argument_register, t)\n",
    "print(shor)\n",
    "\n",
    "measure_quantum_circuit(shor, n)\n",
    "\n",
    "# run job on the simulation\n",
    "sim_job = execute(\n",
    "    [shor], \n",
    "    backend=BasicAer.get_backend('qasm_simulator'),\n",
    "    shots=1000\n",
    ")\n",
    "# output results\n",
    "sim_data = sim_job.result().get_counts(shor)\n",
    "plot_histogram(sim_data)\n",
    "\n"
   ]
  },
  {
   "cell_type": "code",
   "execution_count": 43,
   "metadata": {},
   "outputs": [
    {
     "name": "stdout",
     "output_type": "stream",
     "text": [
      "3\n"
     ]
    }
   ],
   "source": [
    "while True:\n",
    "    a = pick_a_value(N)      # select a value of a that is coprime to n\n",
    "    r = 4                    # find period r using quantum simulation\n",
    "    if check_r_value(N,r,a): # evaluate that period r is valid\n",
    "        break\n",
    "\n",
    "p = get_gcd_for_a(N,r,a) # find p given using a, n and the period\n",
    "print(p)"
   ]
  }
 ],
 "metadata": {
  "kernelspec": {
   "display_name": "Python 3",
   "language": "python",
   "name": "python3"
  },
  "language_info": {
   "codemirror_mode": {
    "name": "ipython",
    "version": 3
   },
   "file_extension": ".py",
   "mimetype": "text/x-python",
   "name": "python",
   "nbconvert_exporter": "python",
   "pygments_lexer": "ipython3",
   "version": "3.7.3"
  }
 },
 "nbformat": 4,
 "nbformat_minor": 2
}
