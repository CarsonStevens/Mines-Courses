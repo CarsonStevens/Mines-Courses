{
 "cells": [
  {
   "cell_type": "markdown",
   "metadata": {},
   "source": [
    "## Project 5 : Classification"
   ]
  },
  {
   "cell_type": "markdown",
   "metadata": {},
   "source": [
    "## Instructions\n",
    "\n",
    "### Description\n",
    "\n",
    "Practice classification on the Titanic dataset.\n",
    "\n",
    "### Grading\n",
    "\n",
    "For grading purposes, we will clear all outputs from all your cells and then run them all from the top.  Please test your notebook in the same fashion before turning it in.\n",
    "\n",
    "### Submitting Your Solution\n",
    "\n",
    "To submit your notebook, first clear all the cells (this won't matter too much this time, but for larger data sets in the future, it will make the file smaller).  Then use the File->Download As->Notebook to obtain the notebook file.  Finally, submit the notebook file on Canvas.\n"
   ]
  },
  {
   "cell_type": "code",
   "execution_count": null,
   "metadata": {},
   "outputs": [],
   "source": [
    "import pandas as pd\n",
    "import numpy as np\n",
    "import sklearn as sk\n",
    "import matplotlib.pyplot as plt\n",
    "import seaborn as sns\n",
    "\n",
    "plt.style.use('ggplot')\n",
    "\n",
    "%matplotlib inline\n",
    "%config InlineBackend.figure_format = 'retina'"
   ]
  },
  {
   "cell_type": "markdown",
   "metadata": {
    "collapsed": true
   },
   "source": [
    "### Introduction\n",
    "\n",
    "On April 15, 1912, the largest passenger liner ever made collided with an iceberg during her maiden voyage. When the Titanic sank it killed 1502 out of 2224 passengers and crew. This sensational tragedy shocked the international community and led to better safety regulations for ships. One of the reasons that the shipwreck resulted in such loss of life was that there were not enough lifeboats for the passengers and crew. Although there was some element of luck involved in surviving the sinking, some groups of people were more likely to survive than others.\n",
    "\n",
    "Intro Videos: \n",
    "https://www.youtube.com/watch?v=3lyiZMeTKIo\n",
    "and\n",
    "https://www.youtube.com/watch?v=ItjXTieWKyI \n",
    "\n",
    "The `titanic_data.csv` file contains data for `887` of the real Titanic passengers. Each row represents one person. The columns describe different attributes about the person including whether they survived (`0=No`), their age, their passenger-class (`1=1st Class, Upper`), gender, and the fare they paid (£s*). For more on the currency: http://www.statisticalconsultants.co.nz/blog/titanic-fare-data.html\n",
    "\n",
    "We are going to try to see if there are correlations between the feature data provided (find a best subset of features) and passenger survival."
   ]
  },
  {
   "cell_type": "markdown",
   "metadata": {},
   "source": [
    "### Problem 1: Load and understand the data (35 points)\n",
    "\n",
    "#### Your task (some of this is the work you completed for L14 - be sure to copy that work into here as needed)\n",
    "Conduct some preprocessing steps to explore the following and provide code/answers in the below cells:\n",
    "1. Load the `titanic_data.csv` file into a pandas dataframe\n",
    "2. Explore the data provided (e.g., looking at statistics using describe(), value_counts(), histograms, scatter plots of various features, etc.) \n",
    "3. What are the names of feature columns that appear to be usable for learning?\n",
    "4. What is the name of the column that appears to represent our target?\n",
    "5. Formulate a hypothesis about the relationship between given feature data and the target\n",
    "6. How did Pclass affect passenngers' chances of survival?\n",
    "7. What is the age distribution of survivors?"
   ]
  },
  {
   "cell_type": "code",
   "execution_count": null,
   "metadata": {},
   "outputs": [],
   "source": [
    "# Step 1. Load the `titanic_data.csv` file into a pandas dataframe\n",
    "titanic = pd.read_csv(\"titanic_data.csv\")"
   ]
  },
  {
   "cell_type": "code",
   "execution_count": null,
   "metadata": {},
   "outputs": [],
   "source": [
    "# Step 2. Explore the data provided (e.g., looking at statistics using describe(), value_counts(), histograms, scatter plots of various features, etc.) \n",
    "#pd.get_dummies(titanic['Sex'])\n",
    "print(titanic.describe())\n",
    "print(\"\\n\\nAge\\n\", titanic['Age'].value_counts())\n",
    "print(titanic.columns)\n",
    "plt.figure()\n",
    "titanic.hist(figsize=(20,20), layout=(6,1))\n",
    "plt.show()\n",
    "plt.figure()\n",
    "plt.scatter(titanic['Siblings/Spouses Aboard'], titanic['Survived'])\n",
    "plt.title(\"Siblings/Spouses Aboard VS Survived\")\n",
    "plt.show()\n",
    "plt.scatter(titanic['Fare'], titanic['Survived'])\n",
    "plt.title(\"Fare VS Survived\")\n",
    "plt.show()\n",
    "titanic.head()\n"
   ]
  },
  {
   "cell_type": "markdown",
   "metadata": {},
   "source": [
    "---\n",
    "\n",
    "**Edit this cell to provide answers to the following steps:**\n",
    "\n",
    "---\n",
    "\n",
    "Step 3. What are the names of feature columns that appear to be usable for learning?\n",
    "    \n",
    "    'Survived', 'Pclass', 'Sex' (concated with 'male' and 'female'), 'Age', 'Siblings/Spouses Aboard',\n",
    "       'Parents/Children Aboard', 'Fare'\n",
    "    \n",
    "Step 4. What is the name of the column that appears to represent our target?\n",
    "\n",
    "    'Survived'\n",
    "    \n",
    "Step 5. Formulate a hypothesis about the relationship between given feature data and the target\n",
    "    \n",
    "       The 'Age', gender, and relationship with others (sibling/spouse/parent) on board effect the outcome of survival. The younger you are, being a female, and having others on board (Parents, Children, Siblings, Spouses) increase the chance of survival."
   ]
  },
  {
   "cell_type": "code",
   "execution_count": null,
   "metadata": {},
   "outputs": [],
   "source": [
    "#Step 6. How did Pclass affect passenngers' chances of survival?\n",
    "\n",
    "'''The higher the class, the more likely you were to survive the titanic. First class died more than survived, Second class\n",
    "    survived about the same amount as the died, and Third class was much more likely to survive'''\n",
    "\n",
    "#Show your work with a bar plot, dataframe selection, or visual of your choice.\n",
    "survived = titanic[titanic['Survived'] == 0]\n",
    "died = titanic[titanic['Survived'] == 1]\n",
    "\n",
    "\n",
    "fig, ax = plt.subplots()\n",
    "\n",
    "a_heights, a_bins = np.histogram(survived['Pclass'])\n",
    "b_heights, b_bins = np.histogram(died['Pclass'], bins=a_bins)\n",
    "\n",
    "width = 0.2\n",
    "\n",
    "ax.bar(a_bins[:-1], a_heights, width=width, facecolor='cornflowerblue')\n",
    "ax.bar(b_bins[:-1]+width, b_heights, width=width, facecolor='seagreen')\n",
    "plt.ylabel(\"People\")\n",
    "plt.xlabel(\"Pclass\")\n",
    "plt.title(\"Survived VS Pclass\")\n",
    "plt.legend(('Survived', 'Died'))\n",
    "plt.show()\n"
   ]
  },
  {
   "cell_type": "code",
   "execution_count": null,
   "metadata": {},
   "outputs": [],
   "source": [
    "#Step 7. What is the age distribution of survivors?\n",
    "#Show your work with a dataframe operation and/or histogram plot.\n",
    "plt.figure()\n",
    "plt.hist(titanic['Age'])\n",
    "plt.xlabel(\"Age\")\n",
    "plt.ylabel(\"Number of People\")\n",
    "plt.title(\"Age Distribution\")\n",
    "plt.show()"
   ]
  },
  {
   "cell_type": "markdown",
   "metadata": {},
   "source": [
    "### Problem 2: transform the data (10 points)\n",
    "The `Sex` column is categorical, meaning its data are separable into groups, but not numerical. To be able to work with this data, we need numbers, so you task is to transform the `Sex` column into numerical data with pandas' `get_dummies` feature and remove the original categorical `Sex` column."
   ]
  },
  {
   "cell_type": "code",
   "execution_count": null,
   "metadata": {},
   "outputs": [],
   "source": [
    "#Done in Problem one (first line)\n",
    "dummy = pd.get_dummies(titanic['Sex'])\n",
    "titanic = pd.concat([titanic, dummy], axis=1)\n",
    "titanic.head()"
   ]
  },
  {
   "cell_type": "markdown",
   "metadata": {},
   "source": [
    "### Problem 3: Classification (30 points)\n",
    "Now that the data is transformed, we want to run various classification experiments on it. The first is `K Nearest Neighbors`, which you will conduct by:\n",
    "\n",
    "1. Define input and target data by creating lists of dataframe columns (e.g., inputs = ['Pclass', etc.)\n",
    "2. Split the data into training and testing sets with `train_test_split()`\n",
    "3. Create a `KNeighborsClassifier` using `5` neighbors at first (you can experiment with this parameter)\n",
    "4. Train your model by passing the training dataset to `fit()`\n",
    "5. Calculate predicted target values(y_hat) by passing the testing dataset to `predict()`\n",
    "6. Print the accuracy of the model with `score()`\n",
    "\n",
    "** Note: If you get a python warning as you use the Y, trainY, or testY vector in some of the function calls about \"DataConversionWarning: A column-vector y was passed when a 1d array was expected. Please change the shape of y to (n_samples, )\", you can look up how to use trainY.values.ravel() or trainY.values.flatten() or another function, etc."
   ]
  },
  {
   "cell_type": "code",
   "execution_count": null,
   "metadata": {},
   "outputs": [],
   "source": [
    "inputs = ('female', 'male', 'Age', 'Siblings/Spouses Aboard','Parents/Children Aboard')\n",
    "target = ('Survived')"
   ]
  },
  {
   "cell_type": "code",
   "execution_count": null,
   "metadata": {},
   "outputs": [],
   "source": [
    "from sklearn.model_selection import train_test_split, cross_val_score\n",
    "train, test = train_test_split(titanic)\n",
    "train.head()"
   ]
  },
  {
   "cell_type": "code",
   "execution_count": null,
   "metadata": {},
   "outputs": [],
   "source": [
    "from sklearn.neighbors import KNeighborsClassifier\n",
    "k = 5\n",
    "model = KNeighborsClassifier(k)\n",
    "model.fit(train[['female', 'male', 'Age', 'Siblings/Spouses Aboard','Parents/Children Aboard']], train['Survived'])\n",
    "predicted = model.predict(test[['female', 'male', 'Age', 'Siblings/Spouses Aboard','Parents/Children Aboard']])\n",
    "print(\"Accuracy:\\t\", model.score((test[['female', 'male', 'Age', 'Siblings/Spouses Aboard','Parents/Children Aboard']]), test['Survived']))"
   ]
  },
  {
   "cell_type": "markdown",
   "metadata": {},
   "source": [
    "### Problem 4: Cross validation, classification report (15 points)\n",
    "- Using the concepts from the 17-model_selection slides and the [`cross_val_score`](http://scikit-learn.org/stable/modules/generated/sklearn.model_selection.cross_val_score.html) function from scikit-learn, estimate the f-score ([`f1-score`](http://scikit-learn.org/stable/modules/generated/sklearn.metrics.f1_score.html#sklearn.metrics.f1_score) (you can use however many folds you wish). To get `cross_val_score` to use `f1-score` rather than the default accuracy measure, you will need to set the `scoring` parameter and use a scorer object created via [`make_scorer`](http://scikit-learn.org/stable/modules/generated/sklearn.metrics.make_scorer.html#sklearn.metrics.make_scorer).  Since this has a few parts to it, let me just give you that parameter: ```scorerVar = make_scorer(f1_score, pos_label=1)```\n",
    "\n",
    "- Using the concepts from the end of the 14-classification slides, output a confusion matrix.\n",
    "\n",
    "- Also, output a classification report [`classification_report`](http://scikit-learn.org/stable/modules/generated/sklearn.metrics.classification_report.html) from sklearn.metrics showing more of the metrics: precision, recall, f1-score for both of our classes."
   ]
  },
  {
   "cell_type": "code",
   "execution_count": null,
   "metadata": {
    "scrolled": false
   },
   "outputs": [],
   "source": [
    "from sklearn import metrics\n",
    "from sklearn.metrics import confusion_matrix, f1_score, classification_report, make_scorer\n",
    "from sklearn import model_selection\n",
    "\n",
    "f1 = f1_score(test['Survived'], predicted)\n",
    "print(\"f1_score:\\t\", f1)\n",
    "scorerVar = make_scorer(f1_score, pos_label=1)\n",
    "cross_score = cross_val_score(model, train[['female', 'male', 'Age', 'Siblings/Spouses Aboard','Parents/Children Aboard']], train['Survived'], scoring= scorerVar, cv = 5)\n",
    "print(\"\\n\\nCross Val Score with f1_scorer:\\n\", cross_score)\n",
    "print(\"\\n\\nConfusion Matrix:\\n\",confusion_matrix(test['Survived'], predicted))\n",
    "print(\"\\n\\nClassification Report:\\n\", classification_report(test['Survived'], predicted))"
   ]
  },
  {
   "cell_type": "markdown",
   "metadata": {},
   "source": [
    "### Problem 5: Logistic Regression (15 points)\n",
    "\n",
    "Now, repeat the above experiment using the [`LogisticRegression`](http://scikit-learn.org/stable/modules/generated/sklearn.linear_model.LogisticRegression.html) model in scikit-learn, and output:\n",
    "\n",
    "- The fit accuracy (using the `score` method of the model)\n",
    "- The f-score (using the [`cross_val_score`](http://scikit-learn.org/stable/modules/generated/sklearn.model_selection.cross_val_score.html) function)\n",
    "- The confusion matrix\n",
    "- The precision, recall, and f-measure for the 1 class (you can just print the results of the [`classification_report`](http://scikit-learn.org/stable/modules/generated/sklearn.metrics.classification_report.html) function from sklearn.metrics)"
   ]
  },
  {
   "cell_type": "code",
   "execution_count": null,
   "metadata": {},
   "outputs": [],
   "source": [
    "from sklearn.linear_model import LogisticRegression\n",
    "#create a model object\n",
    "model = LogisticRegression()\n",
    "\n",
    "#train our model\n",
    "model.fit(train[['female', 'male', 'Age', 'Siblings/Spouses Aboard','Parents/Children Aboard']], train['Survived'])\n",
    "predicted = model.predict(test[['female', 'male', 'Age', 'Siblings/Spouses Aboard','Parents/Children Aboard']])\n",
    "\n",
    "#evaluate the model \n",
    "score = model.score(test[['female', 'male', 'Age', 'Siblings/Spouses Aboard','Parents/Children Aboard']], test['Survived'])\n",
    "print(\"Score:\\t\", score)\n",
    "\n",
    "# # #setup to get f-score and cv\n",
    "cross_score = cross_val_score(model, train[['female', 'male', 'Age', 'Siblings/Spouses Aboard','Parents/Children Aboard']], train['Survived'], scoring= scorerVar, cv = 5)\n",
    "print(\"\\n\\nCross Val using f1_score:\\n\", cross_score)\n",
    "      \n",
    "# # # #confusion matrix\n",
    "print(\"\\n\\nConfusion Matrix:\\n\", confusion_matrix(test['Survived'], predicted))\n",
    "      \n",
    "# # # #classification report\n",
    "report = classification_report(test['Survived'], predicted)\n",
    "print(\"\\n\\nClassification Report:\\n\", report)"
   ]
  },
  {
   "cell_type": "markdown",
   "metadata": {},
   "source": [
    "### Problem 6: Support Vector Machines (15 points)\n",
    "Now, repeat the above experiment using the using a Support Vector classifier [`SVC`](http://scikit-learn.org/stable/modules/generated/sklearn.svm.SVC.html) with default parameters (RBF kernel) model in scikit-learn, and output:\n",
    "\n",
    "- The fit accuracy (using the `score` method of the model)\n",
    "- The f-score (using the [`cross_val_score`](http://scikit-learn.org/stable/modules/generated/sklearn.model_selection.cross_val_score.html) function)\n",
    "- The confusion matrix\n",
    "- The precision, recall, and f-measure for the 1 class (you can just print the results of the [`classification_report`](http://scikit-learn.org/stable/modules/generated/sklearn.metrics.classification_report.html) function from sklearn.metrics)"
   ]
  },
  {
   "cell_type": "code",
   "execution_count": null,
   "metadata": {},
   "outputs": [],
   "source": [
    "from sklearn.svm import SVC\n",
    "from sklearn.model_selection import cross_val_score\n",
    "\n",
    "#create a model object\n",
    "model = SVC(kernel='linear', C=10)\n",
    "\n",
    "#train our model\n",
    "model.fit(train[['female', 'male', 'Age', 'Siblings/Spouses Aboard','Parents/Children Aboard']], train['Survived'])\n",
    "predicted = model.predict(test[['female', 'male', 'Age', 'Siblings/Spouses Aboard','Parents/Children Aboard']])\n",
    "\n",
    "#evaluate the model \n",
    "score = model.score(test[['female', 'male', 'Age', 'Siblings/Spouses Aboard','Parents/Children Aboard']], test['Survived'])\n",
    "print(\"Score:\\t\", score)\n",
    "\n",
    "#setup to get f-score and cv\n",
    "cross_score = cross_val_score(model, train[['female', 'male', 'Age', 'Siblings/Spouses Aboard','Parents/Children Aboard']], train['Survived'], scoring= scorerVar, cv = 5)\n",
    "print(\"\\n\\nCross Val using f1_score:\\n\", cross_score)\n",
    "\n",
    "#confusion matrix\n",
    "print(\"\\n\\nConfusion Matrix:\\n\", confusion_matrix(test['Survived'], predicted))\n",
    "\n",
    "#classification report\n",
    "report = classification_report(test['Survived'], predicted)\n",
    "print(\"\\n\\nClassification Report:\\n\", report)"
   ]
  },
  {
   "cell_type": "markdown",
   "metadata": {},
   "source": [
    "### Problem 7: Comparision and Discussion (5 points)\n",
    "Edit this cell to provide a brief discussion (3-5 sentances at most):\n",
    "1. What was the model/algorithm that performed best for you?\n",
    "\n",
    "Using the parameters I did, Logistic Regression and Support Vector Machines preformed best with nearly identical results.\n",
    "\n",
    "2. What feaures and parameters were used to achieve that performance?\n",
    "\n",
    "I used ('female', 'male', 'Age', 'Siblings/Spouses Aboard','Parents/Children Aboard') for the labels and ('Survived') for the target.\n",
    "\n",
    "3. What insights did you gain from your experimentation about the predictive power of this dataset and did it match your original hypothesis about the relationship between given feature data and the target?\n",
    "\n",
    "I learned that this dataset is okay at predicting with the given parameters. The scores produced aren't fantastic, but with the parameters used, the models preformed better than when run with all parameter (ran with all parameters to see stats before changing to hypothesis). The models seemed to model the hypothesis to a good degree (scores ~ .80), but not an excellent model."
   ]
  },
  {
   "cell_type": "markdown",
   "metadata": {},
   "source": [
    "### Questionnaire\n",
    "1) How long did you spend on this assignment?\n",
    "<br>\n",
    "3 hours\n",
    "<br>\n",
    "2) What did you like about it? What did you not like about it?\n",
    "<br>\n",
    "I liked seeing how the different models preformed, but I thought that there were many concepts that weren't well covered in the notebooks provided.\n",
    "<br>\n",
    "3) Did you find any errors or is there anything you would like changed?\n",
    "<br>\n",
    "I didn't find any errors, but on topics not in the notebooks, more than just the page documentation would be more helpful.\n",
    "<br>"
   ]
  },
  {
   "cell_type": "code",
   "execution_count": null,
   "metadata": {},
   "outputs": [],
   "source": []
  }
 ],
 "metadata": {
  "kernelspec": {
   "display_name": "Python 3",
   "language": "python",
   "name": "python3"
  },
  "language_info": {
   "codemirror_mode": {
    "name": "ipython",
    "version": 3
   },
   "file_extension": ".py",
   "mimetype": "text/x-python",
   "name": "python",
   "nbconvert_exporter": "python",
   "pygments_lexer": "ipython3",
   "version": "3.6.5"
  }
 },
 "nbformat": 4,
 "nbformat_minor": 2
}
