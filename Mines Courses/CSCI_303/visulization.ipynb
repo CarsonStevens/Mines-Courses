{
 "cells": [
  {
   "cell_type": "markdown",
   "metadata": {},
   "source": [
    "# Project 2 : Visualization"
   ]
  },
  {
   "cell_type": "markdown",
   "metadata": {},
   "source": [
    "## Instructions\n",
    "\n",
    "### Description\n",
    "\n",
    "In this project, you will look at three bad visualizations then:\n",
    "\n",
    "1. Identify what makes them bad\n",
    "1. Use the same data to make a better chart\n",
    "1. Explain an interesting pattern you noticed.\n",
    "\n",
    "Some helpful questions to determine if a visualization is bad:\n",
    "\n",
    "1. What is the visualization trying to show? Ex. Comparison? Relationship? Change over time?\n",
    "2. Is this the right visualization to use?\n",
    "3. Does the visualization have the correct labels and axes limits?\n",
    "4. Is there too much being shown in one visualization? Should it be split?\n",
    "\n",
    "Some helpful questions to find patterns in a visualization:\n",
    "\n",
    "1. How do different data points compare? Are there significant differences? Are there any outliers?\n",
    "2. If comparing data/series, how do they rank? Is there a significant difference between rankings?\n",
    "3. If looking at data over time, is there any seasonality? How do the values compare to the mean and/or median? How do the values change over time? Ex. Ups and downs? Always up? Always down?\n",
    "\n",
    "### Getting Started\n",
    "\n",
    "The lecture on data visualization (available in the usual places) has a lot of code examples.  Also don't forget the matplotlib documentation available from the Help menu in the notebook.\n",
    "\n",
    "Also, this is the first assignment we've given where we ask you to provide text answers and not just code. You don't have to get fancy, but you'll want to use Markdown to write up your answers.  There is Markdown help available from the Help menu as well.\n",
    "\n",
    "### Grading\n",
    "\n",
    "For grading purposes, we will clear all outputs from all your cells and then run them all from the top.  Please test your notebook in the same fashion before turning it in.\n",
    "\n",
    "### Submitting Your Solution\n",
    "\n",
    "To submit your notebook, first clear all the cells (this won't matter too much this time, but for larger data sets in the future, it will make the file smaller).  Then use the File->Download As->Notebook to obtain the notebook file.  Finally, submit the notebook file on Canvas.\n",
    "\n",
    "### Credits\n",
    "\n",
    "Many thanks to Saad Elbeleidy for this assignment!"
   ]
  },
  {
   "cell_type": "markdown",
   "metadata": {},
   "source": [
    "### Setup Code"
   ]
  },
  {
   "cell_type": "code",
   "execution_count": null,
   "metadata": {},
   "outputs": [],
   "source": [
    "## Imports\n",
    "import matplotlib.pyplot as plt\n",
    "import matplotlib.mlab as mlab\n",
    "import numpy as np\n",
    "import pandas as pd\n",
    "%matplotlib inline\n",
    "%config InlineBackend.figure_format = 'retina'"
   ]
  },
  {
   "cell_type": "markdown",
   "metadata": {},
   "source": [
    "### Problem 1: Bad line chart (15 points)"
   ]
  },
  {
   "cell_type": "markdown",
   "metadata": {},
   "source": [
    "To get you started, we'll walk through 1 bad visualization.\n",
    "\n",
    "![Bad Line Chart](http://imgur.com/kB6uNZC.png)"
   ]
  },
  {
   "cell_type": "code",
   "execution_count": null,
   "metadata": {},
   "outputs": [],
   "source": [
    "# Bad line chart data & names\n",
    "badLineNames = [\"2016 Q1\", \"2016 Q2\", \"2016 Q3\", \"2016 Q4\"]\n",
    "badLineProduct1 = [240, 300, 280, 400]\n",
    "badLineProduct2 = [300, 320, 150, 160]\n",
    "badLineProduct3 = [120, 140, 180, 160]\n",
    "badLineProduct4 = [380, 400, 450, 500]"
   ]
  },
  {
   "cell_type": "markdown",
   "metadata": {},
   "source": [
    "**What makes this visualization bad?**\n",
    "\n",
    "**1. What is the visualization trying to show? Ex. Comparison? Relationship? Change over time?**\n",
    "\n",
    "This visualization trys to show data over time.\n",
    "\n",
    "**2. Is this the right visualization to use?**\n",
    "\n",
    "Yes, we should be using a line chart to show data over time.\n",
    "\n",
    "**3. Does the visualization have the correct labels and axes limits?**\n",
    "\n",
    "There are no labels or a title. We could also use some more space between the min and maximum data points and the axes limits.\n",
    "\n",
    "**4. Is there too much being shown in one visualization? Should it be split?**\n",
    "\n",
    "Yes, it's quite difficult to follow each series, it should be split.\n",
    "\n",
    "\n",
    "Since the chart type is the correct one, it seems all we need to do is add labels and split the lines into panels. Before we do that, we can probably also improve the design. We covered how to improve a `matplotlib` plot in class using different styles. Select a `style` and apply it below."
   ]
  },
  {
   "cell_type": "code",
   "execution_count": null,
   "metadata": {},
   "outputs": [],
   "source": [
    "## Apply your chosen style \n",
    "plt.style.use('bmh')\n"
   ]
  },
  {
   "cell_type": "markdown",
   "metadata": {},
   "source": [
    "example of how to set up subplots can be found in lecture 05, slide 13. "
   ]
  },
  {
   "cell_type": "markdown",
   "metadata": {},
   "source": [
    "Now we need to plot the data over different panels. We can use [`plt.subplots`](http://matplotlib.org/api/pyplot_api.html#matplotlib.pyplot.subplots) to create multiple panels. Since we have 4 products, we're going to need 4 panels on top of each other. `subplots` returns two variables, the figure object and an array of axes. What we can do is loop through each Axes object and create a plot for that product. The first Axes object should plot the first product, the second should plot the second product and so on.\n",
    "<br><br>\n",
    "**Step 1: Buffers** \n",
    "<br>Each subplot will have its own y axis, but to make the scale is the same for all subplots, create a buffer between the lowest value among all products and the start of the y axis as well as between the highest value and the top of the y axis. These buffers are simply integers that extend the y axis above the highest value in the products, and below the lowest.\n",
    "<br><br>\n",
    "**Step 2: Mean**\n",
    "<br>Calculate the mean of the entire data set -- the mean of the individual product means. To calculate this easily, first put the products in a list, create a list of the individual means using a comprehension over the product list, then find the mean of the list of individual means.\n",
    "<br><br>\n",
    "**Step 3: Colors**\n",
    "<br>Choose a color for the plot of each product. This can be done by filling a list with each color's matplotlib name. Available colors can be found [here](https://matplotlib.org/2.0.2/api/colors_api.html)\n",
    "<br><br>\n",
    "**Step 4: Subplots** \n",
    "<br>Now that those numbers are calculated, create 4 line charts on top of each other, each plotting one of the products.\n",
    "<br>For each subplot:\n",
    "<br>\n",
    "1) plot the product with `plot(data, color)`\n",
    "<br>\n",
    "2) Set the y scale using `set_ylim(bottomBuffer, topBuffer)`\n",
    "<br>\n",
    "3) Add an x label if this panel is not the bottom one using `set_xticklabels(list of labels)`\n",
    "<br>\n",
    "4) Add a title to the subplot with the product number using `set_title(title)`\n",
    "<br>\n",
    "5) Add a dashed line with the value of the mean using `plot(mean, args)` or `axhline(mean, args)`. More info [here](https://matplotlib.org/api/_as_gen/matplotlib.axes.Axes.axhline.html)\n",
    "<br><br>\n",
    "**Step 5: Beautify**\n",
    "<br>\n",
    "1) Add a title to the whole diagram(the superplot) with `fig.suptitle(title)`\n",
    "<br>\n",
    "2) Rearrange subplots, if necessary, with `fig.subplots_adjust(left, bottom, right, top, wspace, hspace)`\n",
    "<br><br>\n",
    "**Notes:**\n",
    "<br>\n",
    "- Many of the arguments to many of these functions are 'default', meaning they're optional. If there's an argument you don't need or want, try leaving it out. For example, if you only want to change the hspace of the subplots, you can call `fig.subplot_adjust(hspace=0.6)` without specifying the other arguments. Just be sure to label the argument you want to specify. Don't just write `fig.subplot_adjust(0.6)`"
   ]
  },
  {
   "cell_type": "code",
   "execution_count": null,
   "metadata": {},
   "outputs": [],
   "source": [
    "# Step 1\n",
    "minimumBuffer = min(badLineProduct1 + badLineProduct2 + badLineProduct3 + badLineProduct4) - 100\n",
    "maximumBuffer = max(badLineProduct1 + badLineProduct2 + badLineProduct3 + badLineProduct4) + 100\n",
    "# print(\"minbuffer = \", minimumBuffer, \"  maxBuffer = \", maximumBuffer)\n",
    "# Step 2\n",
    "products = [badLineProduct1, badLineProduct2, badLineProduct3, badLineProduct4 ]\n",
    "meanTotal = np.mean(products)\n",
    "means = [np.mean(badLineProduct1), np.mean(badLineProduct2), np.mean(badLineProduct3), np.mean(badLineProduct4)]\n",
    "print(\"The total mean for all the data is \", meanTotal)\n",
    "for index,i in enumerate(products):\n",
    "    print(\"The mean of Product {}'s y values is {}.\".format(index+1, np.mean(i)))\n",
    "# Step 3\n",
    "colors = ['b', 'g', 'm', 'k']\n",
    "fig, pltAxes = plt.subplots(ncols=1, nrows=4, figsize=(10,10))\n",
    "#print(pltAxes)\n",
    "axes = pltAxes.ravel()\n",
    "# print(axes)\n",
    "\n",
    "# Step 4\n",
    "for i, graph in enumerate(axes):\n",
    "    graph.plot(badLineNames, products[i], color = colors[i])\n",
    "    graph.set_ylim(minimumBuffer, maximumBuffer)\n",
    "    graph.set_xticklabels(badLineNames)\n",
    "    graph.set_title(\"Product {}\".format(i+1), fontsize=8)   # Add the title for the dataset\n",
    "    graph.axhline(y = means[i] , color = 'r')\n",
    "# Step 5\n",
    "fig.suptitle(\"2016 Product Sales\")\n",
    "fig.subplots_adjust(hspace=0.2)\n",
    "#plt.legend([products[0], products[1], products[2], products[3], means[0]], ['Product 1 Sales', 'Product 2 Sales', 'Product 3 Sales', 'Product 4 Sales', 'Mean of Sales'])\n",
    "plt.show()"
   ]
  },
  {
   "cell_type": "markdown",
   "metadata": {},
   "source": [
    "Now that you've created a better plot, try to describe a pattern in the dataset. Use the following questions as a reference:\n",
    "\n",
    "1. How do different data points compare? Are there significant differences? Are there any outliers?\n",
    "2. If comparing data/series, how do they rank? Is there a significant difference between rankings?\n",
    "3. If looking at data over time, is there any seasonality? How do the values compare to the mean and/or median? How do the values change over time? Ex. Ups and downs? Always up? Always down?"
   ]
  },
  {
   "cell_type": "markdown",
   "metadata": {},
   "source": [
    "    1. The data is fairly linear with few outliers. The topic of outliers is debatable, but Product 2 seems to have the worse\n",
    "       outliers. Products 1 is the closest to the mean of all the products. Otherwise, Product 4 had the highest sale, Product 3 had the lowest, and Products 1 and 2 seem to be in the middle. For all the products except Product 2, the general trend for the long run looks like it's increasing.\n",
    "       \n",
    "    2.  Product 4 had the highest sale, Product 3 had the lowest, and Products 1 and 2 seem to be in the middle, but Product one seems to have sold more than Product 2 due to its decrease in sales at the end. For all the products except Product 2, the general trend for the long run looks like it's increasing.\n",
    "    \n",
    "    3. The general trend for the data is increasing (besides Product 2). This generalizes that as the year and season progress, that sales do better. On the individual level, all saw increases in sale during the first quarter to the second quarter. In the second quater to 3 quarter, Products 1 and 2 decreased while products 3 and 4 increased. In third to fourth quarter, sales then increased for all except Product 3. Products 1 and 2 seem to deviate more from their means than Products 1 and 2.\n",
    "       "
   ]
  },
  {
   "cell_type": "markdown",
   "metadata": {},
   "source": [
    "Next, look through the following bad visualizations and apply the above workflow to:\n",
    "\n",
    "1. Determine what makes them bad\n",
    "1. Create a better visualization\n",
    "1. Describe a pattern in the data"
   ]
  },
  {
   "cell_type": "markdown",
   "metadata": {},
   "source": [
    "### Problem 2: Bad pie chart (20 points)\n",
    "\n",
    "Explain why this visualization is a bad one:\n",
    "\n",
    "![Bad Pie Chart](http://imgur.com/Wg9DOZd.png)"
   ]
  },
  {
   "cell_type": "markdown",
   "metadata": {},
   "source": [
    "This is a bad graph because it has no percentages or titles which makes this graph impossible to tell what it is trying to display. Without that knowledge, it is difficult to know whether this is a good model for the type of data. Bar graphs in gerenal are also bad to easily show comparison data."
   ]
  },
  {
   "cell_type": "code",
   "execution_count": null,
   "metadata": {},
   "outputs": [],
   "source": [
    "badPieNames = [\"Golden\", \"Boulder\", \"Denver\", \"Colo Springs\"]\n",
    "badPieValues = [0.37, 0.4, 0.5, 0.35]"
   ]
  },
  {
   "cell_type": "code",
   "execution_count": null,
   "metadata": {},
   "outputs": [],
   "source": [
    "# Plot a better chart using\n",
    "x = np.arange(len(badPieNames))\n",
    "\n",
    "plt.bar(badPieNames, badPieValues, align='center', alpha=0.5)\n",
    "plt.ylim(0, 0.6)\n",
    "plt.xticks(x, badPieNames)\n",
    "plt.ylabel('Value')\n",
    "plt.xlabel('City')\n",
    "plt.title('City VS Value')\n",
    "plt.show()\n",
    "\n",
    "\n"
   ]
  },
  {
   "cell_type": "markdown",
   "metadata": {},
   "source": [
    "Tell a story or describe a pattern using your new visualization."
   ]
  },
  {
   "cell_type": "markdown",
   "metadata": {},
   "source": [
    "It seems like the capital has a higher percentage and the surrounding cities in the metro have roughly the same percentage This could be a reference to location or population density, but without more information, that isn't known."
   ]
  },
  {
   "cell_type": "markdown",
   "metadata": {},
   "source": [
    "### Problem 3: Bad bar chart 1 (20 points)\n",
    "\n",
    "Explain why this visualization is a bad one:\n",
    "\n",
    "![Bad Bar Chart](http://imgur.com/AkLyM9I.png)"
   ]
  },
  {
   "cell_type": "markdown",
   "metadata": {},
   "source": [
    "This is a bad bar char because the axises aren't labelled and there is no title on the graph. This makes the data useless since we don't know what we are comparing The start point for the y axis is also misleading."
   ]
  },
  {
   "cell_type": "code",
   "execution_count": null,
   "metadata": {},
   "outputs": [],
   "source": [
    "badBarNames = [\"A\", \"B\", \"C\"]\n",
    "badBarValues = [240, 232, 251]"
   ]
  },
  {
   "cell_type": "code",
   "execution_count": null,
   "metadata": {},
   "outputs": [],
   "source": [
    "#badBarNames.clear()\n",
    "#badBarNames = ['Python', 'C++', 'Java']\n",
    "x = np.arange(len(badBarNames))\n",
    "\n",
    " \n",
    "plt.bar(badBarNames, badBarValues, align='center', alpha=0.5)\n",
    "plt.ylim(0, 350)\n",
    "plt.xticks(x, badBarNames)\n",
    "plt.ylabel('Value')\n",
    "plt.xlabel('Letter')\n",
    "plt.title('Letter VS Value')\n",
    " \n",
    "plt.show()\n"
   ]
  },
  {
   "cell_type": "markdown",
   "metadata": {},
   "source": [
    "Tell a story or describe a pattern using your new visualization."
   ]
  },
  {
   "cell_type": "markdown",
   "metadata": {},
   "source": [
    "The data is realtively similar. The range of the data is only 21. The original graph made the data seem so diverse except when look at the data more as a whole (new generated graph), the data is actually closer together."
   ]
  },
  {
   "cell_type": "markdown",
   "metadata": {},
   "source": [
    "### Problem 4: Bad bar chart 2 (20 points)\n",
    "\n",
    "Explain why this visualization is a bad one:\n",
    "\n",
    "![Bad Bar Chart](http://imgur.com/Ns3lgyp.png)"
   ]
  },
  {
   "cell_type": "markdown",
   "metadata": {},
   "source": [
    "The graph is bad because the axsis are not labeled and there is not title which makes the data useless since you don't know what you are comparing."
   ]
  },
  {
   "cell_type": "code",
   "execution_count": null,
   "metadata": {},
   "outputs": [],
   "source": [
    "badBar2Names = [\"Jan\", \"Feb\", \"Mar\", \"Apr\", \"May\", \"Jun\", \"Jul\", \"Aug\", \"Sep\", \"Oct\", \"Nov\", \"Dec\"]\n",
    "badBar2Values = [240, 320, 360, 280, 290, 300, 500, 410, 390, 200, 220, 240]"
   ]
  },
  {
   "cell_type": "code",
   "execution_count": null,
   "metadata": {},
   "outputs": [],
   "source": [
    "x = np.arange(len(badBar2Names))\n",
    "\n",
    "plt.plot(badBar2Names, badBar2Values)\n",
    "plt.ylim(0, 600)\n",
    "plt.xticks(x, badBar2Names)\n",
    "plt.title(\"Months VS Value\", fontsize=11)   # Add the title for the dataset\n",
    " \n",
    "plt.show()"
   ]
  },
  {
   "cell_type": "markdown",
   "metadata": {},
   "source": [
    "Tell a story or describe a pattern using your new visualization."
   ]
  },
  {
   "cell_type": "markdown",
   "metadata": {},
   "source": [
    "The data seems to be seasonal. The sales increase as spring and fall come around, but as soon as those monthes (April and October) start, the values drop and then start increasing again until the next 'seasonal' change."
   ]
  },
  {
   "cell_type": "markdown",
   "metadata": {},
   "source": [
    "### Questionnaire\n",
    "1) How long did you spend on this assignment?\n",
    "<br><br>\n",
    "This assignment took me 2.5 hours.\n",
    "\n",
    "2) What did you like about it? What did you not like about it?\n",
    "<br><br>\n",
    "I liked that there were a bunch of different types of graphs and now I have a quick reference if I ever want to know how to plot a certain type of graph. The whole \"Tell a sotry\" thing is confusing as to what you are looking for though. Like if we are supposed to created a story and names for the values or if we are just generalizing to all data for just labels and values.\n",
    "\n",
    "3) Did you find any errors or is there anything you would like changed?\n",
    "<br><br>\n",
    "There isn't anything I would like to change except for maybe some better clarification on what \"Tell a story' means for the description of the new visualization."
   ]
  },
  {
   "cell_type": "markdown",
   "metadata": {},
   "source": []
  }
 ],
 "metadata": {
  "anaconda-cloud": {},
  "kernelspec": {
   "display_name": "Python 3",
   "language": "python",
   "name": "python3"
  },
  "language_info": {
   "codemirror_mode": {
    "name": "ipython",
    "version": 3
   },
   "file_extension": ".py",
   "mimetype": "text/x-python",
   "name": "python",
   "nbconvert_exporter": "python",
   "pygments_lexer": "ipython3",
   "version": "3.6.5"
  }
 },
 "nbformat": 4,
 "nbformat_minor": 2
}
