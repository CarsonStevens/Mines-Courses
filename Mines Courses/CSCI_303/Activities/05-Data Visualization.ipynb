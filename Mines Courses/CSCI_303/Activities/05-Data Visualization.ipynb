{
 "cells": [
  {
   "cell_type": "markdown",
   "metadata": {
    "nbpresent": {
     "id": "02b7d99e-4b8f-4583-9ca4-18e6c07e7392"
    },
    "slideshow": {
     "slide_type": "slide"
    }
   },
   "source": [
    "##### CSCI 303\n",
    "# Introduction to Data Science\n",
    "<p/>\n",
    "### 5 - Data Visualization\n",
    "\n",
    "<br>\n",
    "\n",
    "## What is a data visualization?\n",
    "\n",
    "> A visualization is any kind of visual representation of information designed to enable communication, analysis, discovery, exploration, etc.\n",
    "\n",
    "> A data visualization is a display of data designed to enable analysis, exploration, and discovery.\n",
    "\n",
    "\n",
    "Cairo, Alberto (2016-02-08). The Truthful Art: Data, Charts, and Maps for Communication"
   ]
  },
  {
   "cell_type": "markdown",
   "metadata": {
    "slideshow": {
     "slide_type": "slide"
    }
   },
   "source": [
    "## Why we use data visualizations\n",
    "\n",
    "* Data exploration\n",
    "* Telling a story"
   ]
  },
  {
   "cell_type": "markdown",
   "metadata": {
    "slideshow": {
     "slide_type": "slide"
    }
   },
   "source": [
    "## Importance of data visualizations\n",
    "\n",
    "Aren't descriptive statistics enough?"
   ]
  },
  {
   "cell_type": "code",
   "execution_count": null,
   "metadata": {
    "slideshow": {
     "slide_type": "slide"
    }
   },
   "outputs": [],
   "source": [
    "import matplotlib.pyplot as plt\n",
    "import numpy as np\n",
    "import pandas as pd\n",
    "%matplotlib inline\n",
    "%config InlineBackend.figure_format = 'retina'\n",
    "\n",
    "np.random.seed(0)\n",
    "\n",
    "from IPython.display import HTML\n",
    "\n",
    "plt.style.use('ggplot')\n",
    "\n",
    "# http://stackoverflow.com/questions/27934885/how-to-hide-code-from-cells-in-ipython-notebook-visualized-with-nbviewer\n",
    "HTML('''<script>\n",
    "code_show=false; \n",
    "function code_toggle() {\n",
    " if (code_show){\n",
    " $('div.input').hide();\n",
    " } else {\n",
    " $('div.input').show();\n",
    " }\n",
    " code_show = !code_show\n",
    "} \n",
    "$( document ).ready(code_toggle);\n",
    "</script>\n",
    "<form action=\"javascript:code_toggle()\"><input type=\"submit\" value=\"Click here to toggle on/off the raw code.\"></form>''')\n"
   ]
  },
  {
   "cell_type": "code",
   "execution_count": null,
   "metadata": {
    "slideshow": {
     "slide_type": "slide"
    }
   },
   "outputs": [],
   "source": [
    "one_x = [10.0, 8.0, 13.0, 9.0, 11.0, 14.0, 6.0, 4.0, 12.0, 7.0, 5.0]\n",
    "one_y = [8.04, 6.95, 7.58, 8.81, 8.33, 9.96, 7.24, 4.26, 10.84, 4.82, 5.68]\n",
    "two_x = [10.0, 8.0, 13.0, 9.0, 11.0, 14.0, 6.0, 4.0, 12.0, 7.0, 5.0]\n",
    "two_y = [9.14, 8.14, 8.74, 8.77, 9.26, 8.10, 6.13, 3.10, 9.13, 7.26, 4.74]\n",
    "three_x = [10.0, 8.0, 13.0, 9.0, 11.0, 14.0, 6.0, 4.0, 12.0, 7.0, 5.0]\n",
    "three_y = [7.46, 6.77, 12.74, 7.11, 7.81, 8.84, 6.08, 5.39, 8.15, 6.42, 5.73]\n",
    "four_x = [8.0, 8.0, 8.0, 8.0, 8.0, 8.0, 8.0, 19.0, 8.0, 8.0, 8.0]\n",
    "four_y = [6.58, 5.76, 7.71, 8.84, 8.47, 7.04, 5.25, 12.50, 5.56, 7.91, 6.89]\n",
    "\n",
    "xs = [one_x, two_x, three_x, four_x]\n",
    "ys = [one_y, two_y, three_y, four_y]"
   ]
  },
  {
   "cell_type": "code",
   "execution_count": null,
   "metadata": {
    "slideshow": {
     "slide_type": "slide"
    }
   },
   "outputs": [],
   "source": [
    "for index,x in enumerate(xs):\n",
    "    print(\"The mean of series {}'s x values is {}.\".format(index+1, np.mean(x)))"
   ]
  },
  {
   "cell_type": "code",
   "execution_count": null,
   "metadata": {},
   "outputs": [],
   "source": [
    "for index,y in enumerate(ys):\n",
    "    print(\"The mean of series {}'s y values is {}.\".format(index+1, np.mean(y)))"
   ]
  },
  {
   "cell_type": "code",
   "execution_count": null,
   "metadata": {
    "slideshow": {
     "slide_type": "slide"
    }
   },
   "outputs": [],
   "source": [
    "for index,x in enumerate(xs):\n",
    "    print(\"The variance of series {}'s x values is {}.\".format(index+1, np.var(x)))"
   ]
  },
  {
   "cell_type": "code",
   "execution_count": null,
   "metadata": {},
   "outputs": [],
   "source": [
    "for index,y in enumerate(ys):\n",
    "    print(\"The variance of series {}'s y values is {}.\".format(index+1, np.var(y)))"
   ]
  },
  {
   "cell_type": "code",
   "execution_count": null,
   "metadata": {
    "slideshow": {
     "slide_type": "slide"
    }
   },
   "outputs": [],
   "source": [
    "for i in range(4):\n",
    "    print(\"The corellation between x's and y's for series {} is {}\".format(i+1, np.corrcoef(xs[i], ys[i])[0][1]))"
   ]
  },
  {
   "cell_type": "code",
   "execution_count": null,
   "metadata": {},
   "outputs": [],
   "source": [
    "for i in range(4):\n",
    "    aqcoefs = np.polyfit(xs[0], ys[0], 1)\n",
    "    print(\"The fitted line for series {} is y = {}x + {}\".format(i+1, aqcoefs[0], aqcoefs[1]))"
   ]
  },
  {
   "cell_type": "code",
   "execution_count": null,
   "metadata": {
    "slideshow": {
     "slide_type": "slide"
    }
   },
   "outputs": [],
   "source": [
    "HTML('''<form action=\"javascript:code_toggle()\"><input type=\"submit\" value=\"Toggle code\"></form>''')"
   ]
  },
  {
   "cell_type": "code",
   "execution_count": null,
   "metadata": {
    "scrolled": true,
    "slideshow": {
     "slide_type": "-"
    }
   },
   "outputs": [],
   "source": [
    "buffer = 3\n",
    "maxX = max(max(xs[0]),max(xs[1]),max(xs[2]),max(xs[3]))\n",
    "maxY = max(max(ys[0]),max(ys[1]),max(ys[2]),max(ys[3]))\n",
    "\n",
    "x = np.arange(0,maxX+buffer)\n",
    "fx = aqcoefs[0]* x + aqcoefs[1]\n",
    "\n",
    "fig, pltAxes = plt.subplots(ncols=2, nrows=2)\n",
    "axes = pltAxes.ravel()\n",
    "\n",
    "for i, ax in enumerate(axes):\n",
    "    ax.plot(xs[i],ys[i],\"bo\")              # Plot the x and y values\n",
    "    ax.set_ylim(0, maxY + buffer)          # Use the same scale\n",
    "    ax.set_xlim(0, maxX + buffer)\n",
    "    ax.plot(x,fx,\"r-\")                      # Plot the line\n",
    "    ax.set_title(\"Series {}\".format(i+1), fontsize=8)   # Add the title for the dataset\n",
    "\n",
    "fig.suptitle(\"Plotting Anscombe's Quartet\", fontsize=9)\n",
    "fig.subplots_adjust(hspace=.5)\n",
    "\n",
    "plt.show()"
   ]
  },
  {
   "cell_type": "markdown",
   "metadata": {
    "slideshow": {
     "slide_type": "slide"
    }
   },
   "source": [
    "## Visual Encoding\n",
    "\n",
    "How accurately our brains understand visualizations from making accurate estimates to making general estimates:\n",
    "\n",
    "1. Points on a scale (most accurate)\n",
    "1. Length\n",
    "1. Direction / Angle\n",
    "1. Area\n",
    "1. Volume\n",
    "1. Shading and saturation\n",
    "1. Color and hue (most general)"
   ]
  },
  {
   "cell_type": "markdown",
   "metadata": {
    "nbpresent": {
     "id": "09c6cf2b-2e36-4a90-a107-cc86163191ec"
    },
    "slideshow": {
     "slide_type": "slide"
    }
   },
   "source": [
    "## Commonly Used Graphs & When To Use Them\n",
    "### Scatter Plots\n",
    "\n",
    "Use when you are trying to show the relationship between 2 variables."
   ]
  },
  {
   "cell_type": "code",
   "execution_count": null,
   "metadata": {},
   "outputs": [],
   "source": [
    "HTML('''<form action=\"javascript:code_toggle()\"><input type=\"submit\" value=\"Toggle code\"></form>''')"
   ]
  },
  {
   "cell_type": "code",
   "execution_count": null,
   "metadata": {},
   "outputs": [],
   "source": [
    "x = range(0,11,2)\n",
    "y = range(0,17,3)\n",
    "plt.plot(x,y, \"bo\")\n",
    "plt.xlabel(\"x\")\n",
    "plt.ylabel(\"y\")\n",
    "plt.title(\"x vs y\")\n",
    "plt.show()"
   ]
  },
  {
   "cell_type": "markdown",
   "metadata": {
    "slideshow": {
     "slide_type": "slide"
    }
   },
   "source": [
    "## Scatter Plots\n",
    "\n",
    "It's sometimes useful to also add a best fit line."
   ]
  },
  {
   "cell_type": "code",
   "execution_count": null,
   "metadata": {
    "slideshow": {
     "slide_type": "slide"
    }
   },
   "outputs": [],
   "source": [
    "HTML('''<form action=\"javascript:code_toggle()\"><input type=\"submit\" value=\"Toggle code\"></form>''')"
   ]
  },
  {
   "cell_type": "code",
   "execution_count": null,
   "metadata": {},
   "outputs": [],
   "source": [
    "coefs = np.polyfit(x,y,1) \n",
    "line = np.array(x) * coefs[0] + coefs[1]\n",
    "\n",
    "plt.plot(x,y,\"bo\")\n",
    "plt.plot(x, line)\n",
    "plt.xlabel(\"x\")\n",
    "plt.ylabel(\"y\")\n",
    "plt.title(\"x vs y\")\n",
    "plt.show()"
   ]
  },
  {
   "cell_type": "markdown",
   "metadata": {
    "slideshow": {
     "slide_type": "slide"
    }
   },
   "source": [
    "## Scatter Plots\n",
    "\n",
    "It's sometimes useful to instead add an average line."
   ]
  },
  {
   "cell_type": "code",
   "execution_count": null,
   "metadata": {
    "slideshow": {
     "slide_type": "slide"
    }
   },
   "outputs": [],
   "source": [
    "HTML('''<form action=\"javascript:code_toggle()\"><input type=\"submit\" value=\"Toggle code\"></form>''')"
   ]
  },
  {
   "cell_type": "code",
   "execution_count": null,
   "metadata": {},
   "outputs": [],
   "source": [
    "line = [np.mean(y)] * len(x)\n",
    "\n",
    "plt.plot(x,y,\"bo\")\n",
    "plt.plot(x, line)\n",
    "plt.xlabel(\"x\")\n",
    "plt.ylabel(\"y\")\n",
    "plt.title(\"x vs y\")\n",
    "plt.show()"
   ]
  },
  {
   "cell_type": "markdown",
   "metadata": {
    "slideshow": {
     "slide_type": "slide"
    }
   },
   "source": [
    "## Scatter Plots\n",
    "\n",
    "You can add another dimension using a color gradient or 3d. You shouldn't. Instead, use a scatter matrix."
   ]
  },
  {
   "cell_type": "code",
   "execution_count": null,
   "metadata": {
    "slideshow": {
     "slide_type": "-"
    }
   },
   "outputs": [],
   "source": [
    "HTML('''<form action=\"javascript:code_toggle()\"><input type=\"submit\" value=\"Toggle code\"></form>''')"
   ]
  },
  {
   "cell_type": "code",
   "execution_count": null,
   "metadata": {},
   "outputs": [],
   "source": [
    "n = 500\n",
    "appleSales = [np.random.randint(2000,5000) for i in range(n)]\n",
    "orangeSales = [np.random.randint(2000,5000) for i in range(n)]\n",
    "avocadoSales = [np.random.randint(2000,5000) for i in range(n)]\n",
    "cherrySales = [np.random.randint(2000,5000) for i in range(n)]\n",
    "sales = pd.DataFrame({\n",
    "    \"apples\": appleSales, \"oranges\": orangeSales, \"avocados\": avocadoSales, \"cherries\": cherrySales\n",
    "})\n",
    "sales"
   ]
  },
  {
   "cell_type": "code",
   "execution_count": null,
   "metadata": {
    "slideshow": {
     "slide_type": "slide"
    }
   },
   "outputs": [],
   "source": [
    "HTML('''<form action=\"javascript:code_toggle()\"><input type=\"submit\" value=\"Toggle code\"></form>''')"
   ]
  },
  {
   "cell_type": "code",
   "execution_count": null,
   "metadata": {},
   "outputs": [],
   "source": [
    "sales.plot(kind=\"scatter\", x=\"apples\", y=\"oranges\", c=\"avocados\")\n",
    "plt.title(\"Sales\")\n",
    "plt.show()"
   ]
  },
  {
   "cell_type": "code",
   "execution_count": null,
   "metadata": {
    "slideshow": {
     "slide_type": "slide"
    }
   },
   "outputs": [],
   "source": [
    "HTML('''<form action=\"javascript:code_toggle()\"><input type=\"submit\" value=\"Toggle code\"></form>''')"
   ]
  },
  {
   "cell_type": "code",
   "execution_count": null,
   "metadata": {},
   "outputs": [],
   "source": [
    "from mpl_toolkits.mplot3d import Axes3D\n",
    "fig = plt.figure()\n",
    "ax = fig.add_subplot(111, projection='3d')\n",
    "ax.scatter(xs=sales[\"apples\"], ys=sales[\"oranges\"], zs=sales[\"avocados\"])\n",
    "plt.title(\"Sales\")\n",
    "plt.show()"
   ]
  },
  {
   "cell_type": "code",
   "execution_count": null,
   "metadata": {
    "slideshow": {
     "slide_type": "slide"
    }
   },
   "outputs": [],
   "source": [
    "HTML('''<form action=\"javascript:code_toggle()\"><input type=\"submit\" value=\"Toggle code\"></form>''')"
   ]
  },
  {
   "cell_type": "code",
   "execution_count": null,
   "metadata": {
    "slideshow": {
     "slide_type": "-"
    }
   },
   "outputs": [],
   "source": [
    "pd.tools.plotting.scatter_matrix(sales)\n",
    "plt.show()"
   ]
  },
  {
   "cell_type": "markdown",
   "metadata": {
    "nbpresent": {
     "id": "7f0af365-d0ca-488a-977c-5cc4a87b5e23"
    },
    "slideshow": {
     "slide_type": "slide"
    }
   },
   "source": [
    "### Bar Charts\n",
    "\n",
    "Bar charts are used to compare data.\n",
    "\n",
    "**Always start the feature scale at 0.**"
   ]
  },
  {
   "cell_type": "code",
   "execution_count": null,
   "metadata": {
    "slideshow": {
     "slide_type": "-"
    }
   },
   "outputs": [],
   "source": [
    "HTML('''<form action=\"javascript:code_toggle()\"><input type=\"submit\" value=\"Toggle code\"></form>''')"
   ]
  },
  {
   "cell_type": "code",
   "execution_count": null,
   "metadata": {
    "nbpresent": {
     "id": "f466e0cf-9115-4ab9-b167-b769e3117963"
    }
   },
   "outputs": [],
   "source": [
    "locations = [\"Denver\", \"Golden\", \"Boulder\"]\n",
    "n = len(locations)\n",
    "appleSales = [np.random.randint(2000,5000) for i in range(n)]\n",
    "orangeSales = [np.random.randint(2000,5000) for i in range(n)]\n",
    "avocadoSales = [np.random.randint(2000,5000) for i in range(n)]\n",
    "cherrySales = [np.random.randint(2000,5000) for i in range(n)]\n",
    "simpleSales = pd.DataFrame({\n",
    "    \"location\": locations, \"apples\": appleSales, \"oranges\": orangeSales, \"avocados\": avocadoSales, \"cherries\": cherrySales\n",
    "})"
   ]
  },
  {
   "cell_type": "code",
   "execution_count": null,
   "metadata": {
    "slideshow": {
     "slide_type": "slide"
    }
   },
   "outputs": [],
   "source": [
    "HTML('''<form action=\"javascript:code_toggle()\"><input type=\"submit\" value=\"Toggle code\"></form>''')"
   ]
  },
  {
   "cell_type": "code",
   "execution_count": null,
   "metadata": {},
   "outputs": [],
   "source": [
    "simpleSales[[\"location\", \"apples\"]].plot(kind=\"bar\", x=\"location\", legend=False)\n",
    "plt.title(\"Apple Sales\")\n",
    "plt.show()"
   ]
  },
  {
   "cell_type": "code",
   "execution_count": null,
   "metadata": {
    "slideshow": {
     "slide_type": "slide"
    }
   },
   "outputs": [],
   "source": [
    "HTML('''<form action=\"javascript:code_toggle()\"><input type=\"submit\" value=\"Toggle code\"></form>''')"
   ]
  },
  {
   "cell_type": "code",
   "execution_count": null,
   "metadata": {},
   "outputs": [],
   "source": [
    "simpleSales[[\"location\", \"apples\"]].plot(kind=\"barh\", x=\"location\")\n",
    "plt.title(\"Apple Sales\")\n",
    "plt.show()"
   ]
  },
  {
   "cell_type": "code",
   "execution_count": null,
   "metadata": {
    "slideshow": {
     "slide_type": "slide"
    }
   },
   "outputs": [],
   "source": [
    "HTML('''<form action=\"javascript:code_toggle()\"><input type=\"submit\" value=\"Toggle code\"></form>''')"
   ]
  },
  {
   "cell_type": "code",
   "execution_count": null,
   "metadata": {},
   "outputs": [],
   "source": [
    "simpleSales.sort_values(\"apples\", ascending=False)[[\"location\", \"apples\"]].plot(kind=\"barh\", x=\"location\")\n",
    "plt.title(\"Apple Sales\")\n",
    "plt.show()"
   ]
  },
  {
   "cell_type": "markdown",
   "metadata": {
    "slideshow": {
     "slide_type": "slide"
    }
   },
   "source": [
    "## Bar Charts\n",
    "\n",
    "To compare multiple series, use side by side bars/columns instead of stacked bar charts. Stacked bar charts make it difficult to compare values since they don't start at the same level."
   ]
  },
  {
   "cell_type": "code",
   "execution_count": null,
   "metadata": {
    "slideshow": {
     "slide_type": "slide"
    }
   },
   "outputs": [],
   "source": [
    "HTML('''<form action=\"javascript:code_toggle()\"><input type=\"submit\" value=\"Toggle code\"></form>''')"
   ]
  },
  {
   "cell_type": "code",
   "execution_count": null,
   "metadata": {},
   "outputs": [],
   "source": [
    "simpleSales.sort_values(\"apples\", ascending=False).plot(kind=\"barh\", x=\"location\")\n",
    "plt.title(\"Sales by location\")\n",
    "plt.show()"
   ]
  },
  {
   "cell_type": "markdown",
   "metadata": {
    "nbpresent": {
     "id": "31c428b0-1466-4683-896b-782f16be37ac"
    },
    "slideshow": {
     "slide_type": "slide"
    }
   },
   "source": [
    "### Histograms\n",
    "\n",
    "Use histograms to understand the distribution of a data set."
   ]
  },
  {
   "cell_type": "code",
   "execution_count": null,
   "metadata": {
    "slideshow": {
     "slide_type": "slide"
    }
   },
   "outputs": [],
   "source": [
    "HTML('''<form action=\"javascript:code_toggle()\"><input type=\"submit\" value=\"Toggle code\"></form>''')"
   ]
  },
  {
   "cell_type": "code",
   "execution_count": null,
   "metadata": {
    "nbpresent": {
     "id": "38f3a15d-2a75-4f37-9064-03f5ae2af428"
    }
   },
   "outputs": [],
   "source": [
    "uniforms = [np.random.rand() for i in range(1000)]\n",
    "plt.hist(uniforms)\n",
    "plt.title(\"Generated Uniforms\")\n",
    "plt.show()"
   ]
  },
  {
   "cell_type": "code",
   "execution_count": null,
   "metadata": {
    "slideshow": {
     "slide_type": "slide"
    }
   },
   "outputs": [],
   "source": [
    "HTML('''<form action=\"javascript:code_toggle()\"><input type=\"submit\" value=\"Toggle code\"></form>''')"
   ]
  },
  {
   "cell_type": "code",
   "execution_count": null,
   "metadata": {
    "slideshow": {
     "slide_type": "-"
    }
   },
   "outputs": [],
   "source": [
    "normals = [np.random.normal() for i in range(1000)]\n",
    "plt.hist(normals)\n",
    "plt.title(\"Generated Normals\")\n",
    "plt.show()"
   ]
  },
  {
   "cell_type": "code",
   "execution_count": null,
   "metadata": {
    "slideshow": {
     "slide_type": "slide"
    }
   },
   "outputs": [],
   "source": [
    "HTML('''<form action=\"javascript:code_toggle()\"><input type=\"submit\" value=\"Toggle code\"></form>''')"
   ]
  },
  {
   "cell_type": "code",
   "execution_count": null,
   "metadata": {
    "slideshow": {
     "slide_type": "-"
    }
   },
   "outputs": [],
   "source": [
    "plt.hist(normals,100)\n",
    "plt.title(\"Generated Normals\")\n",
    "plt.show()"
   ]
  },
  {
   "cell_type": "code",
   "execution_count": null,
   "metadata": {
    "slideshow": {
     "slide_type": "slide"
    }
   },
   "outputs": [],
   "source": [
    "HTML('''<form action=\"javascript:code_toggle()\"><input type=\"submit\" value=\"Toggle code\"></form>''')"
   ]
  },
  {
   "cell_type": "code",
   "execution_count": null,
   "metadata": {
    "slideshow": {
     "slide_type": "-"
    }
   },
   "outputs": [],
   "source": [
    "plt.hist(normals,100, normed=1)\n",
    "plt.title(\"Normalized Generated Normals\")\n",
    "plt.show()"
   ]
  },
  {
   "cell_type": "code",
   "execution_count": null,
   "metadata": {
    "slideshow": {
     "slide_type": "slide"
    }
   },
   "outputs": [],
   "source": [
    "HTML('''<form action=\"javascript:code_toggle()\"><input type=\"submit\" value=\"Toggle code\"></form>''')"
   ]
  },
  {
   "cell_type": "code",
   "execution_count": null,
   "metadata": {
    "scrolled": true,
    "slideshow": {
     "slide_type": "-"
    }
   },
   "outputs": [],
   "source": [
    "import matplotlib.mlab as mlab\n",
    "n, bins, patches = plt.hist(normals,100, normed=1)\n",
    "bincenters = 0.5*(bins[1:]+bins[:-1])\n",
    "y = mlab.normpdf(bincenters, 0, 1)\n",
    "plt.plot(bincenters, y, 'k-', linewidth=1)\n",
    "plt.title(\"Normalized Generated Normals\")\n",
    "plt.show()"
   ]
  },
  {
   "cell_type": "markdown",
   "metadata": {
    "slideshow": {
     "slide_type": "slide"
    }
   },
   "source": [
    "### Probability Plots (QQ plots)\n",
    "\n",
    "To further analyze a distribution you can also use a probability plot or qq plot. This is a scatter plot displaying observed and theoretical quantiles."
   ]
  },
  {
   "cell_type": "code",
   "execution_count": null,
   "metadata": {},
   "outputs": [],
   "source": [
    "from scipy import stats"
   ]
  },
  {
   "cell_type": "code",
   "execution_count": null,
   "metadata": {
    "slideshow": {
     "slide_type": "slide"
    }
   },
   "outputs": [],
   "source": [
    "HTML('''<form action=\"javascript:code_toggle()\"><input type=\"submit\" value=\"Toggle code\"></form>''')"
   ]
  },
  {
   "cell_type": "code",
   "execution_count": null,
   "metadata": {},
   "outputs": [],
   "source": [
    "stats.probplot(uniforms, plot=plt)\n",
    "plt.title(\"Generated Uniforms Probability Plot vs Normal\")\n",
    "plt.show()"
   ]
  },
  {
   "cell_type": "code",
   "execution_count": null,
   "metadata": {
    "slideshow": {
     "slide_type": "slide"
    }
   },
   "outputs": [],
   "source": [
    "HTML('''<form action=\"javascript:code_toggle()\"><input type=\"submit\" value=\"Toggle code\"></form>''')"
   ]
  },
  {
   "cell_type": "code",
   "execution_count": null,
   "metadata": {
    "slideshow": {
     "slide_type": "-"
    }
   },
   "outputs": [],
   "source": [
    "stats.probplot(uniforms, plot=plt, dist=stats.uniform)\n",
    "plt.title(\"Generated Uniforms Probability Plot vs Uniform\")\n",
    "plt.show()"
   ]
  },
  {
   "cell_type": "code",
   "execution_count": null,
   "metadata": {
    "slideshow": {
     "slide_type": "slide"
    }
   },
   "outputs": [],
   "source": [
    "HTML('''<form action=\"javascript:code_toggle()\"><input type=\"submit\" value=\"Toggle code\"></form>''')"
   ]
  },
  {
   "cell_type": "code",
   "execution_count": null,
   "metadata": {
    "slideshow": {
     "slide_type": "-"
    }
   },
   "outputs": [],
   "source": [
    "stats.probplot(normals, plot=plt)\n",
    "plt.title(\"Generated Normals Probability Plot vs Normal\")\n",
    "plt.show()"
   ]
  },
  {
   "cell_type": "markdown",
   "metadata": {
    "slideshow": {
     "slide_type": "slide"
    }
   },
   "source": [
    "## Boxplots\n",
    "\n",
    "Use boxplots to compare distributions."
   ]
  },
  {
   "cell_type": "code",
   "execution_count": null,
   "metadata": {
    "slideshow": {
     "slide_type": "slide"
    }
   },
   "outputs": [],
   "source": [
    "HTML('''<form action=\"javascript:code_toggle()\"><input type=\"submit\" value=\"Toggle code\"></form>''')"
   ]
  },
  {
   "cell_type": "code",
   "execution_count": null,
   "metadata": {
    "scrolled": false
   },
   "outputs": [],
   "source": [
    "ax = sales.boxplot([\"apples\", \"oranges\", \"avocados\", \"cherries\"])\n",
    "ax.set_ylim(0, 5500)\n",
    "plt.title(\"Sales\")\n",
    "plt.show()"
   ]
  },
  {
   "cell_type": "code",
   "execution_count": null,
   "metadata": {
    "slideshow": {
     "slide_type": "slide"
    }
   },
   "outputs": [],
   "source": [
    "HTML('''<form action=\"javascript:code_toggle()\"><input type=\"submit\" value=\"Toggle code\"></form>''')"
   ]
  },
  {
   "cell_type": "code",
   "execution_count": null,
   "metadata": {
    "slideshow": {
     "slide_type": "-"
    }
   },
   "outputs": [],
   "source": [
    "ax = sales.boxplot([\"apples\", \"oranges\", \"avocados\", \"cherries\"], vert=False)\n",
    "ax.set_xlim(0, 5500)\n",
    "plt.title(\"Sales\")\n",
    "plt.show()"
   ]
  },
  {
   "cell_type": "markdown",
   "metadata": {
    "nbpresent": {
     "id": "dcb64358-b9c4-4cb1-9af0-caf1744dd5f3"
    },
    "slideshow": {
     "slide_type": "slide"
    }
   },
   "source": [
    "### Line Charts\n",
    "\n",
    "Line charts are used to plot continuous data. That is data about the same entity that changes over time."
   ]
  },
  {
   "cell_type": "code",
   "execution_count": null,
   "metadata": {
    "slideshow": {
     "slide_type": "slide"
    }
   },
   "outputs": [],
   "source": [
    "HTML('''<form action=\"javascript:code_toggle()\"><input type=\"submit\" value=\"Toggle code\"></form>''')"
   ]
  },
  {
   "cell_type": "code",
   "execution_count": null,
   "metadata": {},
   "outputs": [],
   "source": [
    "nMonths = 12\n",
    "sales = [np.random.randint(2000,5000) for i in range(nMonths)]\n",
    "months = [str(i) for i in range(1,nMonths+1)]"
   ]
  },
  {
   "cell_type": "code",
   "execution_count": null,
   "metadata": {},
   "outputs": [],
   "source": [
    "plt.plot(sales)\n",
    "plt.xticks(range(len(sales)),months)\n",
    "plt.title(\"Sales over time\")\n",
    "plt.xlabel(\"Month\")\n",
    "plt.ylabel(\"Sales\")\n",
    "plt.ylim(0, 6000)\n",
    "plt.show()"
   ]
  },
  {
   "cell_type": "markdown",
   "metadata": {
    "slideshow": {
     "slide_type": "slide"
    }
   },
   "source": [
    "## Line Charts\n",
    "\n",
    "Graphing multiple lines on the same chart may be hard to follow."
   ]
  },
  {
   "cell_type": "code",
   "execution_count": null,
   "metadata": {
    "slideshow": {
     "slide_type": "slide"
    }
   },
   "outputs": [],
   "source": [
    "HTML('''<form action=\"javascript:code_toggle()\"><input type=\"submit\" value=\"Toggle code\"></form>''')"
   ]
  },
  {
   "cell_type": "code",
   "execution_count": null,
   "metadata": {},
   "outputs": [],
   "source": [
    "year_1 = [np.random.randint(2000,5000) for i in range(12)]\n",
    "year_2 = [np.random.randint(2000,5000) for i in range(12)]\n",
    "year_3 = [np.random.randint(2000,5000) for i in range(12)]"
   ]
  },
  {
   "cell_type": "code",
   "execution_count": null,
   "metadata": {},
   "outputs": [],
   "source": [
    "plt.plot(year_1, label=\"Year 1\")\n",
    "plt.plot(year_2, label=\"Year 2\")\n",
    "plt.plot(year_3, label=\"Year 3\")\n",
    "plt.xticks(range(len(year_1)),months)\n",
    "plt.legend(loc=\"best\")\n",
    "plt.title(\"Sales over time\")\n",
    "plt.xlabel(\"Month\")\n",
    "plt.ylabel(\"Sales\")\n",
    "plt.ylim(0, 6000)\n",
    "plt.show()"
   ]
  },
  {
   "cell_type": "markdown",
   "metadata": {
    "slideshow": {
     "slide_type": "slide"
    }
   },
   "source": [
    "## Line Charts\n",
    "\n",
    "Instead, use multiple panels of line charts using the same scale. You can also add a line to show the average for all the data sets as a reference point."
   ]
  },
  {
   "cell_type": "code",
   "execution_count": null,
   "metadata": {
    "slideshow": {
     "slide_type": "slide"
    }
   },
   "outputs": [],
   "source": [
    "HTML('''<form action=\"javascript:code_toggle()\"><input type=\"submit\" value=\"Toggle code\"></form>''')"
   ]
  },
  {
   "cell_type": "code",
   "execution_count": null,
   "metadata": {
    "slideshow": {
     "slide_type": "slide"
    }
   },
   "outputs": [],
   "source": [
    "HTML('''<form action=\"javascript:code_toggle()\"><input type=\"submit\" value=\"Toggle code\"></form>''')"
   ]
  },
  {
   "cell_type": "code",
   "execution_count": null,
   "metadata": {},
   "outputs": [],
   "source": [
    "percentSales = [i/sum(year_1) for i in year_1]\n",
    "\n",
    "patches, texts = plt.pie(percentSales)\n",
    "plt.legend(patches, months)\n",
    "plt.show()"
   ]
  },
  {
   "cell_type": "markdown",
   "metadata": {
    "slideshow": {
     "slide_type": "slide"
    }
   },
   "source": [
    "## Choosing a visualization\n",
    "\n",
    "Still not sure which visualization to use?\n",
    "\n",
    "Use [this flow chart](http://extremepresentation.typepad.com/files/choosing-a-good-chart-09.pdf)"
   ]
  },
  {
   "cell_type": "markdown",
   "metadata": {
    "slideshow": {
     "slide_type": "slide"
    }
   },
   "source": [
    "## Bad Visualizations\n",
    "\n",
    "Bad visualizations are everywhere, you can easily find some by [googling](http://lmgtfy.com/?q=bad+data+visualizations).\n",
    "\n",
    "Some examples:\n",
    "- [viz.wtf](http://viz.wtf/)\n",
    "- [Flowing Data - ugly visualizations](https://flowingdata.com/category/visualization/ugly-visualization/)\n",
    "- [The 27 worst charts of all time](http://www.businessinsider.com/the-27-worst-charts-of-all-time-2013-6?op=1)\n"
   ]
  },
  {
   "cell_type": "markdown",
   "metadata": {
    "slideshow": {
     "slide_type": "slide"
    }
   },
   "source": [
    "## Easily improve matplotlib plots\n",
    "\n",
    "Using matplotlib stylesheets.\n",
    "\n",
    "`plt.style.use()`"
   ]
  },
  {
   "cell_type": "code",
   "execution_count": null,
   "metadata": {
    "slideshow": {
     "slide_type": "slide"
    }
   },
   "outputs": [],
   "source": [
    "HTML('''<form action=\"javascript:code_toggle()\"><input type=\"submit\" value=\"Toggle code\"></form>''')"
   ]
  },
  {
   "cell_type": "code",
   "execution_count": null,
   "metadata": {},
   "outputs": [],
   "source": [
    "plt.style.available"
   ]
  },
  {
   "cell_type": "code",
   "execution_count": null,
   "metadata": {
    "slideshow": {
     "slide_type": "slide"
    }
   },
   "outputs": [],
   "source": [
    "HTML('''<form action=\"javascript:code_toggle()\"><input type=\"submit\" value=\"Toggle code\"></form>''')"
   ]
  },
  {
   "cell_type": "code",
   "execution_count": null,
   "metadata": {
    "slideshow": {
     "slide_type": "-"
    }
   },
   "outputs": [],
   "source": [
    "plt.style.use('bmh')"
   ]
  },
  {
   "cell_type": "code",
   "execution_count": null,
   "metadata": {},
   "outputs": [],
   "source": [
    "plt.style.use('fivethirtyeight')"
   ]
  },
  {
   "cell_type": "code",
   "execution_count": null,
   "metadata": {},
   "outputs": [],
   "source": [
    "plt.style.use('ggplot')"
   ]
  },
  {
   "cell_type": "code",
   "execution_count": null,
   "metadata": {},
   "outputs": [],
   "source": [
    "plt.style.use('default')"
   ]
  },
  {
   "cell_type": "markdown",
   "metadata": {
    "slideshow": {
     "slide_type": "slide"
    }
   },
   "source": [
    "## Custom Styles\n",
    "\n",
    "You can also write your own styles. Check out the [style api](http://matplotlib.org/api/style_api.html) and [reference examples](http://matplotlib.org/examples/style_sheets/style_sheets_reference.html)."
   ]
  },
  {
   "cell_type": "code",
   "execution_count": null,
   "metadata": {
    "slideshow": {
     "slide_type": "slide"
    }
   },
   "outputs": [],
   "source": [
    "HTML('''<form action=\"javascript:code_toggle()\"><input type=\"submit\" value=\"Toggle code\"></form>''')"
   ]
  },
  {
   "cell_type": "code",
   "execution_count": null,
   "metadata": {
    "slideshow": {
     "slide_type": "-"
    }
   },
   "outputs": [],
   "source": [
    "## xkcd style from http://matplotlib.org/examples/showcase/xkcd.html\n",
    "with plt.xkcd():\n",
    "    # Based on \"Stove Ownership\" from XKCD by Randall Monroe\n",
    "    # http://xkcd.com/418/\n",
    "\n",
    "    fig = plt.figure()\n",
    "    ax = fig.add_axes((0.1, 0.2, 0.8, 0.7))\n",
    "    ax.spines['right'].set_color('none')\n",
    "    ax.spines['top'].set_color('none')\n",
    "    plt.xticks([])\n",
    "    plt.yticks([])\n",
    "    ax.set_ylim([-30, 10])\n",
    "\n",
    "    data = np.ones(100)\n",
    "    data[70:] -= np.arange(30)\n",
    "\n",
    "    plt.annotate(\n",
    "        'THE DAY I REALIZED\\nI COULD COOK BACON\\nWHENEVER I WANTED',\n",
    "        xy=(70, 1), arrowprops=dict(arrowstyle='->'), xytext=(15, -10))\n",
    "\n",
    "    plt.plot(data)\n",
    "\n",
    "    plt.xlabel('time')\n",
    "    plt.ylabel('my overall health')\n",
    "    fig.text(\n",
    "        0.5, 0.05,\n",
    "        '\"Stove Ownership\" from xkcd by Randall Monroe',\n",
    "        ha='center')\n",
    "\n",
    "plt.show()"
   ]
  },
  {
   "cell_type": "code",
   "execution_count": null,
   "metadata": {
    "slideshow": {
     "slide_type": "slide"
    }
   },
   "outputs": [],
   "source": [
    "HTML('''<form action=\"javascript:code_toggle()\"><input type=\"submit\" value=\"Toggle code\"></form>''')"
   ]
  },
  {
   "cell_type": "code",
   "execution_count": null,
   "metadata": {},
   "outputs": [],
   "source": [
    "with plt.xkcd():\n",
    "    # Based on \"The Data So Far\" from XKCD by Randall Monroe\n",
    "    # http://xkcd.com/373/\n",
    "\n",
    "    fig = plt.figure()\n",
    "    ax = fig.add_axes((0.1, 0.2, 0.8, 0.7))\n",
    "    ax.bar([0, 1], [0, 100], 0.25)\n",
    "    ax.spines['right'].set_color('none')\n",
    "    ax.spines['top'].set_color('none')\n",
    "    ax.xaxis.set_ticks_position('bottom')\n",
    "    ax.set_xticks([0, 1])\n",
    "    ax.set_xlim([-0.5, 1.5])\n",
    "    ax.set_ylim([0, 110])\n",
    "    ax.set_xticklabels(['CONFIRMED BY\\nEXPERIMENT', 'REFUTED BY\\nEXPERIMENT'])\n",
    "    plt.yticks([])\n",
    "\n",
    "    plt.title(\"CLAIMS OF SUPERNATURAL POWERS\")\n",
    "\n",
    "    fig.text(\n",
    "        0.5, 0.05,\n",
    "        '\"The Data So Far\" from xkcd by Randall Monroe',\n",
    "        ha='center')\n",
    "    \n",
    "plt.show()"
   ]
  },
  {
   "cell_type": "markdown",
   "metadata": {
    "slideshow": {
     "slide_type": "slide"
    }
   },
   "source": [
    "## Telling a story\n",
    "\n",
    "Shifting from **exploratory** analysis to **explanatory** analysis.\n",
    "\n"
   ]
  },
  {
   "cell_type": "markdown",
   "metadata": {
    "slideshow": {
     "slide_type": "slide"
    }
   },
   "source": [
    "## Telling a story\n",
    "\n",
    "You can tell a story using 1 visualization or multiple\n",
    "\n",
    "* Create a (visual) outline or storyboard. \n",
    "* Make sure your story flows."
   ]
  },
  {
   "cell_type": "markdown",
   "metadata": {
    "slideshow": {
     "slide_type": "slide"
    }
   },
   "source": [
    "## Steps To Tell A Story\n",
    "\n",
    "1. Establish context\n",
    "1. Select appropriate visualization types\n",
    "1. Remove clutter and add focus\n",
    "1. Simplify the design\n",
    "1. Make sure it flows"
   ]
  },
  {
   "cell_type": "markdown",
   "metadata": {
    "slideshow": {
     "slide_type": "slide"
    }
   },
   "source": [
    "### Establish Context\n",
    "\n",
    "Understand your audience and stakeholders.\n",
    "\n",
    "Answer the following questions:\n",
    "\n",
    "1. Who is the primary decision maker? Who is viewing your visualization/presentation?\n",
    "1. What are you trying to understand? What is your recommendation/conclusion?\n",
    "1. How are you proving your recommendation/conclusion? "
   ]
  },
  {
   "cell_type": "markdown",
   "metadata": {
    "slideshow": {
     "slide_type": "slide"
    }
   },
   "source": [
    "### Select Appropriate Visualizations\n",
    "\n",
    "Make sure you are using the right visualization to express your views:\n",
    "\n",
    "1. Relationship - scatter plot\n",
    "1. Distribution - histogram\n",
    "1. Comparison - bar chart\n",
    "1. Over time - line chart"
   ]
  },
  {
   "cell_type": "markdown",
   "metadata": {
    "slideshow": {
     "slide_type": "slide"
    }
   },
   "source": [
    "### Remove Clutter & Add Focus\n",
    "\n",
    "Make sure the focus is on your data and story.\n",
    "\n",
    "1. De-emphasize chart title\n",
    "1. Remove or de-emphasize borders and gridlines\n",
    "1. De-emphasize axes and labels\n",
    "\n",
    "Emphasize the key points in your story. You can do this by changing the colors of certain datapoints or segments."
   ]
  },
  {
   "cell_type": "markdown",
   "metadata": {
    "slideshow": {
     "slide_type": "slide"
    }
   },
   "source": [
    "### Simplify The Design\n",
    "\n",
    "Use simpler text in the titles and labels. Only capitalize the first letter so it's easier to read.\n",
    "\n",
    "Align elements to improve the aesthetics. "
   ]
  },
  {
   "cell_type": "markdown",
   "metadata": {
    "slideshow": {
     "slide_type": "slide"
    }
   },
   "source": [
    "### Flow\n",
    "\n",
    "Make sure there is a narrative being shared and that each part or visualization connects with the next."
   ]
  },
  {
   "cell_type": "markdown",
   "metadata": {
    "slideshow": {
     "slide_type": "slide"
    }
   },
   "source": [
    "## Three Takeaways\n",
    "\n",
    "1. Emphasize the difference between exploratory and explanatory analyses\n",
    "1. Use `plt.style.use('ggplot')`\n",
    "1. Do not use pie charts"
   ]
  },
  {
   "cell_type": "markdown",
   "metadata": {
    "slideshow": {
     "slide_type": "slide"
    }
   },
   "source": [
    "## Other Links\n",
    "\n",
    "* [Sparkline theory](https://www.edwardtufte.com/bboard/q-and-a-fetch-msg?msg_id=0001OR)\n",
    "* [Cycle Plots](https://www.perceptualedge.com/articles/guests/intro_to_cycle_plots.pdf)\n",
    "* [Subtleties of Color](http://earthobservatory.nasa.gov/blogs/elegantfigures/2013/08/05/subtleties-of-color-part-1-of-6/)\n",
    "* [Chartjunk](https://www.edwardtufte.com/bboard/q-and-a-fetch-msg?msg_id=00040Z)\n",
    "* [Line Graphs](http://www.perceptualedge.com/articles/visual_business_intelligence/line_graphs_and_irregular_intervals.pdf)\n",
    "* [Rules for Encoding Values on a Graph](https://www.perceptualedge.com/articles/b-eye/encoding_values_in_graph.pdf)"
   ]
  },
  {
   "cell_type": "markdown",
   "metadata": {
    "collapsed": true,
    "slideshow": {
     "slide_type": "slide"
    }
   },
   "source": [
    "## References\n",
    "\n",
    "* [Storytelling with Data](http://www.storytellingwithdata.com/book/)\n",
    "* [Data Visualization](https://www.amazon.com/Data-Visualisation-Handbook-Driven-Design-ebook/dp/B01G2C5VCG/ref=mt_kindle?_encoding=UTF8&me=)\n",
    "* [The truthful art](http://www.thefunctionalart.com/p/the-truthful-art-book.html)\n",
    "* [Data Visualization in Tableau](https://www.udacity.com/course/data-visualization-in-tableau--ud1006)"
   ]
  },
  {
   "cell_type": "markdown",
   "metadata": {
    "slideshow": {
     "slide_type": "slide"
    }
   },
   "source": [
    "# Extras\n",
    "\n",
    "## Interactivity\n",
    "\n",
    "Interactivity should be applied differently when exploring data from when presenting it.\n",
    "\n",
    "When exploring data:\n",
    "\n",
    "* The purpose of interactivity may be to show different perspectives or dig in to the details of the data.\n",
    "\n",
    "When presenting data:\n",
    "\n",
    "* The purpose of interactivity should be to show a different perspective not to explain or show details about what's already in front of your audience. \n",
    "* Ideally you can display a series of visualizations which show how you would interact with the visualization."
   ]
  },
  {
   "cell_type": "markdown",
   "metadata": {
    "slideshow": {
     "slide_type": "slide"
    }
   },
   "source": [
    "## Interactivity\n",
    "\n",
    "You can add interactivity to a Jupyter notebook in a couple ways. \n",
    "\n",
    "1. basic interactivity while continuing to use matplotlib by using `%matplotlib notebook` instead of `%matplotlib inline`\n",
    "1. added functionality using `mpld3`"
   ]
  },
  {
   "cell_type": "markdown",
   "metadata": {
    "slideshow": {
     "slide_type": "-"
    }
   },
   "source": [
    "### Examples of mpld3\n",
    "\n",
    "[Linked Brush](http://mpld3.github.io/examples/linked_brush.html) - highlight the same section across multiple plots in a scatter matrix.\n",
    "\n",
    "[Custom Plugin](http://mpld3.github.io/examples/custom_plugin.html) - use one visualization to select the elements to plot in another visualization.\n",
    "\n",
    "[Random Walk](http://mpld3.github.io/examples/random_walk.html) - highlight a specific line on a line chart when hovered over.\n",
    "\n",
    "These are all useful for exploration but on their own do not necessarily tell a story."
   ]
  },
  {
   "cell_type": "markdown",
   "metadata": {
    "slideshow": {
     "slide_type": "slide"
    }
   },
   "source": [
    "## Tableau\n",
    "\n",
    "[Tableau Public](https://public.tableau.com/s/) is a simple tool that allows you to \"visualize and share data in minutes - for free\". \n",
    "\n",
    "The catch:\n",
    "\n",
    "1. Everything you work on will be public on your Tableau profile.\n",
    "1. Can't save files locally\n",
    "\n",
    "Workarounds:\n",
    "\n",
    "1. Pay for Tableau Desktop (\\$999 or \\$1,999) or Tableau Online (\\$500/user/year)\n",
    "1. Save to Tableau Public then download a copy\n",
    "\n",
    "You could theoretically, save to Tableau Public, download a copy and then delete from Tableau Public to ensure your work isn't public. Not necessarily worth the effort since you likely want to share what you're working on anyway.\n",
    "\n",
    "[Examples from Tableau's Gallery](https://public.tableau.com/en-us/s/gallery)"
   ]
  },
  {
   "cell_type": "markdown",
   "metadata": {
    "slideshow": {
     "slide_type": "slide"
    }
   },
   "source": [
    "### Tutorials on how to use Tableau\n",
    "\n",
    "1. [Udacity course](https://www.udacity.com/course/data-visualization-in-tableau--ud1006) - videos\n",
    "1. [Tableau Tutorials](https://www.tableau.com/learn/training) - videos\n",
    "1. [Tutorials Point](https://www.tutorialspoint.com/tableau/) - text\n"
   ]
  },
  {
   "cell_type": "markdown",
   "metadata": {
    "slideshow": {
     "slide_type": "slide"
    }
   },
   "source": [
    "## Tools\n",
    "\n",
    "Sometimes it may be difficult to figure out which tool to use. You may be able to plot anything with matplotlib but that doesn't necessarily mean it's the best for the job.\n",
    "\n",
    "Depending on what you're trying to do, you should select the best tool for that. Here is a great [article comparing 24 different tools to help you decide](https://source.opennews.org/articles/what-i-learned-recreating-one-chart-using-24-tools/)."
   ]
  },
  {
   "cell_type": "code",
   "execution_count": null,
   "metadata": {},
   "outputs": [],
   "source": []
  }
 ],
 "metadata": {
  "anaconda-cloud": {},
  "celltoolbar": "Slideshow",
  "kernelspec": {
   "display_name": "Python 3",
   "language": "python",
   "name": "python3"
  },
  "language_info": {
   "codemirror_mode": {
    "name": "ipython",
    "version": 3
   },
   "file_extension": ".py",
   "mimetype": "text/x-python",
   "name": "python",
   "nbconvert_exporter": "python",
   "pygments_lexer": "ipython3",
   "version": "3.6.5"
  },
  "nbpresent": {
   "slides": {
    "0b99fe61-7398-4561-84b9-5c134d1c3fd6": {
     "id": "0b99fe61-7398-4561-84b9-5c134d1c3fd6",
     "prev": "ace6387a-e159-4baa-be6d-3f97308e5f3c",
     "regions": {
      "2b17ef4e-3b73-466e-82bb-10724107006d": {
       "attrs": {
        "height": 0.4,
        "width": 0.8,
        "x": 0.1,
        "y": 0.5
       },
       "content": {
        "cell": "321d252a-b2bc-4d47-b0ae-f27c0c924558",
        "part": "whole"
       },
       "id": "2b17ef4e-3b73-466e-82bb-10724107006d"
      },
      "422b67cf-9e4c-444f-a91c-587f92f243df": {
       "attrs": {
        "height": 0.8,
        "width": 0.8,
        "x": 0.1,
        "y": 0.1
       },
       "content": {
        "cell": "09c6cf2b-2e36-4a90-a107-cc86163191ec",
        "part": "whole"
       },
       "id": "422b67cf-9e4c-444f-a91c-587f92f243df"
      }
     }
    },
    "1b102aaa-e477-4178-8402-b942083931a2": {
     "id": "1b102aaa-e477-4178-8402-b942083931a2",
     "prev": "233f30f3-b8a0-4461-a37b-b67a4eac3a17",
     "regions": {
      "b30ecc92-19e4-498a-aa43-e4be951015aa": {
       "attrs": {
        "height": 0.8,
        "width": 0.8,
        "x": 0.1,
        "y": 0.1
       },
       "content": {
        "cell": "317fe152-3c21-4bc5-8c55-42db5a23e903",
        "part": "whole"
       },
       "id": "b30ecc92-19e4-498a-aa43-e4be951015aa"
      }
     }
    },
    "1c670c19-7f3c-4b20-aa2d-7436bb7925ec": {
     "id": "1c670c19-7f3c-4b20-aa2d-7436bb7925ec",
     "prev": "d2316dc4-7cbd-4b98-9e20-cc576f37f0fd",
     "regions": {
      "cc71ef9a-aa4c-449c-8bdc-7718e68d6e22": {
       "attrs": {
        "height": 0.8,
        "width": 0.8,
        "x": 0.1,
        "y": 0.1
       },
       "content": {
        "cell": "31eb5ebb-22c7-411f-9ffb-6d35e721a934",
        "part": "whole"
       },
       "id": "cc71ef9a-aa4c-449c-8bdc-7718e68d6e22"
      }
     }
    },
    "233f30f3-b8a0-4461-a37b-b67a4eac3a17": {
     "id": "233f30f3-b8a0-4461-a37b-b67a4eac3a17",
     "prev": "64bd6c5c-8971-41a0-a919-b48eeee981d9",
     "regions": {
      "c135a7ed-fd57-435e-ab99-2b28acbab079": {
       "attrs": {
        "height": 0.8,
        "width": 0.8,
        "x": 0.1,
        "y": 0.1
       },
       "content": {
        "cell": "3536c02b-bccf-4e88-87a7-642b11d6a16f",
        "part": "whole"
       },
       "id": "c135a7ed-fd57-435e-ab99-2b28acbab079"
      }
     }
    },
    "2ef73c84-2c97-420b-94ca-b5e89714ebdc": {
     "id": "2ef73c84-2c97-420b-94ca-b5e89714ebdc",
     "prev": "7c09dbaa-679b-4cb7-aeec-f3eb99474031",
     "regions": {
      "e9302df3-5519-4f8a-b3ea-3ac9c5a9a822": {
       "attrs": {
        "height": 0.8,
        "width": 0.8,
        "x": 0.1,
        "y": 0.1
       },
       "content": {
        "cell": "0a937ed7-f1dd-4b79-8e32-886daefc6460",
        "part": "whole"
       },
       "id": "e9302df3-5519-4f8a-b3ea-3ac9c5a9a822"
      }
     }
    },
    "42fc1bfe-8bf5-4adf-8eb4-a9c1ea6462e1": {
     "id": "42fc1bfe-8bf5-4adf-8eb4-a9c1ea6462e1",
     "prev": "a2871d4f-6d21-4fa4-9c55-744dab3a7dce",
     "regions": {
      "00b10b32-76ac-4e45-b5a0-d84154e046ec": {
       "attrs": {
        "height": 0.4,
        "width": 0.8,
        "x": 0.1,
        "y": 0.5
       },
       "content": {
        "cell": "1a882fae-f881-4dc7-af93-50a79b7b1039",
        "part": "whole"
       },
       "id": "00b10b32-76ac-4e45-b5a0-d84154e046ec"
      },
      "49a9c9d6-0772-4a7e-88b0-3d19a2a477ae": {
       "attrs": {
        "height": 0.8,
        "width": 0.8,
        "x": 0.1,
        "y": 0.1
       },
       "content": {
        "cell": "a23c86a4-297d-46cb-94bc-a8b9fc881340",
        "part": "whole"
       },
       "id": "49a9c9d6-0772-4a7e-88b0-3d19a2a477ae"
      }
     }
    },
    "64bd6c5c-8971-41a0-a919-b48eeee981d9": {
     "id": "64bd6c5c-8971-41a0-a919-b48eeee981d9",
     "prev": "1c670c19-7f3c-4b20-aa2d-7436bb7925ec",
     "regions": {
      "66a95b73-510b-4863-b558-87de7162bb82": {
       "attrs": {
        "height": 0.8,
        "width": 0.8,
        "x": 0.1,
        "y": 0.1
       },
       "content": {
        "cell": "019ece3e-ecc8-4119-b2dc-a349a58676c4",
        "part": "whole"
       },
       "id": "66a95b73-510b-4863-b558-87de7162bb82"
      },
      "e109e960-549a-4668-83de-83d05367800d": {
       "attrs": {
        "height": 0.4,
        "width": 0.8,
        "x": 0.1,
        "y": 0.5
       },
       "content": {
        "cell": "5b307363-6324-439a-a352-b54e3eacccaa",
        "part": "whole"
       },
       "id": "e109e960-549a-4668-83de-83d05367800d"
      }
     }
    },
    "7c09dbaa-679b-4cb7-aeec-f3eb99474031": {
     "id": "7c09dbaa-679b-4cb7-aeec-f3eb99474031",
     "prev": "ae41af5b-8aa3-4267-9994-e6d2d1b86ce2",
     "regions": {
      "839444e1-fe61-4092-b369-acf7e2451180": {
       "attrs": {
        "height": 0.8,
        "width": 0.8,
        "x": 0.1,
        "y": 0.1
       },
       "content": {
        "cell": "a8214ac4-fd3d-4d18-966d-48e05ca35866",
        "part": "whole"
       },
       "id": "839444e1-fe61-4092-b369-acf7e2451180"
      }
     }
    },
    "90e76f3b-ffeb-47e0-bf91-a3e667d65302": {
     "id": "90e76f3b-ffeb-47e0-bf91-a3e667d65302",
     "prev": "bfbd0026-5474-4cbc-a2c3-2c057503a066",
     "regions": {
      "3a877627-c8a2-4f43-9bf1-432bb4fa4148": {
       "attrs": {
        "height": 0.8,
        "width": 0.8,
        "x": 0.1,
        "y": 0.1
       },
       "content": {
        "cell": "dcb64358-b9c4-4cb1-9af0-caf1744dd5f3",
        "part": "whole"
       },
       "id": "3a877627-c8a2-4f43-9bf1-432bb4fa4148"
      },
      "a656570a-849d-46e6-b419-82875af53661": {
       "attrs": {
        "height": 0.4,
        "width": 0.8,
        "x": 0.1,
        "y": 0.5
       },
       "content": {
        "cell": "f466e0cf-9115-4ab9-b167-b769e3117963",
        "part": "whole"
       },
       "id": "a656570a-849d-46e6-b419-82875af53661"
      }
     }
    },
    "a2871d4f-6d21-4fa4-9c55-744dab3a7dce": {
     "id": "a2871d4f-6d21-4fa4-9c55-744dab3a7dce",
     "prev": "dc63a645-fdf4-401f-8940-72550ab5040d",
     "regions": {
      "39aa12c5-cecd-4e19-90f1-0ca3b13ae946": {
       "attrs": {
        "height": 0.8,
        "width": 0.8,
        "x": 0.1,
        "y": 0.1
       },
       "content": {
        "cell": "8776cc2f-d9d2-4b92-a387-4852f26a8b18",
        "part": "whole"
       },
       "id": "39aa12c5-cecd-4e19-90f1-0ca3b13ae946"
      }
     }
    },
    "ace6387a-e159-4baa-be6d-3f97308e5f3c": {
     "id": "ace6387a-e159-4baa-be6d-3f97308e5f3c",
     "prev": "1b102aaa-e477-4178-8402-b942083931a2",
     "regions": {
      "47a59407-04f3-412b-a770-aa31b523defd": {
       "attrs": {
        "height": 0.8,
        "width": 0.8,
        "x": 0.1,
        "y": 0.1
       },
       "content": {
        "cell": "04ccb4fd-cdf6-4456-8f27-875f284c3199",
        "part": "whole"
       },
       "id": "47a59407-04f3-412b-a770-aa31b523defd"
      }
     }
    },
    "ae41af5b-8aa3-4267-9994-e6d2d1b86ce2": {
     "id": "ae41af5b-8aa3-4267-9994-e6d2d1b86ce2",
     "prev": "90e76f3b-ffeb-47e0-bf91-a3e667d65302",
     "regions": {
      "749722e5-bbfa-42f5-bd3c-df06cb7003e1": {
       "attrs": {
        "height": 0.8,
        "width": 0.8,
        "x": 0.1,
        "y": 0.1
       },
       "content": {
        "cell": "31c428b0-1466-4683-896b-782f16be37ac",
        "part": "whole"
       },
       "id": "749722e5-bbfa-42f5-bd3c-df06cb7003e1"
      },
      "cdc82219-dfb2-456a-889a-0598dd8e2960": {
       "attrs": {
        "height": 0.4,
        "width": 0.8,
        "x": 0.1,
        "y": 0.5
       },
       "content": {
        "cell": "38f3a15d-2a75-4f37-9064-03f5ae2af428",
        "part": "whole"
       },
       "id": "cdc82219-dfb2-456a-889a-0598dd8e2960"
      }
     }
    },
    "b5ac035c-9942-4513-8b63-0d148835941b": {
     "id": "b5ac035c-9942-4513-8b63-0d148835941b",
     "prev": "2ef73c84-2c97-420b-94ca-b5e89714ebdc",
     "regions": {
      "dc38adc1-7cfc-44c0-b69c-461040ba0fcf": {
       "attrs": {
        "height": 0.8,
        "width": 0.8,
        "x": 0.1,
        "y": 0.1
       },
       "content": {
        "cell": "7fc5826f-47e9-47c6-abca-d0c4f7e0579c",
        "part": "whole"
       },
       "id": "dc38adc1-7cfc-44c0-b69c-461040ba0fcf"
      }
     }
    },
    "bfbd0026-5474-4cbc-a2c3-2c057503a066": {
     "id": "bfbd0026-5474-4cbc-a2c3-2c057503a066",
     "prev": "0b99fe61-7398-4561-84b9-5c134d1c3fd6",
     "regions": {
      "30edb637-8d92-4231-89d4-e8d698f939d0": {
       "attrs": {
        "height": 0.8,
        "width": 0.8,
        "x": 0.1,
        "y": 0.1
       },
       "content": {
        "cell": "7f0af365-d0ca-488a-977c-5cc4a87b5e23",
        "part": "whole"
       },
       "id": "30edb637-8d92-4231-89d4-e8d698f939d0"
      },
      "80363a7b-a3e1-40f8-9aff-d064bda8785e": {
       "attrs": {
        "height": 0.4,
        "width": 0.8,
        "x": 0.1,
        "y": 0.5
       },
       "content": {
        "cell": "992ae9c3-fe97-42b1-99f4-69c889952fb9",
        "part": "whole"
       },
       "id": "80363a7b-a3e1-40f8-9aff-d064bda8785e"
      }
     }
    },
    "d2316dc4-7cbd-4b98-9e20-cc576f37f0fd": {
     "id": "d2316dc4-7cbd-4b98-9e20-cc576f37f0fd",
     "prev": null,
     "regions": {
      "d629502c-d5f7-4d00-a25e-5b95e365d147": {
       "attrs": {
        "height": 0.8,
        "width": 0.8,
        "x": 0.1,
        "y": 0.1
       },
       "content": {
        "cell": "02b7d99e-4b8f-4583-9ca4-18e6c07e7392",
        "part": "whole"
       },
       "id": "d629502c-d5f7-4d00-a25e-5b95e365d147"
      }
     }
    },
    "dc63a645-fdf4-401f-8940-72550ab5040d": {
     "id": "dc63a645-fdf4-401f-8940-72550ab5040d",
     "prev": "b5ac035c-9942-4513-8b63-0d148835941b",
     "regions": {
      "7fd267ef-d65f-424e-ae51-e334d08f882b": {
       "attrs": {
        "height": 0.8,
        "width": 0.8,
        "x": 0.1,
        "y": 0.1
       },
       "content": {
        "cell": "b98864c6-7d0f-4590-96c3-62b136bb7a3f",
        "part": "whole"
       },
       "id": "7fd267ef-d65f-424e-ae51-e334d08f882b"
      }
     }
    }
   },
   "themes": {
    "default": "4673efb9-9b38-4c9e-bca9-6b68944f37b4",
    "theme": {
     "4673efb9-9b38-4c9e-bca9-6b68944f37b4": {
      "backgrounds": {
       "backgroundColor": {
        "background-color": "backgroundColor",
        "id": "backgroundColor"
       }
      },
      "id": "4673efb9-9b38-4c9e-bca9-6b68944f37b4",
      "palette": {
       "backgroundColor": {
        "id": "backgroundColor",
        "rgb": [
         247,
         251,
         252
        ]
       },
       "headingColor": {
        "id": "headingColor",
        "rgb": [
         51,
         51,
         51
        ]
       },
       "linkColor": {
        "id": "linkColor",
        "rgb": [
         59,
         117,
         158
        ]
       },
       "mainColor": {
        "id": "mainColor",
        "rgb": [
         51,
         51,
         51
        ]
       }
      },
      "rules": {
       "a": {
        "color": "linkColor"
       },
       "h1": {
        "color": "headingColor",
        "font-family": "Quicksand",
        "font-size": 7
       },
       "h2": {
        "color": "headingColor",
        "font-family": "Quicksand",
        "font-size": 5
       },
       "h3": {
        "color": "headingColor",
        "font-family": "Quicksand",
        "font-size": 3.75
       },
       "h4": {
        "color": "headingColor",
        "font-family": "Quicksand",
        "font-size": 3
       },
       "h5": {
        "color": "headingColor",
        "font-family": "Quicksand"
       },
       "h6": {
        "color": "headingColor",
        "font-family": "Quicksand"
       },
       "h7": {
        "color": "headingColor",
        "font-family": "Quicksand"
       },
       "li": {
        "color": "mainColor",
        "font-family": "Open Sans",
        "font-size": 5
       },
       "p": {
        "color": "mainColor",
        "font-family": "Open Sans",
        "font-size": 5
       }
      },
      "text-base": {
       "color": "mainColor",
       "font-family": "Open Sans",
       "font-size": 5
      }
     }
    }
   }
  }
 },
 "nbformat": 4,
 "nbformat_minor": 2
}
